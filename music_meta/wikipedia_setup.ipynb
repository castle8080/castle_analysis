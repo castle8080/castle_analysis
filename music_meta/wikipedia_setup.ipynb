{
 "cells": [
  {
   "cell_type": "markdown",
   "id": "2bc50610-6120-41c1-a588-442b2d09714b",
   "metadata": {},
   "source": [
    "# Common imports and sourcing notebooks for wikipedia processing."
   ]
  },
  {
   "cell_type": "code",
   "execution_count": null,
   "id": "9e0d291d-3f97-4dd7-b52d-3295c9f01464",
   "metadata": {},
   "outputs": [],
   "source": [
    "import os\n",
    "import re\n",
    "from urllib.parse import urljoin\n",
    "import datetime as dt\n",
    "\n",
    "import requests\n",
    "from bs4 import BeautifulSoup\n",
    "import sqlite3\n",
    "import pandas as pd\n",
    "import numpy as np\n",
    "import scipy\n",
    "import scipy.sparse\n",
    "\n",
    "import matplotlib.pyplot as plt\n",
    "import sklearn.metrics\n",
    "from sklearn.cluster import MiniBatchKMeans\n",
    "\n",
    "from IPython.display import display, HTML, clear_output"
   ]
  },
  {
   "cell_type": "code",
   "execution_count": null,
   "id": "0cdfccda-0b82-455b-b912-c26e48d978fe",
   "metadata": {},
   "outputs": [],
   "source": [
    "%run ./lib/url_cache.ipynb\n",
    "%run ./lib/wikipedia_access.ipynb\n",
    "%run ./lib/wikipedia_album_detail_lib.ipynb"
   ]
  }
 ],
 "metadata": {
  "kernelspec": {
   "display_name": "Python 3 (ipykernel)",
   "language": "python",
   "name": "python3"
  },
  "language_info": {
   "codemirror_mode": {
    "name": "ipython",
    "version": 3
   },
   "file_extension": ".py",
   "mimetype": "text/x-python",
   "name": "python",
   "nbconvert_exporter": "python",
   "pygments_lexer": "ipython3",
   "version": "3.7.6"
  }
 },
 "nbformat": 4,
 "nbformat_minor": 5
}
