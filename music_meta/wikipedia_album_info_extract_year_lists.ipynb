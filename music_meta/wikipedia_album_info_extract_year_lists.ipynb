{
 "cells": [
  {
   "cell_type": "markdown",
   "id": "182a1827-4261-4d66-9104-86f2699a4df7",
   "metadata": {},
   "source": [
    "# Wikipedia Album Info Extract\n",
    "\n",
    "Scrape Wikipedia For Albums Released by Year"
   ]
  },
  {
   "cell_type": "code",
   "execution_count": 1,
   "id": "9f319491-408b-4fee-8e53-a4f48fc8e7b2",
   "metadata": {},
   "outputs": [],
   "source": [
    "import os\n",
    "import re\n",
    "from urllib.parse import urljoin\n",
    "import datetime as dt\n",
    "\n",
    "import requests\n",
    "from bs4 import BeautifulSoup\n",
    "import sqlite3\n",
    "import pandas as pd\n",
    "\n",
    "import matplotlib.pyplot as plt\n",
    "\n",
    "from IPython.display import display, HTML"
   ]
  },
  {
   "cell_type": "code",
   "execution_count": 7,
   "id": "66cfcf45-4b46-4326-9521-869893ac7d97",
   "metadata": {},
   "outputs": [],
   "source": [
    "%run ./url_cache.ipynb\n",
    "%run ./wikipedia_access.ipynb"
   ]
  },
  {
   "cell_type": "markdown",
   "id": "fc94be74-d439-4c77-b98c-fe02581610d0",
   "metadata": {},
   "source": [
    "## Initialize DB"
   ]
  },
  {
   "cell_type": "code",
   "execution_count": 3,
   "id": "3b1c1b4b-efc8-4800-934a-d0c1734c4756",
   "metadata": {},
   "outputs": [],
   "source": [
    "os.makedirs(\"var/data\", exist_ok=True)\n",
    "db = sqlite3.Connection(\"var/data/music.db\")"
   ]
  },
  {
   "cell_type": "markdown",
   "id": "b5e0ccea-ddbc-423e-86c1-d742dc54f87f",
   "metadata": {},
   "source": [
    "## Core Code Components and Setup"
   ]
  },
  {
   "cell_type": "code",
   "execution_count": 30,
   "id": "e7efe7f5-c942-49eb-ba89-e8b06f1b9999",
   "metadata": {},
   "outputs": [],
   "source": [
    "url_cache = URLContentCacheSqlite(db)\n",
    "w_album_info = WikipediaAlbumInfo(url_cache)\n",
    "album_extractor = WikiListPageAlbumExtractor(url_cache)"
   ]
  },
  {
   "cell_type": "markdown",
   "id": "1f3411c0-b348-46ef-bfc8-701b1395fdb6",
   "metadata": {},
   "source": [
    "## Prime List of Pages for Each Year"
   ]
  },
  {
   "cell_type": "code",
   "execution_count": 5,
   "id": "b564dc74-c163-4100-adb4-77476c094809",
   "metadata": {},
   "outputs": [
    {
     "data": {
      "text/html": [
       "<div>\n",
       "<style scoped>\n",
       "    .dataframe tbody tr th:only-of-type {\n",
       "        vertical-align: middle;\n",
       "    }\n",
       "\n",
       "    .dataframe tbody tr th {\n",
       "        vertical-align: top;\n",
       "    }\n",
       "\n",
       "    .dataframe thead th {\n",
       "        text-align: right;\n",
       "    }\n",
       "</style>\n",
       "<table border=\"1\" class=\"dataframe\">\n",
       "  <thead>\n",
       "    <tr style=\"text-align: right;\">\n",
       "      <th></th>\n",
       "      <th>year</th>\n",
       "      <th>title</th>\n",
       "      <th>url</th>\n",
       "    </tr>\n",
       "  </thead>\n",
       "  <tbody>\n",
       "    <tr>\n",
       "      <th>18</th>\n",
       "      <td>2022</td>\n",
       "      <td>List of 2022 albums</td>\n",
       "      <td>https://en.wikipedia.org/wiki/List_of_2022_albums</td>\n",
       "    </tr>\n",
       "    <tr>\n",
       "      <th>17</th>\n",
       "      <td>2021</td>\n",
       "      <td>List of 2021 albums (July–December)</td>\n",
       "      <td>https://en.wikipedia.org/wiki/List_of_2021_alb...</td>\n",
       "    </tr>\n",
       "    <tr>\n",
       "      <th>16</th>\n",
       "      <td>2021</td>\n",
       "      <td>List of 2021 albums (January–June)</td>\n",
       "      <td>https://en.wikipedia.org/wiki/List_of_2021_alb...</td>\n",
       "    </tr>\n",
       "    <tr>\n",
       "      <th>15</th>\n",
       "      <td>2020</td>\n",
       "      <td>List of 2020 albums</td>\n",
       "      <td>https://en.wikipedia.org/wiki/List_of_2020_albums</td>\n",
       "    </tr>\n",
       "    <tr>\n",
       "      <th>14</th>\n",
       "      <td>2019</td>\n",
       "      <td>List of 2019 albums</td>\n",
       "      <td>https://en.wikipedia.org/wiki/List_of_2019_albums</td>\n",
       "    </tr>\n",
       "    <tr>\n",
       "      <th>...</th>\n",
       "      <td>...</td>\n",
       "      <td>...</td>\n",
       "      <td>...</td>\n",
       "    </tr>\n",
       "    <tr>\n",
       "      <th>23</th>\n",
       "      <td>1942</td>\n",
       "      <td>List of 1942 albums</td>\n",
       "      <td>https://en.wikipedia.org/wiki/List_of_1942_albums</td>\n",
       "    </tr>\n",
       "    <tr>\n",
       "      <th>22</th>\n",
       "      <td>1941</td>\n",
       "      <td>List of 1941 albums</td>\n",
       "      <td>https://en.wikipedia.org/wiki/List_of_1941_albums</td>\n",
       "    </tr>\n",
       "    <tr>\n",
       "      <th>21</th>\n",
       "      <td>1940</td>\n",
       "      <td>List of 1940 albums</td>\n",
       "      <td>https://en.wikipedia.org/wiki/List_of_1940_albums</td>\n",
       "    </tr>\n",
       "    <tr>\n",
       "      <th>20</th>\n",
       "      <td>1939</td>\n",
       "      <td>List of 1939 albums</td>\n",
       "      <td>https://en.wikipedia.org/wiki/List_of_1939_albums</td>\n",
       "    </tr>\n",
       "    <tr>\n",
       "      <th>19</th>\n",
       "      <td>1938</td>\n",
       "      <td>List of 1938 albums</td>\n",
       "      <td>https://en.wikipedia.org/wiki/List_of_1938_albums</td>\n",
       "    </tr>\n",
       "  </tbody>\n",
       "</table>\n",
       "<p>86 rows × 3 columns</p>\n",
       "</div>"
      ],
      "text/plain": [
       "    year                                title  \\\n",
       "18  2022                  List of 2022 albums   \n",
       "17  2021  List of 2021 albums (July–December)   \n",
       "16  2021   List of 2021 albums (January–June)   \n",
       "15  2020                  List of 2020 albums   \n",
       "14  2019                  List of 2019 albums   \n",
       "..   ...                                  ...   \n",
       "23  1942                  List of 1942 albums   \n",
       "22  1941                  List of 1941 albums   \n",
       "21  1940                  List of 1940 albums   \n",
       "20  1939                  List of 1939 albums   \n",
       "19  1938                  List of 1938 albums   \n",
       "\n",
       "                                                  url  \n",
       "18  https://en.wikipedia.org/wiki/List_of_2022_albums  \n",
       "17  https://en.wikipedia.org/wiki/List_of_2021_alb...  \n",
       "16  https://en.wikipedia.org/wiki/List_of_2021_alb...  \n",
       "15  https://en.wikipedia.org/wiki/List_of_2020_albums  \n",
       "14  https://en.wikipedia.org/wiki/List_of_2019_albums  \n",
       "..                                                ...  \n",
       "23  https://en.wikipedia.org/wiki/List_of_1942_albums  \n",
       "22  https://en.wikipedia.org/wiki/List_of_1941_albums  \n",
       "21  https://en.wikipedia.org/wiki/List_of_1940_albums  \n",
       "20  https://en.wikipedia.org/wiki/List_of_1939_albums  \n",
       "19  https://en.wikipedia.org/wiki/List_of_1938_albums  \n",
       "\n",
       "[86 rows x 3 columns]"
      ]
     },
     "execution_count": 5,
     "metadata": {},
     "output_type": "execute_result"
    }
   ],
   "source": [
    "year_list_urls = w_album_info.get_year_urls()\n",
    "year_list_urls"
   ]
  },
  {
   "cell_type": "code",
   "execution_count": 6,
   "id": "1d1220f4-3fac-4c10-9b89-187bbcf7b444",
   "metadata": {},
   "outputs": [
    {
     "name": "stdout",
     "output_type": "stream",
     "text": [
      "Downloading: https://en.wikipedia.org/wiki/List_of_2022_albums\n",
      "Downloading: https://en.wikipedia.org/wiki/List_of_2021_albums_(July%E2%80%93December)\n",
      "Downloading: https://en.wikipedia.org/wiki/List_of_2021_albums_(January%E2%80%93June)\n",
      "Downloading: https://en.wikipedia.org/wiki/List_of_2020_albums\n",
      "Downloading: https://en.wikipedia.org/wiki/List_of_2019_albums\n",
      "Downloading: https://en.wikipedia.org/wiki/List_of_2018_albums\n",
      "Downloading: https://en.wikipedia.org/wiki/List_of_2017_albums\n",
      "Downloading: https://en.wikipedia.org/wiki/List_of_2016_albums\n",
      "Downloading: https://en.wikipedia.org/wiki/List_of_2015_albums\n",
      "Downloading: https://en.wikipedia.org/wiki/List_of_2014_albums\n",
      "Downloading: https://en.wikipedia.org/wiki/List_of_2013_albums\n",
      "Downloading: https://en.wikipedia.org/wiki/List_of_2012_albums\n",
      "Downloading: https://en.wikipedia.org/wiki/List_of_2011_albums\n",
      "Downloading: https://en.wikipedia.org/wiki/List_of_2010_albums\n",
      "Downloading: https://en.wikipedia.org/wiki/List_of_2009_albums\n",
      "Downloading: https://en.wikipedia.org/wiki/List_of_2008_albums\n",
      "Downloading: https://en.wikipedia.org/wiki/List_of_2007_albums\n",
      "Downloading: https://en.wikipedia.org/wiki/List_of_2006_albums\n",
      "Downloading: https://en.wikipedia.org/wiki/List_of_2005_albums\n",
      "Downloading: https://en.wikipedia.org/wiki/List_of_2004_albums\n",
      "Downloading: https://en.wikipedia.org/wiki/List_of_2003_albums\n",
      "Downloading: https://en.wikipedia.org/wiki/List_of_2002_albums\n",
      "Downloading: https://en.wikipedia.org/wiki/List_of_2001_albums\n",
      "Downloading: https://en.wikipedia.org/wiki/List_of_2000_albums\n",
      "Downloading: https://en.wikipedia.org/wiki/List_of_1999_albums\n",
      "Downloading: https://en.wikipedia.org/wiki/List_of_1998_albums\n",
      "Downloading: https://en.wikipedia.org/wiki/List_of_1997_albums\n",
      "Downloading: https://en.wikipedia.org/wiki/List_of_1996_albums\n",
      "Downloading: https://en.wikipedia.org/wiki/List_of_1995_albums\n",
      "Downloading: https://en.wikipedia.org/wiki/List_of_1994_albums\n",
      "Downloading: https://en.wikipedia.org/wiki/List_of_1993_albums\n",
      "Downloading: https://en.wikipedia.org/wiki/List_of_1992_albums\n",
      "Downloading: https://en.wikipedia.org/wiki/List_of_1991_albums\n",
      "Downloading: https://en.wikipedia.org/wiki/List_of_1990_albums\n",
      "Downloading: https://en.wikipedia.org/wiki/List_of_1989_albums\n",
      "Downloading: https://en.wikipedia.org/wiki/List_of_1988_albums\n",
      "Downloading: https://en.wikipedia.org/wiki/List_of_1987_albums\n",
      "Downloading: https://en.wikipedia.org/wiki/List_of_1986_albums\n",
      "Downloading: https://en.wikipedia.org/wiki/List_of_1985_albums\n",
      "Downloading: https://en.wikipedia.org/wiki/List_of_1984_albums\n",
      "Downloading: https://en.wikipedia.org/wiki/List_of_1983_albums\n",
      "Downloading: https://en.wikipedia.org/wiki/List_of_1982_albums\n",
      "Downloading: https://en.wikipedia.org/wiki/List_of_1981_albums\n",
      "Downloading: https://en.wikipedia.org/wiki/List_of_1980_albums\n",
      "Downloading: https://en.wikipedia.org/wiki/List_of_1979_albums\n",
      "Downloading: https://en.wikipedia.org/wiki/List_of_1978_albums\n",
      "Downloading: https://en.wikipedia.org/wiki/List_of_1977_albums\n",
      "Downloading: https://en.wikipedia.org/wiki/List_of_1976_albums\n",
      "Downloading: https://en.wikipedia.org/wiki/List_of_1975_albums\n",
      "Downloading: https://en.wikipedia.org/wiki/List_of_1974_albums\n",
      "Downloading: https://en.wikipedia.org/wiki/List_of_1973_albums\n",
      "Downloading: https://en.wikipedia.org/wiki/List_of_1972_albums\n",
      "Downloading: https://en.wikipedia.org/wiki/List_of_1971_albums\n",
      "Downloading: https://en.wikipedia.org/wiki/List_of_1970_albums\n",
      "Downloading: https://en.wikipedia.org/wiki/List_of_1969_albums\n",
      "Downloading: https://en.wikipedia.org/wiki/List_of_1968_albums\n",
      "Downloading: https://en.wikipedia.org/wiki/List_of_1967_albums\n",
      "Downloading: https://en.wikipedia.org/wiki/List_of_1966_albums\n",
      "Downloading: https://en.wikipedia.org/wiki/List_of_1965_albums\n",
      "Downloading: https://en.wikipedia.org/wiki/List_of_1964_albums\n",
      "Downloading: https://en.wikipedia.org/wiki/List_of_1963_albums\n",
      "Downloading: https://en.wikipedia.org/wiki/List_of_1962_albums\n",
      "Downloading: https://en.wikipedia.org/wiki/List_of_1961_albums\n",
      "Downloading: https://en.wikipedia.org/wiki/List_of_1960_albums\n",
      "Downloading: https://en.wikipedia.org/wiki/List_of_1959_albums\n",
      "Downloading: https://en.wikipedia.org/wiki/List_of_1958_albums\n",
      "Downloading: https://en.wikipedia.org/wiki/List_of_1957_albums\n",
      "Downloading: https://en.wikipedia.org/wiki/List_of_1956_albums\n",
      "Downloading: https://en.wikipedia.org/wiki/List_of_1955_albums\n",
      "Downloading: https://en.wikipedia.org/wiki/List_of_1954_albums\n",
      "Downloading: https://en.wikipedia.org/wiki/List_of_1953_albums\n",
      "Downloading: https://en.wikipedia.org/wiki/List_of_1952_albums\n",
      "Downloading: https://en.wikipedia.org/wiki/List_of_1951_albums\n",
      "Downloading: https://en.wikipedia.org/wiki/List_of_1950_albums\n",
      "Downloading: https://en.wikipedia.org/wiki/List_of_1949_albums\n",
      "Downloading: https://en.wikipedia.org/wiki/List_of_1948_albums\n",
      "Downloading: https://en.wikipedia.org/wiki/List_of_1947_albums\n",
      "Downloading: https://en.wikipedia.org/wiki/List_of_1946_albums\n",
      "Downloading: https://en.wikipedia.org/wiki/List_of_1945_albums\n",
      "Downloading: https://en.wikipedia.org/wiki/List_of_1944_albums\n",
      "Downloading: https://en.wikipedia.org/wiki/List_of_1943_albums\n",
      "Downloading: https://en.wikipedia.org/wiki/List_of_1942_albums\n",
      "Downloading: https://en.wikipedia.org/wiki/List_of_1941_albums\n",
      "Downloading: https://en.wikipedia.org/wiki/List_of_1940_albums\n",
      "Downloading: https://en.wikipedia.org/wiki/List_of_1939_albums\n",
      "Downloading: https://en.wikipedia.org/wiki/List_of_1938_albums\n"
     ]
    }
   ],
   "source": [
    "# Download lists to cache\n",
    "for _url in year_list_urls.url:\n",
    "    print(f\"Downloading: {_url}\")\n",
    "    url_cache.get(_url)"
   ]
  },
  {
   "cell_type": "markdown",
   "id": "63b77ef0-5c45-4873-bbc8-de9423b5b615",
   "metadata": {},
   "source": [
    "## Examine All Dataframes To Determine Valid Meta Data"
   ]
  },
  {
   "cell_type": "code",
   "execution_count": 31,
   "id": "b3e0aac7-ea28-43f9-a33e-f147b5f91528",
   "metadata": {},
   "outputs": [
    {
     "name": "stdout",
     "output_type": "stream",
     "text": [
      "[WARN] Could not extract table - invalid literal for int() with base 10: '3\"'\n",
      "[WARN] Could not extract table - invalid literal for int() with base 10: '1\" valign=\"top\"'\n",
      "[WARN] - {'text': 'Pal Joey with Frank Sinatra', 'Links': [{'href': '/wiki/Pal_Joey_(film)', 'text': 'Pal Joey'}, {'href': '/wiki/Frank_Sinatra', 'text': 'Frank Sinatra'}]}\n",
      "[WARN] - {'text': 'Bing Crosby\\nMerry Christmas\\nSelections from Going My Way', 'Links': [{'href': '/wiki/Bing_Crosby', 'text': 'Bing Crosby'}, {'href': '/wiki/Merry_Christmas_(Bing_Crosby_album)', 'text': 'Merry Christmas'}, {'href': '/wiki/Selections_from_Going_My_Way', 'text': 'Selections from Going My Way'}]}\n",
      "[WARN] - {'text': 'Merry Christmas', 'Links': [{'href': '/wiki/Merry_Christmas_(Bing_Crosby_album)', 'text': 'Merry Christmas'}]}\n",
      "[WARN] - {'text': 'Selections from Going My Way', 'Links': [{'href': '/wiki/Selections_from_Going_My_Way', 'text': 'Selections from Going My Way'}]}\n",
      "[WARN] - {'text': 'Merry Christmas', 'Links': [{'href': '/wiki/Merry_Christmas_(Bing_Crosby_album)', 'text': 'Merry Christmas'}]}\n",
      "[WARN] - {'text': 'Selections from Going My Way', 'Links': [{'href': '/wiki/Selections_from_Going_My_Way', 'text': 'Selections from Going My Way'}]}\n"
     ]
    }
   ],
   "source": [
    "all_dfs = album_extractor.get_all_dataframes(year_list_urls)"
   ]
  },
  {
   "cell_type": "code",
   "execution_count": 34,
   "id": "8461dc3c-4546-4f57-93d8-3c4cdfb8ee0d",
   "metadata": {},
   "outputs": [
    {
     "data": {
      "text/html": [
       "<div>\n",
       "<style scoped>\n",
       "    .dataframe tbody tr th:only-of-type {\n",
       "        vertical-align: middle;\n",
       "    }\n",
       "\n",
       "    .dataframe tbody tr th {\n",
       "        vertical-align: top;\n",
       "    }\n",
       "\n",
       "    .dataframe thead th {\n",
       "        text-align: right;\n",
       "    }\n",
       "</style>\n",
       "<table border=\"1\" class=\"dataframe\">\n",
       "  <thead>\n",
       "    <tr style=\"text-align: right;\">\n",
       "      <th></th>\n",
       "      <th>Release date</th>\n",
       "      <th>Artist</th>\n",
       "      <th>Album</th>\n",
       "      <th>Genre</th>\n",
       "      <th>Label</th>\n",
       "      <th>Ref.</th>\n",
       "      <th>Links</th>\n",
       "      <th>Source</th>\n",
       "      <th>Year</th>\n",
       "    </tr>\n",
       "  </thead>\n",
       "  <tbody>\n",
       "    <tr>\n",
       "      <th>0</th>\n",
       "      <td>January7</td>\n",
       "      <td>RuPaul</td>\n",
       "      <td>Mamaru</td>\n",
       "      <td></td>\n",
       "      <td>RuCo Inc</td>\n",
       "      <td>[1]</td>\n",
       "      <td>{'Artist': [{'href': '/wiki/RuPaul', 'text': '...</td>\n",
       "      <td>https://en.wikipedia.org/wiki/List_of_2022_albums</td>\n",
       "      <td>2022</td>\n",
       "    </tr>\n",
       "    <tr>\n",
       "      <th>1</th>\n",
       "      <td>January7</td>\n",
       "      <td>Twin Atlantic</td>\n",
       "      <td>Transparency</td>\n",
       "      <td></td>\n",
       "      <td></td>\n",
       "      <td>[2]</td>\n",
       "      <td>{'Artist': [{'href': '/wiki/Twin_Atlantic', 't...</td>\n",
       "      <td>https://en.wikipedia.org/wiki/List_of_2022_albums</td>\n",
       "      <td>2022</td>\n",
       "    </tr>\n",
       "    <tr>\n",
       "      <th>2</th>\n",
       "      <td>January7</td>\n",
       "      <td>The Wombats</td>\n",
       "      <td>Fix Yourself, Not the World</td>\n",
       "      <td></td>\n",
       "      <td>AWAL</td>\n",
       "      <td>[3]</td>\n",
       "      <td>{'Artist': [{'href': '/wiki/The_Wombats', 'tex...</td>\n",
       "      <td>https://en.wikipedia.org/wiki/List_of_2022_albums</td>\n",
       "      <td>2022</td>\n",
       "    </tr>\n",
       "    <tr>\n",
       "      <th>3</th>\n",
       "      <td>January7</td>\n",
       "      <td>Years &amp; Years</td>\n",
       "      <td>Night Call</td>\n",
       "      <td></td>\n",
       "      <td>Polydor</td>\n",
       "      <td>[4]</td>\n",
       "      <td>{'Artist': [{'href': '/wiki/Years_%26_Years', ...</td>\n",
       "      <td>https://en.wikipedia.org/wiki/List_of_2022_albums</td>\n",
       "      <td>2022</td>\n",
       "    </tr>\n",
       "    <tr>\n",
       "      <th>4</th>\n",
       "      <td>January14</td>\n",
       "      <td>Fickle Friends</td>\n",
       "      <td>Are We Gonna Be Alright?</td>\n",
       "      <td></td>\n",
       "      <td></td>\n",
       "      <td>[5]</td>\n",
       "      <td>{'Artist': [{'href': '/wiki/Fickle_Friends', '...</td>\n",
       "      <td>https://en.wikipedia.org/wiki/List_of_2022_albums</td>\n",
       "      <td>2022</td>\n",
       "    </tr>\n",
       "    <tr>\n",
       "      <th>5</th>\n",
       "      <td>January14</td>\n",
       "      <td>The Lumineers</td>\n",
       "      <td>Brightside</td>\n",
       "      <td></td>\n",
       "      <td></td>\n",
       "      <td>[6]</td>\n",
       "      <td>{'Artist': [{'href': '/wiki/The_Lumineers', 't...</td>\n",
       "      <td>https://en.wikipedia.org/wiki/List_of_2022_albums</td>\n",
       "      <td>2022</td>\n",
       "    </tr>\n",
       "    <tr>\n",
       "      <th>6</th>\n",
       "      <td>January14</td>\n",
       "      <td>Magnum</td>\n",
       "      <td>The Monster Roars</td>\n",
       "      <td></td>\n",
       "      <td>SPV, Steamhammer</td>\n",
       "      <td>[7]</td>\n",
       "      <td>{'Artist': [{'href': '/wiki/Magnum_(band)', 't...</td>\n",
       "      <td>https://en.wikipedia.org/wiki/List_of_2022_albums</td>\n",
       "      <td>2022</td>\n",
       "    </tr>\n",
       "    <tr>\n",
       "      <th>7</th>\n",
       "      <td>January14</td>\n",
       "      <td>Sea Girls</td>\n",
       "      <td>Homesick</td>\n",
       "      <td></td>\n",
       "      <td></td>\n",
       "      <td>[8]</td>\n",
       "      <td>{'Artist': [{'href': '/wiki/Sea_Girls', 'text'...</td>\n",
       "      <td>https://en.wikipedia.org/wiki/List_of_2022_albums</td>\n",
       "      <td>2022</td>\n",
       "    </tr>\n",
       "    <tr>\n",
       "      <th>8</th>\n",
       "      <td>January14</td>\n",
       "      <td>Underoath</td>\n",
       "      <td>Voyeurist</td>\n",
       "      <td></td>\n",
       "      <td>Fearless</td>\n",
       "      <td>[9]</td>\n",
       "      <td>{'Artist': [{'href': '/wiki/Underoath', 'text'...</td>\n",
       "      <td>https://en.wikipedia.org/wiki/List_of_2022_albums</td>\n",
       "      <td>2022</td>\n",
       "    </tr>\n",
       "    <tr>\n",
       "      <th>9</th>\n",
       "      <td>January21</td>\n",
       "      <td>Aoife O'Donovan</td>\n",
       "      <td>Age of Apathy</td>\n",
       "      <td></td>\n",
       "      <td>Yep Roc</td>\n",
       "      <td>[10]</td>\n",
       "      <td>{'Artist': [{'href': '/wiki/Aoife_O%27Donovan'...</td>\n",
       "      <td>https://en.wikipedia.org/wiki/List_of_2022_albums</td>\n",
       "      <td>2022</td>\n",
       "    </tr>\n",
       "  </tbody>\n",
       "</table>\n",
       "</div>"
      ],
      "text/plain": [
       "  Release date           Artist                        Album Genre  \\\n",
       "0     January7           RuPaul                       Mamaru         \n",
       "1     January7    Twin Atlantic                 Transparency         \n",
       "2     January7      The Wombats  Fix Yourself, Not the World         \n",
       "3     January7    Years & Years                   Night Call         \n",
       "4    January14   Fickle Friends     Are We Gonna Be Alright?         \n",
       "5    January14    The Lumineers                   Brightside         \n",
       "6    January14           Magnum            The Monster Roars         \n",
       "7    January14        Sea Girls                     Homesick         \n",
       "8    January14        Underoath                    Voyeurist         \n",
       "9    January21  Aoife O'Donovan                Age of Apathy         \n",
       "\n",
       "              Label  Ref.                                              Links  \\\n",
       "0          RuCo Inc   [1]  {'Artist': [{'href': '/wiki/RuPaul', 'text': '...   \n",
       "1                     [2]  {'Artist': [{'href': '/wiki/Twin_Atlantic', 't...   \n",
       "2              AWAL   [3]  {'Artist': [{'href': '/wiki/The_Wombats', 'tex...   \n",
       "3           Polydor   [4]  {'Artist': [{'href': '/wiki/Years_%26_Years', ...   \n",
       "4                     [5]  {'Artist': [{'href': '/wiki/Fickle_Friends', '...   \n",
       "5                     [6]  {'Artist': [{'href': '/wiki/The_Lumineers', 't...   \n",
       "6  SPV, Steamhammer   [7]  {'Artist': [{'href': '/wiki/Magnum_(band)', 't...   \n",
       "7                     [8]  {'Artist': [{'href': '/wiki/Sea_Girls', 'text'...   \n",
       "8          Fearless   [9]  {'Artist': [{'href': '/wiki/Underoath', 'text'...   \n",
       "9           Yep Roc  [10]  {'Artist': [{'href': '/wiki/Aoife_O%27Donovan'...   \n",
       "\n",
       "                                              Source  Year  \n",
       "0  https://en.wikipedia.org/wiki/List_of_2022_albums  2022  \n",
       "1  https://en.wikipedia.org/wiki/List_of_2022_albums  2022  \n",
       "2  https://en.wikipedia.org/wiki/List_of_2022_albums  2022  \n",
       "3  https://en.wikipedia.org/wiki/List_of_2022_albums  2022  \n",
       "4  https://en.wikipedia.org/wiki/List_of_2022_albums  2022  \n",
       "5  https://en.wikipedia.org/wiki/List_of_2022_albums  2022  \n",
       "6  https://en.wikipedia.org/wiki/List_of_2022_albums  2022  \n",
       "7  https://en.wikipedia.org/wiki/List_of_2022_albums  2022  \n",
       "8  https://en.wikipedia.org/wiki/List_of_2022_albums  2022  \n",
       "9  https://en.wikipedia.org/wiki/List_of_2022_albums  2022  "
      ]
     },
     "execution_count": 34,
     "metadata": {},
     "output_type": "execute_result"
    }
   ],
   "source": [
    "df_w_album = [df for df in all_dfs if \"Album\" in df.columns][0]\n",
    "df_w_album.head(10)"
   ]
  },
  {
   "cell_type": "code",
   "execution_count": 35,
   "id": "6ba68a89-6a6a-42b1-84db-9b04cc8a5fd2",
   "metadata": {},
   "outputs": [],
   "source": [
    "def get_column_info(dfs):\n",
    "    col_info = []\n",
    "    for dfid, df in enumerate(dfs):\n",
    "        for col in df.columns:\n",
    "            if col not in {'Links', 'Year'}:\n",
    "                col_info.append({ 'Year': df.Year.iloc[0], 'Column': col, 'dfid': dfid })\n",
    "    return pd.DataFrame(col_info)\n",
    "\n",
    "def get_column_year_stats(col_info):\n",
    "    col_stats = (col_info\n",
    "        .groupby(['Column', 'Year'])\n",
    "        .size()\n",
    "        .reset_index()\n",
    "        .rename(columns={0: 'Count'})\n",
    "        .groupby(['Column'])\n",
    "        .agg({'Year': 'size', 'Count': 'sum'})\n",
    "        .reset_index()\n",
    "        .rename(columns={'Year': 'YearCount'})\n",
    "        .sort_values(by='Count', ascending=False)\n",
    "    )\n",
    "    col_stats['Column'] = col_stats.Column.astype(str)\n",
    "    return col_stats\n",
    "\n",
    "col_info = get_column_info(all_dfs)\n",
    "col_stats = get_column_year_stats(col_info)"
   ]
  },
  {
   "cell_type": "code",
   "execution_count": 36,
   "id": "19c04246-e9ab-42ed-af24-49fc58053428",
   "metadata": {},
   "outputs": [
    {
     "data": {
      "text/html": [
       "<div>\n",
       "<style scoped>\n",
       "    .dataframe tbody tr th:only-of-type {\n",
       "        vertical-align: middle;\n",
       "    }\n",
       "\n",
       "    .dataframe tbody tr th {\n",
       "        vertical-align: top;\n",
       "    }\n",
       "\n",
       "    .dataframe thead th {\n",
       "        text-align: right;\n",
       "    }\n",
       "</style>\n",
       "<table border=\"1\" class=\"dataframe\">\n",
       "  <thead>\n",
       "    <tr style=\"text-align: right;\">\n",
       "      <th></th>\n",
       "      <th>Column</th>\n",
       "      <th>YearCount</th>\n",
       "      <th>Count</th>\n",
       "    </tr>\n",
       "  </thead>\n",
       "  <tbody>\n",
       "    <tr>\n",
       "      <th>0</th>\n",
       "      <td>Album</td>\n",
       "      <td>85</td>\n",
       "      <td>555</td>\n",
       "    </tr>\n",
       "    <tr>\n",
       "      <th>1</th>\n",
       "      <td>Artist</td>\n",
       "      <td>85</td>\n",
       "      <td>555</td>\n",
       "    </tr>\n",
       "    <tr>\n",
       "      <th>13</th>\n",
       "      <td>Source</td>\n",
       "      <td>85</td>\n",
       "      <td>555</td>\n",
       "    </tr>\n",
       "    <tr>\n",
       "      <th>7</th>\n",
       "      <td>Notes</td>\n",
       "      <td>42</td>\n",
       "      <td>318</td>\n",
       "    </tr>\n",
       "    <tr>\n",
       "      <th>3</th>\n",
       "      <td>Day</td>\n",
       "      <td>19</td>\n",
       "      <td>228</td>\n",
       "    </tr>\n",
       "    <tr>\n",
       "      <th>4</th>\n",
       "      <td>Genre</td>\n",
       "      <td>18</td>\n",
       "      <td>210</td>\n",
       "    </tr>\n",
       "    <tr>\n",
       "      <th>5</th>\n",
       "      <td>Label</td>\n",
       "      <td>18</td>\n",
       "      <td>210</td>\n",
       "    </tr>\n",
       "    <tr>\n",
       "      <th>9</th>\n",
       "      <td>Ref.</td>\n",
       "      <td>18</td>\n",
       "      <td>210</td>\n",
       "    </tr>\n",
       "    <tr>\n",
       "      <th>11</th>\n",
       "      <td>Release date</td>\n",
       "      <td>18</td>\n",
       "      <td>208</td>\n",
       "    </tr>\n",
       "    <tr>\n",
       "      <th>2</th>\n",
       "      <td>Date</td>\n",
       "      <td>22</td>\n",
       "      <td>88</td>\n",
       "    </tr>\n",
       "    <tr>\n",
       "      <th>10</th>\n",
       "      <td>Release</td>\n",
       "      <td>1</td>\n",
       "      <td>3</td>\n",
       "    </tr>\n",
       "    <tr>\n",
       "      <th>6</th>\n",
       "      <td>Note</td>\n",
       "      <td>1</td>\n",
       "      <td>1</td>\n",
       "    </tr>\n",
       "    <tr>\n",
       "      <th>8</th>\n",
       "      <td>Rank</td>\n",
       "      <td>1</td>\n",
       "      <td>1</td>\n",
       "    </tr>\n",
       "    <tr>\n",
       "      <th>12</th>\n",
       "      <td>Sales\\n(in millions)</td>\n",
       "      <td>1</td>\n",
       "      <td>1</td>\n",
       "    </tr>\n",
       "  </tbody>\n",
       "</table>\n",
       "</div>"
      ],
      "text/plain": [
       "                  Column  YearCount  Count\n",
       "0                  Album         85    555\n",
       "1                 Artist         85    555\n",
       "13                Source         85    555\n",
       "7                  Notes         42    318\n",
       "3                    Day         19    228\n",
       "4                  Genre         18    210\n",
       "5                  Label         18    210\n",
       "9                   Ref.         18    210\n",
       "11          Release date         18    208\n",
       "2                   Date         22     88\n",
       "10               Release          1      3\n",
       "6                   Note          1      1\n",
       "8                   Rank          1      1\n",
       "12  Sales\\n(in millions)          1      1"
      ]
     },
     "execution_count": 36,
     "metadata": {},
     "output_type": "execute_result"
    }
   ],
   "source": [
    "col_stats.head(20)"
   ]
  },
  {
   "cell_type": "code",
   "execution_count": 37,
   "id": "23b70f35-6e14-4903-96d2-bd0ba0cef286",
   "metadata": {},
   "outputs": [
    {
     "data": {
      "image/png": "[encoded data removed]",
      "text/plain": [
       "<Figure size 1152x216 with 1 Axes>"
      ]
     },
     "metadata": {
      "needs_background": "light"
     },
     "output_type": "display_data"
    },
    {
     "data": {
      "image/png": "[encoded data removed]",
      "text/plain": [
       "<Figure size 1152x216 with 1 Axes>"
      ]
     },
     "metadata": {
      "needs_background": "light"
     },
     "output_type": "display_data"
    },
    {
     "data": {
      "image/png": "[encoded data removed]",
      "text/plain": [
       "<Figure size 1152x216 with 1 Axes>"
      ]
     },
     "metadata": {
      "needs_background": "light"
     },
     "output_type": "display_data"
    },
    {
     "data": {
      "image/png": "[encoded data removed]",
      "text/plain": [
       "<Figure size 1152x216 with 1 Axes>"
      ]
     },
     "metadata": {
      "needs_background": "light"
     },
     "output_type": "display_data"
    },
    {
     "data": {
      "image/png": "[encoded data removed]",
      "text/plain": [
       "<Figure size 1152x216 with 1 Axes>"
      ]
     },
     "metadata": {
      "needs_background": "light"
     },
     "output_type": "display_data"
    },
    {
     "data": {
      "image/png": "[encoded data removed]",
      "text/plain": [
       "<Figure size 1152x216 with 1 Axes>"
      ]
     },
     "metadata": {
      "needs_background": "light"
     },
     "output_type": "display_data"
    },
    {
     "data": {
      "image/png": "[encoded data removed]",
      "text/plain": [
       "<Figure size 1152x216 with 1 Axes>"
      ]
     },
     "metadata": {
      "needs_background": "light"
     },
     "output_type": "display_data"
    }
   ],
   "source": [
    "# It looks like the table with a column Album isn't really used prior to 1963\n",
    "# The 1990s and early 2000 entries have tables by quarter while\n",
    "# Many other years have tables by month.\n",
    "\n",
    "col_stats_top = col_stats[\n",
    "    (col_stats.Column.str.len() > 3) &\n",
    "    (~col_stats.Column.str.contains('Unnamed'))\n",
    "].head(7)\n",
    "\n",
    "col_yc = (col_info[col_info.Column.isin(set(col_stats_top.Column))]\n",
    "    .groupby(['Year', 'Column'])\n",
    "    .size()\n",
    "    .reset_index()\n",
    "    .rename(columns = {0: 'Count'})\n",
    "    .sort_values(by=['Column', 'Year'])\n",
    ")\n",
    "\n",
    "for c, c_df in col_yc.groupby('Column'):\n",
    "    plt.figure(figsize=(16, 3))\n",
    "    plt.title(f\"Number of times {c} Occurs in Year List on Wikipedia\")\n",
    "    plt.scatter(c_df.Year, c_df.Count, label=c)\n",
    "    plt.grid(1)\n",
    "    plt.show()"
   ]
  },
  {
   "cell_type": "code",
   "execution_count": 40,
   "id": "be22d73b-2b5b-4601-bc16-413d7e8193db",
   "metadata": {},
   "outputs": [
    {
     "data": {
      "text/plain": [
       "[]"
      ]
     },
     "execution_count": 40,
     "metadata": {},
     "output_type": "execute_result"
    }
   ],
   "source": [
    "years_no_album = list(set(col_info.Year.unique()) - set(col_info[col_info.Column == 'Album'].Year.unique()))\n",
    "years_no_album.sort()\n",
    "years_no_album"
   ]
  },
  {
   "cell_type": "markdown",
   "id": "6b962823-bb66-4b62-a9d6-d63bc14ec2b6",
   "metadata": {},
   "source": [
    "## Album Info"
   ]
  },
  {
   "cell_type": "code",
   "execution_count": 41,
   "id": "24fe5e15-e171-4f17-8e85-f998e8c6b1ac",
   "metadata": {},
   "outputs": [
    {
     "name": "stdout",
     "output_type": "stream",
     "text": [
      "[WARN] Could not extract table - invalid literal for int() with base 10: '3\"'\n",
      "[WARN] Could not extract table - invalid literal for int() with base 10: '1\" valign=\"top\"'\n",
      "[WARN] - {'text': 'Pal Joey with Frank Sinatra', 'Links': [{'href': '/wiki/Pal_Joey_(film)', 'text': 'Pal Joey'}, {'href': '/wiki/Frank_Sinatra', 'text': 'Frank Sinatra'}]}\n",
      "[WARN] - {'text': 'Bing Crosby\\nMerry Christmas\\nSelections from Going My Way', 'Links': [{'href': '/wiki/Bing_Crosby', 'text': 'Bing Crosby'}, {'href': '/wiki/Merry_Christmas_(Bing_Crosby_album)', 'text': 'Merry Christmas'}, {'href': '/wiki/Selections_from_Going_My_Way', 'text': 'Selections from Going My Way'}]}\n",
      "[WARN] - {'text': 'Merry Christmas', 'Links': [{'href': '/wiki/Merry_Christmas_(Bing_Crosby_album)', 'text': 'Merry Christmas'}]}\n",
      "[WARN] - {'text': 'Selections from Going My Way', 'Links': [{'href': '/wiki/Selections_from_Going_My_Way', 'text': 'Selections from Going My Way'}]}\n",
      "[WARN] - {'text': 'Merry Christmas', 'Links': [{'href': '/wiki/Merry_Christmas_(Bing_Crosby_album)', 'text': 'Merry Christmas'}]}\n",
      "[WARN] - {'text': 'Selections from Going My Way', 'Links': [{'href': '/wiki/Selections_from_Going_My_Way', 'text': 'Selections from Going My Way'}]}\n"
     ]
    }
   ],
   "source": [
    "albums = album_extractor.get_all_albums(year_list_urls)"
   ]
  },
  {
   "cell_type": "code",
   "execution_count": 42,
   "id": "cc5e1f50-9781-42d7-abac-23ce033fd32d",
   "metadata": {},
   "outputs": [],
   "source": [
    "albums['Artist'] = albums.Artist.astype(str)"
   ]
  },
  {
   "cell_type": "code",
   "execution_count": 43,
   "id": "fc4a4212-cf92-4b83-b98f-bccf035f1d30",
   "metadata": {},
   "outputs": [
    {
     "data": {
      "text/html": [
       "<div>\n",
       "<style scoped>\n",
       "    .dataframe tbody tr th:only-of-type {\n",
       "        vertical-align: middle;\n",
       "    }\n",
       "\n",
       "    .dataframe tbody tr th {\n",
       "        vertical-align: top;\n",
       "    }\n",
       "\n",
       "    .dataframe thead th {\n",
       "        text-align: right;\n",
       "    }\n",
       "</style>\n",
       "<table border=\"1\" class=\"dataframe\">\n",
       "  <thead>\n",
       "    <tr style=\"text-align: right;\">\n",
       "      <th></th>\n",
       "      <th>Artist</th>\n",
       "      <th>Album</th>\n",
       "      <th>Genre</th>\n",
       "      <th>Label</th>\n",
       "      <th>Year</th>\n",
       "      <th>Links</th>\n",
       "      <th>Source</th>\n",
       "    </tr>\n",
       "  </thead>\n",
       "  <tbody>\n",
       "    <tr>\n",
       "      <th>4414</th>\n",
       "      <td>Death Grips</td>\n",
       "      <td>Year of the Snitch</td>\n",
       "      <td>Industrial hip hop, experimental hip hop</td>\n",
       "      <td>Third Worlds, Harvest</td>\n",
       "      <td>2018</td>\n",
       "      <td>{'Artist': [{'href': 'https://en.wikipedia.org...</td>\n",
       "      <td>https://en.wikipedia.org/wiki/List_of_2018_albums</td>\n",
       "    </tr>\n",
       "    <tr>\n",
       "      <th>5958</th>\n",
       "      <td>Death Grips</td>\n",
       "      <td>Bottomless Pit</td>\n",
       "      <td>Experimental hip hop, digital hardcore</td>\n",
       "      <td>Third Worlds</td>\n",
       "      <td>2016</td>\n",
       "      <td>{'Artist': [{'href': 'https://en.wikipedia.org...</td>\n",
       "      <td>https://en.wikipedia.org/wiki/List_of_2016_albums</td>\n",
       "    </tr>\n",
       "    <tr>\n",
       "      <th>6596</th>\n",
       "      <td>Death Grips</td>\n",
       "      <td>The Powers That B</td>\n",
       "      <td>Experimental hip hop</td>\n",
       "      <td>Third Worlds, Harvest</td>\n",
       "      <td>2015</td>\n",
       "      <td>{'Artist': [{'href': 'https://en.wikipedia.org...</td>\n",
       "      <td>https://en.wikipedia.org/wiki/List_of_2015_albums</td>\n",
       "    </tr>\n",
       "  </tbody>\n",
       "</table>\n",
       "</div>"
      ],
      "text/plain": [
       "           Artist               Album  \\\n",
       "4414  Death Grips  Year of the Snitch   \n",
       "5958  Death Grips      Bottomless Pit   \n",
       "6596  Death Grips   The Powers That B   \n",
       "\n",
       "                                         Genre                  Label  Year  \\\n",
       "4414  Industrial hip hop, experimental hip hop  Third Worlds, Harvest  2018   \n",
       "5958    Experimental hip hop, digital hardcore           Third Worlds  2016   \n",
       "6596                      Experimental hip hop  Third Worlds, Harvest  2015   \n",
       "\n",
       "                                                  Links  \\\n",
       "4414  {'Artist': [{'href': 'https://en.wikipedia.org...   \n",
       "5958  {'Artist': [{'href': 'https://en.wikipedia.org...   \n",
       "6596  {'Artist': [{'href': 'https://en.wikipedia.org...   \n",
       "\n",
       "                                                 Source  \n",
       "4414  https://en.wikipedia.org/wiki/List_of_2018_albums  \n",
       "5958  https://en.wikipedia.org/wiki/List_of_2016_albums  \n",
       "6596  https://en.wikipedia.org/wiki/List_of_2015_albums  "
      ]
     },
     "execution_count": 43,
     "metadata": {},
     "output_type": "execute_result"
    }
   ],
   "source": [
    "# Where is the money store?\n",
    "albums[albums.Artist.str.contains('Death Grip')]"
   ]
  },
  {
   "cell_type": "code",
   "execution_count": 46,
   "id": "99b4c4c1-538f-4200-b348-6ae16017f4a2",
   "metadata": {},
   "outputs": [
    {
     "data": {
      "image/png": "[encoded data removed]",
      "text/plain": [
       "<Figure size 720x288 with 1 Axes>"
      ]
     },
     "metadata": {
      "needs_background": "light"
     },
     "output_type": "display_data"
    }
   ],
   "source": [
    "album_counts_by_year = albums.groupby('Year').size().reset_index().rename(columns={0: 'Count'}).sort_values(by='Year')\n",
    "\n",
    "plt.figure(figsize=(10, 4))\n",
    "plt.scatter(album_counts_by_year.Year, album_counts_by_year.Count)\n",
    "plt.grid(1)\n",
    "plt.show()"
   ]
  },
  {
   "cell_type": "markdown",
   "id": "59d1e408-6320-4fe7-b768-57fb56e17248",
   "metadata": {},
   "source": [
    "## Save Album Extract"
   ]
  },
  {
   "cell_type": "code",
   "execution_count": 8,
   "id": "a1c817ea-c05c-4ec5-81bd-658b7ad85bb3",
   "metadata": {},
   "outputs": [],
   "source": [
    "wayl_db = WikipediaAlbumYearListsDB(db)\n",
    "wayl_db.save(albums)"
   ]
  },
  {
   "cell_type": "code",
   "execution_count": null,
   "id": "cbf597b9-62e9-468a-8c82-62057c67801a",
   "metadata": {},
   "outputs": [],
   "source": []
  }
 ],
 "metadata": {
  "kernelspec": {
   "display_name": "Python 3 (ipykernel)",
   "language": "python",
   "name": "python3"
  },
  "language_info": {
   "codemirror_mode": {
    "name": "ipython",
    "version": 3
   },
   "file_extension": ".py",
   "mimetype": "text/x-python",
   "name": "python",
   "nbconvert_exporter": "python",
   "pygments_lexer": "ipython3",
   "version": "3.7.6"
  }
 },
 "nbformat": 4,
 "nbformat_minor": 5
}
