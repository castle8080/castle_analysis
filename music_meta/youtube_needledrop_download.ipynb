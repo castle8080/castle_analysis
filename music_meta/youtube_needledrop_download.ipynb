{
 "cells": [
  {
   "cell_type": "markdown",
   "id": "fcf49080-7c32-4f98-98cf-8c04539be951",
   "metadata": {},
   "source": [
    "# Download Video Info for The Needle Drop\n",
    "\n",
    "https://www.youtube.com/c/theneedledrop"
   ]
  },
  {
   "cell_type": "code",
   "execution_count": 2,
   "id": "a69b17df-6620-49f5-8ae2-b10f826f5eb9",
   "metadata": {},
   "outputs": [],
   "source": [
    "%run bootstrap.ipynb"
   ]
  },
  {
   "cell_type": "code",
   "execution_count": 3,
   "id": "0355c28c-2bf4-426e-9a1b-a77dae57b75e",
   "metadata": {},
   "outputs": [],
   "source": [
    "import json\n",
    "import itertools\n",
    "\n",
    "import sqlite3\n",
    "\n",
    "import pandas as pd\n",
    "\n",
    "from IPython.display import display, JSON, HTML\n",
    "\n",
    "from castle.music_meta.youtube import YouTubeClient"
   ]
  },
  {
   "cell_type": "markdown",
   "id": "7bc00ad9-0a98-4a13-8075-d18819b21d82",
   "metadata": {},
   "source": [
    "## Config"
   ]
  },
  {
   "cell_type": "code",
   "execution_count": 4,
   "id": "cf0e2b9c-bcc5-4cf0-bda2-3aa251f674e2",
   "metadata": {},
   "outputs": [],
   "source": [
    "username = \"theneedledrop\""
   ]
  },
  {
   "cell_type": "markdown",
   "id": "baeb1607-2bf7-4b81-a9f1-9866695e9670",
   "metadata": {},
   "source": [
    "## Setup DB Connection"
   ]
  },
  {
   "cell_type": "code",
   "execution_count": 5,
   "id": "e5801714-cea1-416f-83d2-f155ae22c778",
   "metadata": {},
   "outputs": [],
   "source": [
    "db = sqlite3.Connection(\"var/data/music.db\")"
   ]
  },
  {
   "cell_type": "markdown",
   "id": "63e28b1b-8bd5-4806-b2e9-7fc80bbe4998",
   "metadata": {},
   "source": [
    "## Setup YouTube Client"
   ]
  },
  {
   "cell_type": "code",
   "execution_count": 6,
   "id": "85c95f46-f3b8-43a3-9e4e-38042f266ae4",
   "metadata": {},
   "outputs": [
    {
     "data": {
      "text/plain": [
       "<castle.music_meta.youtube.YouTubeClient at 0x21e200a3448>"
      ]
     },
     "execution_count": 6,
     "metadata": {},
     "output_type": "execute_result"
    }
   ],
   "source": [
    "yt_client = YouTubeClient(\n",
    "    CONFIG[\"youtube\"][\"base-url\"],\n",
    "    CONFIG[\"youtube\"][\"api-key\"]\n",
    ")\n",
    "\n",
    "yt_client"
   ]
  },
  {
   "cell_type": "markdown",
   "id": "01c0a8f4-6c22-47ca-a08b-09ed2b5ebe9d",
   "metadata": {},
   "source": [
    "## Download Video Info"
   ]
  },
  {
   "cell_type": "code",
   "execution_count": 7,
   "id": "dab4723d-ee96-46b5-9fbd-2809f1dbbbc9",
   "metadata": {},
   "outputs": [
    {
     "data": {
      "text/plain": [
       "'UUt7fwAhXDy3oNFTAzF2o8Pw'"
      ]
     },
     "execution_count": 7,
     "metadata": {},
     "output_type": "execute_result"
    }
   ],
   "source": [
    "# Get the upload playlist for needle drop\n",
    "playlist_id = yt_client.get_upload_playlist_id(username)\n",
    "playlist_id"
   ]
  },
  {
   "cell_type": "code",
   "execution_count": 8,
   "id": "19889485-99e2-4de1-8eed-1179dcd49b64",
   "metadata": {},
   "outputs": [],
   "source": [
    "# TODO: Enhance the API to pass in last known upload date for a video to get only new ones.\n",
    "\n",
    "videos_iter = yt_client.enumerate_playlist_items(playlist_id)\n",
    "videos = list(videos_iter)"
   ]
  },
  {
   "cell_type": "code",
   "execution_count": 15,
   "id": "56cb9d91-7b11-46d7-a745-f08c9d6e2900",
   "metadata": {},
   "outputs": [],
   "source": [
    "# Extract Fields And Put Into DataFrame\n",
    "\n",
    "def extract_video_fields(video):\n",
    "    return {\n",
    "        'channelTitle': video['snippet']['channelTitle'],\n",
    "        'videoId': video['contentDetails']['videoId'],\n",
    "        'videoPublishedAt': video['contentDetails']['videoPublishedAt'],\n",
    "        'title': video['snippet']['title'],\n",
    "        'description': video['snippet']['description']\n",
    "    }\n",
    "    \n",
    "video_info = pd.DataFrame([extract_video_fields(v) for v in videos])"
   ]
  },
  {
   "cell_type": "markdown",
   "id": "c09c82a8-9608-4546-9358-ce95f5396acf",
   "metadata": {},
   "source": [
    "## Save Video Info to Database"
   ]
  },
  {
   "cell_type": "code",
   "execution_count": 24,
   "id": "9fde0a27-74ca-4cd5-a9c1-38731f3307b8",
   "metadata": {},
   "outputs": [],
   "source": [
    "video_info.to_sql('yt_video_info', db, if_exists='append', index=False)"
   ]
  },
  {
   "cell_type": "code",
   "execution_count": 32,
   "id": "8b53b868-6406-4fd9-a12a-d02341229a6c",
   "metadata": {},
   "outputs": [],
   "source": [
    "# Create a couple of indices\n",
    "\n",
    "cur = db.cursor()\n",
    "cur.execute(f\"\"\"\n",
    "  create unique index if not exists i_yt_video_info_pk on yt_video_info (videoId)\n",
    "\"\"\")\n",
    "cur.execute(f\"\"\"\n",
    "  create index if not exists i_yt_video_info_channelTitle on yt_video_info (channelTitle)\n",
    "\"\"\")\n",
    "cur.close()"
   ]
  },
  {
   "cell_type": "markdown",
   "id": "fe1f1067-8d63-416e-8ed1-5b6398e533d8",
   "metadata": {},
   "source": [
    "## Test Reading Back From DB"
   ]
  },
  {
   "cell_type": "code",
   "execution_count": 31,
   "id": "6bc8621e-38bb-4e14-9026-c592d8282a20",
   "metadata": {},
   "outputs": [
    {
     "data": {
      "text/html": [
       "<div>\n",
       "<style scoped>\n",
       "    .dataframe tbody tr th:only-of-type {\n",
       "        vertical-align: middle;\n",
       "    }\n",
       "\n",
       "    .dataframe tbody tr th {\n",
       "        vertical-align: top;\n",
       "    }\n",
       "\n",
       "    .dataframe thead th {\n",
       "        text-align: right;\n",
       "    }\n",
       "</style>\n",
       "<table border=\"1\" class=\"dataframe\">\n",
       "  <thead>\n",
       "    <tr style=\"text-align: right;\">\n",
       "      <th></th>\n",
       "      <th>channelTitle</th>\n",
       "      <th>videoId</th>\n",
       "      <th>videoPublishedAt</th>\n",
       "      <th>title</th>\n",
       "      <th>description</th>\n",
       "    </tr>\n",
       "  </thead>\n",
       "  <tbody>\n",
       "    <tr>\n",
       "      <th>0</th>\n",
       "      <td>theneedledrop</td>\n",
       "      <td>3VOAXpSR9V0</td>\n",
       "      <td>2021-11-06T05:13:32Z</td>\n",
       "      <td>Marissa Nadler - The Path of the Clouds ALBUM ...</td>\n",
       "      <td>Listen: https://marissanadler.bandcamp.com/alb...</td>\n",
       "    </tr>\n",
       "    <tr>\n",
       "      <th>1</th>\n",
       "      <td>theneedledrop</td>\n",
       "      <td>EZc4QCJmKdQ</td>\n",
       "      <td>2021-11-05T02:21:08Z</td>\n",
       "      <td>The War on Drugs - I Don't Live Here Anymore A...</td>\n",
       "      <td>Listen: https://www.youtube.com/watch?v=B3OEof...</td>\n",
       "    </tr>\n",
       "    <tr>\n",
       "      <th>2</th>\n",
       "      <td>theneedledrop</td>\n",
       "      <td>eBgdS1yHwRk</td>\n",
       "      <td>2021-11-04T03:24:04Z</td>\n",
       "      <td>Mastodon - Hushed and Grim ALBUM REVIEW</td>\n",
       "      <td>Listen: https://www.youtube.com/watch?v=haT5ar...</td>\n",
       "    </tr>\n",
       "    <tr>\n",
       "      <th>3</th>\n",
       "      <td>theneedledrop</td>\n",
       "      <td>aae1g4R9KJA</td>\n",
       "      <td>2021-11-02T02:11:18Z</td>\n",
       "      <td>Ed Sheeran - = ALBUM REVIEW</td>\n",
       "      <td>Listen: https://www.youtube.com/watch?v=orJSJG...</td>\n",
       "    </tr>\n",
       "    <tr>\n",
       "      <th>4</th>\n",
       "      <td>theneedledrop</td>\n",
       "      <td>bbsD3mRmQn4</td>\n",
       "      <td>2021-10-29T04:05:54Z</td>\n",
       "      <td>JPEGMAFIA - LP! ALBUM REVIEW</td>\n",
       "      <td>Listen: https://jpegmafia.bandcamp.com/album/l...</td>\n",
       "    </tr>\n",
       "    <tr>\n",
       "      <th>...</th>\n",
       "      <td>...</td>\n",
       "      <td>...</td>\n",
       "      <td>...</td>\n",
       "      <td>...</td>\n",
       "      <td>...</td>\n",
       "    </tr>\n",
       "    <tr>\n",
       "      <th>2461</th>\n",
       "      <td>theneedledrop</td>\n",
       "      <td>DuMUDldrG3g</td>\n",
       "      <td>2010-05-12T05:43:37Z</td>\n",
       "      <td>The National- High Violet ALBUM REVIEW</td>\n",
       "      <td>Review: http://bit.ly/95B1DQ / http://bit.ly/c...</td>\n",
       "    </tr>\n",
       "    <tr>\n",
       "      <th>2462</th>\n",
       "      <td>theneedledrop</td>\n",
       "      <td>ySXryTlo9Ac</td>\n",
       "      <td>2010-05-10T19:12:42Z</td>\n",
       "      <td>Holy Fuck- Latin ALBUM REVIEW</td>\n",
       "      <td>Listen: http://bit.ly/cE69Wl / http://bit.ly/c...</td>\n",
       "    </tr>\n",
       "    <tr>\n",
       "      <th>2463</th>\n",
       "      <td>theneedledrop</td>\n",
       "      <td>cndwH6byJnk</td>\n",
       "      <td>2010-05-09T18:18:46Z</td>\n",
       "      <td>Little Women- Throat ALBUM REVIEW</td>\n",
       "      <td>Listen: http://www.myspace.com/littlewomensoun...</td>\n",
       "    </tr>\n",
       "    <tr>\n",
       "      <th>2464</th>\n",
       "      <td>theneedledrop</td>\n",
       "      <td>KCuamde9Atc</td>\n",
       "      <td>2010-05-05T18:47:37Z</td>\n",
       "      <td>Flying Lotus- Cosmogramma ALBUM REVIEW</td>\n",
       "      <td>Listen: http://bit.ly/cY4EPL / http://bit.ly/a...</td>\n",
       "    </tr>\n",
       "    <tr>\n",
       "      <th>2465</th>\n",
       "      <td>theneedledrop</td>\n",
       "      <td>ftt175Djodk</td>\n",
       "      <td>2010-03-08T22:59:59Z</td>\n",
       "      <td>The Knife- Tomorrow, In a Year Album Review</td>\n",
       "      <td>3/10 http://bit.ly/6AHNzn\\n\\nSong that sounds ...</td>\n",
       "    </tr>\n",
       "  </tbody>\n",
       "</table>\n",
       "<p>2466 rows × 5 columns</p>\n",
       "</div>"
      ],
      "text/plain": [
       "       channelTitle      videoId      videoPublishedAt  \\\n",
       "0     theneedledrop  3VOAXpSR9V0  2021-11-06T05:13:32Z   \n",
       "1     theneedledrop  EZc4QCJmKdQ  2021-11-05T02:21:08Z   \n",
       "2     theneedledrop  eBgdS1yHwRk  2021-11-04T03:24:04Z   \n",
       "3     theneedledrop  aae1g4R9KJA  2021-11-02T02:11:18Z   \n",
       "4     theneedledrop  bbsD3mRmQn4  2021-10-29T04:05:54Z   \n",
       "...             ...          ...                   ...   \n",
       "2461  theneedledrop  DuMUDldrG3g  2010-05-12T05:43:37Z   \n",
       "2462  theneedledrop  ySXryTlo9Ac  2010-05-10T19:12:42Z   \n",
       "2463  theneedledrop  cndwH6byJnk  2010-05-09T18:18:46Z   \n",
       "2464  theneedledrop  KCuamde9Atc  2010-05-05T18:47:37Z   \n",
       "2465  theneedledrop  ftt175Djodk  2010-03-08T22:59:59Z   \n",
       "\n",
       "                                                  title  \\\n",
       "0     Marissa Nadler - The Path of the Clouds ALBUM ...   \n",
       "1     The War on Drugs - I Don't Live Here Anymore A...   \n",
       "2               Mastodon - Hushed and Grim ALBUM REVIEW   \n",
       "3                           Ed Sheeran - = ALBUM REVIEW   \n",
       "4                          JPEGMAFIA - LP! ALBUM REVIEW   \n",
       "...                                                 ...   \n",
       "2461             The National- High Violet ALBUM REVIEW   \n",
       "2462                      Holy Fuck- Latin ALBUM REVIEW   \n",
       "2463                  Little Women- Throat ALBUM REVIEW   \n",
       "2464             Flying Lotus- Cosmogramma ALBUM REVIEW   \n",
       "2465        The Knife- Tomorrow, In a Year Album Review   \n",
       "\n",
       "                                            description  \n",
       "0     Listen: https://marissanadler.bandcamp.com/alb...  \n",
       "1     Listen: https://www.youtube.com/watch?v=B3OEof...  \n",
       "2     Listen: https://www.youtube.com/watch?v=haT5ar...  \n",
       "3     Listen: https://www.youtube.com/watch?v=orJSJG...  \n",
       "4     Listen: https://jpegmafia.bandcamp.com/album/l...  \n",
       "...                                                 ...  \n",
       "2461  Review: http://bit.ly/95B1DQ / http://bit.ly/c...  \n",
       "2462  Listen: http://bit.ly/cE69Wl / http://bit.ly/c...  \n",
       "2463  Listen: http://www.myspace.com/littlewomensoun...  \n",
       "2464  Listen: http://bit.ly/cY4EPL / http://bit.ly/a...  \n",
       "2465  3/10 http://bit.ly/6AHNzn\\n\\nSong that sounds ...  \n",
       "\n",
       "[2466 rows x 5 columns]"
      ]
     },
     "execution_count": 31,
     "metadata": {},
     "output_type": "execute_result"
    }
   ],
   "source": [
    "pd.read_sql(\"\"\"\n",
    "  select *\n",
    "  from yt_video_info\n",
    "  where channelTitle = 'theneedledrop' and title like '%ALBUM%'\n",
    "\"\"\", db)"
   ]
  },
  {
   "cell_type": "code",
   "execution_count": null,
   "id": "f7813d65-eb11-400e-8b1f-ca31e2bf5f84",
   "metadata": {},
   "outputs": [],
   "source": []
  }
 ],
 "metadata": {
  "kernelspec": {
   "display_name": "Python 3 (ipykernel)",
   "language": "python",
   "name": "python3"
  },
  "language_info": {
   "codemirror_mode": {
    "name": "ipython",
    "version": 3
   },
   "file_extension": ".py",
   "mimetype": "text/x-python",
   "name": "python",
   "nbconvert_exporter": "python",
   "pygments_lexer": "ipython3",
   "version": "3.7.6"
  }
 },
 "nbformat": 4,
 "nbformat_minor": 5
}
