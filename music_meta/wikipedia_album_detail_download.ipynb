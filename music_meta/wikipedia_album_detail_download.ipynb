{
 "cells": [
  {
   "cell_type": "markdown",
   "id": "ced6fc69-eda3-42d2-b346-ec2c1800249e",
   "metadata": {},
   "source": [
    "# Wikipedia Album Detail Download"
   ]
  },
  {
   "cell_type": "code",
   "execution_count": 1,
   "id": "d6908df3-5ab5-49d1-96fe-6cd9100f1d44",
   "metadata": {},
   "outputs": [],
   "source": [
    "import os\n",
    "import re\n",
    "from urllib.parse import urljoin\n",
    "import datetime as dt\n",
    "\n",
    "import requests\n",
    "from bs4 import BeautifulSoup\n",
    "import sqlite3\n",
    "import pandas as pd\n",
    "import numpy as np\n",
    "import scipy\n",
    "import scipy.sparse\n",
    "\n",
    "import matplotlib.pyplot as plt\n",
    "from sklearn.cluster import MiniBatchKMeans\n",
    "\n",
    "from IPython.display import display, HTML, clear_output"
   ]
  },
  {
   "cell_type": "code",
   "execution_count": 2,
   "id": "442c0645-f3ef-4cc2-9c68-2b1309c3ee6f",
   "metadata": {},
   "outputs": [],
   "source": [
    "%run ./url_cache.ipynb\n",
    "%run ./wikipedia_access.ipynb\n",
    "%run ./wikipedia_album_detail_lib.ipynb"
   ]
  },
  {
   "cell_type": "markdown",
   "id": "db4cd964-9d24-4bfa-b1f8-0afaf1c4e5e7",
   "metadata": {},
   "source": [
    "## Configure DB and Load Album Extract"
   ]
  },
  {
   "cell_type": "code",
   "execution_count": 3,
   "id": "613e159f-d4a2-4615-9467-3e0dc406888f",
   "metadata": {},
   "outputs": [],
   "source": [
    "db = sqlite3.Connection(\"var/data/music.db\")"
   ]
  },
  {
   "cell_type": "code",
   "execution_count": 4,
   "id": "30444544-012f-49a0-8ee5-3075c1fbc278",
   "metadata": {},
   "outputs": [],
   "source": [
    "url_cache = URLContentCacheSqlite(db)\n",
    "\n",
    "wayl_db = WikipediaAlbumYearListsDB(db)\n",
    "albums = wayl_db.get_all()"
   ]
  },
  {
   "cell_type": "markdown",
   "id": "3afb44ba-ddd2-46d5-98fa-09e76dd4cfd5",
   "metadata": {},
   "source": [
    "### Get Albums With Detail Links"
   ]
  },
  {
   "cell_type": "code",
   "execution_count": 5,
   "id": "f447937c-edf6-49a9-9f19-4d817be0d2a4",
   "metadata": {},
   "outputs": [],
   "source": [
    "def get_album_link(links):\n",
    "    if links is not None and 'Album' in links and len(links['Album']) > 0:\n",
    "        return links['Album'][0]['href']\n",
    "    \n",
    "albums['AlbumLink'] = albums.Links.apply(get_album_link)"
   ]
  },
  {
   "cell_type": "code",
   "execution_count": 6,
   "id": "1f5563d6-d8d0-46d9-8d4e-ae984ea95c98",
   "metadata": {},
   "outputs": [],
   "source": [
    "albums_w_detail_links = albums[albums.AlbumLink.notnull()]"
   ]
  },
  {
   "cell_type": "markdown",
   "id": "ba5e4dcd-2a20-48ee-9120-016d7c153626",
   "metadata": {},
   "source": [
    "### Download Links"
   ]
  },
  {
   "cell_type": "code",
   "execution_count": 8,
   "id": "9c8aedd7-e03c-4fe9-9deb-fc9a3934ea5f",
   "metadata": {},
   "outputs": [
    {
     "name": "stdout",
     "output_type": "stream",
     "text": [
      "Already downloaded 29504 album details.\n",
      "[29505] Getting: The Aislers Set - The Last Match (album) [2000]\n",
      "[WARNING] link not found.\n",
      "[29506] Getting: The Business/Dropkick Murphys - Mob Mentality [2000]\n",
      "[WARNING] link not found.\n",
      "[29507] Getting: Happyland - Welcome To... Happyland [1998]\n",
      "[WARNING] link not found.\n",
      "[29508] Getting: Zumpano - Look What The Rookie Did [1995]\n",
      "[WARNING] link not found.\n",
      "[29509] Getting: Björk - The Best Mixes from the Album Debut for All the People Who Don't Buy white Labels [1994]\n",
      "[WARNING] link not found.\n",
      "[29510] Getting: Prince - The black Album [1994]\n",
      "[WARNING] link not found.\n",
      "[29511] Getting: Atkins - Atkins [1982]\n",
      "[WARNING] link not found.\n",
      "[29512] Getting: Robocar Poli - Scott Polin [1973]\n",
      "[WARNING] link not found.\n",
      "[29513] Getting: Ptolomy Pscycon - Loose Capacitor [1971]\n",
      "[WARNING] link not found.\n",
      "[29514] Getting: Booker T & Priscilla Coolidge - Booker T. & Priscilla [1971]\n",
      "[WARNING] link not found.\n"
     ]
    }
   ],
   "source": [
    "# See what was downloaded already\n",
    "downloaded_urls = pd.read_sql(f\"\"\"\n",
    "    select url\n",
    "    from url_cache\n",
    "\"\"\", db)\n",
    "\n",
    "downloaded_urls = set(downloaded_urls.url)\n",
    "print(f\"Already downloaded {len(downloaded_urls)} album details.\")\n",
    "\n",
    "d_count = len(downloaded_urls)\n",
    "\n",
    "for _, album_row in albums_w_detail_links[~albums_w_detail_links.AlbumLink.isin(downloaded_urls)].iterrows():\n",
    "    print(f\"[{d_count + 1}] Getting: {album_row.Artist} - {album_row.Album} [{album_row.Year}]\")\n",
    "    r = url_cache.get(album_row.AlbumLink)\n",
    "    if r is None:\n",
    "        print(f\"[WARNING] link not found.\")\n",
    "    d_count += 1\n",
    "    \n",
    "    if (d_count % 25) == 0:\n",
    "        clear_output()"
   ]
  },
  {
   "cell_type": "code",
   "execution_count": null,
   "id": "05691e59-8ae1-4c88-9446-67d67824ae34",
   "metadata": {},
   "outputs": [],
   "source": []
  }
 ],
 "metadata": {
  "kernelspec": {
   "display_name": "Python 3 (ipykernel)",
   "language": "python",
   "name": "python3"
  },
  "language_info": {
   "codemirror_mode": {
    "name": "ipython",
    "version": 3
   },
   "file_extension": ".py",
   "mimetype": "text/x-python",
   "name": "python",
   "nbconvert_exporter": "python",
   "pygments_lexer": "ipython3",
   "version": "3.7.6"
  }
 },
 "nbformat": 4,
 "nbformat_minor": 5
}
