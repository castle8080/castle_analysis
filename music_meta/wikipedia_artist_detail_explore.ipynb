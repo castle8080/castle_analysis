{
 "cells": [
  {
   "cell_type": "markdown",
   "id": "b5a57396-a155-4333-9981-418d212b6294",
   "metadata": {},
   "source": [
    "# Artist Detail"
   ]
  },
  {
   "cell_type": "code",
   "execution_count": 1,
   "id": "338e38a7-256b-4bac-ae11-8fac28fa098d",
   "metadata": {},
   "outputs": [],
   "source": [
    "%run ./wikipedia_setup.ipynb"
   ]
  },
  {
   "cell_type": "markdown",
   "id": "1513f394-e3dd-4e5a-9e31-4f846ddb60a0",
   "metadata": {},
   "source": [
    "## Configure DB and Data Accessors"
   ]
  },
  {
   "cell_type": "code",
   "execution_count": 2,
   "id": "de799f80-1c01-4629-a3bc-2c3395986aed",
   "metadata": {},
   "outputs": [],
   "source": [
    "db = sqlite3.Connection(\"var/data/music.db\")"
   ]
  },
  {
   "cell_type": "markdown",
   "id": "2e2f19e6-f860-4876-85d8-c5717ffac02e",
   "metadata": {},
   "source": [
    "## Explore"
   ]
  },
  {
   "cell_type": "code",
   "execution_count": 6,
   "id": "13f87ee6-2342-450e-970c-02d9f7c7f684",
   "metadata": {},
   "outputs": [
    {
     "data": {
      "text/html": [
       "<div>\n",
       "<style scoped>\n",
       "    .dataframe tbody tr th:only-of-type {\n",
       "        vertical-align: middle;\n",
       "    }\n",
       "\n",
       "    .dataframe tbody tr th {\n",
       "        vertical-align: top;\n",
       "    }\n",
       "\n",
       "    .dataframe thead th {\n",
       "        text-align: right;\n",
       "    }\n",
       "</style>\n",
       "<table border=\"1\" class=\"dataframe\">\n",
       "  <thead>\n",
       "    <tr style=\"text-align: right;\">\n",
       "      <th></th>\n",
       "      <th>count(*)</th>\n",
       "    </tr>\n",
       "  </thead>\n",
       "  <tbody>\n",
       "    <tr>\n",
       "      <th>0</th>\n",
       "      <td>11134</td>\n",
       "    </tr>\n",
       "  </tbody>\n",
       "</table>\n",
       "</div>"
      ],
      "text/plain": [
       "   count(*)\n",
       "0     11134"
      ]
     },
     "execution_count": 6,
     "metadata": {},
     "output_type": "execute_result"
    }
   ],
   "source": [
    "pd.read_sql(\"\"\"\n",
    "    select count(*)\n",
    "    from artist\n",
    "\"\"\", db)"
   ]
  },
  {
   "cell_type": "code",
   "execution_count": 8,
   "id": "d374f9a6-70c7-44ba-8cc6-1eb2a71fadc3",
   "metadata": {},
   "outputs": [
    {
     "data": {
      "text/html": [
       "<div>\n",
       "<style scoped>\n",
       "    .dataframe tbody tr th:only-of-type {\n",
       "        vertical-align: middle;\n",
       "    }\n",
       "\n",
       "    .dataframe tbody tr th {\n",
       "        vertical-align: top;\n",
       "    }\n",
       "\n",
       "    .dataframe thead th {\n",
       "        text-align: right;\n",
       "    }\n",
       "</style>\n",
       "<table border=\"1\" class=\"dataframe\">\n",
       "  <thead>\n",
       "    <tr style=\"text-align: right;\">\n",
       "      <th></th>\n",
       "      <th>Artist</th>\n",
       "      <th>ArtistLink</th>\n",
       "      <th>ArtistDetailText</th>\n",
       "    </tr>\n",
       "  </thead>\n",
       "  <tbody>\n",
       "    <tr>\n",
       "      <th>0</th>\n",
       "      <td>!!!</td>\n",
       "      <td>https://en.wikipedia.org/wiki/!!!</td>\n",
       "      <td>\\n\\n\\n\\n!!! - Wikipedia\\n\\n\\n\\n\\n\\n\\n\\n\\n\\n\\n\\...</td>\n",
       "    </tr>\n",
       "    <tr>\n",
       "      <th>1</th>\n",
       "      <td>\"Weird Al\" Yankovic</td>\n",
       "      <td>https://en.wikipedia.org/wiki/%22Weird_Al%22_Y...</td>\n",
       "      <td>\\n\\n\\n\\n\"Weird Al\" Yankovic - Wikipedia\\n\\n\\n\\...</td>\n",
       "    </tr>\n",
       "    <tr>\n",
       "      <th>2</th>\n",
       "      <td>'68</td>\n",
       "      <td>https://en.wikipedia.org/wiki/%2768_(band)</td>\n",
       "      <td>\\n\\n\\n\\n'68 (band) - Wikipedia\\n\\n\\n\\n\\n\\n\\n\\n...</td>\n",
       "    </tr>\n",
       "    <tr>\n",
       "      <th>3</th>\n",
       "      <td>'N Sync</td>\n",
       "      <td>https://en.wikipedia.org/wiki/%27N_Sync</td>\n",
       "      <td>\\n\\n\\n\\nNSYNC - Wikipedia\\n\\n\\n\\n\\n\\n\\n\\n\\n\\n\\...</td>\n",
       "    </tr>\n",
       "    <tr>\n",
       "      <th>4</th>\n",
       "      <td>((( O )))</td>\n",
       "      <td>https://en.wikipedia.org/wiki/June_Marieezy</td>\n",
       "      <td>\\n\\n\\n\\nJune Marieezy - Wikipedia\\n\\n\\n\\n\\n\\n\\...</td>\n",
       "    </tr>\n",
       "  </tbody>\n",
       "</table>\n",
       "</div>"
      ],
      "text/plain": [
       "                Artist                                         ArtistLink  \\\n",
       "0                  !!!                  https://en.wikipedia.org/wiki/!!!   \n",
       "1  \"Weird Al\" Yankovic  https://en.wikipedia.org/wiki/%22Weird_Al%22_Y...   \n",
       "2                  '68         https://en.wikipedia.org/wiki/%2768_(band)   \n",
       "3              'N Sync            https://en.wikipedia.org/wiki/%27N_Sync   \n",
       "4            ((( O )))        https://en.wikipedia.org/wiki/June_Marieezy   \n",
       "\n",
       "                                    ArtistDetailText  \n",
       "0  \\n\\n\\n\\n!!! - Wikipedia\\n\\n\\n\\n\\n\\n\\n\\n\\n\\n\\n\\...  \n",
       "1  \\n\\n\\n\\n\"Weird Al\" Yankovic - Wikipedia\\n\\n\\n\\...  \n",
       "2  \\n\\n\\n\\n'68 (band) - Wikipedia\\n\\n\\n\\n\\n\\n\\n\\n...  \n",
       "3  \\n\\n\\n\\nNSYNC - Wikipedia\\n\\n\\n\\n\\n\\n\\n\\n\\n\\n\\...  \n",
       "4  \\n\\n\\n\\nJune Marieezy - Wikipedia\\n\\n\\n\\n\\n\\n\\...  "
      ]
     },
     "execution_count": 8,
     "metadata": {},
     "output_type": "execute_result"
    }
   ],
   "source": [
    "pd.read_sql(\"\"\"\n",
    "    select *\n",
    "    from artist\n",
    "    limit 5\n",
    "\"\"\", db)"
   ]
  },
  {
   "cell_type": "code",
   "execution_count": 10,
   "id": "d48c8445-ab0c-4b4a-a57c-9043de47f697",
   "metadata": {},
   "outputs": [
    {
     "data": {
      "text/html": [
       "<div>\n",
       "<style scoped>\n",
       "    .dataframe tbody tr th:only-of-type {\n",
       "        vertical-align: middle;\n",
       "    }\n",
       "\n",
       "    .dataframe tbody tr th {\n",
       "        vertical-align: top;\n",
       "    }\n",
       "\n",
       "    .dataframe thead th {\n",
       "        text-align: right;\n",
       "    }\n",
       "</style>\n",
       "<table border=\"1\" class=\"dataframe\">\n",
       "  <thead>\n",
       "    <tr style=\"text-align: right;\">\n",
       "      <th></th>\n",
       "      <th>min(length(ArtistDetailText))</th>\n",
       "      <th>max(length(ArtistDetailText))</th>\n",
       "      <th>avg(length(ArtistDetailText))</th>\n",
       "      <th>sum(length(ArtistDetailText))</th>\n",
       "    </tr>\n",
       "  </thead>\n",
       "  <tbody>\n",
       "    <tr>\n",
       "      <th>0</th>\n",
       "      <td>2264</td>\n",
       "      <td>223409</td>\n",
       "      <td>25557.129513</td>\n",
       "      <td>284553080</td>\n",
       "    </tr>\n",
       "  </tbody>\n",
       "</table>\n",
       "</div>"
      ],
      "text/plain": [
       "   min(length(ArtistDetailText))  max(length(ArtistDetailText))  \\\n",
       "0                           2264                         223409   \n",
       "\n",
       "   avg(length(ArtistDetailText))  sum(length(ArtistDetailText))  \n",
       "0                   25557.129513                      284553080  "
      ]
     },
     "execution_count": 10,
     "metadata": {},
     "output_type": "execute_result"
    }
   ],
   "source": [
    "pd.read_sql(\"\"\"\n",
    "    select\n",
    "      min(length(ArtistDetailText)),\n",
    "      max(length(ArtistDetailText)),\n",
    "      avg(length(ArtistDetailText)),\n",
    "      sum(length(ArtistDetailText))\n",
    "    from artist\n",
    "\"\"\", db)"
   ]
  }
 ],
 "metadata": {
  "kernelspec": {
   "display_name": "Python 3 (ipykernel)",
   "language": "python",
   "name": "python3"
  },
  "language_info": {
   "codemirror_mode": {
    "name": "ipython",
    "version": 3
   },
   "file_extension": ".py",
   "mimetype": "text/x-python",
   "name": "python",
   "nbconvert_exporter": "python",
   "pygments_lexer": "ipython3",
   "version": "3.7.6"
  }
 },
 "nbformat": 4,
 "nbformat_minor": 5
}
