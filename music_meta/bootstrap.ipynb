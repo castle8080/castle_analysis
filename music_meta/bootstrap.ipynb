{
 "cells": [
  {
   "cell_type": "markdown",
   "id": "f7367922-4e4d-4c33-9f31-3f381eaa9894",
   "metadata": {},
   "source": [
    "# Bootstrap\n",
    "Run the basic code common to other notebooks."
   ]
  },
  {
   "cell_type": "code",
   "execution_count": 5,
   "id": "a13544e8-b39c-4dff-83e4-8bf66131ec46",
   "metadata": {},
   "outputs": [],
   "source": [
    "import sys\n",
    "import os\n",
    "import logging\n",
    "import json"
   ]
  },
  {
   "cell_type": "code",
   "execution_count": 6,
   "id": "18c0774a-5989-49a6-b4c0-e505b955cadb",
   "metadata": {},
   "outputs": [],
   "source": [
    "# Add the lib directory containing python modules to the path.\n",
    "if \"lib\" not in sys.path:\n",
    "    sys.path.append(\"lib\")"
   ]
  },
  {
   "cell_type": "code",
   "execution_count": 7,
   "id": "a9b2e303-d461-472b-befb-cdcb4c563c98",
   "metadata": {},
   "outputs": [],
   "source": [
    "# Add logging at the info level\n",
    "if \"_LOG_SETUP\" not in globals():\n",
    "    root_logger = logging.getLogger()\n",
    "    root_logger.setLevel(logging.INFO)\n",
    "\n",
    "    log_handler = logging.StreamHandler(sys.stdout)\n",
    "    log_handler.setLevel(logging.INFO)\n",
    "    log_formatter = logging.Formatter('%(asctime)s - %(name)s - %(levelname)s - %(message)s')\n",
    "    log_handler.setFormatter(log_formatter)\n",
    "    root_logger.addHandler(log_handler)"
   ]
  },
  {
   "cell_type": "code",
   "execution_count": 9,
   "id": "df90a40e-1de7-4a58-a364-b0d14ab1d599",
   "metadata": {},
   "outputs": [],
   "source": [
    "CONFIG = None\n",
    "\n",
    "if os.path.isfile(\"var/config.json\"):\n",
    "    with open(\"var/config.json\") as fh:\n",
    "        CONFIG = json.load(fh)\n",
    "else:\n",
    "    logging.getLogger().warn(\"var/config.json not found.\")"
   ]
  },
  {
   "cell_type": "code",
   "execution_count": null,
   "id": "e42c5976-9915-47c2-a758-f6a332025659",
   "metadata": {},
   "outputs": [],
   "source": []
  }
 ],
 "metadata": {
  "kernelspec": {
   "display_name": "Python 3 (ipykernel)",
   "language": "python",
   "name": "python3"
  },
  "language_info": {
   "codemirror_mode": {
    "name": "ipython",
    "version": 3
   },
   "file_extension": ".py",
   "mimetype": "text/x-python",
   "name": "python",
   "nbconvert_exporter": "python",
   "pygments_lexer": "ipython3",
   "version": "3.7.6"
  }
 },
 "nbformat": 4,
 "nbformat_minor": 5
}
