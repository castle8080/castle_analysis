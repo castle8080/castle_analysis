{
 "cells": [
  {
   "cell_type": "markdown",
   "id": "ced6fc69-eda3-42d2-b346-ec2c1800249e",
   "metadata": {},
   "source": [
    "# Wikipedia Artist Detail Download"
   ]
  },
  {
   "cell_type": "code",
   "execution_count": 1,
   "id": "d6908df3-5ab5-49d1-96fe-6cd9100f1d44",
   "metadata": {},
   "outputs": [],
   "source": [
    "%run ./wikipedia_setup.ipynb"
   ]
  },
  {
   "cell_type": "markdown",
   "id": "db4cd964-9d24-4bfa-b1f8-0afaf1c4e5e7",
   "metadata": {},
   "source": [
    "## Configure DB and Load Album Extract"
   ]
  },
  {
   "cell_type": "code",
   "execution_count": 2,
   "id": "613e159f-d4a2-4615-9467-3e0dc406888f",
   "metadata": {},
   "outputs": [],
   "source": [
    "db = sqlite3.Connection(\"var/data/music.db\")"
   ]
  },
  {
   "cell_type": "code",
   "execution_count": 3,
   "id": "30444544-012f-49a0-8ee5-3075c1fbc278",
   "metadata": {},
   "outputs": [],
   "source": [
    "url_cache = URLContentCacheSqlite(db)\n",
    "\n",
    "wayl_db = WikipediaAlbumYearListsDB(db)\n",
    "albums = wayl_db.get_all()"
   ]
  },
  {
   "cell_type": "markdown",
   "id": "3afb44ba-ddd2-46d5-98fa-09e76dd4cfd5",
   "metadata": {},
   "source": [
    "### Get Artist Links"
   ]
  },
  {
   "cell_type": "code",
   "execution_count": 4,
   "id": "464f5425-f2de-40a6-bd72-9bd662475a35",
   "metadata": {},
   "outputs": [],
   "source": [
    "def get_artist_link(links):\n",
    "    if links is not None and 'Artist' in links:\n",
    "        return links['Artist'][0]['href']\n",
    "    \n",
    "albums['ArtistLink'] = albums.Links.apply(get_artist_link)"
   ]
  },
  {
   "cell_type": "code",
   "execution_count": 5,
   "id": "df4349b8-20e3-4838-88b0-2c6d8b84d7ac",
   "metadata": {},
   "outputs": [],
   "source": [
    "artists = albums[albums.ArtistLink.notnull()].drop_duplicates('Artist')[['Artist', 'ArtistLink']].copy().sort_values(by='Artist')"
   ]
  },
  {
   "cell_type": "code",
   "execution_count": 13,
   "id": "45acdc24-985b-405c-9d4d-6ae6862ca06b",
   "metadata": {},
   "outputs": [
    {
     "name": "stdout",
     "output_type": "stream",
     "text": [
      "Previously downloaded: 11134\n",
      "[11135] Getting: Ashtrayhead\n",
      "[11136] Getting: Pulkas\n",
      "[11137] Getting: Sisters Of Glory\n",
      "[11138] Getting: The black Crowes\n",
      "[11139] Getting: Wildside\n",
      "[11140] Getting: Wizardthrone\n"
     ]
    }
   ],
   "source": [
    "# See what was downloaded already\n",
    "downloaded_urls = pd.read_sql(f\"\"\"\n",
    "    select url\n",
    "    from url_cache\n",
    "\"\"\", db)\n",
    "\n",
    "downloaded_urls = set(downloaded_urls.url)\n",
    "\n",
    "artists['PrevDownloaded'] = artists.ArtistLink.isin(downloaded_urls)\n",
    "print(f\"Previously downloaded: {artists['PrevDownloaded'].sum()}\")\n",
    "\n",
    "d_count = artists['PrevDownloaded'].sum()\n",
    "\n",
    "for _, artist_row in artists[~artists.PrevDownloaded].iterrows():\n",
    "    print(f\"[{d_count + 1}] Getting: {artist_row.Artist}\")\n",
    "    url_cache.get(artist_row.ArtistLink)\n",
    "    d_count += 1\n",
    "    if (d_count % 25) == 0:\n",
    "        clear_output()"
   ]
  },
  {
   "cell_type": "markdown",
   "id": "72b8c339-6b68-46ab-9739-db89f2b39204",
   "metadata": {},
   "source": [
    "## Get A Single Link Per Artist"
   ]
  },
  {
   "cell_type": "code",
   "execution_count": 17,
   "id": "5d5af264-260e-412b-bf6c-ac981d841249",
   "metadata": {},
   "outputs": [],
   "source": [
    "downloaded_urls = set(pd.read_sql(f\"\"\"\n",
    "    select url\n",
    "    from url_cache\n",
    "\"\"\", db).url)\n",
    "\n",
    "artists = artists[artists.ArtistLink.isin(downloaded_urls)].drop(columns='PrevDownloaded')"
   ]
  },
  {
   "cell_type": "code",
   "execution_count": 20,
   "id": "6260c05c-d1f1-4161-acbd-602dd4efd914",
   "metadata": {},
   "outputs": [],
   "source": [
    "artists = artists.sort_values(by=['Artist', 'ArtistLink']).drop_duplicates('Artist')"
   ]
  },
  {
   "cell_type": "markdown",
   "id": "b42e6714-0cef-4f45-8786-9e1c86642830",
   "metadata": {},
   "source": [
    "## Process Artist HTML and Extract Text"
   ]
  },
  {
   "cell_type": "code",
   "execution_count": 22,
   "id": "ab73e0c8-dcfd-45a5-bd50-27ca3de14150",
   "metadata": {},
   "outputs": [
    {
     "name": "stdout",
     "output_type": "stream",
     "text": [
      "[2021-10-30 10:08:48.995274] Processed 100 urls.\n",
      "[2021-10-30 10:09:16.660085] Processed 200 urls.\n",
      "[2021-10-30 10:09:43.000200] Processed 300 urls.\n",
      "[2021-10-30 10:10:10.104714] Processed 400 urls.\n",
      "[2021-10-30 10:10:35.283309] Processed 500 urls.\n",
      "[2021-10-30 10:11:01.629205] Processed 600 urls.\n",
      "[2021-10-30 10:11:28.894114] Processed 700 urls.\n",
      "[2021-10-30 10:11:58.722298] Processed 800 urls.\n",
      "[2021-10-30 10:12:27.047044] Processed 900 urls.\n",
      "[2021-10-30 10:12:54.327798] Processed 1000 urls.\n",
      "[2021-10-30 10:13:27.379760] Processed 1100 urls.\n",
      "[2021-10-30 10:13:53.257401] Processed 1200 urls.\n",
      "[2021-10-30 10:22:20.426897] Processed 1300 urls.\n",
      "[2021-10-30 10:22:43.765982] Processed 1400 urls.\n",
      "[2021-10-30 10:23:17.141421] Processed 1500 urls.\n",
      "[2021-10-30 10:23:47.456642] Processed 1600 urls.\n",
      "[2021-10-30 10:24:10.944356] Processed 1700 urls.\n",
      "[2021-10-30 10:24:38.739454] Processed 1800 urls.\n",
      "[2021-10-30 10:25:08.979454] Processed 1900 urls.\n",
      "[2021-10-30 10:25:38.198487] Processed 2000 urls.\n",
      "[2021-10-30 10:26:03.634950] Processed 2100 urls.\n",
      "[2021-10-30 10:26:29.073876] Processed 2200 urls.\n",
      "[2021-10-30 10:26:56.609728] Processed 2300 urls.\n",
      "[2021-10-30 10:27:21.644282] Processed 2400 urls.\n",
      "[2021-10-30 10:27:50.837069] Processed 2500 urls.\n",
      "[2021-10-30 10:28:13.875084] Processed 2600 urls.\n",
      "[2021-10-30 10:28:39.434049] Processed 2700 urls.\n",
      "[2021-10-30 10:29:06.838326] Processed 2800 urls.\n",
      "[2021-10-30 10:29:34.552813] Processed 2900 urls.\n",
      "[2021-10-30 10:29:59.744407] Processed 3000 urls.\n",
      "[2021-10-30 10:30:33.001020] Processed 3100 urls.\n",
      "[2021-10-30 10:31:00.161540] Processed 3200 urls.\n",
      "[2021-10-30 10:31:27.959495] Processed 3300 urls.\n",
      "[2021-10-30 10:31:51.036252] Processed 3400 urls.\n",
      "[2021-10-30 10:32:28.295952] Processed 3500 urls.\n",
      "[2021-10-30 10:32:52.354316] Processed 3600 urls.\n",
      "[2021-10-30 10:33:22.861213] Processed 3700 urls.\n",
      "[2021-10-30 10:33:50.661696] Processed 3800 urls.\n",
      "[2021-10-30 10:34:15.417776] Processed 3900 urls.\n",
      "[2021-10-30 10:34:44.116056] Processed 4000 urls.\n",
      "[2021-10-30 10:35:08.976378] Processed 4100 urls.\n",
      "[2021-10-30 10:35:29.400734] Processed 4200 urls.\n",
      "[2021-10-30 10:35:54.131464] Processed 4300 urls.\n",
      "[2021-10-30 10:36:20.338373] Processed 4400 urls.\n",
      "[2021-10-30 10:36:46.494840] Processed 4500 urls.\n",
      "[2021-10-30 10:37:18.513846] Processed 4600 urls.\n",
      "[2021-10-30 10:37:51.993389] Processed 4700 urls.\n",
      "[2021-10-30 10:38:22.163990] Processed 4800 urls.\n",
      "[2021-10-30 10:38:59.166427] Processed 4900 urls.\n",
      "[2021-10-30 10:39:29.721570] Processed 5000 urls.\n",
      "[2021-10-30 10:39:57.608255] Processed 5100 urls.\n",
      "[2021-10-30 10:40:27.877125] Processed 5200 urls.\n",
      "[2021-10-30 10:40:57.096985] Processed 5300 urls.\n",
      "[2021-10-30 10:41:23.664929] Processed 5400 urls.\n",
      "[2021-10-30 10:41:55.220654] Processed 5500 urls.\n",
      "[2021-10-30 10:42:22.154029] Processed 5600 urls.\n",
      "[2021-10-30 10:42:51.638595] Processed 5700 urls.\n",
      "[2021-10-30 10:43:24.967107] Processed 5800 urls.\n",
      "[2021-10-30 10:43:49.141311] Processed 5900 urls.\n",
      "[2021-10-30 10:44:14.954213] Processed 6000 urls.\n",
      "[2021-10-30 10:44:41.488154] Processed 6100 urls.\n",
      "[2021-10-30 10:45:12.089491] Processed 6200 urls.\n",
      "[2021-10-30 10:45:35.588824] Processed 6300 urls.\n",
      "[2021-10-30 10:46:09.160283] Processed 6400 urls.\n",
      "[2021-10-30 10:46:40.259977] Processed 6500 urls.\n",
      "[2021-10-30 10:59:34.781958] Processed 6600 urls.\n",
      "[2021-10-30 10:59:56.778149] Processed 6700 urls.\n",
      "[2021-10-30 11:00:26.446282] Processed 6800 urls.\n",
      "[2021-10-30 11:01:00.164630] Processed 6900 urls.\n",
      "[2021-10-30 11:01:25.058947] Processed 7000 urls.\n",
      "[2021-10-30 11:01:49.646849] Processed 7100 urls.\n",
      "[2021-10-30 11:02:14.843476] Processed 7200 urls.\n",
      "[2021-10-30 11:02:47.919639] Processed 7300 urls.\n",
      "[2021-10-30 11:03:20.575485] Processed 7400 urls.\n",
      "[2021-10-30 11:03:42.692420] Processed 7500 urls.\n",
      "[2021-10-30 11:04:11.804105] Processed 7600 urls.\n",
      "[2021-10-30 11:04:43.808568] Processed 7700 urls.\n",
      "[2021-10-30 11:05:11.300581] Processed 7800 urls.\n",
      "[2021-10-30 11:05:41.151436] Processed 7900 urls.\n",
      "[2021-10-30 11:06:10.437631] Processed 8000 urls.\n",
      "[2021-10-30 11:06:35.135569] Processed 8100 urls.\n",
      "[2021-10-30 11:07:02.741968] Processed 8200 urls.\n",
      "[2021-10-30 11:07:26.688629] Processed 8300 urls.\n",
      "[2021-10-30 11:07:55.774691] Processed 8400 urls.\n",
      "[2021-10-30 11:08:21.542666] Processed 8500 urls.\n",
      "[2021-10-30 11:08:46.447306] Processed 8600 urls.\n",
      "[2021-10-30 11:09:11.417716] Processed 8700 urls.\n",
      "[2021-10-30 11:09:33.684855] Processed 8800 urls.\n",
      "[2021-10-30 11:10:02.151156] Processed 8900 urls.\n",
      "[2021-10-30 11:10:27.329960] Processed 9000 urls.\n",
      "[2021-10-30 11:10:55.904213] Processed 9100 urls.\n",
      "[2021-10-30 11:11:19.547461] Processed 9200 urls.\n",
      "[2021-10-30 11:11:46.059289] Processed 9300 urls.\n",
      "[2021-10-30 11:12:08.075994] Processed 9400 urls.\n",
      "[2021-10-30 11:12:31.507986] Processed 9500 urls.\n",
      "[2021-10-30 11:12:51.558259] Processed 9600 urls.\n",
      "[2021-10-30 11:13:19.221841] Processed 9700 urls.\n",
      "[2021-10-30 11:13:40.845305] Processed 9800 urls.\n",
      "[2021-10-30 11:14:06.221461] Processed 9900 urls.\n",
      "[2021-10-30 11:14:30.878819] Processed 10000 urls.\n",
      "[2021-10-30 11:14:56.599587] Processed 10100 urls.\n",
      "[2021-10-30 11:15:20.509081] Processed 10200 urls.\n",
      "[2021-10-30 11:15:52.180760] Processed 10300 urls.\n",
      "[2021-10-30 11:16:21.046187] Processed 10400 urls.\n",
      "[2021-10-30 11:16:47.528340] Processed 10500 urls.\n",
      "[2021-10-30 11:17:17.008898] Processed 10600 urls.\n",
      "[2021-10-30 11:17:39.414620] Processed 10700 urls.\n",
      "[2021-10-30 11:18:04.608158] Processed 10800 urls.\n",
      "[2021-10-30 11:18:37.107237] Processed 10900 urls.\n",
      "[2021-10-30 11:19:05.738005] Processed 11000 urls.\n",
      "[2021-10-30 11:19:30.751000] Processed 11100 urls.\n"
     ]
    }
   ],
   "source": [
    "def get_all_url_text(urls):\n",
    "    p_count = 0\n",
    "    \n",
    "    def get_url_text(url):\n",
    "        nonlocal p_count\n",
    "        h = url_cache.get(url)\n",
    "        try:\n",
    "            if h is not None:\n",
    "                h_doc = BeautifulSoup(h['content'])\n",
    "                return h_doc.text\n",
    "        except Exception as e:\n",
    "            print(f\"[WARN] Couldn't download {url} - {e}\")\n",
    "        finally:\n",
    "            p_count += 1\n",
    "            if (p_count % 100) == 0:\n",
    "                print(f\"[{dt.datetime.now()}] Processed {p_count} urls.\")\n",
    "    \n",
    "    return urls.apply(get_url_text)\n",
    "\n",
    "artists['ArtistDetailText'] = get_all_url_text(artists.ArtistLink)"
   ]
  },
  {
   "cell_type": "markdown",
   "id": "dfa2b7eb-b90b-4d15-b696-387816e487ad",
   "metadata": {},
   "source": [
    "## Save Artist Info"
   ]
  },
  {
   "cell_type": "code",
   "execution_count": 24,
   "id": "aa8a4368-21ff-4321-a1ec-4e646fb452ae",
   "metadata": {},
   "outputs": [
    {
     "data": {
      "text/html": [
       "<div>\n",
       "<style scoped>\n",
       "    .dataframe tbody tr th:only-of-type {\n",
       "        vertical-align: middle;\n",
       "    }\n",
       "\n",
       "    .dataframe tbody tr th {\n",
       "        vertical-align: top;\n",
       "    }\n",
       "\n",
       "    .dataframe thead th {\n",
       "        text-align: right;\n",
       "    }\n",
       "</style>\n",
       "<table border=\"1\" class=\"dataframe\">\n",
       "  <thead>\n",
       "    <tr style=\"text-align: right;\">\n",
       "      <th></th>\n",
       "      <th>Artist</th>\n",
       "      <th>ArtistLink</th>\n",
       "      <th>ArtistDetailText</th>\n",
       "    </tr>\n",
       "    <tr>\n",
       "      <th>id</th>\n",
       "      <th></th>\n",
       "      <th></th>\n",
       "      <th></th>\n",
       "    </tr>\n",
       "  </thead>\n",
       "  <tbody>\n",
       "    <tr>\n",
       "      <th>149</th>\n",
       "      <td>Dave</td>\n",
       "      <td>https://en.wikipedia.org/wiki/Dave_(rapper)</td>\n",
       "      <td>\\n\\n\\n\\nDave (rapper) - Wikipedia\\n\\n\\n\\n\\n\\n\\...</td>\n",
       "    </tr>\n",
       "    <tr>\n",
       "      <th>1593</th>\n",
       "      <td>Bowerbirds</td>\n",
       "      <td>https://en.wikipedia.org/wiki/Bowerbirds_(band)</td>\n",
       "      <td>\\n\\n\\n\\nBowerbirds (band) - Wikipedia\\n\\n\\n\\n\\...</td>\n",
       "    </tr>\n",
       "    <tr>\n",
       "      <th>2338</th>\n",
       "      <td>Tiësto</td>\n",
       "      <td>https://en.wikipedia.org/wiki/Ti%C3%ABsto</td>\n",
       "      <td>\\n\\n\\n\\nTiësto - Wikipedia\\n\\n\\n\\n\\n\\n\\n\\n\\n\\n...</td>\n",
       "    </tr>\n",
       "    <tr>\n",
       "      <th>4904</th>\n",
       "      <td>X Japan</td>\n",
       "      <td>https://en.wikipedia.org/wiki/X_Japan</td>\n",
       "      <td>\\n\\n\\n\\nX Japan - Wikipedia\\n\\n\\n\\n\\n\\n\\n\\n\\n\\...</td>\n",
       "    </tr>\n",
       "    <tr>\n",
       "      <th>27494</th>\n",
       "      <td>Bootsy Collins</td>\n",
       "      <td>https://en.wikipedia.org/wiki/Bootsy_Collins</td>\n",
       "      <td>\\n\\n\\n\\nBootsy Collins - Wikipedia\\n\\n\\n\\n\\n\\n...</td>\n",
       "    </tr>\n",
       "  </tbody>\n",
       "</table>\n",
       "</div>"
      ],
      "text/plain": [
       "               Artist                                       ArtistLink  \\\n",
       "id                                                                       \n",
       "149              Dave      https://en.wikipedia.org/wiki/Dave_(rapper)   \n",
       "1593       Bowerbirds  https://en.wikipedia.org/wiki/Bowerbirds_(band)   \n",
       "2338           Tiësto        https://en.wikipedia.org/wiki/Ti%C3%ABsto   \n",
       "4904          X Japan            https://en.wikipedia.org/wiki/X_Japan   \n",
       "27494  Bootsy Collins     https://en.wikipedia.org/wiki/Bootsy_Collins   \n",
       "\n",
       "                                        ArtistDetailText  \n",
       "id                                                        \n",
       "149    \\n\\n\\n\\nDave (rapper) - Wikipedia\\n\\n\\n\\n\\n\\n\\...  \n",
       "1593   \\n\\n\\n\\nBowerbirds (band) - Wikipedia\\n\\n\\n\\n\\...  \n",
       "2338   \\n\\n\\n\\nTiësto - Wikipedia\\n\\n\\n\\n\\n\\n\\n\\n\\n\\n...  \n",
       "4904   \\n\\n\\n\\nX Japan - Wikipedia\\n\\n\\n\\n\\n\\n\\n\\n\\n\\...  \n",
       "27494  \\n\\n\\n\\nBootsy Collins - Wikipedia\\n\\n\\n\\n\\n\\n...  "
      ]
     },
     "execution_count": 24,
     "metadata": {},
     "output_type": "execute_result"
    }
   ],
   "source": [
    "artists.sample(5)"
   ]
  },
  {
   "cell_type": "code",
   "execution_count": 35,
   "id": "421ba212-45e7-4fd5-a7fa-c4b5a293db15",
   "metadata": {},
   "outputs": [],
   "source": [
    "artists.to_sql('artist', db, if_exists = 'replace', index=False)"
   ]
  },
  {
   "cell_type": "code",
   "execution_count": 36,
   "id": "11d0b1df-5025-4397-a9ff-2470bcb6d728",
   "metadata": {},
   "outputs": [],
   "source": [
    "cur = db.cursor()\n",
    "cur.execute(\"create unique index i_artist_artist on artist (Artist)\")\n",
    "db.commit()\n",
    "cur.close()            "
   ]
  },
  {
   "cell_type": "code",
   "execution_count": null,
   "id": "88229419-a5fc-4d6c-829c-7f40aaa787e7",
   "metadata": {},
   "outputs": [],
   "source": []
  }
 ],
 "metadata": {
  "kernelspec": {
   "display_name": "Python 3 (ipykernel)",
   "language": "python",
   "name": "python3"
  },
  "language_info": {
   "codemirror_mode": {
    "name": "ipython",
    "version": 3
   },
   "file_extension": ".py",
   "mimetype": "text/x-python",
   "name": "python",
   "nbconvert_exporter": "python",
   "pygments_lexer": "ipython3",
   "version": "3.7.6"
  }
 },
 "nbformat": 4,
 "nbformat_minor": 5
}
