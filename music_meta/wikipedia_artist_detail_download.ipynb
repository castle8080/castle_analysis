{
 "cells": [
  {
   "cell_type": "markdown",
   "id": "ced6fc69-eda3-42d2-b346-ec2c1800249e",
   "metadata": {},
   "source": [
    "# Wikipedia Artist Detail Download"
   ]
  },
  {
   "cell_type": "code",
   "execution_count": 2,
   "id": "d6908df3-5ab5-49d1-96fe-6cd9100f1d44",
   "metadata": {},
   "outputs": [],
   "source": [
    "%run ./wikipedia_setup.ipynb"
   ]
  },
  {
   "cell_type": "markdown",
   "id": "db4cd964-9d24-4bfa-b1f8-0afaf1c4e5e7",
   "metadata": {},
   "source": [
    "## Configure DB and Load Album Extract"
   ]
  },
  {
   "cell_type": "code",
   "execution_count": 3,
   "id": "613e159f-d4a2-4615-9467-3e0dc406888f",
   "metadata": {},
   "outputs": [],
   "source": [
    "db = sqlite3.Connection(\"var/data/music.db\")"
   ]
  },
  {
   "cell_type": "code",
   "execution_count": 4,
   "id": "30444544-012f-49a0-8ee5-3075c1fbc278",
   "metadata": {},
   "outputs": [],
   "source": [
    "url_cache = URLContentCacheSqlite(db)\n",
    "\n",
    "wayl_db = WikipediaAlbumYearListsDB(db)\n",
    "albums = wayl_db.get_all()"
   ]
  },
  {
   "cell_type": "markdown",
   "id": "3afb44ba-ddd2-46d5-98fa-09e76dd4cfd5",
   "metadata": {},
   "source": [
    "### Get Artist Links"
   ]
  },
  {
   "cell_type": "code",
   "execution_count": 5,
   "id": "464f5425-f2de-40a6-bd72-9bd662475a35",
   "metadata": {},
   "outputs": [],
   "source": [
    "def get_artist_link(links):\n",
    "    if links is not None and 'Artist' in links:\n",
    "        return links['Artist'][0]['href']\n",
    "    \n",
    "albums['ArtistLink'] = albums.Links.apply(get_artist_link)"
   ]
  },
  {
   "cell_type": "code",
   "execution_count": 6,
   "id": "df4349b8-20e3-4838-88b0-2c6d8b84d7ac",
   "metadata": {},
   "outputs": [],
   "source": [
    "artists = albums[albums.ArtistLink.notnull()].drop_duplicates('Artist')[['Artist', 'ArtistLink']].copy().sort_values(by='Artist')"
   ]
  },
  {
   "cell_type": "code",
   "execution_count": 7,
   "id": "45acdc24-985b-405c-9d4d-6ae6862ca06b",
   "metadata": {},
   "outputs": [
    {
     "name": "stdout",
     "output_type": "stream",
     "text": [
      "Previously downloaded: 11134\n",
      "[11135] Getting: Ashtrayhead\n",
      "[11136] Getting: Pulkas\n",
      "[11137] Getting: Sisters Of Glory\n",
      "[11138] Getting: The black Crowes\n",
      "[11139] Getting: Wildside\n",
      "[11140] Getting: Wizardthrone\n"
     ]
    }
   ],
   "source": [
    "# See what was downloaded already\n",
    "downloaded_urls = pd.read_sql(f\"\"\"\n",
    "    select url\n",
    "    from url_cache\n",
    "\"\"\", db)\n",
    "\n",
    "downloaded_urls = set(downloaded_urls.url)\n",
    "\n",
    "artists['PrevDownloaded'] = artists.ArtistLink.isin(downloaded_urls)\n",
    "print(f\"Previously downloaded: {artists['PrevDownloaded'].sum()}\")\n",
    "\n",
    "d_count = artists['PrevDownloaded'].sum()\n",
    "\n",
    "for _, artist_row in artists[~artists.PrevDownloaded].iterrows():\n",
    "    print(f\"[{d_count + 1}] Getting: {artist_row.Artist}\")\n",
    "    url_cache.get(artist_row.ArtistLink)\n",
    "    d_count += 1\n",
    "    if (d_count % 25) == 0:\n",
    "        clear_output()"
   ]
  },
  {
   "cell_type": "markdown",
   "id": "72b8c339-6b68-46ab-9739-db89f2b39204",
   "metadata": {},
   "source": [
    "## Get A Single Link Per Artist"
   ]
  },
  {
   "cell_type": "code",
   "execution_count": 8,
   "id": "5d5af264-260e-412b-bf6c-ac981d841249",
   "metadata": {},
   "outputs": [],
   "source": [
    "downloaded_urls = set(pd.read_sql(f\"\"\"\n",
    "    select url\n",
    "    from url_cache\n",
    "\"\"\", db).url)\n",
    "\n",
    "artists = artists[artists.ArtistLink.isin(downloaded_urls)].drop(columns='PrevDownloaded')"
   ]
  },
  {
   "cell_type": "code",
   "execution_count": 9,
   "id": "6260c05c-d1f1-4161-acbd-602dd4efd914",
   "metadata": {},
   "outputs": [],
   "source": [
    "artists = artists.sort_values(by=['Artist', 'ArtistLink']).drop_duplicates('Artist')"
   ]
  },
  {
   "cell_type": "markdown",
   "id": "b42e6714-0cef-4f45-8786-9e1c86642830",
   "metadata": {},
   "source": [
    "## Process Artist HTML and Extract Text"
   ]
  },
  {
   "cell_type": "code",
   "execution_count": 10,
   "id": "ab73e0c8-dcfd-45a5-bd50-27ca3de14150",
   "metadata": {},
   "outputs": [
    {
     "name": "stdout",
     "output_type": "stream",
     "text": [
      "[2021-10-30 11:51:04.564708] Processed 100 urls.\n",
      "[2021-10-30 11:51:31.855810] Processed 200 urls.\n",
      "[2021-10-30 11:51:57.647254] Processed 300 urls.\n",
      "[2021-10-30 11:52:24.654919] Processed 400 urls.\n",
      "[2021-10-30 11:52:49.295930] Processed 500 urls.\n",
      "[2021-10-30 11:53:15.567072] Processed 600 urls.\n",
      "[2021-10-30 11:53:42.645021] Processed 700 urls.\n",
      "[2021-10-30 11:54:12.755713] Processed 800 urls.\n",
      "[2021-10-30 11:54:40.445847] Processed 900 urls.\n",
      "[2021-10-30 11:55:06.473634] Processed 1000 urls.\n",
      "[2021-10-30 11:55:39.633697] Processed 1100 urls.\n",
      "[2021-10-30 11:56:07.211471] Processed 1200 urls.\n",
      "[2021-10-30 11:56:37.846147] Processed 1300 urls.\n",
      "[2021-10-30 12:20:35.472537] Processed 1400 urls.\n",
      "[2021-10-30 12:21:09.554079] Processed 1500 urls.\n",
      "[2021-10-30 12:21:40.375221] Processed 1600 urls.\n",
      "[2021-10-30 12:22:03.916732] Processed 1700 urls.\n",
      "[2021-10-30 12:22:32.081748] Processed 1800 urls.\n",
      "[2021-10-30 12:23:02.112976] Processed 1900 urls.\n",
      "[2021-10-30 12:23:31.651148] Processed 2000 urls.\n",
      "[2021-10-30 12:23:57.181656] Processed 2100 urls.\n",
      "[2021-10-30 12:24:23.153882] Processed 2200 urls.\n",
      "[2021-10-30 12:24:48.934133] Processed 2300 urls.\n",
      "[2021-10-30 12:25:14.686866] Processed 2400 urls.\n",
      "[2021-10-30 12:25:44.383577] Processed 2500 urls.\n",
      "[2021-10-30 12:42:11.440423] Processed 2600 urls.\n",
      "[2021-10-30 12:42:37.893039] Processed 2700 urls.\n",
      "[2021-10-30 12:43:05.685208] Processed 2800 urls.\n",
      "[2021-10-30 12:43:33.124575] Processed 2900 urls.\n",
      "[2021-10-30 12:43:55.893161] Processed 3000 urls.\n",
      "[2021-10-30 12:44:28.408292] Processed 3100 urls.\n",
      "[2021-10-30 12:44:55.048389] Processed 3200 urls.\n",
      "[2021-10-30 12:45:20.997447] Processed 3300 urls.\n",
      "[2021-10-30 12:45:43.909341] Processed 3400 urls.\n",
      "[2021-10-30 12:46:20.562567] Processed 3500 urls.\n",
      "[2021-10-30 12:46:43.695609] Processed 3600 urls.\n",
      "[2021-10-30 12:47:14.406209] Processed 3700 urls.\n",
      "[2021-10-30 12:50:26.390554] Processed 3800 urls.\n",
      "[2021-10-30 12:50:51.097678] Processed 3900 urls.\n",
      "[2021-10-30 12:51:21.471473] Processed 4000 urls.\n",
      "[2021-10-30 12:51:50.075030] Processed 4100 urls.\n",
      "[2021-10-30 12:52:14.592710] Processed 4200 urls.\n",
      "[2021-10-30 12:52:31.993976] Processed 4300 urls.\n",
      "[2021-10-30 12:52:43.554320] Processed 4400 urls.\n",
      "[2021-10-30 12:52:54.664426] Processed 4500 urls.\n",
      "[2021-10-30 12:53:06.467096] Processed 4600 urls.\n",
      "[2021-10-30 12:53:20.590381] Processed 4700 urls.\n",
      "[2021-10-30 12:53:33.167509] Processed 4800 urls.\n",
      "[2021-10-30 12:53:48.604900] Processed 4900 urls.\n",
      "[2021-10-30 12:53:59.728361] Processed 5000 urls.\n",
      "[2021-10-30 12:54:09.619793] Processed 5100 urls.\n",
      "[2021-10-30 12:54:19.661872] Processed 5200 urls.\n",
      "[2021-10-30 12:54:28.756553] Processed 5300 urls.\n",
      "[2021-10-30 12:54:37.512819] Processed 5400 urls.\n",
      "[2021-10-30 12:54:48.887027] Processed 5500 urls.\n",
      "[2021-10-30 12:54:57.658498] Processed 5600 urls.\n",
      "[2021-10-30 12:55:06.144298] Processed 5700 urls.\n",
      "[2021-10-30 12:55:16.070709] Processed 5800 urls.\n",
      "[2021-10-30 12:55:23.399391] Processed 5900 urls.\n",
      "[2021-10-30 12:55:30.895282] Processed 6000 urls.\n",
      "[2021-10-30 12:55:38.452136] Processed 6100 urls.\n",
      "[2021-10-30 12:55:47.163014] Processed 6200 urls.\n",
      "[2021-10-30 12:55:54.013865] Processed 6300 urls.\n",
      "[2021-10-30 12:56:03.068925] Processed 6400 urls.\n",
      "[2021-10-30 12:56:11.940913] Processed 6500 urls.\n",
      "[2021-10-30 12:56:19.447132] Processed 6600 urls.\n",
      "[2021-10-30 12:56:26.787845] Processed 6700 urls.\n",
      "[2021-10-30 12:56:35.515665] Processed 6800 urls.\n",
      "[2021-10-30 12:56:45.874955] Processed 6900 urls.\n",
      "[2021-10-30 12:56:53.843842] Processed 7000 urls.\n",
      "[2021-10-30 12:57:01.753837] Processed 7100 urls.\n",
      "[2021-10-30 12:57:10.769220] Processed 7200 urls.\n",
      "[2021-10-30 12:57:21.130924] Processed 7300 urls.\n",
      "[2021-10-30 12:57:31.758988] Processed 7400 urls.\n",
      "[2021-10-30 12:57:39.589954] Processed 7500 urls.\n",
      "[2021-10-30 12:57:48.152483] Processed 7600 urls.\n",
      "[2021-10-30 12:57:56.570371] Processed 7700 urls.\n",
      "[2021-10-30 12:58:05.043717] Processed 7800 urls.\n",
      "[2021-10-30 12:58:14.530279] Processed 7900 urls.\n",
      "[2021-10-30 12:58:23.285721] Processed 8000 urls.\n",
      "[2021-10-30 12:58:31.422204] Processed 8100 urls.\n",
      "[2021-10-30 12:58:39.259597] Processed 8200 urls.\n",
      "[2021-10-30 12:58:46.108825] Processed 8300 urls.\n",
      "[2021-10-30 12:58:55.154030] Processed 8400 urls.\n",
      "[2021-10-30 12:59:02.500795] Processed 8500 urls.\n",
      "[2021-10-30 12:59:09.762516] Processed 8600 urls.\n",
      "[2021-10-30 12:59:16.854460] Processed 8700 urls.\n",
      "[2021-10-30 12:59:23.238888] Processed 8800 urls.\n",
      "[2021-10-30 12:59:31.277688] Processed 8900 urls.\n",
      "[2021-10-30 12:59:38.197763] Processed 9000 urls.\n",
      "[2021-10-30 12:59:46.349517] Processed 9100 urls.\n",
      "[2021-10-30 12:59:53.044386] Processed 9200 urls.\n",
      "[2021-10-30 13:00:00.530848] Processed 9300 urls.\n",
      "[2021-10-30 13:00:06.636662] Processed 9400 urls.\n",
      "[2021-10-30 13:00:13.309781] Processed 9500 urls.\n",
      "[2021-10-30 13:00:18.898032] Processed 9600 urls.\n",
      "[2021-10-30 13:00:26.267834] Processed 9700 urls.\n",
      "[2021-10-30 13:00:32.296042] Processed 9800 urls.\n",
      "[2021-10-30 13:00:38.827577] Processed 9900 urls.\n",
      "[2021-10-30 13:00:45.604672] Processed 10000 urls.\n",
      "[2021-10-30 13:00:52.951679] Processed 10100 urls.\n",
      "[2021-10-30 13:00:59.550330] Processed 10200 urls.\n",
      "[2021-10-30 13:01:08.538149] Processed 10300 urls.\n",
      "[2021-10-30 13:01:16.538991] Processed 10400 urls.\n",
      "[2021-10-30 13:01:24.108724] Processed 10500 urls.\n",
      "[2021-10-30 13:01:32.447164] Processed 10600 urls.\n",
      "[2021-10-30 13:01:38.693804] Processed 10700 urls.\n",
      "[2021-10-30 13:01:45.934405] Processed 10800 urls.\n",
      "[2021-10-30 13:01:55.029808] Processed 10900 urls.\n",
      "[2021-10-30 13:02:03.264642] Processed 11000 urls.\n",
      "[2021-10-30 13:02:10.092679] Processed 11100 urls.\n"
     ]
    }
   ],
   "source": [
    "def get_all_url_text(urls):\n",
    "    p_count = 0\n",
    "    \n",
    "    def get_url_text(url):\n",
    "        nonlocal p_count\n",
    "        h = url_cache.get(url)\n",
    "        try:\n",
    "            if h is not None:\n",
    "                h_doc = BeautifulSoup(h['content'])\n",
    "                # It is important to use getText with a separator.\n",
    "                return h_doc.getText(' ')\n",
    "        except Exception as e:\n",
    "            print(f\"[WARN] Couldn't download {url} - {e}\")\n",
    "        finally:\n",
    "            p_count += 1\n",
    "            if (p_count % 100) == 0:\n",
    "                print(f\"[{dt.datetime.now()}] Processed {p_count} urls.\")\n",
    "    \n",
    "    return urls.apply(get_url_text)\n",
    "\n",
    "artists['ArtistDetailText'] = get_all_url_text(artists.ArtistLink)"
   ]
  },
  {
   "cell_type": "markdown",
   "id": "dfa2b7eb-b90b-4d15-b696-387816e487ad",
   "metadata": {},
   "source": [
    "## Save Artist Info"
   ]
  },
  {
   "cell_type": "code",
   "execution_count": 11,
   "id": "aa8a4368-21ff-4321-a1ec-4e646fb452ae",
   "metadata": {},
   "outputs": [
    {
     "data": {
      "text/html": [
       "<div>\n",
       "<style scoped>\n",
       "    .dataframe tbody tr th:only-of-type {\n",
       "        vertical-align: middle;\n",
       "    }\n",
       "\n",
       "    .dataframe tbody tr th {\n",
       "        vertical-align: top;\n",
       "    }\n",
       "\n",
       "    .dataframe thead th {\n",
       "        text-align: right;\n",
       "    }\n",
       "</style>\n",
       "<table border=\"1\" class=\"dataframe\">\n",
       "  <thead>\n",
       "    <tr style=\"text-align: right;\">\n",
       "      <th></th>\n",
       "      <th>Artist</th>\n",
       "      <th>ArtistLink</th>\n",
       "      <th>ArtistDetailText</th>\n",
       "    </tr>\n",
       "    <tr>\n",
       "      <th>id</th>\n",
       "      <th></th>\n",
       "      <th></th>\n",
       "      <th></th>\n",
       "    </tr>\n",
       "  </thead>\n",
       "  <tbody>\n",
       "    <tr>\n",
       "      <th>9873</th>\n",
       "      <td>Y&amp;T</td>\n",
       "      <td>https://en.wikipedia.org/wiki/Y%26T</td>\n",
       "      <td>\\n \\n \\n \\n Y&amp;T - Wikipedia \\n \\n \\n \\n \\n \\n ...</td>\n",
       "    </tr>\n",
       "    <tr>\n",
       "      <th>2693</th>\n",
       "      <td>A.C.E</td>\n",
       "      <td>https://en.wikipedia.org/wiki/A.C.E_(South_Kor...</td>\n",
       "      <td>\\n \\n \\n \\n A.C.E (South Korean band) - Wikipe...</td>\n",
       "    </tr>\n",
       "    <tr>\n",
       "      <th>12954</th>\n",
       "      <td>The Pipettes</td>\n",
       "      <td>https://en.wikipedia.org/wiki/The_Pipettes</td>\n",
       "      <td>\\n \\n \\n \\n The Pipettes - Wikipedia \\n \\n \\n ...</td>\n",
       "    </tr>\n",
       "    <tr>\n",
       "      <th>20430</th>\n",
       "      <td>The Stereo Bus</td>\n",
       "      <td>https://en.wikipedia.org/wiki/The_Stereo_Bus</td>\n",
       "      <td>\\n \\n \\n \\n The Stereo Bus - Wikipedia \\n \\n \\...</td>\n",
       "    </tr>\n",
       "    <tr>\n",
       "      <th>15031</th>\n",
       "      <td>Darius</td>\n",
       "      <td>https://en.wikipedia.org/wiki/Darius_Danesh</td>\n",
       "      <td>\\n \\n \\n \\n Darius Campbell - Wikipedia \\n \\n ...</td>\n",
       "    </tr>\n",
       "  </tbody>\n",
       "</table>\n",
       "</div>"
      ],
      "text/plain": [
       "               Artist                                         ArtistLink  \\\n",
       "id                                                                         \n",
       "9873              Y&T                https://en.wikipedia.org/wiki/Y%26T   \n",
       "2693            A.C.E  https://en.wikipedia.org/wiki/A.C.E_(South_Kor...   \n",
       "12954    The Pipettes         https://en.wikipedia.org/wiki/The_Pipettes   \n",
       "20430  The Stereo Bus       https://en.wikipedia.org/wiki/The_Stereo_Bus   \n",
       "15031          Darius        https://en.wikipedia.org/wiki/Darius_Danesh   \n",
       "\n",
       "                                        ArtistDetailText  \n",
       "id                                                        \n",
       "9873   \\n \\n \\n \\n Y&T - Wikipedia \\n \\n \\n \\n \\n \\n ...  \n",
       "2693   \\n \\n \\n \\n A.C.E (South Korean band) - Wikipe...  \n",
       "12954  \\n \\n \\n \\n The Pipettes - Wikipedia \\n \\n \\n ...  \n",
       "20430  \\n \\n \\n \\n The Stereo Bus - Wikipedia \\n \\n \\...  \n",
       "15031  \\n \\n \\n \\n Darius Campbell - Wikipedia \\n \\n ...  "
      ]
     },
     "execution_count": 11,
     "metadata": {},
     "output_type": "execute_result"
    }
   ],
   "source": [
    "artists.sample(5)"
   ]
  },
  {
   "cell_type": "code",
   "execution_count": 12,
   "id": "421ba212-45e7-4fd5-a7fa-c4b5a293db15",
   "metadata": {},
   "outputs": [],
   "source": [
    "artists.to_sql('artist', db, if_exists = 'replace', index=False)"
   ]
  },
  {
   "cell_type": "code",
   "execution_count": 13,
   "id": "11d0b1df-5025-4397-a9ff-2470bcb6d728",
   "metadata": {},
   "outputs": [],
   "source": [
    "cur = db.cursor()\n",
    "cur.execute(\"create unique index i_artist_artist on artist (Artist)\")\n",
    "db.commit()\n",
    "cur.close()            "
   ]
  },
  {
   "cell_type": "code",
   "execution_count": null,
   "id": "88229419-a5fc-4d6c-829c-7f40aaa787e7",
   "metadata": {},
   "outputs": [],
   "source": []
  }
 ],
 "metadata": {
  "kernelspec": {
   "display_name": "Python 3 (ipykernel)",
   "language": "python",
   "name": "python3"
  },
  "language_info": {
   "codemirror_mode": {
    "name": "ipython",
    "version": 3
   },
   "file_extension": ".py",
   "mimetype": "text/x-python",
   "name": "python",
   "nbconvert_exporter": "python",
   "pygments_lexer": "ipython3",
   "version": "3.7.6"
  }
 },
 "nbformat": 4,
 "nbformat_minor": 5
}
