{
 "cells": [
  {
   "cell_type": "markdown",
   "id": "ced6fc69-eda3-42d2-b346-ec2c1800249e",
   "metadata": {},
   "source": [
    "# Wikipedia Artist Detail Download"
   ]
  },
  {
   "cell_type": "code",
   "execution_count": 2,
   "id": "d6908df3-5ab5-49d1-96fe-6cd9100f1d44",
   "metadata": {},
   "outputs": [],
   "source": [
    "%run ./wikipedia_setup.ipynb"
   ]
  },
  {
   "cell_type": "markdown",
   "id": "db4cd964-9d24-4bfa-b1f8-0afaf1c4e5e7",
   "metadata": {},
   "source": [
    "## Configure DB and Load Album Extract"
   ]
  },
  {
   "cell_type": "code",
   "execution_count": 3,
   "id": "613e159f-d4a2-4615-9467-3e0dc406888f",
   "metadata": {},
   "outputs": [],
   "source": [
    "db = sqlite3.Connection(\"var/data/music.db\")"
   ]
  },
  {
   "cell_type": "code",
   "execution_count": 4,
   "id": "30444544-012f-49a0-8ee5-3075c1fbc278",
   "metadata": {},
   "outputs": [],
   "source": [
    "url_cache = URLContentCacheSqlite(db)\n",
    "\n",
    "wayl_db = WikipediaAlbumYearListsDB(db)\n",
    "albums = wayl_db.get_all()"
   ]
  },
  {
   "cell_type": "markdown",
   "id": "3afb44ba-ddd2-46d5-98fa-09e76dd4cfd5",
   "metadata": {},
   "source": [
    "### Get Artist Links"
   ]
  },
  {
   "cell_type": "code",
   "execution_count": 5,
   "id": "464f5425-f2de-40a6-bd72-9bd662475a35",
   "metadata": {},
   "outputs": [],
   "source": [
    "def get_artist_link(links):\n",
    "    if links is not None and 'Artist' in links:\n",
    "        return links['Artist'][0]['href']\n",
    "    \n",
    "albums['ArtistLink'] = albums.Links.apply(get_artist_link)"
   ]
  },
  {
   "cell_type": "code",
   "execution_count": 6,
   "id": "df4349b8-20e3-4838-88b0-2c6d8b84d7ac",
   "metadata": {},
   "outputs": [],
   "source": [
    "artists = albums[albums.ArtistLink.notnull()].drop_duplicates('Artist')[['Artist', 'ArtistLink']].copy().sort_values(by='Artist')"
   ]
  },
  {
   "cell_type": "code",
   "execution_count": 7,
   "id": "45acdc24-985b-405c-9d4d-6ae6862ca06b",
   "metadata": {},
   "outputs": [
    {
     "name": "stdout",
     "output_type": "stream",
     "text": [
      "Previously downloaded: 11134\n",
      "[11135] Getting: Ashtrayhead\n",
      "[11136] Getting: Pulkas\n",
      "[11137] Getting: Sisters Of Glory\n",
      "[11138] Getting: The black Crowes\n",
      "[11139] Getting: Wildside\n",
      "[11140] Getting: Wizardthrone\n"
     ]
    }
   ],
   "source": [
    "# See what was downloaded already\n",
    "downloaded_urls = pd.read_sql(f\"\"\"\n",
    "    select url\n",
    "    from url_cache\n",
    "\"\"\", db)\n",
    "\n",
    "downloaded_urls = set(downloaded_urls.url)\n",
    "\n",
    "artists['PrevDownloaded'] = artists.ArtistLink.isin(downloaded_urls)\n",
    "print(f\"Previously downloaded: {artists['PrevDownloaded'].sum()}\")\n",
    "\n",
    "d_count = artists['PrevDownloaded'].sum()\n",
    "\n",
    "for _, artist_row in artists[~artists.PrevDownloaded].iterrows():\n",
    "    print(f\"[{d_count + 1}] Getting: {artist_row.Artist}\")\n",
    "    url_cache.get(artist_row.ArtistLink)\n",
    "    d_count += 1\n",
    "    if (d_count % 25) == 0:\n",
    "        clear_output()"
   ]
  },
  {
   "cell_type": "markdown",
   "id": "72b8c339-6b68-46ab-9739-db89f2b39204",
   "metadata": {},
   "source": [
    "## Get A Single Link Per Artist"
   ]
  },
  {
   "cell_type": "code",
   "execution_count": 8,
   "id": "5d5af264-260e-412b-bf6c-ac981d841249",
   "metadata": {},
   "outputs": [],
   "source": [
    "downloaded_urls = set(pd.read_sql(f\"\"\"\n",
    "    select url\n",
    "    from url_cache\n",
    "\"\"\", db).url)\n",
    "\n",
    "artists = artists[artists.ArtistLink.isin(downloaded_urls)].drop(columns='PrevDownloaded')"
   ]
  },
  {
   "cell_type": "code",
   "execution_count": 9,
   "id": "6260c05c-d1f1-4161-acbd-602dd4efd914",
   "metadata": {},
   "outputs": [],
   "source": [
    "artists = artists.sort_values(by=['Artist', 'ArtistLink']).drop_duplicates('Artist')"
   ]
  },
  {
   "cell_type": "markdown",
   "id": "b42e6714-0cef-4f45-8786-9e1c86642830",
   "metadata": {},
   "source": [
    "## Process Artist HTML and Extract Text"
   ]
  },
  {
   "cell_type": "code",
   "execution_count": null,
   "id": "21145b35-b667-4534-a2c3-cdb958b0e0c3",
   "metadata": {},
   "outputs": [],
   "source": [
    "artists['ArtistDetailText'] = list(url_cache.get_all_url_text(artists.ArtistLink))"
   ]
  },
  {
   "cell_type": "markdown",
   "id": "dfa2b7eb-b90b-4d15-b696-387816e487ad",
   "metadata": {},
   "source": [
    "## Save Artist Info"
   ]
  },
  {
   "cell_type": "code",
   "execution_count": 11,
   "id": "aa8a4368-21ff-4321-a1ec-4e646fb452ae",
   "metadata": {},
   "outputs": [
    {
     "data": {
      "text/html": [
       "<div>\n",
       "<style scoped>\n",
       "    .dataframe tbody tr th:only-of-type {\n",
       "        vertical-align: middle;\n",
       "    }\n",
       "\n",
       "    .dataframe tbody tr th {\n",
       "        vertical-align: top;\n",
       "    }\n",
       "\n",
       "    .dataframe thead th {\n",
       "        text-align: right;\n",
       "    }\n",
       "</style>\n",
       "<table border=\"1\" class=\"dataframe\">\n",
       "  <thead>\n",
       "    <tr style=\"text-align: right;\">\n",
       "      <th></th>\n",
       "      <th>Artist</th>\n",
       "      <th>ArtistLink</th>\n",
       "      <th>ArtistDetailText</th>\n",
       "    </tr>\n",
       "    <tr>\n",
       "      <th>id</th>\n",
       "      <th></th>\n",
       "      <th></th>\n",
       "      <th></th>\n",
       "    </tr>\n",
       "  </thead>\n",
       "  <tbody>\n",
       "    <tr>\n",
       "      <th>9873</th>\n",
       "      <td>Y&amp;T</td>\n",
       "      <td>https://en.wikipedia.org/wiki/Y%26T</td>\n",
       "      <td>\\n \\n \\n \\n Y&amp;T - Wikipedia \\n \\n \\n \\n \\n \\n ...</td>\n",
       "    </tr>\n",
       "    <tr>\n",
       "      <th>2693</th>\n",
       "      <td>A.C.E</td>\n",
       "      <td>https://en.wikipedia.org/wiki/A.C.E_(South_Kor...</td>\n",
       "      <td>\\n \\n \\n \\n A.C.E (South Korean band) - Wikipe...</td>\n",
       "    </tr>\n",
       "    <tr>\n",
       "      <th>12954</th>\n",
       "      <td>The Pipettes</td>\n",
       "      <td>https://en.wikipedia.org/wiki/The_Pipettes</td>\n",
       "      <td>\\n \\n \\n \\n The Pipettes - Wikipedia \\n \\n \\n ...</td>\n",
       "    </tr>\n",
       "    <tr>\n",
       "      <th>20430</th>\n",
       "      <td>The Stereo Bus</td>\n",
       "      <td>https://en.wikipedia.org/wiki/The_Stereo_Bus</td>\n",
       "      <td>\\n \\n \\n \\n The Stereo Bus - Wikipedia \\n \\n \\...</td>\n",
       "    </tr>\n",
       "    <tr>\n",
       "      <th>15031</th>\n",
       "      <td>Darius</td>\n",
       "      <td>https://en.wikipedia.org/wiki/Darius_Danesh</td>\n",
       "      <td>\\n \\n \\n \\n Darius Campbell - Wikipedia \\n \\n ...</td>\n",
       "    </tr>\n",
       "  </tbody>\n",
       "</table>\n",
       "</div>"
      ],
      "text/plain": [
       "               Artist                                         ArtistLink  \\\n",
       "id                                                                         \n",
       "9873              Y&T                https://en.wikipedia.org/wiki/Y%26T   \n",
       "2693            A.C.E  https://en.wikipedia.org/wiki/A.C.E_(South_Kor...   \n",
       "12954    The Pipettes         https://en.wikipedia.org/wiki/The_Pipettes   \n",
       "20430  The Stereo Bus       https://en.wikipedia.org/wiki/The_Stereo_Bus   \n",
       "15031          Darius        https://en.wikipedia.org/wiki/Darius_Danesh   \n",
       "\n",
       "                                        ArtistDetailText  \n",
       "id                                                        \n",
       "9873   \\n \\n \\n \\n Y&T - Wikipedia \\n \\n \\n \\n \\n \\n ...  \n",
       "2693   \\n \\n \\n \\n A.C.E (South Korean band) - Wikipe...  \n",
       "12954  \\n \\n \\n \\n The Pipettes - Wikipedia \\n \\n \\n ...  \n",
       "20430  \\n \\n \\n \\n The Stereo Bus - Wikipedia \\n \\n \\...  \n",
       "15031  \\n \\n \\n \\n Darius Campbell - Wikipedia \\n \\n ...  "
      ]
     },
     "execution_count": 11,
     "metadata": {},
     "output_type": "execute_result"
    }
   ],
   "source": [
    "artists.sample(5)"
   ]
  },
  {
   "cell_type": "code",
   "execution_count": 12,
   "id": "421ba212-45e7-4fd5-a7fa-c4b5a293db15",
   "metadata": {},
   "outputs": [],
   "source": [
    "artists.to_sql('artist', db, if_exists = 'replace', index=False)"
   ]
  },
  {
   "cell_type": "code",
   "execution_count": 13,
   "id": "11d0b1df-5025-4397-a9ff-2470bcb6d728",
   "metadata": {},
   "outputs": [],
   "source": [
    "cur = db.cursor()\n",
    "cur.execute(\"create unique index i_artist_artist on artist (Artist)\")\n",
    "db.commit()\n",
    "cur.close()            "
   ]
  },
  {
   "cell_type": "code",
   "execution_count": null,
   "id": "88229419-a5fc-4d6c-829c-7f40aaa787e7",
   "metadata": {},
   "outputs": [],
   "source": []
  }
 ],
 "metadata": {
  "kernelspec": {
   "display_name": "Python 3 (ipykernel)",
   "language": "python",
   "name": "python3"
  },
  "language_info": {
   "codemirror_mode": {
    "name": "ipython",
    "version": 3
   },
   "file_extension": ".py",
   "mimetype": "text/x-python",
   "name": "python",
   "nbconvert_exporter": "python",
   "pygments_lexer": "ipython3",
   "version": "3.7.6"
  }
 },
 "nbformat": 4,
 "nbformat_minor": 5
}
