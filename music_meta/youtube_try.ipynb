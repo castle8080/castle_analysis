{
 "cells": [
  {
   "cell_type": "markdown",
   "id": "aaf98d9b-4ef3-47b7-be20-91b1318c1c6b",
   "metadata": {},
   "source": [
    "# Trying Out Youtube APIs\n",
    "\n",
    "Testing out getting youtube info.\n",
    "\n",
    "* API Reference - https://developers.google.com/youtube/v3/docs\n",
    "* Setup Auth - https://developers.google.com/youtube/registering_an_application\n",
    "\n",
    "This page is being used to develop the methods and class for now."
   ]
  },
  {
   "cell_type": "code",
   "execution_count": 1,
   "id": "967ad505-4ad3-4fc7-8aa9-e8699ab1f784",
   "metadata": {},
   "outputs": [],
   "source": [
    "%run bootstrap.ipynb"
   ]
  },
  {
   "cell_type": "code",
   "execution_count": 2,
   "id": "b5571bb9-a4ea-4cff-bf68-edebab38e4ab",
   "metadata": {},
   "outputs": [],
   "source": [
    "import json\n",
    "from IPython.display import display, JSON, HTML\n",
    "from castle.music_meta.youtube import YouTubeClient"
   ]
  },
  {
   "cell_type": "markdown",
   "id": "8e7489ed-631c-46fd-bdab-05dd46373e07",
   "metadata": {},
   "source": [
    "## Create Youtube Client\n",
    "\n",
    "An API key and base url are configured in a JSON file.\n",
    "This file is not checked into source control.\n"
   ]
  },
  {
   "cell_type": "code",
   "execution_count": 3,
   "id": "c97071af-6bde-4337-a011-cfb8d139638f",
   "metadata": {},
   "outputs": [
    {
     "data": {
      "text/plain": [
       "<castle.music_meta.youtube.YouTubeClient at 0x20f8b037e08>"
      ]
     },
     "execution_count": 3,
     "metadata": {},
     "output_type": "execute_result"
    }
   ],
   "source": [
    "yt_client = YouTubeClient(\n",
    "    CONFIG[\"youtube\"][\"base-url\"],\n",
    "    CONFIG[\"youtube\"][\"api-key\"]\n",
    ")\n",
    "\n",
    "yt_client"
   ]
  },
  {
   "cell_type": "markdown",
   "id": "fc05f9f3-fb13-4abe-8b1b-5f4e99c30543",
   "metadata": {},
   "source": [
    "### Find videos from Anthony Fantano"
   ]
  },
  {
   "cell_type": "code",
   "execution_count": 5,
   "id": "258d9659-be4c-4bfa-811e-ad8468a44b5a",
   "metadata": {},
   "outputs": [
    {
     "data": {
      "text/plain": [
       "'UUt7fwAhXDy3oNFTAzF2o8Pw'"
      ]
     },
     "execution_count": 5,
     "metadata": {},
     "output_type": "execute_result"
    }
   ],
   "source": [
    "playlist_id = yt_client.get_upload_playlist_id('theneedledrop')\n",
    "playlist_id"
   ]
  },
  {
   "cell_type": "code",
   "execution_count": 6,
   "id": "f8f19100-9b62-4d53-a341-70b9c72faac8",
   "metadata": {},
   "outputs": [],
   "source": [
    "pl_items = yt_client.list_playlist_items(playlist_id)"
   ]
  },
  {
   "cell_type": "code",
   "execution_count": 7,
   "id": "6d194df5-e312-4d04-992f-13658ee2f26c",
   "metadata": {},
   "outputs": [
    {
     "data": {
      "application/json": {
       "etag": "Z-ii9UUL635flenn_87tkvcwUsg",
       "items": [
        {
         "contentDetails": {
          "videoId": "3VOAXpSR9V0",
          "videoPublishedAt": "2021-11-06T05:13:32Z"
         },
         "etag": "zefGrYV0Zxj13NOjVEZEcYrdVsg",
         "id": "VVV0N2Z3QWhYRHkzb05GVEF6RjJvOFB3LjNWT0FYcFNSOVYw",
         "kind": "youtube#playlistItem",
         "snippet": {
          "channelId": "UCt7fwAhXDy3oNFTAzF2o8Pw",
          "channelTitle": "theneedledrop",
          "description": "Listen: https://marissanadler.bandcamp.com/album/the-path-of-the-clouds\n\nThe Path of the Clouds is easily Marissa Nadler's most instrumentally dense solo project to date, which is mostly a blessing.\n\nOther reviews: https://www.youtube.com/playlist?list=PLP4CSgl7K7orSnEBkcBRqI5fDgKSs5c8o\n\n===================================\nSubscribe: http://bit.ly/1pBqGCN\n\nPatreon: https://www.patreon.com/theneedledrop\n\nOfficial site: http://theneedledrop.com\n\nTwitter: http://twitter.com/theneedledrop\n\nInstagram: https://www.instagram.com/afantano\n\nTikTok: https://www.tiktok.com/@theneedletok\n\nTND Twitch: https://www.twitch.tv/theneedledrop\n===================================\n\nFAV TRACKS: BESSIE DID YOU MAKE IT?, COULDN'T HAVE DONE THE KILLING, IF I COULD BREATHE UNDERWATER, ELEGY, STORM, LEMON QUEEN\n\nLEAST FAV TRACK: I DREAM OF RUNNING\n\nMARISSA NADLER - THE PATH OF THE CLOUDS / 2021 / SACRED BONES / DREAM POP, CHAMBER FOLK, SINGER-SONGWRITER\n\n7/10\n\nY'all know this is just my opinion, right?",
          "playlistId": "UUt7fwAhXDy3oNFTAzF2o8Pw",
          "position": 0,
          "publishedAt": "2021-11-06T04:53:24Z",
          "resourceId": {
           "kind": "youtube#video",
           "videoId": "3VOAXpSR9V0"
          },
          "thumbnails": {
           "default": {
            "height": 90,
            "url": "https://i.ytimg.com/vi/3VOAXpSR9V0/default.jpg",
            "width": 120
           },
           "high": {
            "height": 360,
            "url": "https://i.ytimg.com/vi/3VOAXpSR9V0/hqdefault.jpg",
            "width": 480
           },
           "medium": {
            "height": 180,
            "url": "https://i.ytimg.com/vi/3VOAXpSR9V0/mqdefault.jpg",
            "width": 320
           },
           "standard": {
            "height": 480,
            "url": "https://i.ytimg.com/vi/3VOAXpSR9V0/sddefault.jpg",
            "width": 640
           }
          },
          "title": "Marissa Nadler - The Path of the Clouds ALBUM REVIEW",
          "videoOwnerChannelId": "UCt7fwAhXDy3oNFTAzF2o8Pw",
          "videoOwnerChannelTitle": "theneedledrop"
         },
         "status": {
          "privacyStatus": "public"
         }
        },
        {
         "contentDetails": {
          "videoId": "EZc4QCJmKdQ",
          "videoPublishedAt": "2021-11-05T02:21:08Z"
         },
         "etag": "GcF-mejEZJGjkwNAgkoALkQI5bs",
         "id": "VVV0N2Z3QWhYRHkzb05GVEF6RjJvOFB3LkVaYzRRQ0ptS2RR",
         "kind": "youtube#playlistItem",
         "snippet": {
          "channelId": "UCt7fwAhXDy3oNFTAzF2o8Pw",
          "channelTitle": "theneedledrop",
          "description": "Listen: https://www.youtube.com/watch?v=B3OEofsCur8\n\nThe War on Drugs' heartland rock sound is more direct than ever on I Don't Live Here Anymore, with Granduciel's vocals and writing not always up to the task.\n\nMore rock reviews: https://www.youtube.com/playlist?list=PLP4CSgl7K7ori6-Iz-AWcX561iWCfapt_\n\n===================================\nSubscribe: http://bit.ly/1pBqGCN\n\nPatreon: https://www.patreon.com/theneedledrop\n\nOfficial site: http://theneedledrop.com\n\nTwitter: http://twitter.com/theneedledrop\n\nInstagram: https://www.instagram.com/afantano\n\nTikTok: https://www.tiktok.com/@theneedletok\n\nTND Twitch: https://www.twitch.tv/theneedledrop\n===================================\n\nFAV TRACKS: CHANGE, OLD SKIN, WASTED\n\nLEAST FAV TRACK: VICTIM\n\nTHE WAR ON DRUGS - I DON'T LIVE HERE ANYMORE / 2021 / ATLANTIC / HEARTLAND ROCK, INDIE ROCK\n\n5/10\n\nY'all know this is just my opinion, right?",
          "playlistId": "UUt7fwAhXDy3oNFTAzF2o8Pw",
          "position": 1,
          "publishedAt": "2021-11-05T01:32:38Z",
          "resourceId": {
           "kind": "youtube#video",
           "videoId": "EZc4QCJmKdQ"
          },
          "thumbnails": {
           "default": {
            "height": 90,
            "url": "https://i.ytimg.com/vi/EZc4QCJmKdQ/default.jpg",
            "width": 120
           },
           "high": {
            "height": 360,
            "url": "https://i.ytimg.com/vi/EZc4QCJmKdQ/hqdefault.jpg",
            "width": 480
           },
           "medium": {
            "height": 180,
            "url": "https://i.ytimg.com/vi/EZc4QCJmKdQ/mqdefault.jpg",
            "width": 320
           },
           "standard": {
            "height": 480,
            "url": "https://i.ytimg.com/vi/EZc4QCJmKdQ/sddefault.jpg",
            "width": 640
           }
          },
          "title": "The War on Drugs - I Don't Live Here Anymore ALBUM REVIEW",
          "videoOwnerChannelId": "UCt7fwAhXDy3oNFTAzF2o8Pw",
          "videoOwnerChannelTitle": "theneedledrop"
         },
         "status": {
          "privacyStatus": "public"
         }
        },
        {
         "contentDetails": {
          "videoId": "eBgdS1yHwRk",
          "videoPublishedAt": "2021-11-04T03:24:04Z"
         },
         "etag": "z9x5FLheOnn7jSWcMLldDmtTINc",
         "id": "VVV0N2Z3QWhYRHkzb05GVEF6RjJvOFB3LmVCZ2RTMXlId1Jr",
         "kind": "youtube#playlistItem",
         "snippet": {
          "channelId": "UCt7fwAhXDy3oNFTAzF2o8Pw",
          "channelTitle": "theneedledrop",
          "description": "Listen: https://www.youtube.com/watch?v=haT5ars6RXc\n\nWhile a lot more impressive than the preceding Emperor of Sand, Hushed and Grim does buckle under its own weight.\n\nMore metal reviews: https://www.youtube.com/playlist?list=PLP4CSgl7K7orAG2zKtoJKnTt_bAnLwTXo\n\n===================================\nSubscribe: http://bit.ly/1pBqGCN\n\nPatreon: https://www.patreon.com/theneedledrop\n\nOfficial site: http://theneedledrop.com\n\nTwitter: http://twitter.com/theneedledrop\n\nInstagram: https://www.instagram.com/afantano\n\nTikTok: https://www.tiktok.com/@theneedletok\n\nTND Twitch: https://www.twitch.tv/theneedledrop\n===================================\n\nFAV TRACKS: PAIN WITH AN ANCHOR, THE CRUX, MORE THAN I COULD CHEW, TEARDRINKER, PEACE AND TRANQUILITY, SAVAGE LANDS, GIGANTIUM\n\nLEAST FAV TRACK: THE BEAST\n\nMASTODON - HUSHED AND GRIM / 2021 / REPRISE / PROG METAL\n\n6/10\n\nY'all know this is just my opinion, right?",
          "playlistId": "UUt7fwAhXDy3oNFTAzF2o8Pw",
          "position": 2,
          "publishedAt": "2021-11-04T02:58:48Z",
          "resourceId": {
           "kind": "youtube#video",
           "videoId": "eBgdS1yHwRk"
          },
          "thumbnails": {
           "default": {
            "height": 90,
            "url": "https://i.ytimg.com/vi/eBgdS1yHwRk/default.jpg",
            "width": 120
           },
           "high": {
            "height": 360,
            "url": "https://i.ytimg.com/vi/eBgdS1yHwRk/hqdefault.jpg",
            "width": 480
           },
           "medium": {
            "height": 180,
            "url": "https://i.ytimg.com/vi/eBgdS1yHwRk/mqdefault.jpg",
            "width": 320
           },
           "standard": {
            "height": 480,
            "url": "https://i.ytimg.com/vi/eBgdS1yHwRk/sddefault.jpg",
            "width": 640
           }
          },
          "title": "Mastodon - Hushed and Grim ALBUM REVIEW",
          "videoOwnerChannelId": "UCt7fwAhXDy3oNFTAzF2o8Pw",
          "videoOwnerChannelTitle": "theneedledrop"
         },
         "status": {
          "privacyStatus": "public"
         }
        },
        {
         "contentDetails": {
          "videoId": "9ULbbP8yvY0",
          "videoPublishedAt": "2021-11-03T02:18:22Z"
         },
         "etag": "aePPCBi7OwABl7rj4FzZ5v7EvCU",
         "id": "VVV0N2Z3QWhYRHkzb05GVEF6RjJvOFB3LjlVTGJiUDh5dlkw",
         "kind": "youtube#playlistItem",
         "snippet": {
          "channelId": "UCt7fwAhXDy3oNFTAzF2o8Pw",
          "channelTitle": "theneedledrop",
          "description": "Reacting to comments from these reviews:\n\nEd Sheeran - =\nhttps://www.youtube.com/watch?v=aae1g4R9KJA\n\nLana Del Rey - Blue Banisters\nhttps://www.youtube.com/watch?v=7NJBESktHRU\n\nColdplay - Music of the Spheres\nhttps://www.youtube.com/watch?v=meeXN2ljRoA\n\nJPEGMAFIA - LP!\nhttps://www.youtube.com/watch?v=bbsD3mRmQn4\n\n===================================\nSubscribe: http://bit.ly/1pBqGCN\n\nPatreon: https://www.patreon.com/theneedledrop\n\nOfficial site: http://theneedledrop.com\n\nTwitter: http://twitter.com/theneedledrop\n\nInstagram: https://www.instagram.com/afantano\n\nTikTok: https://www.tiktok.com/@theneedletok\n\nTND Twitch: https://www.twitch.tv/theneedledrop\n===================================\n\nY'all know this is just my opinion, right?",
          "playlistId": "UUt7fwAhXDy3oNFTAzF2o8Pw",
          "position": 3,
          "publishedAt": "2021-11-03T01:45:31Z",
          "resourceId": {
           "kind": "youtube#video",
           "videoId": "9ULbbP8yvY0"
          },
          "thumbnails": {
           "default": {
            "height": 90,
            "url": "https://i.ytimg.com/vi/9ULbbP8yvY0/default.jpg",
            "width": 120
           },
           "high": {
            "height": 360,
            "url": "https://i.ytimg.com/vi/9ULbbP8yvY0/hqdefault.jpg",
            "width": 480
           },
           "medium": {
            "height": 180,
            "url": "https://i.ytimg.com/vi/9ULbbP8yvY0/mqdefault.jpg",
            "width": 320
           },
           "standard": {
            "height": 480,
            "url": "https://i.ytimg.com/vi/9ULbbP8yvY0/sddefault.jpg",
            "width": 640
           }
          },
          "title": "Reading Your Comments: Ed Sheeran, Lana Del Rey, Coldplay JPEGMAFIA",
          "videoOwnerChannelId": "UCt7fwAhXDy3oNFTAzF2o8Pw",
          "videoOwnerChannelTitle": "theneedledrop"
         },
         "status": {
          "privacyStatus": "public"
         }
        },
        {
         "contentDetails": {
          "videoId": "aae1g4R9KJA",
          "videoPublishedAt": "2021-11-02T02:11:18Z"
         },
         "etag": "POFCgyvrThEZlLeRZpmJteT25Cs",
         "id": "VVV0N2Z3QWhYRHkzb05GVEF6RjJvOFB3LmFhZTFnNFI5S0pB",
         "kind": "youtube#playlistItem",
         "snippet": {
          "channelId": "UCt7fwAhXDy3oNFTAzF2o8Pw",
          "channelTitle": "theneedledrop",
          "description": "Listen: https://www.youtube.com/watch?v=orJSJGHjBLI\n\nNot as bad as the collaborations album, albeit not by much.\n\nMore pop reviews: https://www.youtube.com/playlist?list=PLP4CSgl7K7oqibt_5oDPppWxQ0iaxyyeq\n\n===================================\nSubscribe: http://bit.ly/1pBqGCN\n\nPatreon: https://www.patreon.com/theneedledrop\n\nOfficial site: http://theneedledrop.com\n\nTwitter: http://twitter.com/theneedledrop\n\nInstagram: https://www.instagram.com/afantano\n\nTikTok: https://www.tiktok.com/@theneedletok\n\nTND Twitch: https://www.twitch.tv/theneedledrop\n===================================\n\nFAV TRACKS: TIDES, THE JOKER AND THE QUEEN, VISITING HOURS\n\nLEAST FAV TRACK: LEAVE YOUR LIFE\n\nED SHEERAN - = / 2021 / ASYLUM / POP\n\n2/10\n\nY'all know this is just my opinion, right?",
          "playlistId": "UUt7fwAhXDy3oNFTAzF2o8Pw",
          "position": 4,
          "publishedAt": "2021-11-02T01:49:40Z",
          "resourceId": {
           "kind": "youtube#video",
           "videoId": "aae1g4R9KJA"
          },
          "thumbnails": {
           "default": {
            "height": 90,
            "url": "https://i.ytimg.com/vi/aae1g4R9KJA/default.jpg",
            "width": 120
           },
           "high": {
            "height": 360,
            "url": "https://i.ytimg.com/vi/aae1g4R9KJA/hqdefault.jpg",
            "width": 480
           },
           "medium": {
            "height": 180,
            "url": "https://i.ytimg.com/vi/aae1g4R9KJA/mqdefault.jpg",
            "width": 320
           },
           "standard": {
            "height": 480,
            "url": "https://i.ytimg.com/vi/aae1g4R9KJA/sddefault.jpg",
            "width": 640
           }
          },
          "title": "Ed Sheeran - = ALBUM REVIEW",
          "videoOwnerChannelId": "UCt7fwAhXDy3oNFTAzF2o8Pw",
          "videoOwnerChannelTitle": "theneedledrop"
         },
         "status": {
          "privacyStatus": "public"
         }
        },
        {
         "contentDetails": {
          "videoId": "6gmKp50SeNs",
          "videoPublishedAt": "2021-11-01T03:27:45Z"
         },
         "etag": "icevuesHkWPyG2zRy0_Unr6KC7E",
         "id": "VVV0N2Z3QWhYRHkzb05GVEF6RjJvOFB3LjZnbUtwNTBTZU5z",
         "kind": "youtube#playlistItem",
         "snippet": {
          "channelId": "UCt7fwAhXDy3oNFTAzF2o8Pw",
          "channelTitle": "theneedledrop",
          "description": "Sponsored by G Fuel: gfuel.ly/needledrop\nPromo Code: NeedleDrop\n\n2021 FAV TRACKS PLAYLIST: https://open.spotify.com/playlist/7hXc9PnNqJtnV4hMmsqgIR?si=BDDSbBnoQzS1KPhndqwfkg\n\nTND Patreon: https://www.patreon.com/theneedledrop\n\nTurntable Lab link: http://turntablelab.com/theneedledrop\n\n\n!!!BEST TRACKS THIS WEEK!!!\n\nShygirl - Cleo\nhttps://open.spotify.com/track/2AuwQ8Fjkvfidwq8AAZXpy?si=537d85001b874e8d\n\nBaby Tate - Pedi\nhttps://open.spotify.com/track/718LR2LTJEjk61pTBn2cOo?si=6689c8faafe4421b\n\nA$AP Rocky - Sandman\nhttps://open.spotify.com/track/0qkA0NU7cDKWkFXNGRcNaB?si=18ef688ab3e34e72\n\nBeach Bunny - Oxygen\nhttps://open.spotify.com/track/0vu3XfUitueA4S7l93kNU3?si=e1fc760f55f347e1\n\nYG - Sign Language\nhttps://open.spotify.com/track/5CiYxsCieteb5iMjrHAkvV?si=c8dcc7b324894018\n\nTiaCorine - Luigi ft. Kenny Beats\nhttps://youtu.be/ZUA4r0tr0iA\n\nIbibio Sound Machine - Electricity\nhttps://youtu.be/IieqdBsPQJ0\n\n\n...meh...\n\nSpoon - The Hardest Cut\nhttps://youtu.be/i4vl4T1hEuQ\n\nAminé - Charmander\nhttps://open.spotify.com/album/5Cy8xrlkPh9lR5XolUM0QE?si=616910fb8315494a\n\nSnail Mail - Madonna\nhttps://open.spotify.com/track/6WrZ8rFuvTsWkFjC3US38h?si=7787e21421df4149\n\nFlo Milli - Ice Baby\nhttps://open.spotify.com/album/47fUhEmt7Ew393CEPo7VhK?si=e2dccb38b31f4c22\n\nImagine Dragons - Enemy ft. JID\nhttps://open.spotify.com/track/1r9xUipOqoNwggBpENDsvJ?si=e1de06e3ef4a48e2\n\nKylie Minogue & Jessie Ware - Kiss of Life\nhttps://open.spotify.com/track/0JbDY6lEgRxtb7f5v6xv8Y?si=d57e0a8784054184\n\nSematary - Rituals\nhttps://open.spotify.com/track/3hkrKLIWzXhYTBI0VUvd0z?si=b2b9d392014c4818\n\n\n!!!WORST TRACKS THIS WEEK!!!\n\nBobby Shmurda - Cartier Lens\nhttps://www.youtube.com/watch?v=qGDAeGFJWEs\n\nLil Uzi Vert - Demon High\nhttps://www.youtube.com/watch?v=yF20KOqJg4E\n\nMacklemore - Next Year ft. Windser\nhttps://open.spotify.com/album/6Xi4YURDn7YBTTX3OuWoZb?si=c9c1381a91c04405\n\nFrench Montana - I Don't Really Care\nhttps://open.spotify.com/album/4QpszijvM9A6JfeitbD0Ba?si=45023804756543c1\n\nA$AP Ferg - Green Juice ft. Pharrell / The Neptunes\nhttps://www.youtube.com/watch?v=jEZ6wAuMMl0\n\nJay-Z & Kid Cudi - Guns Go Bang\nhttps://open.spotify.com/track/7nkaJQflQ0saF0w4sOSTco?si=1a736d24771d44c5\n\nMEDUZA, Hozier - Tell It to My Heart\nhttps://open.spotify.com/album/27rVuwJ0g0eKRpnvEhQl3G?si=bbfaa2fc79a245a0\n\n===================================\nSubscribe: http://bit.ly/1pBqGCN\n\nPatreon: https://www.patreon.com/theneedledrop\n\nOfficial site: http://theneedledrop.com\n\nTwitter: http://twitter.com/theneedledrop\n\nInstagram: https://www.instagram.com/afantano\n\nTikTok: https://www.tiktok.com/@theneedletok\n\nTND Twitch: https://www.twitch.tv/theneedledrop\n===================================\n\nY'all know this is just my opinion, right?",
          "playlistId": "UUt7fwAhXDy3oNFTAzF2o8Pw",
          "position": 5,
          "publishedAt": "2021-11-01T03:01:33Z",
          "resourceId": {
           "kind": "youtube#video",
           "videoId": "6gmKp50SeNs"
          },
          "thumbnails": {
           "default": {
            "height": 90,
            "url": "https://i.ytimg.com/vi/6gmKp50SeNs/default.jpg",
            "width": 120
           },
           "high": {
            "height": 360,
            "url": "https://i.ytimg.com/vi/6gmKp50SeNs/hqdefault.jpg",
            "width": 480
           },
           "medium": {
            "height": 180,
            "url": "https://i.ytimg.com/vi/6gmKp50SeNs/mqdefault.jpg",
            "width": 320
           }
          },
          "title": "JAY-Z, Imagine Dragons, A$AP Rocky, Macklemore | Weekly Track Roundup: 10/31/21",
          "videoOwnerChannelId": "UCt7fwAhXDy3oNFTAzF2o8Pw",
          "videoOwnerChannelTitle": "theneedledrop"
         },
         "status": {
          "privacyStatus": "public"
         }
        },
        {
         "contentDetails": {
          "videoId": "aaJ3Dcc6f3o",
          "videoPublishedAt": "2021-10-30T01:40:05Z"
         },
         "etag": "H3hBrERB7aAOQNdADPd69jBJv2s",
         "id": "VVV0N2Z3QWhYRHkzb05GVEF6RjJvOFB3LmFhSjNEY2M2ZjNv",
         "kind": "youtube#playlistItem",
         "snippet": {
          "channelId": "UCt7fwAhXDy3oNFTAzF2o8Pw",
          "channelTitle": "theneedledrop",
          "description": "Edit by Duplee:\nhttp://twitter.com/Dupleee\nhttps://www.youtube.com/channel/UCeJrRK_Pt1m23l5zgSytVUA\n\n===================================\nSubscribe: http://bit.ly/1pBqGCN\n\nPatreon: https://www.patreon.com/theneedledrop\n\nOfficial site: http://theneedledrop.com\n\nTwitter: http://twitter.com/theneedledrop\n\nInstagram: https://www.instagram.com/afantano\n\nTikTok: https://www.tiktok.com/@theneedletok\n\nTND Twitch: https://www.twitch.tv/theneedledrop\n===================================\n\nY'all know this is just my opinion, right?",
          "playlistId": "UUt7fwAhXDy3oNFTAzF2o8Pw",
          "position": 6,
          "publishedAt": "2021-10-29T18:15:58Z",
          "resourceId": {
           "kind": "youtube#video",
           "videoId": "aaJ3Dcc6f3o"
          },
          "thumbnails": {
           "default": {
            "height": 90,
            "url": "https://i.ytimg.com/vi/aaJ3Dcc6f3o/default.jpg",
            "width": 120
           },
           "high": {
            "height": 360,
            "url": "https://i.ytimg.com/vi/aaJ3Dcc6f3o/hqdefault.jpg",
            "width": 480
           },
           "medium": {
            "height": 180,
            "url": "https://i.ytimg.com/vi/aaJ3Dcc6f3o/mqdefault.jpg",
            "width": 320
           },
           "standard": {
            "height": 480,
            "url": "https://i.ytimg.com/vi/aaJ3Dcc6f3o/sddefault.jpg",
            "width": 640
           }
          },
          "title": "14 Minutes of LOVING Kendrick Lamar",
          "videoOwnerChannelId": "UCt7fwAhXDy3oNFTAzF2o8Pw",
          "videoOwnerChannelTitle": "theneedledrop"
         },
         "status": {
          "privacyStatus": "public"
         }
        },
        {
         "contentDetails": {
          "videoId": "bbsD3mRmQn4",
          "videoPublishedAt": "2021-10-29T04:05:54Z"
         },
         "etag": "mfIy_7_SgJTwr_o9oSIFfFE8QNg",
         "id": "VVV0N2Z3QWhYRHkzb05GVEF6RjJvOFB3LmJic0QzbVJtUW40",
         "kind": "youtube#playlistItem",
         "snippet": {
          "channelId": "UCt7fwAhXDy3oNFTAzF2o8Pw",
          "channelTitle": "theneedledrop",
          "description": "Listen: https://jpegmafia.bandcamp.com/album/lp\n\nAnd still undefeated: JPEGMAFIA!\n\nMore rap reviews: https://www.youtube.com/playlist?list=PLP4CSgl7K7ormBIO138tYonB949PHnNcP\n\n===================================\nSubscribe: http://bit.ly/1pBqGCN\n\nPatreon: https://www.patreon.com/theneedledrop\n\nOfficial site: http://theneedledrop.com\n\nTwitter: http://twitter.com/theneedledrop\n\nInstagram: https://www.instagram.com/afantano\n\nTikTok: https://www.tiktok.com/@theneedletok\n\nTND Twitch: https://www.twitch.tv/theneedledrop\n===================================\n\nFAV TRACKS: TRUST, DIRTY, NEMO, HAZARD DUTY PAY, WHAT KINDA RAPPIN IS THIS, THOTS PRAYER, ARE U HAPPY, REBOUND, OG, DIKEMBE, TIRED NERVOUS & BROKE, 🔥, BMT, THE GHOST OF RANKING DREAD, UNTITLED\n\nLEAST FAV TRACK: 💯\n\nJPEGMAFIA - LP! / 2021 / EQT / EXPERIMENTAL HIP HOP\n\n9/10 https://www.theneedledrop.com/loved-list/2021/1/loved-list-2021\n\nY'all know this is just my opinion, right?",
          "playlistId": "UUt7fwAhXDy3oNFTAzF2o8Pw",
          "position": 7,
          "publishedAt": "2021-10-29T03:36:13Z",
          "resourceId": {
           "kind": "youtube#video",
           "videoId": "bbsD3mRmQn4"
          },
          "thumbnails": {
           "default": {
            "height": 90,
            "url": "https://i.ytimg.com/vi/bbsD3mRmQn4/default.jpg",
            "width": 120
           },
           "high": {
            "height": 360,
            "url": "https://i.ytimg.com/vi/bbsD3mRmQn4/hqdefault.jpg",
            "width": 480
           },
           "medium": {
            "height": 180,
            "url": "https://i.ytimg.com/vi/bbsD3mRmQn4/mqdefault.jpg",
            "width": 320
           },
           "standard": {
            "height": 480,
            "url": "https://i.ytimg.com/vi/bbsD3mRmQn4/sddefault.jpg",
            "width": 640
           }
          },
          "title": "JPEGMAFIA - LP! ALBUM REVIEW",
          "videoOwnerChannelId": "UCt7fwAhXDy3oNFTAzF2o8Pw",
          "videoOwnerChannelTitle": "theneedledrop"
         },
         "status": {
          "privacyStatus": "public"
         }
        },
        {
         "contentDetails": {
          "videoId": "Bjm9BdhuvRY",
          "videoPublishedAt": "2021-10-28T04:17:49Z"
         },
         "etag": "pdGGvMpoO8F-X5ECWoHnpVAJzPs",
         "id": "VVV0N2Z3QWhYRHkzb05GVEF6RjJvOFB3LkJqbTlCZGh1dlJZ",
         "kind": "youtube#playlistItem",
         "snippet": {
          "channelId": "UCt7fwAhXDy3oNFTAzF2o8Pw",
          "channelTitle": "theneedledrop",
          "description": "Listen: https://parquetcourts.bandcamp.com/album/sympathy-for-life\n\nIt's nice to hear Parquet Courts go in some different directions on Sympathy for Life, but the successes are more or less in the spots that most resemble the previous Wide Awake.\n\nMore rock reviews: https://www.youtube.com/playlist?list=PLP4CSgl7K7ori6-Iz-AWcX561iWCfapt_\n\n===================================\nSubscribe: http://bit.ly/1pBqGCN\n\nPatreon: https://www.patreon.com/theneedledrop\n\nOfficial site: http://theneedledrop.com\n\nTwitter: http://twitter.com/theneedledrop\n\nInstagram: https://www.instagram.com/afantano\n\nTikTok: https://www.tiktok.com/@theneedletok\n\nTND Twitch: https://www.twitch.tv/theneedledrop\n===================================\n\nFAV TRACKS: WALKING AT A DOWNTOWN PACE, PLANT LIFE, HOMO SAPIEN\n\nLEAST FAV TRACK: JUST SHADOWS\n\nPARQUET COURTS - SYMPATHY FOR LIFE / 2021 / ROUGH TRADE / POST-PUNK, INDIE ROCK\n\n6/10\n\nY'all know this is just my opinion, right?",
          "playlistId": "UUt7fwAhXDy3oNFTAzF2o8Pw",
          "position": 8,
          "publishedAt": "2021-10-28T04:08:50Z",
          "resourceId": {
           "kind": "youtube#video",
           "videoId": "Bjm9BdhuvRY"
          },
          "thumbnails": {
           "default": {
            "height": 90,
            "url": "https://i.ytimg.com/vi/Bjm9BdhuvRY/default.jpg",
            "width": 120
           },
           "high": {
            "height": 360,
            "url": "https://i.ytimg.com/vi/Bjm9BdhuvRY/hqdefault.jpg",
            "width": 480
           },
           "medium": {
            "height": 180,
            "url": "https://i.ytimg.com/vi/Bjm9BdhuvRY/mqdefault.jpg",
            "width": 320
           },
           "standard": {
            "height": 480,
            "url": "https://i.ytimg.com/vi/Bjm9BdhuvRY/sddefault.jpg",
            "width": 640
           }
          },
          "title": "Parquet Courts - Sympathy for Life ALBUM REVIEW",
          "videoOwnerChannelId": "UCt7fwAhXDy3oNFTAzF2o8Pw",
          "videoOwnerChannelTitle": "theneedledrop"
         },
         "status": {
          "privacyStatus": "public"
         }
        },
        {
         "contentDetails": {
          "videoId": "7NJBESktHRU",
          "videoPublishedAt": "2021-10-27T03:52:11Z"
         },
         "etag": "VmrdLnqb1pjTTcSeQgSpVB_OUfM",
         "id": "VVV0N2Z3QWhYRHkzb05GVEF6RjJvOFB3LjdOSkJFU2t0SFJV",
         "kind": "youtube#playlistItem",
         "snippet": {
          "channelId": "UCt7fwAhXDy3oNFTAzF2o8Pw",
          "channelTitle": "theneedledrop",
          "description": "Listen: https://www.youtube.com/watch?v=4mECX60FVJQ\n\nBlue Banisters sounds more slapped together than Lana's past two LPs.\n\nMore pop reviews: https://www.youtube.com/playlist?list=PLP4CSgl7K7oqibt_5oDPppWxQ0iaxyyeq\n\n===================================\nSubscribe: http://bit.ly/1pBqGCN\n\nPatreon: https://www.patreon.com/theneedledrop\n\nOfficial site: http://theneedledrop.com\n\nTwitter: http://twitter.com/theneedledrop\n\nInstagram: https://www.instagram.com/afantano\n\nTikTok: https://www.tiktok.com/@theneedletok\n\nTND Twitch: https://www.twitch.tv/theneedledrop\n===================================\n\nFAV TRACKS: BLUE BANISTERS, ARCADIA, IF YOU LIE DOWN WITH ME, THUNDER\n\nLEAST FAV TRACK: DEALER\n\nLANA DEL REY - BLUE BANISTERS / 2021 / POLYDOR / SINGER-SONGWRITER, POP, SOFT ROCK\n\n5/10\n\nY'all know this is just my opinion, right?",
          "playlistId": "UUt7fwAhXDy3oNFTAzF2o8Pw",
          "position": 9,
          "publishedAt": "2021-10-27T03:25:03Z",
          "resourceId": {
           "kind": "youtube#video",
           "videoId": "7NJBESktHRU"
          },
          "thumbnails": {
           "default": {
            "height": 90,
            "url": "https://i.ytimg.com/vi/7NJBESktHRU/default.jpg",
            "width": 120
           },
           "high": {
            "height": 360,
            "url": "https://i.ytimg.com/vi/7NJBESktHRU/hqdefault.jpg",
            "width": 480
           },
           "medium": {
            "height": 180,
            "url": "https://i.ytimg.com/vi/7NJBESktHRU/mqdefault.jpg",
            "width": 320
           },
           "standard": {
            "height": 480,
            "url": "https://i.ytimg.com/vi/7NJBESktHRU/sddefault.jpg",
            "width": 640
           }
          },
          "title": "Lana Del Rey - Blue Banisters ALBUM REVIEW",
          "videoOwnerChannelId": "UCt7fwAhXDy3oNFTAzF2o8Pw",
          "videoOwnerChannelTitle": "theneedledrop"
         },
         "status": {
          "privacyStatus": "public"
         }
        },
        {
         "contentDetails": {
          "videoId": "meeXN2ljRoA",
          "videoPublishedAt": "2021-10-26T02:09:06Z"
         },
         "etag": "Qjq_QR01nWHsZtw1eGaQt8QdL-Y",
         "id": "VVV0N2Z3QWhYRHkzb05GVEF6RjJvOFB3Lm1lZVhOMmxqUm9B",
         "kind": "youtube#playlistItem",
         "snippet": {
          "channelId": "UCt7fwAhXDy3oNFTAzF2o8Pw",
          "channelTitle": "theneedledrop",
          "description": "Listen: https://www.youtube.com/watch?v=3lfnR7OhZY8\n\n2021: A Space Flawedyssey\n\nMore pop reviews: https://www.youtube.com/playlist?list=PLP4CSgl7K7oqibt_5oDPppWxQ0iaxyyeq\n\n===================================\nSubscribe: http://bit.ly/1pBqGCN\n\nPatreon: https://www.patreon.com/theneedledrop\n\nOfficial site: http://theneedledrop.com\n\nTwitter: http://twitter.com/theneedledrop\n\nInstagram: https://www.instagram.com/afantano\n\nTikTok: https://www.tiktok.com/@theneedletok\n\nTND Twitch: https://www.twitch.tv/theneedledrop\n===================================\n\nFAV TRACKS: ❤️\n\nLEAST FAV TRACK: PEOPLE OF THE PRIDE\n\nCOLDPLAY - MUSIC OF THE SPHERES / 2021 / PARLOPHONE / SYNTHPOP, POP ROCK\n\n2/10\n\nY'all know this is just my opinion, right?",
          "playlistId": "UUt7fwAhXDy3oNFTAzF2o8Pw",
          "position": 10,
          "publishedAt": "2021-10-26T01:58:15Z",
          "resourceId": {
           "kind": "youtube#video",
           "videoId": "meeXN2ljRoA"
          },
          "thumbnails": {
           "default": {
            "height": 90,
            "url": "https://i.ytimg.com/vi/meeXN2ljRoA/default.jpg",
            "width": 120
           },
           "high": {
            "height": 360,
            "url": "https://i.ytimg.com/vi/meeXN2ljRoA/hqdefault.jpg",
            "width": 480
           },
           "medium": {
            "height": 180,
            "url": "https://i.ytimg.com/vi/meeXN2ljRoA/mqdefault.jpg",
            "width": 320
           },
           "standard": {
            "height": 480,
            "url": "https://i.ytimg.com/vi/meeXN2ljRoA/sddefault.jpg",
            "width": 640
           }
          },
          "title": "Coldplay - Music of the Spheres ALBUM REVIEW",
          "videoOwnerChannelId": "UCt7fwAhXDy3oNFTAzF2o8Pw",
          "videoOwnerChannelTitle": "theneedledrop"
         },
         "status": {
          "privacyStatus": "public"
         }
        },
        {
         "contentDetails": {
          "videoId": "GIu0s6APNEo",
          "videoPublishedAt": "2021-10-25T04:22:57Z"
         },
         "etag": "vWEP0ktlGf2Zaky20JYq_72j0nI",
         "id": "VVV0N2Z3QWhYRHkzb05GVEF6RjJvOFB3LkdJdTBzNkFQTkVv",
         "kind": "youtube#playlistItem",
         "snippet": {
          "channelId": "UCt7fwAhXDy3oNFTAzF2o8Pw",
          "channelTitle": "theneedledrop",
          "description": "Our sponsor: http://ridgewallet.com/fantano\nUSE PROMO CODE \"MELON\" FOR 10% OFF\n\n2021 FAV TRACKS PLAYLIST: https://open.spotify.com/playlist/7hXc9PnNqJtnV4hMmsqgIR?si=BDDSbBnoQzS1KPhndqwfkg\n\nTND Patreon: https://www.patreon.com/theneedledrop\n\nTurntable Lab link: http://turntablelab.com/theneedledrop\n\n\n!!!BEST TRACKS THIS WEEK!!!\n\nParquet Courts - Homo Sapien\nhttps://youtu.be/-AcXjhA0zlI\n\nBonobo - Tides ft. Jamila Woods\nhttps://youtu.be/PctUKuCVCD8\n\nRichard Dawson & Circle - Methuselah\nhttps://youtu.be/nly2TwK4tio\n\nObongjayar - Message in a Hammer\nhttps://youtu.be/3bpg3M6lCrI\n\nDijon - Rodeo Clown\nhttps://youtu.be/MPt4UIkWitA\n\nBig Sean, Hit-Boy - What a Life\nhttps://www.youtube.com/watch?v=GbfWXdSrfus\n\n\n...meh...\n\nSwedish House Mafia & The Weeknd - Moth to a Flame\nhttps://youtu.be/u9n7Cw-4_HQ\n\nHEALTH X POPPY - Dead Flowers\nhttps://youtu.be/tlkdkQR2gUs\n\nABBA - Just a Notion\nhttps://youtu.be/vy4bLOYDmsQ\n\nEllevator - Charlie IO\nhttps://youtu.be/wu-N4-VBUKc\n\nBeirut - Fisher Island Sound\nhttps://youtu.be/EenQuqpVllA\n\nLana Del Rey - If You Lie Down with Me\nhttps://www.youtube.com/watch?v=xFv0wg_alGk\n\n\n!!!WORST TRACKS THIS WEEK!!!\n\nElton John - Always Love You ft. Young Thug and Nicki Minaj\nhttps://www.youtube.com/watch?v=Bi45aR8IuI8\n\nJack White - Taking Me Back\nhttps://youtu.be/dW9a2PKVgYY\n\nAnimal Collective - Prester John\nhttps://youtu.be/A5iJ9wt4paY\n\nMastodon - Sickle and Peace\nhttps://youtu.be/6F76JslnhBo\n\nMajid Jordan - Stars Align (with Drake)\nhttps://www.youtube.com/watch?v=5_GFgbWcq_o\n\n===================================\nSubscribe: http://bit.ly/1pBqGCN\n\nPatreon: https://www.patreon.com/theneedledrop\n\nOfficial site: http://theneedledrop.com\n\nTwitter: http://twitter.com/theneedledrop\n\nInstagram: https://www.instagram.com/afantano\n\nTikTok: https://www.tiktok.com/@theneedletok\n\nTND Twitch: https://www.twitch.tv/theneedledrop\n===================================\n\nY'all know this is just my opinion, right?",
          "playlistId": "UUt7fwAhXDy3oNFTAzF2o8Pw",
          "position": 11,
          "publishedAt": "2021-10-25T04:00:49Z",
          "resourceId": {
           "kind": "youtube#video",
           "videoId": "GIu0s6APNEo"
          },
          "thumbnails": {
           "default": {
            "height": 90,
            "url": "https://i.ytimg.com/vi/GIu0s6APNEo/default.jpg",
            "width": 120
           },
           "high": {
            "height": 360,
            "url": "https://i.ytimg.com/vi/GIu0s6APNEo/hqdefault.jpg",
            "width": 480
           },
           "medium": {
            "height": 180,
            "url": "https://i.ytimg.com/vi/GIu0s6APNEo/mqdefault.jpg",
            "width": 320
           },
           "standard": {
            "height": 480,
            "url": "https://i.ytimg.com/vi/GIu0s6APNEo/sddefault.jpg",
            "width": 640
           }
          },
          "title": "Big Sean, Jack White, ABBA, Majid Jordan | Weekly Track Roundup: 10/24/21",
          "videoOwnerChannelId": "UCt7fwAhXDy3oNFTAzF2o8Pw",
          "videoOwnerChannelTitle": "theneedledrop"
         },
         "status": {
          "privacyStatus": "public"
         }
        },
        {
         "contentDetails": {
          "videoId": "sXoZxpHbUFw",
          "videoPublishedAt": "2021-10-23T03:38:27Z"
         },
         "etag": "iZMppgj33miPMAmV6TINChEQs_8",
         "id": "VVV0N2Z3QWhYRHkzb05GVEF6RjJvOFB3LnNYb1p4cEhiVUZ3",
         "kind": "youtube#playlistItem",
         "snippet": {
          "channelId": "UCt7fwAhXDy3oNFTAzF2o8Pw",
          "channelTitle": "theneedledrop",
          "description": "Listen: https://tropicalfstorm.bandcamp.com/album/deep-states-2\n\nDeep States is TFS's weakest batch of songs yet, which is to say it's not that bad.\n\nMore rock reviews: https://www.youtube.com/playlist?list=PLP4CSgl7K7ori6-Iz-AWcX561iWCfapt_\n\n===================================\nSubscribe: http://bit.ly/1pBqGCN\n\nPatreon: https://www.patreon.com/theneedledrop\n\nOfficial site: http://theneedledrop.com\n\nTwitter: http://twitter.com/theneedledrop\n\nInstagram: https://www.instagram.com/afantano\n\nTikTok: https://www.tiktok.com/@theneedletok\n\nTND Twitch: https://www.twitch.tv/theneedledrop\n===================================\n\nFAV TRACKS: G.A.F.F, BUMMA SANGER, NEW ROMEO AGENT, LEGAL GHOST, THE CONFINEMENT OF THE QUARKS\n\nLEAST FAV TRACK: SUBURBIOPIA\n\nTROPICAL FUCK STORM - DEEP STATES / 2021 / JOYFUL NOISE / ART PUNK, NOISE ROCK, PSYCH\n\n6/10\n\nY'all know this is just my opinion, right?",
          "playlistId": "UUt7fwAhXDy3oNFTAzF2o8Pw",
          "position": 12,
          "publishedAt": "2021-10-23T03:23:47Z",
          "resourceId": {
           "kind": "youtube#video",
           "videoId": "sXoZxpHbUFw"
          },
          "thumbnails": {
           "default": {
            "height": 90,
            "url": "https://i.ytimg.com/vi/sXoZxpHbUFw/default.jpg",
            "width": 120
           },
           "high": {
            "height": 360,
            "url": "https://i.ytimg.com/vi/sXoZxpHbUFw/hqdefault.jpg",
            "width": 480
           },
           "medium": {
            "height": 180,
            "url": "https://i.ytimg.com/vi/sXoZxpHbUFw/mqdefault.jpg",
            "width": 320
           },
           "standard": {
            "height": 480,
            "url": "https://i.ytimg.com/vi/sXoZxpHbUFw/sddefault.jpg",
            "width": 640
           }
          },
          "title": "Tropical Frick Storm - Deep States ALBUM REVIEW",
          "videoOwnerChannelId": "UCt7fwAhXDy3oNFTAzF2o8Pw",
          "videoOwnerChannelTitle": "theneedledrop"
         },
         "status": {
          "privacyStatus": "public"
         }
        },
        {
         "contentDetails": {
          "videoId": "6mGcNObSah8",
          "videoPublishedAt": "2021-10-22T02:51:44Z"
         },
         "etag": "46oJNMtkvNgSJZGw8TwrRPtUIPY",
         "id": "VVV0N2Z3QWhYRHkzb05GVEF6RjJvOFB3LjZtR2NOT2JTYWg4",
         "kind": "youtube#playlistItem",
         "snippet": {
          "channelId": "UCt7fwAhXDy3oNFTAzF2o8Pw",
          "channelTitle": "theneedledrop",
          "description": "Listen: https://liluglymane.bandcamp.com/album/volcanic-bird-enemy-and-the-voiced-concern\n\nWhat's all this then?\n\nOther reviews: https://www.youtube.com/playlist?list=PLP4CSgl7K7orSnEBkcBRqI5fDgKSs5c8o\n\n===================================\nSubscribe: http://bit.ly/1pBqGCN\n\nPatreon: https://www.patreon.com/theneedledrop\n\nOfficial site: http://theneedledrop.com\n\nTwitter: http://twitter.com/theneedledrop\n\nInstagram: https://www.instagram.com/afantano\n\nTikTok: https://www.tiktok.com/@theneedletok\n\nTND Twitch: https://www.twitch.tv/theneedledrop\n===================================\n\nFAV TRACKS: WITH IRON & BLEACH & ACCIDENTS, BENADRYL SUBMARINE, HUMAN FLY, STYROFOAM, HEADBOARD, VPN, SWELL, CURSOR, BROKEN LADDER, PORCELAIN SLIGHTLY\n\nLEAST FAV TRACK: CLAPPING SEAL\n\nLIL UGLY MANE - VOLCANIC BIRD ENEMY AND THE VOICED CONCERN / 2021 / SELF-RELEASED / LOOK AT THE ALBUM COVER\n\n7/10\n\nY'all know this is just my opinion, right?",
          "playlistId": "UUt7fwAhXDy3oNFTAzF2o8Pw",
          "position": 13,
          "publishedAt": "2021-10-22T02:35:28Z",
          "resourceId": {
           "kind": "youtube#video",
           "videoId": "6mGcNObSah8"
          },
          "thumbnails": {
           "default": {
            "height": 90,
            "url": "https://i.ytimg.com/vi/6mGcNObSah8/default.jpg",
            "width": 120
           },
           "high": {
            "height": 360,
            "url": "https://i.ytimg.com/vi/6mGcNObSah8/hqdefault.jpg",
            "width": 480
           },
           "medium": {
            "height": 180,
            "url": "https://i.ytimg.com/vi/6mGcNObSah8/mqdefault.jpg",
            "width": 320
           },
           "standard": {
            "height": 480,
            "url": "https://i.ytimg.com/vi/6mGcNObSah8/sddefault.jpg",
            "width": 640
           }
          },
          "title": "Lil Ugly Mane - Volcanic Bird Enemy and the Voiced Concern ALBUM REVIEW",
          "videoOwnerChannelId": "UCt7fwAhXDy3oNFTAzF2o8Pw",
          "videoOwnerChannelTitle": "theneedledrop"
         },
         "status": {
          "privacyStatus": "public"
         }
        },
        {
         "contentDetails": {
          "videoId": "xd9CX3FVRqw",
          "videoPublishedAt": "2021-10-21T03:29:21Z"
         },
         "etag": "muVrQqsXm7VVR9HTBQ3HVnftdzk",
         "id": "VVV0N2Z3QWhYRHkzb05GVEF6RjJvOFB3LnhkOUNYM0ZWUnF3",
         "kind": "youtube#playlistItem",
         "snippet": {
          "channelId": "UCt7fwAhXDy3oNFTAzF2o8Pw",
          "channelTitle": "theneedledrop",
          "description": "Listen: https://www.youtube.com/watch?v=V4FGW93j974\n\nAn impressive debut from the pop singer/songwriter.\n\nMore pop reviews: https://www.youtube.com/playlist?list=PLP4CSgl7K7oqibt_5oDPppWxQ0iaxyyeq\n\n===================================\nSubscribe: http://bit.ly/1pBqGCN\n\nPatreon: https://www.patreon.com/theneedledrop\n\nOfficial site: http://theneedledrop.com\n\nTwitter: http://twitter.com/theneedledrop\n\nInstagram: https://www.instagram.com/afantano\n\nTikTok: https://www.tiktok.com/@theneedletok\n\nTND Twitch: https://www.twitch.tv/theneedledrop\n===================================\n\nFAV TRACKS: LIQUOR STORE, ANTHONY KIEDIS, WYD, GUERRILLA, QUIET ON SET, VOLKIANO, FRONT TOOTH, GRUMPY OLD MAN\n\nLEAST FAV TRACK: SALLY\n\nREMI WOLF - JUNO / 2021 / ISLAND / FUNKY SOUL POP\n\n7/10\n\nY'all know this is just my opinion, right?",
          "playlistId": "UUt7fwAhXDy3oNFTAzF2o8Pw",
          "position": 14,
          "publishedAt": "2021-10-21T03:15:08Z",
          "resourceId": {
           "kind": "youtube#video",
           "videoId": "xd9CX3FVRqw"
          },
          "thumbnails": {
           "default": {
            "height": 90,
            "url": "https://i.ytimg.com/vi/xd9CX3FVRqw/default.jpg",
            "width": 120
           },
           "high": {
            "height": 360,
            "url": "https://i.ytimg.com/vi/xd9CX3FVRqw/hqdefault.jpg",
            "width": 480
           },
           "medium": {
            "height": 180,
            "url": "https://i.ytimg.com/vi/xd9CX3FVRqw/mqdefault.jpg",
            "width": 320
           },
           "standard": {
            "height": 480,
            "url": "https://i.ytimg.com/vi/xd9CX3FVRqw/sddefault.jpg",
            "width": 640
           }
          },
          "title": "Remi Wolf - Juno ALBUM REVIEW",
          "videoOwnerChannelId": "UCt7fwAhXDy3oNFTAzF2o8Pw",
          "videoOwnerChannelTitle": "theneedledrop"
         },
         "status": {
          "privacyStatus": "public"
         }
        },
        {
         "contentDetails": {
          "videoId": "A2ftzgDnsd4",
          "videoPublishedAt": "2021-10-20T02:55:44Z"
         },
         "etag": "_m73ce3lpjv4-wtmPHfI8KwqsAM",
         "id": "VVV0N2Z3QWhYRHkzb05GVEF6RjJvOFB3LkEyZnR6Z0Ruc2Q0",
         "kind": "youtube#playlistItem",
         "snippet": {
          "channelId": "UCt7fwAhXDy3oNFTAzF2o8Pw",
          "channelTitle": "theneedledrop",
          "description": "Spy - Habitual Offender\nhttps://spyhc.bandcamp.com/album/habitual-offender\n\nPinkPantheress - to hell with it\nhttps://www.youtube.com/playlist?list=OLAK5uy_kh9CfbToSbMhmJvdlNIm7cxAinBkqvPyQ\n\nBenny the Butcher - Pyrex Picasso\nhttps://www.youtube.com/watch?v=LTzerxm35gI\n\nKnocked Loose - A Tear in the Fabric of Life\nhttps://purenoise.bandcamp.com/album/a-tear-in-the-fabric-of-life\n\n===================================\nSubscribe: http://bit.ly/1pBqGCN\n\nPatreon: https://www.patreon.com/theneedledrop\n\nOfficial site: http://theneedledrop.com\n\nTwitter: http://twitter.com/theneedledrop\n\nInstagram: https://www.instagram.com/afantano\n\nTikTok: https://www.tiktok.com/@theneedletok\n\nTND Twitch: https://www.twitch.tv/theneedledrop\n===================================\n\nY'all know this is just my opinion, right?",
          "playlistId": "UUt7fwAhXDy3oNFTAzF2o8Pw",
          "position": 15,
          "publishedAt": "2021-10-20T02:44:30Z",
          "resourceId": {
           "kind": "youtube#video",
           "videoId": "A2ftzgDnsd4"
          },
          "thumbnails": {
           "default": {
            "height": 90,
            "url": "https://i.ytimg.com/vi/A2ftzgDnsd4/default.jpg",
            "width": 120
           },
           "high": {
            "height": 360,
            "url": "https://i.ytimg.com/vi/A2ftzgDnsd4/hqdefault.jpg",
            "width": 480
           },
           "medium": {
            "height": 180,
            "url": "https://i.ytimg.com/vi/A2ftzgDnsd4/mqdefault.jpg",
            "width": 320
           },
           "standard": {
            "height": 480,
            "url": "https://i.ytimg.com/vi/A2ftzgDnsd4/sddefault.jpg",
            "width": 640
           }
          },
          "title": "EP ❤️: Spy, PinkPantheress, Benny the Butcher, Knocked Loose",
          "videoOwnerChannelId": "UCt7fwAhXDy3oNFTAzF2o8Pw",
          "videoOwnerChannelTitle": "theneedledrop"
         },
         "status": {
          "privacyStatus": "public"
         }
        },
        {
         "contentDetails": {
          "videoId": "XEvmxqE3x5M",
          "videoPublishedAt": "2021-10-19T03:06:46Z"
         },
         "etag": "EUZgmU6ZqhYFJd6F3t2VY6pRLGs",
         "id": "VVV0N2Z3QWhYRHkzb05GVEF6RjJvOFB3LlhFdm14cUUzeDVN",
         "kind": "youtube#playlistItem",
         "snippet": {
          "channelId": "UCt7fwAhXDy3oNFTAzF2o8Pw",
          "channelTitle": "theneedledrop",
          "description": "Listen: https://www.youtube.com/watch?v=uCDE-S1AjuQ\n\nAfter the promising first leg, it's as if everyone working on Punk forgets its direction.\n\nMore rap reviews: https://www.youtube.com/playlist?list=PLP4CSgl7K7ormBIO138tYonB949PHnNcP\n\n===================================\nSubscribe: http://bit.ly/1pBqGCN\n\nPatreon: https://www.patreon.com/theneedledrop\n\nOfficial site: http://theneedledrop.com\n\nTwitter: http://twitter.com/theneedledrop\n\nInstagram: https://www.instagram.com/afantano\n\nTikTok: https://www.tiktok.com/@theneedletok\n\nTND Twitch: https://www.twitch.tv/theneedledrop\n===================================\n\nFAV TRACKS: DIE SLOW, STUPID/ASKING, RECOGNIZE REAL, CONTAGIOUS\n\nLEAST FAV TRACK: ICY HOT\n\nYOUNG THUG - PUNK / 2021 / 300 ENTERTAINMENT / TRAP RAP\n\n3/10\n\nY'all know this is just my opinion, right?",
          "playlistId": "UUt7fwAhXDy3oNFTAzF2o8Pw",
          "position": 16,
          "publishedAt": "2021-10-19T02:49:26Z",
          "resourceId": {
           "kind": "youtube#video",
           "videoId": "XEvmxqE3x5M"
          },
          "thumbnails": {
           "default": {
            "height": 90,
            "url": "https://i.ytimg.com/vi/XEvmxqE3x5M/default.jpg",
            "width": 120
           },
           "high": {
            "height": 360,
            "url": "https://i.ytimg.com/vi/XEvmxqE3x5M/hqdefault.jpg",
            "width": 480
           },
           "medium": {
            "height": 180,
            "url": "https://i.ytimg.com/vi/XEvmxqE3x5M/mqdefault.jpg",
            "width": 320
           },
           "standard": {
            "height": 480,
            "url": "https://i.ytimg.com/vi/XEvmxqE3x5M/sddefault.jpg",
            "width": 640
           }
          },
          "title": "Young Thug - Punk ALBUM REVIEW",
          "videoOwnerChannelId": "UCt7fwAhXDy3oNFTAzF2o8Pw",
          "videoOwnerChannelTitle": "theneedledrop"
         },
         "status": {
          "privacyStatus": "public"
         }
        },
        {
         "contentDetails": {
          "videoId": "WlTVXFoOyv4",
          "videoPublishedAt": "2021-10-18T02:30:41Z"
         },
         "etag": "7mbEeN4CrQgKlSC-J5svaFN9sz8",
         "id": "VVV0N2Z3QWhYRHkzb05GVEF6RjJvOFB3LldsVFZYRm9PeXY0",
         "kind": "youtube#playlistItem",
         "snippet": {
          "channelId": "UCt7fwAhXDy3oNFTAzF2o8Pw",
          "channelTitle": "theneedledrop",
          "description": "Sponsored by G Fuel: gfuel.ly/needledrop\nPromo Code: NeedleDrop\n\n2021 FAV TRACKS PLAYLIST: https://open.spotify.com/playlist/7hXc9PnNqJtnV4hMmsqgIR?si=BDDSbBnoQzS1KPhndqwfkg\n\nTND Patreon: https://www.patreon.com/theneedledrop\n\nTurntable Lab link: http://turntablelab.com/theneedledrop\n\n\n!!!BEST TRACKS THIS WEEK!!!\n\nAdele - Easy on Me\nhttps://youtu.be/U3ASj1L6_sY\nReview: https://youtu.be/5sTzHLSBHmE\n\nMac Miller - Yeah\nhttps://open.spotify.com/track/7b8aKAUn1BB2k1clevj4aB?si=09aa834b518d469d\n\nBlack Country, New Road - Chaos Space Marine\nhttps://open.spotify.com/track/6kNYZ2Hf2QCpQhIuPxffkp?si=7277c43c774d4733\n\nBoys Noize, Abra - Affection\nhttps://open.spotify.com/track/4SSTO88KFsMLeYF7kuMzWl?si=4da2d26ff618440c\n\nMichael Kiwanuka - Beautiful Life\nhttps://youtu.be/F2PltPL8olI\n\nserpentwithfeet - Down Nuh River\nhttps://www.youtube.com/watch?v=ZkSUY5tJAGU\n\n\n...meh...\n\nLaetitia Sadier - New Moon\nhttps://youtu.be/KHdPVnptGvI\n\nDorian Electra - Iron Fist ft. Alice Glass and Faris Badwan (Alice Glass Remix)\nhttps://open.spotify.com/track/2Dv4Xi9rWEhofLTWGmjwTe?si=d68ab82c71034147\n\nSummer Walker, JT - Ex for a Reason\nhttps://www.youtube.com/watch?v=Qel9ALGzzBQ\n\nLil Durk - Pissed Me Off\nhttps://open.spotify.com/track/52nTQQahs46s1iHFQ3Wv5Q?si=313c8cd1f8e841d4\n\nSnail Mail - Ben Franklin\nhttps://www.youtube.com/watch?v=DUU9xxIb91g\n\nHiatus Kaiyote - Canopic Jar\nhttps://open.spotify.com/track/4bTNC9Z0MzAQLlIADdvLxb?si=de25817accbe41d5\n\nAesop Rock & Blockhead - Jazz Hands\nhttps://youtu.be/Bzq1WBBYTBU\n\nMaxo Kream - Greener Knots\nhttps://www.youtube.com/watch?v=VCHZyFXuw_k\n\n\n!!!WORST TRACKS THIS WEEK!!!\n\nLumineers - Big Shot\nhttps://www.youtube.com/watch?v=z2pocjX-5Zw\n\nTom Morello - The War Inside ft. Chris Stapleton\nhttps://open.spotify.com/track/0AeKE6Cz7EPw9Eld1tJ6fz?si=3fc86ae33b1b4ef4\n\n===================================\nSubscribe: http://bit.ly/1pBqGCN\n\nPatreon: https://www.patreon.com/theneedledrop\n\nOfficial site: http://theneedledrop.com\n\nTwitter: http://twitter.com/theneedledrop\n\nInstagram: https://www.instagram.com/afantano\n\nTikTok: https://www.tiktok.com/@theneedletok\n\nTND Twitch: https://www.twitch.tv/theneedledrop\n===================================\n\nY'all know this is just my opinion, right?",
          "playlistId": "UUt7fwAhXDy3oNFTAzF2o8Pw",
          "position": 17,
          "publishedAt": "2021-10-18T02:07:49Z",
          "resourceId": {
           "kind": "youtube#video",
           "videoId": "WlTVXFoOyv4"
          },
          "thumbnails": {
           "default": {
            "height": 90,
            "url": "https://i.ytimg.com/vi/WlTVXFoOyv4/default.jpg",
            "width": 120
           },
           "high": {
            "height": 360,
            "url": "https://i.ytimg.com/vi/WlTVXFoOyv4/hqdefault.jpg",
            "width": 480
           },
           "medium": {
            "height": 180,
            "url": "https://i.ytimg.com/vi/WlTVXFoOyv4/mqdefault.jpg",
            "width": 320
           },
           "standard": {
            "height": 480,
            "url": "https://i.ytimg.com/vi/WlTVXFoOyv4/sddefault.jpg",
            "width": 640
           }
          },
          "title": "Adele, Black Country New Road, Mac Miller, Maxo Kream | Weekly Track Roundup: 10/17/21",
          "videoOwnerChannelId": "UCt7fwAhXDy3oNFTAzF2o8Pw",
          "videoOwnerChannelTitle": "theneedledrop"
         },
         "status": {
          "privacyStatus": "public"
         }
        },
        {
         "contentDetails": {
          "videoId": "P_4jJvEh6Q0",
          "videoPublishedAt": "2021-10-16T17:11:25Z"
         },
         "etag": "QzTcybw2dxfFQuLawbk76uEIr_s",
         "id": "VVV0N2Z3QWhYRHkzb05GVEF6RjJvOFB3LlBfNGpKdkVoNlEw",
         "kind": "youtube#playlistItem",
         "snippet": {
          "channelId": "UCt7fwAhXDy3oNFTAzF2o8Pw",
          "channelTitle": "theneedledrop",
          "description": "Listen: https://www.youtube.com/watch?v=JRUjtalz_1k\n\nJames' best record since his debut.\n\nMore pop reviews: https://www.youtube.com/playlist?list=PLP4CSgl7K7oqibt_5oDPppWxQ0iaxyyeq\n\n===================================\nSubscribe: http://bit.ly/1pBqGCN\n\nPatreon: https://www.patreon.com/theneedledrop\n\nOfficial site: http://theneedledrop.com\n\nTwitter: http://twitter.com/theneedledrop\n\nInstagram: https://www.instagram.com/afantano\n\nTikTok: https://www.tiktok.com/@theneedletok\n\nTND Twitch: https://www.twitch.tv/theneedledrop\n===================================\n\nFAV TRACKS: FAMOUS LAST WORDS, LIFE IS NOT THE SAME, FUNERAL, FROZEN, SHOW ME, SAY WHAT YOU WILL, LOST ANGEL NIGHTS, FRIENDS THAT BREAK YOUR HEART, IF I'M INSECURE\n\nLEAST FAV TRACK: I'M SO BLESSED YOU'RE MINE\n\nJAMES BLAKE - FRIENDS THAT BREAK YOUR HEART / 2021 / REPUBLIC / ALTERNATIVE R&B, AMBIENT POP\n\n8/10 https://www.theneedledrop.com/loved-list/2021/1/loved-list-2021\n\nY'all know this is just my opinion, right?",
          "playlistId": "UUt7fwAhXDy3oNFTAzF2o8Pw",
          "position": 18,
          "publishedAt": "2021-10-16T16:48:03Z",
          "resourceId": {
           "kind": "youtube#video",
           "videoId": "P_4jJvEh6Q0"
          },
          "thumbnails": {
           "default": {
            "height": 90,
            "url": "https://i.ytimg.com/vi/P_4jJvEh6Q0/default.jpg",
            "width": 120
           },
           "high": {
            "height": 360,
            "url": "https://i.ytimg.com/vi/P_4jJvEh6Q0/hqdefault.jpg",
            "width": 480
           },
           "medium": {
            "height": 180,
            "url": "https://i.ytimg.com/vi/P_4jJvEh6Q0/mqdefault.jpg",
            "width": 320
           },
           "standard": {
            "height": 480,
            "url": "https://i.ytimg.com/vi/P_4jJvEh6Q0/sddefault.jpg",
            "width": 640
           }
          },
          "title": "James Blake - Friends That Break Your Heart ALBUM REVIEW",
          "videoOwnerChannelId": "UCt7fwAhXDy3oNFTAzF2o8Pw",
          "videoOwnerChannelTitle": "theneedledrop"
         },
         "status": {
          "privacyStatus": "public"
         }
        },
        {
         "contentDetails": {
          "videoId": "1nlE5RDwFeA",
          "videoPublishedAt": "2021-10-15T02:21:27Z"
         },
         "etag": "7l_GXdFTII2LNjRA5199EzG5_AM",
         "id": "VVV0N2Z3QWhYRHkzb05GVEF6RjJvOFB3LjFubEU1UkR3RmVB",
         "kind": "youtube#playlistItem",
         "snippet": {
          "channelId": "UCt7fwAhXDy3oNFTAzF2o8Pw",
          "channelTitle": "theneedledrop",
          "description": "Listen: https://magdalenabay.bandcamp.com/album/mercurial-world\n\nEven while the duo's finding a distinct sound, Mercurial World serves bop after bop.\n\nMore pop reviews: https://www.youtube.com/playlist?list=PLP4CSgl7K7oqibt_5oDPppWxQ0iaxyyeq\n\n===================================\nSubscribe: http://bit.ly/1pBqGCN\n\nPatreon: https://www.patreon.com/theneedledrop\n\nOfficial site: http://theneedledrop.com\n\nTwitter: http://twitter.com/theneedledrop\n\nInstagram: https://www.instagram.com/afantano\n\nTikTok: https://www.tiktok.com/@theneedletok\n\nTND Twitch: https://www.twitch.tv/theneedledrop\n===================================\n\nFAV TRACKS: MERCURIAL WORLD, DAWNING OF THE SEASON, SECRETS (YOUR FIRE), YOU LOSE!, CHAERI, HYSTERICAL US, PROPHECY, DREAMCATCHING, THE BEGINNING\n\nLEAST FAV TRACK: FOLLOW THE LEADER\n\nMAGDALENA BAY - MERCURIAL WORLD / 2021 / LUMINELLE / SYNTHPOP\n\n8/10 https://www.theneedledrop.com/loved-list/2021/1/loved-list-2021\n\nY'all know this is just my opinion, right?",
          "playlistId": "UUt7fwAhXDy3oNFTAzF2o8Pw",
          "position": 19,
          "publishedAt": "2021-10-15T02:00:15Z",
          "resourceId": {
           "kind": "youtube#video",
           "videoId": "1nlE5RDwFeA"
          },
          "thumbnails": {
           "default": {
            "height": 90,
            "url": "https://i.ytimg.com/vi/1nlE5RDwFeA/default.jpg",
            "width": 120
           },
           "high": {
            "height": 360,
            "url": "https://i.ytimg.com/vi/1nlE5RDwFeA/hqdefault.jpg",
            "width": 480
           },
           "medium": {
            "height": 180,
            "url": "https://i.ytimg.com/vi/1nlE5RDwFeA/mqdefault.jpg",
            "width": 320
           },
           "standard": {
            "height": 480,
            "url": "https://i.ytimg.com/vi/1nlE5RDwFeA/sddefault.jpg",
            "width": 640
           }
          },
          "title": "Magdalena Bay - Mercurial World ALBUM REVIEW",
          "videoOwnerChannelId": "UCt7fwAhXDy3oNFTAzF2o8Pw",
          "videoOwnerChannelTitle": "theneedledrop"
         },
         "status": {
          "privacyStatus": "public"
         }
        },
        {
         "contentDetails": {
          "videoId": "qCs96C1QPKI",
          "videoPublishedAt": "2021-10-14T03:57:36Z"
         },
         "etag": "ie_fzBHdjSNXp2KBtUctxj5Gc6Y",
         "id": "VVV0N2Z3QWhYRHkzb05GVEF6RjJvOFB3LnFDczk2QzFRUEtJ",
         "kind": "youtube#playlistItem",
         "snippet": {
          "channelId": "UCt7fwAhXDy3oNFTAzF2o8Pw",
          "channelTitle": "theneedledrop",
          "description": "Listen: https://badbadnotgoodofficial.bandcamp.com/album/talk-memory\n\nTalk Memory seems like the start of an exciting new chapter for BBNG.\n\nOther reviews: https://www.youtube.com/playlist?list=PLP4CSgl7K7orSnEBkcBRqI5fDgKSs5c8o\n\n===================================\nSubscribe: http://bit.ly/1pBqGCN\n\nPatreon: https://www.patreon.com/theneedledrop\n\nOfficial site: http://theneedledrop.com\n\nTwitter: http://twitter.com/theneedledrop\n\nInstagram: https://www.instagram.com/afantano\n\nTikTok: https://www.tiktok.com/@theneedletok\n\nTND Twitch: https://www.twitch.tv/theneedledrop\n===================================\n\nFAV TRACKS: SIGNAL FROM THE NOISE, BESIDE APRIL, TIMID INTIMIDATING, BESIDE APRIL (REPRISE)\n\nLEAST FAV TRACK: UNFOLDING\n\nBADBADNOTGOOD - TALK MEMORY / 2021 / XL / JAZZ FUSION\n\n7/10\n\nY'all know this is just my opinion, right?",
          "playlistId": "UUt7fwAhXDy3oNFTAzF2o8Pw",
          "position": 20,
          "publishedAt": "2021-10-14T03:48:45Z",
          "resourceId": {
           "kind": "youtube#video",
           "videoId": "qCs96C1QPKI"
          },
          "thumbnails": {
           "default": {
            "height": 90,
            "url": "https://i.ytimg.com/vi/qCs96C1QPKI/default.jpg",
            "width": 120
           },
           "high": {
            "height": 360,
            "url": "https://i.ytimg.com/vi/qCs96C1QPKI/hqdefault.jpg",
            "width": 480
           },
           "medium": {
            "height": 180,
            "url": "https://i.ytimg.com/vi/qCs96C1QPKI/mqdefault.jpg",
            "width": 320
           },
           "standard": {
            "height": 480,
            "url": "https://i.ytimg.com/vi/qCs96C1QPKI/sddefault.jpg",
            "width": 640
           }
          },
          "title": "BADBADNOTGOOD - Talk Memory ALBUM REVIEW",
          "videoOwnerChannelId": "UCt7fwAhXDy3oNFTAzF2o8Pw",
          "videoOwnerChannelTitle": "theneedledrop"
         },
         "status": {
          "privacyStatus": "public"
         }
        },
        {
         "contentDetails": {
          "videoId": "09X24f6LLjc",
          "videoPublishedAt": "2021-10-13T04:35:37Z"
         },
         "etag": "_lGMQtfUTkI1ZZKBBznf2LQp5WE",
         "id": "VVV0N2Z3QWhYRHkzb05GVEF6RjJvOFB3LjA5WDI0ZjZMTGpj",
         "kind": "youtube#playlistItem",
         "snippet": {
          "channelId": "UCt7fwAhXDy3oNFTAzF2o8Pw",
          "channelTitle": "theneedledrop",
          "description": "Listen: https://www.youtube.com/watch?v=gB_1xE23gb4\n\nDon spends most of the album warming up.\n\nMore rap reviews: https://www.youtube.com/playlist?list=PLP4CSgl7K7ormBIO138tYonB949PHnNcP\n\n===================================\nSubscribe: http://bit.ly/1pBqGCN\n\nPatreon: https://www.patreon.com/theneedledrop\n\nOfficial site: http://theneedledrop.com\n\nTwitter: http://twitter.com/theneedledrop\n\nInstagram: https://www.instagram.com/afantano\n\nTikTok: https://www.tiktok.com/@theneedletok\n\nTND Twitch: https://www.twitch.tv/theneedledrop\n===================================\n\nFAV TRACKS: SMOKE, CROSSFADED, BOGUS\n\nLEAST FAV TRACK: COMPANY PT. 2\n\nDON TOLIVER - LIFE OF A DON / 2021 / CACTUS JACK / MELO-TRAP\n\n4/10\n\nY'all know this is just my opinion, right?",
          "playlistId": "UUt7fwAhXDy3oNFTAzF2o8Pw",
          "position": 21,
          "publishedAt": "2021-10-13T04:24:46Z",
          "resourceId": {
           "kind": "youtube#video",
           "videoId": "09X24f6LLjc"
          },
          "thumbnails": {
           "default": {
            "height": 90,
            "url": "https://i.ytimg.com/vi/09X24f6LLjc/default.jpg",
            "width": 120
           },
           "high": {
            "height": 360,
            "url": "https://i.ytimg.com/vi/09X24f6LLjc/hqdefault.jpg",
            "width": 480
           },
           "medium": {
            "height": 180,
            "url": "https://i.ytimg.com/vi/09X24f6LLjc/mqdefault.jpg",
            "width": 320
           },
           "standard": {
            "height": 480,
            "url": "https://i.ytimg.com/vi/09X24f6LLjc/sddefault.jpg",
            "width": 640
           }
          },
          "title": "Don Toliver - Life of a Don ALBUM REVIEW",
          "videoOwnerChannelId": "UCt7fwAhXDy3oNFTAzF2o8Pw",
          "videoOwnerChannelTitle": "theneedledrop"
         },
         "status": {
          "privacyStatus": "public"
         }
        },
        {
         "contentDetails": {
          "videoId": "-IYvNxzzfd4",
          "videoPublishedAt": "2021-10-12T04:42:20Z"
         },
         "etag": "-Ed2LyJqhI7BAsWg6B2SM6BfXA4",
         "id": "VVV0N2Z3QWhYRHkzb05GVEF6RjJvOFB3Li1JWXZOeHp6ZmQ0",
         "kind": "youtube#playlistItem",
         "snippet": {
          "channelId": "UCt7fwAhXDy3oNFTAzF2o8Pw",
          "channelTitle": "theneedledrop",
          "description": "Listen: https://thenewcolorblu.bandcamp.com/album/the-color-blu-e\n\nIt's a three-peat for Blu.\n\nMore rap reviews: https://www.youtube.com/playlist?list=PLP4CSgl7K7ormBIO138tYonB949PHnNcP\n\n===================================\nSubscribe: http://bit.ly/1pBqGCN\n\nPatreon: https://www.patreon.com/theneedledrop\n\nOfficial site: http://theneedledrop.com\n\nTwitter: http://twitter.com/theneedledrop\n\nInstagram: https://www.instagram.com/afantano\n\nTikTok: https://www.tiktok.com/@theneedletok\n\nTND Twitch: https://www.twitch.tv/theneedledrop\n===================================\n\nFAV TRACKS: I AM BLU(E), EVERYDAY BLU(E)S, PEOPLE CALL ME BLU(E), I WAS BORN TO BE BLU(E), BLU(E)R THAN BLU(E), WE ARE DARKER THAN BLU(E), MR. BLU(E) SKY, BLU(E) WORLD\n\nLEAST FAV TRACK: YOU AIN'T NEVER BEEN BLU(E)\n\nBLU - THE COLOR BLU(E) / 2021 / NATURE SOUNDS / CONSCIOUS HIP HOP\n\n8/10 https://www.theneedledrop.com/loved-list/2021/1/loved-list-2021\n\nY'all know this is just my opinion, right?",
          "playlistId": "UUt7fwAhXDy3oNFTAzF2o8Pw",
          "position": 22,
          "publishedAt": "2021-10-12T04:34:10Z",
          "resourceId": {
           "kind": "youtube#video",
           "videoId": "-IYvNxzzfd4"
          },
          "thumbnails": {
           "default": {
            "height": 90,
            "url": "https://i.ytimg.com/vi/-IYvNxzzfd4/default.jpg",
            "width": 120
           },
           "high": {
            "height": 360,
            "url": "https://i.ytimg.com/vi/-IYvNxzzfd4/hqdefault.jpg",
            "width": 480
           },
           "medium": {
            "height": 180,
            "url": "https://i.ytimg.com/vi/-IYvNxzzfd4/mqdefault.jpg",
            "width": 320
           },
           "standard": {
            "height": 480,
            "url": "https://i.ytimg.com/vi/-IYvNxzzfd4/sddefault.jpg",
            "width": 640
           }
          },
          "title": "Blu - The Color Blu(e) ALBUM REVIEW",
          "videoOwnerChannelId": "UCt7fwAhXDy3oNFTAzF2o8Pw",
          "videoOwnerChannelTitle": "theneedledrop"
         },
         "status": {
          "privacyStatus": "public"
         }
        },
        {
         "contentDetails": {
          "videoId": "oUoFSO-7f78",
          "videoPublishedAt": "2021-10-11T03:57:52Z"
         },
         "etag": "-1sSIKP1HfK6qrndedXwEt1jt1g",
         "id": "VVV0N2Z3QWhYRHkzb05GVEF6RjJvOFB3Lm9Vb0ZTTy03Zjc4",
         "kind": "youtube#playlistItem",
         "snippet": {
          "channelId": "UCt7fwAhXDy3oNFTAzF2o8Pw",
          "channelTitle": "theneedledrop",
          "description": "Sponsored by G Fuel: gfuel.ly/needledrop\nPromo Code: NeedleDrop\n\n2021 FAV TRACKS PLAYLIST: https://open.spotify.com/playlist/7hXc9PnNqJtnV4hMmsqgIR?si=BDDSbBnoQzS1KPhndqwfkg\n\nTND Patreon: https://www.patreon.com/theneedledrop\n\nTurntable Lab link: http://turntablelab.com/theneedledrop\n\nAusten's shoutout:\nMichael Pisaro-Liu - Revolution Shuffle\nhttps://erstwhilerecords.bandcamp.com/album/revolution-shuffle\n\n\n!!!BEST TRACKS THIS WEEK!!!\n\nPinkPantheress - I must apologise\nhttps://open.spotify.com/track/08g7wxW8iELmpxO0ppcwnI?si=4d0488f8a3824113\n\nZack Fox - fafo\nhttps://www.youtube.com/watch?v=cfuqFVaV2iE\n\nTame Impala - Breathe Deeper (Lil Yachty Remix)\nhttps://open.spotify.com/album/3Gl28UI0f8xU2DAhaXWz04?si=0bdca5cb7c0a491e\n\nSoccer Mommy, Kero Kero Bonito - rom com 2021\nhttps://www.youtube.com/watch?v=3EO18qI8r3I\n\nWe Are the Union, Eve 6 - Sound System (OP IVY COVER)\nhttps://open.spotify.com/track/3LKGuX7UJCSBLZwJb4iNxi?si=f8046bd264964ba3\n\nHatchie - Crush (JENNIFER PAIGE COVER)\nhttps://open.spotify.com/album/6V820o63cpdpS7Jz9jXhhJ?si=9d706a32f0b04425\n\nLil Wayne - Ya Dig\nhttps://open.spotify.com/track/22HAcQL7Uqs3ROwpZHxJry?si=caa3befd52a54a47\n\n\n\n...meh...\n\n\nArca - Born Yesterday ft. Sia\nhttps://www.youtube.com/watch?v=_Ed8EpTp-NI\n\nAshnikko - Panic Attacks in Paradise\nhttps://www.youtube.com/watch?v=-VNFkMZPn88\n\nGeorge Clanton, Negative Gemini - Fucking Up My Life\nhttps://www.youtube.com/watch?v=ffWiubUa3nI\n\nConway the Machine - Piano Love\nhttps://www.youtube.com/watch?v=w30fuG_f--Y\n\nSeeYouSpaceCowboy - Misinterpreting Constellations \nhttps://open.spotify.com/track/05ceDZ41NUDP4hDrOolLQa?si=af8f30f433354084\n\nMitski - Working for the Knife\nhttps://www.youtube.com/watch?v=HYbXt4_r9Pw\n\nYUKIKA - Tokyo Lights\nhttps://open.spotify.com/track/1BJnaX6WTSQcZSpugSslLZ?si=116b3f621e114b7d\n\nbbno$ - yoga ft. Rebecca Black\nhttps://open.spotify.com/track/6Dbjbkuzp4QEudONcqFNsi?si=cd8bcc5299ba4d78\n\nCordae - Super\nhttps://open.spotify.com/album/6Dt8m6lk18tTFafSPMuDeo?si=796bfd78eb614ebf\n\nNas - Big Nas\nhttps://open.spotify.com/track/0GIZWL2QckGkBdxfCQMVFA?si=94e07f8ee1fc4556\n\nC. Tangana - Ateo ft. Nathy Peluso\nhttps://open.spotify.com/track/5xiAfKzE3mbxYbOkUZPR11?si=9c84c879e844409e\n\n\n\n!!!WORST TRACKS THIS WEEK!!!\n\nTears for Fears - The Tipping Point\nhttps://open.spotify.com/track/3TVAzlsAyk0thTcwRMEIm2?si=589eb08a7bf84f80\n\numru - check1 ft. Tommy Cash, 645AR\nhttps://open.spotify.com/track/4FRb76rbCSl7CUbBNPYMmX?si=53f6705750c7450e\n\nKelis - Midnight Snacks\nhttps://www.youtube.com/watch?v=3EJLxF0mElM\n\nMåneskin - MAMAMIA\nhttps://open.spotify.com/track/78SCmQ8A7KQSMdkem2SwBP?si=7720aa9f5ecd4116\n\n===================================\nSubscribe: http://bit.ly/1pBqGCN\n\nPatreon: https://www.patreon.com/theneedledrop\n\nOfficial site: http://theneedledrop.com\n\nTwitter: http://twitter.com/theneedledrop\n\nInstagram: https://www.instagram.com/afantano\n\nTikTok: https://www.tiktok.com/@theneedletok\n\nTND Twitch: https://www.twitch.tv/theneedledrop\n===================================\n\nY'all know this is just my opinion, right?",
          "playlistId": "UUt7fwAhXDy3oNFTAzF2o8Pw",
          "position": 23,
          "publishedAt": "2021-10-11T03:34:56Z",
          "resourceId": {
           "kind": "youtube#video",
           "videoId": "oUoFSO-7f78"
          },
          "thumbnails": {
           "default": {
            "height": 90,
            "url": "https://i.ytimg.com/vi/oUoFSO-7f78/default.jpg",
            "width": 120
           },
           "high": {
            "height": 360,
            "url": "https://i.ytimg.com/vi/oUoFSO-7f78/hqdefault.jpg",
            "width": 480
           },
           "medium": {
            "height": 180,
            "url": "https://i.ytimg.com/vi/oUoFSO-7f78/mqdefault.jpg",
            "width": 320
           },
           "standard": {
            "height": 480,
            "url": "https://i.ytimg.com/vi/oUoFSO-7f78/sddefault.jpg",
            "width": 640
           }
          },
          "title": "Nas, Zack Fox, Tame Impala, Mitski | Weekly Track Roundup: 10/10/21",
          "videoOwnerChannelId": "UCt7fwAhXDy3oNFTAzF2o8Pw",
          "videoOwnerChannelTitle": "theneedledrop"
         },
         "status": {
          "privacyStatus": "public"
         }
        },
        {
         "contentDetails": {
          "videoId": "wN7fL85IHwY",
          "videoPublishedAt": "2021-10-09T18:20:57Z"
         },
         "etag": "mHJtSMAKH4aSAhSZYHymMq0fJ8M",
         "id": "VVV0N2Z3QWhYRHkzb05GVEF6RjJvOFB3LndON2ZMODVJSHdZ",
         "kind": "youtube#playlistItem",
         "snippet": {
          "channelId": "UCt7fwAhXDy3oNFTAzF2o8Pw",
          "channelTitle": "theneedledrop",
          "description": "The magical monthly segment where I briefly touch down on a gauntlet of albums I didn't get a chance to review this past month...or several. These are just my short, straightforward, passionate, biased opinions.\n\nAmyl and the Sniffers - Comfort to Me\n99 Neighbors - Wherever You're Going I Hope It's Great\nMild High Club - Going Going Gone\nShad - Tao\nSpiritbox - Eternal Blue\nG-Eazy - These Things Happen Too\nVarious Artists - The Metallica Blacklist\nMeek Mill - Expensive Pain\nPond - 9\nFull of Hell - Garden of Burning Apparitions\nAdia Victoria - A Southern Gothic\nthe Moutain Goats - Dark in Here\nSleigh Bells - Texis\n\n===================================\nSubscribe: http://bit.ly/1pBqGCN\n\nPatreon: https://www.patreon.com/theneedledrop\n\nOfficial site: http://theneedledrop.com\n\nTwitter: http://twitter.com/theneedledrop\n\nInstagram: https://www.instagram.com/afantano\n\nTikTok: https://www.tiktok.com/@theneedletok\n\nTND Twitch: https://www.twitch.tv/theneedledrop\n===================================\n\nY'all know this is just my opinion, right?",
          "playlistId": "UUt7fwAhXDy3oNFTAzF2o8Pw",
          "position": 24,
          "publishedAt": "2021-10-09T18:06:59Z",
          "resourceId": {
           "kind": "youtube#video",
           "videoId": "wN7fL85IHwY"
          },
          "thumbnails": {
           "default": {
            "height": 90,
            "url": "https://i.ytimg.com/vi/wN7fL85IHwY/default.jpg",
            "width": 120
           },
           "high": {
            "height": 360,
            "url": "https://i.ytimg.com/vi/wN7fL85IHwY/hqdefault.jpg",
            "width": 480
           },
           "medium": {
            "height": 180,
            "url": "https://i.ytimg.com/vi/wN7fL85IHwY/mqdefault.jpg",
            "width": 320
           },
           "standard": {
            "height": 480,
            "url": "https://i.ytimg.com/vi/wN7fL85IHwY/sddefault.jpg",
            "width": 640
           }
          },
          "title": "YUNOREVIEW: October 2021 (Spiritbox, Amyl, Meek Mill, Metallica)",
          "videoOwnerChannelId": "UCt7fwAhXDy3oNFTAzF2o8Pw",
          "videoOwnerChannelTitle": "theneedledrop"
         },
         "status": {
          "privacyStatus": "public"
         }
        },
        {
         "contentDetails": {
          "videoId": "NkxFwOzxVas",
          "videoPublishedAt": "2021-10-08T01:35:15Z"
         },
         "etag": "HBnmpNO8dDs4caJbWHv9GAB0hnE",
         "id": "VVV0N2Z3QWhYRHkzb05GVEF6RjJvOFB3Lk5reEZ3T3p4VmFz",
         "kind": "youtube#playlistItem",
         "snippet": {
          "channelId": "UCt7fwAhXDy3oNFTAzF2o8Pw",
          "channelTitle": "theneedledrop",
          "description": "Listen: https://frontierer.bandcamp.com/album/oxidized\n\nOxidized might just be 2021's most vicious sonic beating, and your mileage will most certainly vary based on that.\n\nMore metal reviews: https://www.youtube.com/playlist?list=PLP4CSgl7K7orAG2zKtoJKnTt_bAnLwTXo\n\n===================================\nSubscribe: http://bit.ly/1pBqGCN\n\nPatreon: https://www.patreon.com/theneedledrop\n\nOfficial site: http://theneedledrop.com\n\nTwitter: http://twitter.com/theneedledrop\n\nInstagram: https://www.instagram.com/afantano\n\nTikTok: https://www.tiktok.com/@theneedletok\n\nTND Twitch: https://www.twitch.tv/theneedledrop\n===================================\n\nFAV TRACKS: THIS MAGNETIC DRIFT, LK WX, REMOVAL OF THE COPPER IRIS AND THE LIGHTNING PILL, MOTHERBOARD, THE DAMAGE AND THE SIFT, /HOPE\n\nLEAST FAV TRACK: OPAQUE HORIZON\n\nFRONTIERER - OXIDIZED / 2021 / BLOOD BLAST DISTRIBUTION / MATHCORE, DJENT, GLITCH\n\n6/10\n\nY'all know this is just my opinion, right?",
          "playlistId": "UUt7fwAhXDy3oNFTAzF2o8Pw",
          "position": 25,
          "publishedAt": "2021-10-08T01:19:24Z",
          "resourceId": {
           "kind": "youtube#video",
           "videoId": "NkxFwOzxVas"
          },
          "thumbnails": {
           "default": {
            "height": 90,
            "url": "https://i.ytimg.com/vi/NkxFwOzxVas/default.jpg",
            "width": 120
           },
           "high": {
            "height": 360,
            "url": "https://i.ytimg.com/vi/NkxFwOzxVas/hqdefault.jpg",
            "width": 480
           },
           "medium": {
            "height": 180,
            "url": "https://i.ytimg.com/vi/NkxFwOzxVas/mqdefault.jpg",
            "width": 320
           },
           "standard": {
            "height": 480,
            "url": "https://i.ytimg.com/vi/NkxFwOzxVas/sddefault.jpg",
            "width": 640
           }
          },
          "title": "Frontierer - Oxidized ALBUM REVIEW",
          "videoOwnerChannelId": "UCt7fwAhXDy3oNFTAzF2o8Pw",
          "videoOwnerChannelTitle": "theneedledrop"
         },
         "status": {
          "privacyStatus": "public"
         }
        },
        {
         "contentDetails": {
          "videoId": "D8nsZQJpFRM",
          "videoPublishedAt": "2021-10-07T01:17:11Z"
         },
         "etag": "mndUGGfkpmUmAUjTFo_iuXIZw-Q",
         "id": "VVV0N2Z3QWhYRHkzb05GVEF6RjJvOFB3LkQ4bnNaUUpwRlJN",
         "kind": "youtube#playlistItem",
         "snippet": {
          "channelId": "UCt7fwAhXDy3oNFTAzF2o8Pw",
          "channelTitle": "theneedledrop",
          "description": "Listen: https://illuminatihotties.bandcamp.com/album/let-me-do-one-more\n\nThe one we've been waiting for.\n\nMore rock reviews: https://www.youtube.com/playlist?list=PLP4CSgl7K7ori6-Iz-AWcX561iWCfapt_\n\n===================================\nSubscribe: http://bit.ly/1pBqGCN\n\nPatreon: https://www.patreon.com/theneedledrop\n\nOfficial site: http://theneedledrop.com\n\nTwitter: http://twitter.com/theneedledrop\n\nInstagram: https://www.instagram.com/afantano\n\nTikTok: https://www.tiktok.com/@theneedletok\n\nTND Twitch: https://www.twitch.tv/theneedledrop\n===================================\n\nFAV TRACKS: POOL HOPPING, MMMOOOAAAAAYAYA, KNEAD, THREATENING EACH OTHER RE: CAPITALISM, JONI: LA'S NO. 1 HEALTH GOTH, CHEAP SHOES, GROWTH\n\nLEAST FAV TRACK: KICKFLIP\n\nILLUMINATI HOTTIES - LET ME DO ONE MORE / 2021 / SNACK SHACK TRACKS / INDIE ROCK, TENDERPUNK\n\n8/10 https://www.theneedledrop.com/loved-list/2021/1/loved-list-2021\n\nY'all know this is just my opinion, right?",
          "playlistId": "UUt7fwAhXDy3oNFTAzF2o8Pw",
          "position": 26,
          "publishedAt": "2021-10-07T01:02:55Z",
          "resourceId": {
           "kind": "youtube#video",
           "videoId": "D8nsZQJpFRM"
          },
          "thumbnails": {
           "default": {
            "height": 90,
            "url": "https://i.ytimg.com/vi/D8nsZQJpFRM/default.jpg",
            "width": 120
           },
           "high": {
            "height": 360,
            "url": "https://i.ytimg.com/vi/D8nsZQJpFRM/hqdefault.jpg",
            "width": 480
           },
           "medium": {
            "height": 180,
            "url": "https://i.ytimg.com/vi/D8nsZQJpFRM/mqdefault.jpg",
            "width": 320
           },
           "standard": {
            "height": 480,
            "url": "https://i.ytimg.com/vi/D8nsZQJpFRM/sddefault.jpg",
            "width": 640
           }
          },
          "title": "illuminati hotties - Let Me Do One More ALBUM REVIEW",
          "videoOwnerChannelId": "UCt7fwAhXDy3oNFTAzF2o8Pw",
          "videoOwnerChannelTitle": "theneedledrop"
         },
         "status": {
          "privacyStatus": "public"
         }
        },
        {
         "contentDetails": {
          "videoId": "Zg8iZsoi6qQ",
          "videoPublishedAt": "2021-10-06T04:14:01Z"
         },
         "etag": "M1cRbG5yRHNMWLj7lLgzO9nDNKk",
         "id": "VVV0N2Z3QWhYRHkzb05GVEF6RjJvOFB3LlpnOGlac29pNnFR",
         "kind": "youtube#playlistItem",
         "snippet": {
          "channelId": "UCt7fwAhXDy3oNFTAzF2o8Pw",
          "channelTitle": "theneedledrop",
          "description": "Listen: https://wiksetnyc.bandcamp.com/album/half-god\n\nWiki shines as a solo performer and lyricist on the Navy Blue-produced Half God.\n\nMore rap reviews: https://www.youtube.com/playlist?list=PLP4CSgl7K7ormBIO138tYonB949PHnNcP\n\n===================================\nSubscribe: http://bit.ly/1pBqGCN\n\nPatreon: https://www.patreon.com/theneedledrop\n\nOfficial site: http://theneedledrop.com\n\nTwitter: http://twitter.com/theneedledrop\n\nInstagram: https://www.instagram.com/afantano\n\nTikTok: https://www.tiktok.com/@theneedletok\n\nTND Twitch: https://www.twitch.tv/theneedledrop\n===================================\n\nFAV TRACKS: NOT TODAY, ROOF, CAN'T DO THIS ALONE, NEVER FALL OFF, EGO DEATH, THE BUSINESS, HOME, ALL I NEED, NEW TRUTHS, GRAPE SODA\n\nLEAST FAV TRACK: STILL HERE\n\nWIKI - HALF GOD / 2021 / WIKSET ENTERPRISE / ALTERNATIVE HIP HOP\n\n8/10 https://www.theneedledrop.com/loved-list/2021/1/loved-list-2021\n\nY'all know this is just my opinion, right?",
          "playlistId": "UUt7fwAhXDy3oNFTAzF2o8Pw",
          "position": 27,
          "publishedAt": "2021-10-06T03:55:26Z",
          "resourceId": {
           "kind": "youtube#video",
           "videoId": "Zg8iZsoi6qQ"
          },
          "thumbnails": {
           "default": {
            "height": 90,
            "url": "https://i.ytimg.com/vi/Zg8iZsoi6qQ/default.jpg",
            "width": 120
           },
           "high": {
            "height": 360,
            "url": "https://i.ytimg.com/vi/Zg8iZsoi6qQ/hqdefault.jpg",
            "width": 480
           },
           "medium": {
            "height": 180,
            "url": "https://i.ytimg.com/vi/Zg8iZsoi6qQ/mqdefault.jpg",
            "width": 320
           },
           "standard": {
            "height": 480,
            "url": "https://i.ytimg.com/vi/Zg8iZsoi6qQ/sddefault.jpg",
            "width": 640
           }
          },
          "title": "Wiki - Half God ALBUM REVIEW",
          "videoOwnerChannelId": "UCt7fwAhXDy3oNFTAzF2o8Pw",
          "videoOwnerChannelTitle": "theneedledrop"
         },
         "status": {
          "privacyStatus": "public"
         }
        },
        {
         "contentDetails": {
          "videoId": "d9WiNp9l624",
          "videoPublishedAt": "2021-10-04T18:12:30Z"
         },
         "etag": "LEE0O64PZIEbIhaRyC57FqNpmeU",
         "id": "VVV0N2Z3QWhYRHkzb05GVEF6RjJvOFB3LmQ5V2lOcDlsNjI0",
         "kind": "youtube#playlistItem",
         "snippet": {
          "channelId": "UCt7fwAhXDy3oNFTAzF2o8Pw",
          "channelTitle": "theneedledrop",
          "description": "Listen: https://soundcloud.com/westsidegunn/sets/hitler-wears-hermes-8-side-b\n\nThe A-side is more or less standard fare for Westside Gunn, but the B-side is hands-down his greatest statement since Griselda's rise.\n\nMore rap reviews: https://www.youtube.com/playlist?list=PLP4CSgl7K7ormBIO138tYonB949PHnNcP\n\n===================================\nSubscribe: http://bit.ly/1pBqGCN\n\nPatreon: https://www.patreon.com/theneedledrop\n\nOfficial site: http://theneedledrop.com\n\nTwitter: http://twitter.com/theneedledrop\n\nInstagram: https://www.instagram.com/afantano\n\nTikTok: https://www.tiktok.com/@theneedletok\n\nTND Twitch: https://www.twitch.tv/theneedledrop\n===================================\n\nFAV TRACKS: PERI PERI, RIGHT NOW, WESTHEIMER, BASH MONEY, SPOONZ, HELL ON EARTH PT. 2, FREE KUTTER, RICHIES, CELINE DION, BEST DRESSED DEMONS, WHY I DO EM LIKE THAT, RIP BERGDORF, TV BOY, EDDIE KINGSTON, OSTERTAG, MUNCH, 99 AVIREX, BIG AL\n\nLEAST FAV TRACK: SURVIVOR SERIES 95\n\nWESTSIDE GUNN - HITLER WEARS HERMES 8 / 2021 / GRISELDA / EAST COAST HIP HOP\n\nPt. 1: 6/10\nPt. 2: 8/10 https://www.theneedledrop.com/loved-list/2021/1/loved-list-2021\n\nY'all know this is just my opinion, right?",
          "playlistId": "UUt7fwAhXDy3oNFTAzF2o8Pw",
          "position": 28,
          "publishedAt": "2021-10-04T18:01:21Z",
          "resourceId": {
           "kind": "youtube#video",
           "videoId": "d9WiNp9l624"
          },
          "thumbnails": {
           "default": {
            "height": 90,
            "url": "https://i.ytimg.com/vi/d9WiNp9l624/default.jpg",
            "width": 120
           },
           "high": {
            "height": 360,
            "url": "https://i.ytimg.com/vi/d9WiNp9l624/hqdefault.jpg",
            "width": 480
           },
           "medium": {
            "height": 180,
            "url": "https://i.ytimg.com/vi/d9WiNp9l624/mqdefault.jpg",
            "width": 320
           },
           "standard": {
            "height": 480,
            "url": "https://i.ytimg.com/vi/d9WiNp9l624/sddefault.jpg",
            "width": 640
           }
          },
          "title": "Westside Gunn - Hitler Wears Hermes 8 ALBUM REVIEW",
          "videoOwnerChannelId": "UCt7fwAhXDy3oNFTAzF2o8Pw",
          "videoOwnerChannelTitle": "theneedledrop"
         },
         "status": {
          "privacyStatus": "public"
         }
        },
        {
         "contentDetails": {
          "videoId": "wIw3aX6Id5w",
          "videoPublishedAt": "2021-10-04T04:47:40Z"
         },
         "etag": "Akz0eqffeyVuNpnSJEfIEPjtOoo",
         "id": "VVV0N2Z3QWhYRHkzb05GVEF6RjJvOFB3LndJdzNhWDZJZDV3",
         "kind": "youtube#playlistItem",
         "snippet": {
          "channelId": "UCt7fwAhXDy3oNFTAzF2o8Pw",
          "channelTitle": "theneedledrop",
          "description": "Our sponsor (you won't believe it): gfuel.ly/needledrop\nPromo Code: NeedleDrop\n\n2021 FAV TRACKS PLAYLIST: https://open.spotify.com/playlist/7hXc9PnNqJtnV4hMmsqgIR?si=BDDSbBnoQzS1KPhndqwfkg\n\nTND Patreon: https://www.patreon.com/theneedledrop\n\nTurntable Lab link: http://turntablelab.com/theneedledrop\n\n\n!!!BEST TRACKS THIS WEEK!!!\n\nSpy - Afraid of Everything\nhttps://spyhc.bandcamp.com/album/habitual-offender\n\nJPEGMAFIA - Hazard Duty Pay\nhttps://youtu.be/2CGFU1lBdCI\n\nHaru Nemuri - Déconstruction\nhttps://youtu.be/YIqmqRwqaQI\n\nLimp Bizkit - Dad Vibes\nhttps://www.youtube.com/watch?v=wPHWloW1-08\nReview: https://www.youtube.com/watch?v=zThYOK6x94M\n\nGhost - Hunter's Moon\nhttps://youtu.be/rtkaUZvMaG8\n\nConverge - Blood Moon ft. Chelsea Wolfe\nhttps://youtu.be/a-7uiDx45JM\n\nRemi Wolf - Front Tooth\nhttps://www.youtube.com/watch?v=HVMsyvNX9EQ\n\nElton John & Stevie Wonder - Finish Line\nhttps://www.youtube.com/watch?v=dEyCVAIfiCk\n\nWet Leg - Wet Dream\nhttps://youtu.be/tjpgJjdk52c\n\nCourtney Barnett - Write a List of Things to Look Forward To\nhttps://youtu.be/MTrdzqGHqu4\n\nHoly Fuck - Airport Dreams ft. Sarah Bonito\nhttps://youtu.be/LwXrBSNS19k\n\nIDLES - The Beachland Ballroom\nhttps://youtu.be/t7aktt5cDqs\n\nArca - Incendio\nhttps://youtu.be/GkAG1ZjzT4E\n\nCircuit Des Yeux - Vanishing\nhttps://youtu.be/Hx77_uTJC34\n\n\n...meh...\n\nWale - Poke It Out ft. J. Cole\nhttps://www.youtube.com/watch?v=I5rXiktth44\n\nLil Wayne & Rich the Kid - Feelin' Like Tunechi\nhttps://www.youtube.com/watch?v=PQlZqexsh_w\n\nEXUM - Room #624\nhttps://youtu.be/JtFScfAM318\n\nSkylar Grey, Polo G, Mozzy & Eminem - Land One Standing\nhttps://www.youtube.com/watch?v=gXH7_XaGuPc\nReview: https://www.youtube.com/watch?v=zl4UGu2zS8k\n\nLittle Simz - Venom (Remix)\nhttps://www.youtube.com/watch?v=7tPs2WtqyjI\n\n\n!!!WORST TRACKS THIS WEEK!!!\n\nnone???\n\n\n===================================\nSubscribe: http://bit.ly/1pBqGCN\n\nPatreon: https://www.patreon.com/theneedledrop\n\nOfficial site: http://theneedledrop.com\n\nTwitter: http://twitter.com/theneedledrop\n\nInstagram: https://www.instagram.com/afantano\n\nTikTok: https://www.tiktok.com/@theneedletok\n\nTND Twitch: https://www.twitch.tv/theneedledrop\n===================================\n\nY'all know this is just my opinion, right?",
          "playlistId": "UUt7fwAhXDy3oNFTAzF2o8Pw",
          "position": 29,
          "publishedAt": "2021-10-04T04:29:19Z",
          "resourceId": {
           "kind": "youtube#video",
           "videoId": "wIw3aX6Id5w"
          },
          "thumbnails": {
           "default": {
            "height": 90,
            "url": "https://i.ytimg.com/vi/wIw3aX6Id5w/default.jpg",
            "width": 120
           },
           "high": {
            "height": 360,
            "url": "https://i.ytimg.com/vi/wIw3aX6Id5w/hqdefault.jpg",
            "width": 480
           },
           "medium": {
            "height": 180,
            "url": "https://i.ytimg.com/vi/wIw3aX6Id5w/mqdefault.jpg",
            "width": 320
           },
           "standard": {
            "height": 480,
            "url": "https://i.ytimg.com/vi/wIw3aX6Id5w/sddefault.jpg",
            "width": 640
           }
          },
          "title": "Eminem, JPEGMAFIA, Arca, Limp Bizkit | Weekly Track Roundup: 10/4/21",
          "videoOwnerChannelId": "UCt7fwAhXDy3oNFTAzF2o8Pw",
          "videoOwnerChannelTitle": "theneedledrop"
         },
         "status": {
          "privacyStatus": "public"
         }
        },
        {
         "contentDetails": {
          "videoId": "t54BjsTl5P4",
          "videoPublishedAt": "2021-10-02T01:45:33Z"
         },
         "etag": "s84Wl2xNzODPPJCYA52XGJvKyhs",
         "id": "VVV0N2Z3QWhYRHkzb05GVEF6RjJvOFB3LnQ1NEJqc1RsNVA0",
         "kind": "youtube#playlistItem",
         "snippet": {
          "channelId": "UCt7fwAhXDy3oNFTAzF2o8Pw",
          "channelTitle": "theneedledrop",
          "description": "Listen: https://www.youtube.com/watch?v=C68Okt3Qg8M\n\nFlux is a bit more of a mixed bag than Poppy's other releases in the rock lane.\n\nMore rock reviews: https://www.youtube.com/playlist?list=PLP4CSgl7K7ori6-Iz-AWcX561iWCfapt_\n\n===================================\nSubscribe: http://bit.ly/1pBqGCN\n\nPatreon: https://www.patreon.com/theneedledrop\n\nOfficial site: http://theneedledrop.com\n\nTwitter: http://twitter.com/theneedledrop\n\nInstagram: https://www.instagram.com/afantano\n\nTikTok: https://www.tiktok.com/@theneedletok\n\nTND Twitch: https://www.twitch.tv/theneedledrop\n===================================\n\nFAV TRACKS: LESSEN THE DAMAGE, ON THE LEVEL, HER, NEVER FIND MY PLACE\n\nLEAST FAV TRACK: HYSTERIA\n\nPOPPY - FLUX / 2021 / SUMERIAN / ALT ROCK\n\n6/10\n\nY'all know this is just my opinion, right?",
          "playlistId": "UUt7fwAhXDy3oNFTAzF2o8Pw",
          "position": 30,
          "publishedAt": "2021-10-02T01:29:13Z",
          "resourceId": {
           "kind": "youtube#video",
           "videoId": "t54BjsTl5P4"
          },
          "thumbnails": {
           "default": {
            "height": 90,
            "url": "https://i.ytimg.com/vi/t54BjsTl5P4/default.jpg",
            "width": 120
           },
           "high": {
            "height": 360,
            "url": "https://i.ytimg.com/vi/t54BjsTl5P4/hqdefault.jpg",
            "width": 480
           },
           "medium": {
            "height": 180,
            "url": "https://i.ytimg.com/vi/t54BjsTl5P4/mqdefault.jpg",
            "width": 320
           },
           "standard": {
            "height": 480,
            "url": "https://i.ytimg.com/vi/t54BjsTl5P4/sddefault.jpg",
            "width": 640
           }
          },
          "title": "Poppy - Flux ALBUM REVIEW",
          "videoOwnerChannelId": "UCt7fwAhXDy3oNFTAzF2o8Pw",
          "videoOwnerChannelTitle": "theneedledrop"
         },
         "status": {
          "privacyStatus": "public"
         }
        },
        {
         "contentDetails": {
          "videoId": "JstdXoJ-1TI",
          "videoPublishedAt": "2021-10-01T02:10:29Z"
         },
         "etag": "kaBkE6PW81BR4aCnpQgimcUU1VA",
         "id": "VVV0N2Z3QWhYRHkzb05GVEF6RjJvOFB3LkpzdGRYb0otMVRJ",
         "kind": "youtube#playlistItem",
         "snippet": {
          "channelId": "UCt7fwAhXDy3oNFTAzF2o8Pw",
          "channelTitle": "theneedledrop",
          "description": "Listen: https://saultglobal.bandcamp.com/album/nine (available until Oct. 2nd)\n\nWhile Nine pales in comparison to the collective's 2020 output, it's still well worth checking out...while you still can.\n\nOther reviews: https://www.youtube.com/playlist?list=PLP4CSgl7K7orSnEBkcBRqI5fDgKSs5c8o\n\n===================================\nSubscribe: http://bit.ly/1pBqGCN\n\nPatreon: https://www.patreon.com/theneedledrop\n\nOfficial site: http://theneedledrop.com\n\nTwitter: http://twitter.com/theneedledrop\n\nInstagram: https://www.instagram.com/afantano\n\nTikTok: https://www.tiktok.com/@theneedletok\n\nTND Twitch: https://www.twitch.tv/theneedledrop\n===================================\n\nFAV TRACKS: LONDON GANGS, TRAP LIFE, ALCOHOL, 9, LIGHT'S IN YOUR HANDS\n\nLEAST FAV TRACK: FEAR\n\nSAULT - NINE / 2021 / FOREVER LIVING ORIGINALS / NEO-SOUL, R&B, UK HIP HOP\n\n7/10\n\nY'all know this is just my opinion, right?",
          "playlistId": "UUt7fwAhXDy3oNFTAzF2o8Pw",
          "position": 31,
          "publishedAt": "2021-10-01T01:54:14Z",
          "resourceId": {
           "kind": "youtube#video",
           "videoId": "JstdXoJ-1TI"
          },
          "thumbnails": {
           "default": {
            "height": 90,
            "url": "https://i.ytimg.com/vi/JstdXoJ-1TI/default.jpg",
            "width": 120
           },
           "high": {
            "height": 360,
            "url": "https://i.ytimg.com/vi/JstdXoJ-1TI/hqdefault.jpg",
            "width": 480
           },
           "medium": {
            "height": 180,
            "url": "https://i.ytimg.com/vi/JstdXoJ-1TI/mqdefault.jpg",
            "width": 320
           },
           "standard": {
            "height": 480,
            "url": "https://i.ytimg.com/vi/JstdXoJ-1TI/sddefault.jpg",
            "width": 640
           }
          },
          "title": "Sault - Nine ALBUM REVIEW",
          "videoOwnerChannelId": "UCt7fwAhXDy3oNFTAzF2o8Pw",
          "videoOwnerChannelTitle": "theneedledrop"
         },
         "status": {
          "privacyStatus": "public"
         }
        },
        {
         "contentDetails": {
          "videoId": "bO4nntxCsz4",
          "videoPublishedAt": "2021-09-30T02:26:59Z"
         },
         "etag": "O0VJteAdl29WhUIdoJMPRdXEUaY",
         "id": "VVV0N2Z3QWhYRHkzb05GVEF6RjJvOFB3LmJPNG5udHhDc3o0",
         "kind": "youtube#playlistItem",
         "snippet": {
          "channelId": "UCt7fwAhXDy3oNFTAzF2o8Pw",
          "channelTitle": "theneedledrop",
          "description": "Listen: https://music.sufjan.com/album/a-beginners-mind\n\nSufjan and Angelo make beautiful music together.\n\nOther reviews: https://www.youtube.com/playlist?list=PLP4CSgl7K7orSnEBkcBRqI5fDgKSs5c8o\n\n===================================\nSubscribe: http://bit.ly/1pBqGCN\n\nPatreon: https://www.patreon.com/theneedledrop\n\nOfficial site: http://theneedledrop.com\n\nTwitter: http://twitter.com/theneedledrop\n\nInstagram: https://www.instagram.com/afantano\n\nTikTok: https://www.tiktok.com/@theneedletok\n\nTND Twitch: https://www.twitch.tv/theneedledrop\n===================================\n\nFAV TRACKS: REACH OUT, LADY MACBETH IN CHAINS, BACK TO OZ, BEGINNER'S MIND, OLYMPUS, MURDER & CRIME, (THIS IS) THE THING, IT'S YOUR OWN BODY AND MIND, FICTIONAL CALIFORNIA, CIMMERIAN SHADE\n\nLEAST FAV TRACK: YOU GIVE DEATH A BAD NAME\n\nANGELO DE AUGUSTINE & SUFJAN STEVENS - A BEGINNER'S MIND / 2021 / ASTHMATIC KITTY / INDIE FOLK, CHAMBER POP\n\n8/10 https://www.theneedledrop.com/loved-list/2021/1/loved-list-2021\n\nY'all know this is just my opinion, right?",
          "playlistId": "UUt7fwAhXDy3oNFTAzF2o8Pw",
          "position": 32,
          "publishedAt": "2021-09-30T02:14:10Z",
          "resourceId": {
           "kind": "youtube#video",
           "videoId": "bO4nntxCsz4"
          },
          "thumbnails": {
           "default": {
            "height": 90,
            "url": "https://i.ytimg.com/vi/bO4nntxCsz4/default.jpg",
            "width": 120
           },
           "high": {
            "height": 360,
            "url": "https://i.ytimg.com/vi/bO4nntxCsz4/hqdefault.jpg",
            "width": 480
           },
           "medium": {
            "height": 180,
            "url": "https://i.ytimg.com/vi/bO4nntxCsz4/mqdefault.jpg",
            "width": 320
           },
           "standard": {
            "height": 480,
            "url": "https://i.ytimg.com/vi/bO4nntxCsz4/sddefault.jpg",
            "width": 640
           }
          },
          "title": "Sufjan Stevens & Angelo De Augustine - A Beginner's Mind ALBUM REVIEW",
          "videoOwnerChannelId": "UCt7fwAhXDy3oNFTAzF2o8Pw",
          "videoOwnerChannelTitle": "theneedledrop"
         },
         "status": {
          "privacyStatus": "public"
         }
        },
        {
         "contentDetails": {
          "videoId": "XfNpqVl-caw",
          "videoPublishedAt": "2021-09-29T03:46:25Z"
         },
         "etag": "TPVmqOV4qufeb3fX0oxShONHd2M",
         "id": "VVV0N2Z3QWhYRHkzb05GVEF6RjJvOFB3LlhmTnBxVmwtY2F3",
         "kind": "youtube#playlistItem",
         "snippet": {
          "channelId": "UCt7fwAhXDy3oNFTAzF2o8Pw",
          "channelTitle": "theneedledrop",
          "description": "Listen: https://www.youtube.com/watch?v=jsexUxsgXRE\n\nThe trap metal formula might've gone awry this time.\n\nMore rap reviews: https://www.youtube.com/playlist?list=PLP4CSgl7K7ormBIO138tYonB949PHnNcP\n\n===================================\nSubscribe: http://bit.ly/1pBqGCN\n\nPatreon: https://www.patreon.com/theneedledrop\n\nOfficial site: http://theneedledrop.com\n\nTwitter: http://twitter.com/theneedledrop\n\nInstagram: https://www.instagram.com/afantano\n\nTikTok: https://www.tiktok.com/@theneedletok\n\nTND Twitch: https://www.twitch.tv/theneedledrop\n===================================\n\nFAV TRACKS: N/A\n\nLEAST FAV TRACK: IHY\n\nZILLAKAMI - DOG BOY / 2021 / REPUBLIC / TRAP METAL, GRUNGE RAP\n\n2/10\n\nY'all know this is just my opinion, right?",
          "playlistId": "UUt7fwAhXDy3oNFTAzF2o8Pw",
          "position": 33,
          "publishedAt": "2021-09-29T03:21:35Z",
          "resourceId": {
           "kind": "youtube#video",
           "videoId": "XfNpqVl-caw"
          },
          "thumbnails": {
           "default": {
            "height": 90,
            "url": "https://i.ytimg.com/vi/XfNpqVl-caw/default.jpg",
            "width": 120
           },
           "high": {
            "height": 360,
            "url": "https://i.ytimg.com/vi/XfNpqVl-caw/hqdefault.jpg",
            "width": 480
           },
           "medium": {
            "height": 180,
            "url": "https://i.ytimg.com/vi/XfNpqVl-caw/mqdefault.jpg",
            "width": 320
           },
           "standard": {
            "height": 480,
            "url": "https://i.ytimg.com/vi/XfNpqVl-caw/sddefault.jpg",
            "width": 640
           }
          },
          "title": "ZillaKami - DOG BOY ALBUM REVIEW",
          "videoOwnerChannelId": "UCt7fwAhXDy3oNFTAzF2o8Pw",
          "videoOwnerChannelTitle": "theneedledrop"
         },
         "status": {
          "privacyStatus": "public"
         }
        },
        {
         "contentDetails": {
          "videoId": "JLfSAHlNrBI",
          "videoPublishedAt": "2021-09-28T02:43:17Z"
         },
         "etag": "AygfwgmDXbRt8Lk_dQDW3wnv_MI",
         "id": "VVV0N2Z3QWhYRHkzb05GVEF6RjJvOFB3LkpMZlNBSGxOckJJ",
         "kind": "youtube#playlistItem",
         "snippet": {
          "channelId": "UCt7fwAhXDy3oNFTAzF2o8Pw",
          "channelTitle": "theneedledrop",
          "description": "Listen: https://quicklyquickly.bandcamp.com/album/the-long-and-short-of-it\n\nThis album's pretty good and shows potential; that's the long and short of it.\n\nMore pop reviews: https://www.youtube.com/playlist?list=PLP4CSgl7K7oqibt_5oDPppWxQ0iaxyyeq\n\n===================================\nSubscribe: http://bit.ly/1pBqGCN\n\nPatreon: https://www.patreon.com/theneedledrop\n\nOfficial site: http://theneedledrop.com\n\nTwitter: http://twitter.com/theneedledrop\n\nInstagram: https://www.instagram.com/afantano\n\nTikTok: https://www.tiktok.com/@theneedletok\n\nTND Twitch: https://www.twitch.tv/theneedledrop\n===================================\n\nFAV TRACKS: PHASES, SHEE, LEAVE IT, FEEL, EVERYTHING IS DIFFERENT, WY\n\nLEAST FAV TRACK: A CONVERSATION\n\nQUICKLY, QUICKLY - THE LONG AND SHORT OF IT / 2021 / GHOSTLY INTERNATIONAL / ALTERNATIVE R&B, BEDROOM POP, NU JAZZ\n\n7/10\n\nY'all know this is just my opinion, right?",
          "playlistId": "UUt7fwAhXDy3oNFTAzF2o8Pw",
          "position": 34,
          "publishedAt": "2021-09-28T02:19:10Z",
          "resourceId": {
           "kind": "youtube#video",
           "videoId": "JLfSAHlNrBI"
          },
          "thumbnails": {
           "default": {
            "height": 90,
            "url": "https://i.ytimg.com/vi/JLfSAHlNrBI/default.jpg",
            "width": 120
           },
           "high": {
            "height": 360,
            "url": "https://i.ytimg.com/vi/JLfSAHlNrBI/hqdefault.jpg",
            "width": 480
           },
           "medium": {
            "height": 180,
            "url": "https://i.ytimg.com/vi/JLfSAHlNrBI/mqdefault.jpg",
            "width": 320
           },
           "standard": {
            "height": 480,
            "url": "https://i.ytimg.com/vi/JLfSAHlNrBI/sddefault.jpg",
            "width": 640
           }
          },
          "title": "quickly, quickly - The Long and Short of It ALBUM REVIEW",
          "videoOwnerChannelId": "UCt7fwAhXDy3oNFTAzF2o8Pw",
          "videoOwnerChannelTitle": "theneedledrop"
         },
         "status": {
          "privacyStatus": "public"
         }
        },
        {
         "contentDetails": {
          "videoId": "1tQAh4h7mIg",
          "videoPublishedAt": "2021-09-27T04:52:50Z"
         },
         "etag": "kKGKLZxfZrB-2r8170YdE0T0x68",
         "id": "VVV0N2Z3QWhYRHkzb05GVEF6RjJvOFB3LjF0UUFoNGg3bUln",
         "kind": "youtube#playlistItem",
         "snippet": {
          "channelId": "UCt7fwAhXDy3oNFTAzF2o8Pw",
          "channelTitle": "theneedledrop",
          "description": "Our sponsor: http://ridgewallet.com/fantano\nUSE PROMO CODE \"MELON\" FOR 10% OFF\n\n2021 FAV TRACKS PLAYLIST: https://open.spotify.com/playlist/7hXc9PnNqJtnV4hMmsqgIR?si=BDDSbBnoQzS1KPhndqwfkg\n\nTND Patreon: https://www.patreon.com/theneedledrop\n\nTurntable Lab link: http://turntablelab.com/theneedledrop\n\n\n!!!BEST TRACKS THIS WEEK!!!\n\nPrincess Nokia - Boys Are from Mars ft. Yung Baby Tate\nhttps://www.youtube.com/watch?v=ot4ZQc0Tdj4\n\nRichard Dawson, Circle - Lily\nhttps://open.spotify.com/track/2velKJ3LFZqhFrFxE6XS76?si=118d62365fc147f3\n\nDorian Electra - Gentleman ft. Danny Brown (d0llywood1 remix)\nhttps://open.spotify.com/track/5dx0iJVFQirO9DQZFXJEza?si=bc81ea2d6c6c4d35\n\nYUKIKA - Loving You\nhttps://open.spotify.com/track/0hra4xnIEuXUTF5B0efWNN?si=bea0e588684c4ef7\n\nAmber Mark - What It Is\nhttps://open.spotify.com/track/2CJfHjywgcczXQi6Dosw8Q?si=298ec00e03e24f78\n\nLogic - Perfect (Remix) ft. A$AP Ferg, Lil Wayne\nhttps://open.spotify.com/track/7q9Jy1GzxPx6qY3gA5aEy3?si=74002d7073494cf1\n\nJanelle Monáe - Say Her Name (Hell You Talmbout)\nhttps://open.spotify.com/track/6ojXPuvXFL68e5FFyWbEC1?si=bd03cb88dc7448c3\n\nDeerhoof - Scarcity Is Manufactured\nhttps://youtu.be/6YDMgzRKXQA\n\nJulie Doiron - You Gave Me the Key\nhttps://juliedoiron.bandcamp.com/album/i-thought-of-you\n\n\n...meh...\n\nDisclosure - Observer Effect\nhttps://youtu.be/7CdNbm25zpY\n\nChelsea Wolfe - Green Altar\nhttps://youtu.be/14SSH0HpWOg\n\nIdris Elba & Lime Cordiale - Apple Crumble\nhttps://www.youtube.com/watch?v=T3dPVRGPVxQ\n\nCupcakKe - Marge Simpson\nhttps://www.youtube.com/watch?v=6PFRzVIb05k\n\nToken - High Heels ft. Rico Nasty\nhttps://open.spotify.com/track/7ntiy5NmcY0qppCXh7rX0S?si=0b9ed31a6fae4f19\n\nJoyner Lucas & J. Cole - Your Heart\nhttps://www.youtube.com/watch?v=nD-Zu6aayS0\n\nParquet Courts - Black Widow Spider\nhttps://open.spotify.com/album/568U1t0iTvZtTmwPvAjnG3?si=6882f6d7b693449d\n\n\n!!!WORST TRACKS THIS WEEK!!!\n\nDaBaby - Lonely ft. Lil Wayne\nhttps://www.youtube.com/watch?v=pqydBaa1QR8\n\nGiveon - For Tonight\nhttps://www.youtube.com/watch?v=JRoam571b58\n\nColdplay - My Universe ft. BTS\nhttps://open.spotify.com/track/7btzRuXC6Ed3rIyomBRkO2?si=f360e00b3fba4d16\n\nElton John - After All ft. Charlie Puth\nhttps://open.spotify.com/track/38UDoZyudPWXLzXRAb71oP?si=c63acab4313c4b5b\n\nGuns N' Roses - Hard Skool\nhttps://open.spotify.com/track/1Pvmzboyxwp1rOVYqwKIgU?si=caf0fb08fee44d83\n\nGunna, Future - Too Easy\nhttps://www.youtube.com/watch?v=7bKhgHV7Hfg\n\nJon Bellion - I FEEL IT ft. Burna Boy\nhttps://open.spotify.com/track/6NoTgpadvWX0qKEK6aJYsg?si=f3ff4f3397eb463f\n\nalt-J - U&ME\nhttps://www.youtube.com/watch?v=gFKhxi8b9SQ\n\n===================================\nSubscribe: http://bit.ly/1pBqGCN\n\nPatreon: https://www.patreon.com/theneedledrop\n\nOfficial site: http://theneedledrop.com\n\nTwitter: http://twitter.com/theneedledrop\n\nInstagram: https://www.instagram.com/afantano\n\nTikTok: https://www.tiktok.com/@theneedletok\n\nTND Twitch: https://www.twitch.tv/theneedledrop\n===================================\n\nY'all know this is just my opinion, right?",
          "playlistId": "UUt7fwAhXDy3oNFTAzF2o8Pw",
          "position": 35,
          "publishedAt": "2021-09-27T04:10:36Z",
          "resourceId": {
           "kind": "youtube#video",
           "videoId": "1tQAh4h7mIg"
          },
          "thumbnails": {
           "default": {
            "height": 90,
            "url": "https://i.ytimg.com/vi/1tQAh4h7mIg/default.jpg",
            "width": 120
           },
           "high": {
            "height": 360,
            "url": "https://i.ytimg.com/vi/1tQAh4h7mIg/hqdefault.jpg",
            "width": 480
           },
           "medium": {
            "height": 180,
            "url": "https://i.ytimg.com/vi/1tQAh4h7mIg/mqdefault.jpg",
            "width": 320
           },
           "standard": {
            "height": 480,
            "url": "https://i.ytimg.com/vi/1tQAh4h7mIg/sddefault.jpg",
            "width": 640
           }
          },
          "title": "Logic, Coldplay, Janelle Monáe, Idris Elba | Weekly Track Roundup: 9/27/21",
          "videoOwnerChannelId": "UCt7fwAhXDy3oNFTAzF2o8Pw",
          "videoOwnerChannelTitle": "theneedledrop"
         },
         "status": {
          "privacyStatus": "public"
         }
        },
        {
         "contentDetails": {
          "videoId": "W_okXUTN2v4",
          "videoPublishedAt": "2021-09-25T04:39:07Z"
         },
         "etag": "TkCRfVK5x9SHQ4rCMaR0NhFQqHQ",
         "id": "VVV0N2Z3QWhYRHkzb05GVEF6RjJvOFB3Lldfb2tYVVROMnY0",
         "kind": "youtube#playlistItem",
         "snippet": {
          "channelId": "UCt7fwAhXDy3oNFTAzF2o8Pw",
          "channelTitle": "theneedledrop",
          "description": "Listen: https://carcass.bandcamp.com/album/torn-arteries\n\nTorn Arteries is another helping of what the melodeath mainstay does well—no more, no less.\n\nMore metal reviews: https://www.youtube.com/playlist?list=PLP4CSgl7K7orAG2zKtoJKnTt_bAnLwTXo\n\n===================================\nSubscribe: http://bit.ly/1pBqGCN\n\nPatreon: https://www.patreon.com/theneedledrop\n\nOfficial site: http://theneedledrop.com\n\nTwitter: http://twitter.com/theneedledrop\n\nInstagram: https://www.instagram.com/afantano\n\nTikTok: https://www.tiktok.com/@theneedletok\n\nTND Twitch: https://www.twitch.tv/theneedledrop\n===================================\n\nFAV TRACKS: DANCE OF IXTAB, ELEANOR RIGOR MORTIS, KELLY'S MEAT EMPORIUM, IN GOD WE TRUST, WAKE UP AND SMELL THE CARCASS / CAVEAT EMPTOR, THE SCYTHE'S REMORSELESS SWING\n\nLEAST FAV TRACK: TORN ARTERIES\n\nCARCASS - TORN ARTERIES / 2021 / NUCLEAR BLAST / MELODIC DEATH METAL\n\n7/10\n\nY'all know this is just my opinion, right?",
          "playlistId": "UUt7fwAhXDy3oNFTAzF2o8Pw",
          "position": 36,
          "publishedAt": "2021-09-25T04:29:36Z",
          "resourceId": {
           "kind": "youtube#video",
           "videoId": "W_okXUTN2v4"
          },
          "thumbnails": {
           "default": {
            "height": 90,
            "url": "https://i.ytimg.com/vi/W_okXUTN2v4/default.jpg",
            "width": 120
           },
           "high": {
            "height": 360,
            "url": "https://i.ytimg.com/vi/W_okXUTN2v4/hqdefault.jpg",
            "width": 480
           },
           "medium": {
            "height": 180,
            "url": "https://i.ytimg.com/vi/W_okXUTN2v4/mqdefault.jpg",
            "width": 320
           },
           "standard": {
            "height": 480,
            "url": "https://i.ytimg.com/vi/W_okXUTN2v4/sddefault.jpg",
            "width": 640
           }
          },
          "title": "Carcass - Torn Arteries ALBUM REVIEW",
          "videoOwnerChannelId": "UCt7fwAhXDy3oNFTAzF2o8Pw",
          "videoOwnerChannelTitle": "theneedledrop"
         },
         "status": {
          "privacyStatus": "public"
         }
        },
        {
         "contentDetails": {
          "videoId": "zp1Dcm4pcgw",
          "videoPublishedAt": "2021-09-24T03:48:39Z"
         },
         "etag": "LnjHHnQu_CgB4qkyPbjW45tOfRA",
         "id": "VVV0N2Z3QWhYRHkzb05GVEF6RjJvOFB3LnpwMURjbTRwY2d3",
         "kind": "youtube#playlistItem",
         "snippet": {
          "channelId": "UCt7fwAhXDy3oNFTAzF2o8Pw",
          "channelTitle": "theneedledrop",
          "description": "Reacting to comments from these reviews:\n\nLow - HEY WHAT\nhttps://youtu.be/Btugs9ZTbvw\n\nInjury Reserve - By the Time I Get to Phoenix\nhttps://youtu.be/9t3xLtOCF4w\n\nLil Nas X - Montero\nhttps://youtu.be/XU8kVIzm_D0\n\n===================================\nSubscribe: http://bit.ly/1pBqGCN\n\nPatreon: https://www.patreon.com/theneedledrop\n\nOfficial site: http://theneedledrop.com\n\nTwitter: http://twitter.com/theneedledrop\n\nInstagram: https://www.instagram.com/afantano\n\nTikTok: https://www.tiktok.com/@theneedletok\n\nTND Twitch: https://www.twitch.tv/theneedledrop\n===================================\n\nY'all know this is just my opinion, right?",
          "playlistId": "UUt7fwAhXDy3oNFTAzF2o8Pw",
          "position": 37,
          "publishedAt": "2021-09-24T03:33:08Z",
          "resourceId": {
           "kind": "youtube#video",
           "videoId": "zp1Dcm4pcgw"
          },
          "thumbnails": {
           "default": {
            "height": 90,
            "url": "https://i.ytimg.com/vi/zp1Dcm4pcgw/default.jpg",
            "width": 120
           },
           "high": {
            "height": 360,
            "url": "https://i.ytimg.com/vi/zp1Dcm4pcgw/hqdefault.jpg",
            "width": 480
           },
           "medium": {
            "height": 180,
            "url": "https://i.ytimg.com/vi/zp1Dcm4pcgw/mqdefault.jpg",
            "width": 320
           },
           "standard": {
            "height": 480,
            "url": "https://i.ytimg.com/vi/zp1Dcm4pcgw/sddefault.jpg",
            "width": 640
           }
          },
          "title": "Reading Your Comments: Lil Nas X, Injury Reserve, Low",
          "videoOwnerChannelId": "UCt7fwAhXDy3oNFTAzF2o8Pw",
          "videoOwnerChannelTitle": "theneedledrop"
         },
         "status": {
          "privacyStatus": "public"
         }
        },
        {
         "contentDetails": {
          "videoId": "cV7_MgSds-0",
          "videoPublishedAt": "2021-09-23T04:31:15Z"
         },
         "etag": "BBLYgfML1F9T2UlZc8xHnuE7k9s",
         "id": "VVV0N2Z3QWhYRHkzb05GVEF6RjJvOFB3LmNWN19NZ1Nkcy0w",
         "kind": "youtube#playlistItem",
         "snippet": {
          "channelId": "UCt7fwAhXDy3oNFTAzF2o8Pw",
          "channelTitle": "theneedledrop",
          "description": "Listen: https://indigodesouza.bandcamp.com/album/any-shape-you-take\n\nDespite missing some of its predecessor's rough-and-ready charm, Any Shape You Take is a solid indie effort.\n\nMore rock reviews: https://www.youtube.com/playlist?list=PLP4CSgl7K7ori6-Iz-AWcX561iWCfapt_\n\n===================================\nSubscribe: http://bit.ly/1pBqGCN\n\nPatreon: https://www.patreon.com/theneedledrop\n\nOfficial site: http://theneedledrop.com\n\nTwitter: http://twitter.com/theneedledrop\n\nInstagram: https://www.instagram.com/afantano\n\nTikTok: https://www.tiktok.com/@theneedletok\n\nTND Twitch: https://www.twitch.tv/theneedledrop\n===================================\n\nFAV TRACKS: 17, REAL PAIN, BAD DREAM, LATE NIGHT CRAWLER, HOLD U, KILL ME\n\nLEAST FAV TRACK: PRETTY PICTURES\n\nINDIGO DE SOUZA - ANY SHAPE YOU TAKE / 2021 / SADDLE CREEK / INDIE ROCK\n\n7/10\n\nY'all know this is just my opinion, right?",
          "playlistId": "UUt7fwAhXDy3oNFTAzF2o8Pw",
          "position": 38,
          "publishedAt": "2021-09-23T04:20:57Z",
          "resourceId": {
           "kind": "youtube#video",
           "videoId": "cV7_MgSds-0"
          },
          "thumbnails": {
           "default": {
            "height": 90,
            "url": "https://i.ytimg.com/vi/cV7_MgSds-0/default.jpg",
            "width": 120
           },
           "high": {
            "height": 360,
            "url": "https://i.ytimg.com/vi/cV7_MgSds-0/hqdefault.jpg",
            "width": 480
           },
           "medium": {
            "height": 180,
            "url": "https://i.ytimg.com/vi/cV7_MgSds-0/mqdefault.jpg",
            "width": 320
           },
           "standard": {
            "height": 480,
            "url": "https://i.ytimg.com/vi/cV7_MgSds-0/sddefault.jpg",
            "width": 640
           }
          },
          "title": "Indigo De Souza - Any Shape You Take ALBUM REVIEW",
          "videoOwnerChannelId": "UCt7fwAhXDy3oNFTAzF2o8Pw",
          "videoOwnerChannelTitle": "theneedledrop"
         },
         "status": {
          "privacyStatus": "public"
         }
        },
        {
         "contentDetails": {
          "videoId": "9t3xLtOCF4w",
          "videoPublishedAt": "2021-09-22T02:07:22Z"
         },
         "etag": "p-eurPbqCkxWytwzzViXtutF3FY",
         "id": "VVV0N2Z3QWhYRHkzb05GVEF6RjJvOFB3Ljl0M3hMdE9DRjR3",
         "kind": "youtube#playlistItem",
         "snippet": {
          "channelId": "UCt7fwAhXDy3oNFTAzF2o8Pw",
          "channelTitle": "theneedledrop",
          "description": "Listen: https://injuryreserve.bandcamp.com/album/by-the-time-i-get-to-phoenix\n\nInjury Reserve pulled something of a masterpiece from a truly hellish year.\n\nMore rap reviews: https://www.youtube.com/playlist?list=PLP4CSgl7K7ormBIO138tYonB949PHnNcP\n\n===================================\nSubscribe: http://bit.ly/1pBqGCN\n\nPatreon: https://www.patreon.com/theneedledrop\n\nOfficial site: http://theneedledrop.com\n\nTwitter: http://twitter.com/theneedledrop\n\nInstagram: https://www.instagram.com/afantano\n\nTikTok: https://www.tiktok.com/@theneedletok\n\nTND Twitch: https://www.twitch.tv/theneedledrop\n===================================\n\nFAV TRACKS: OUTSIDE, SUPERMAN THAT, SS SAN FRANCISCO, TOP PICKS FOR YOU, WILD WILD WEST, POSTPOSTPARTUM, KNEES, BYE STORM\n\nLEAST FAV TRACK: FOOTWORK IN A FOREST FIRE\n\nINJURY RESERVE - BY THE TIME I GET TO PHOENIX / 2021 / SELF-RELEASED / EXPERIMENTAL HIP HOP, GLITCH\n\n9/10 https://www.theneedledrop.com/loved-list/2021/1/loved-list-2021\n\nY'all know this is just my opinion, right?",
          "playlistId": "UUt7fwAhXDy3oNFTAzF2o8Pw",
          "position": 39,
          "publishedAt": "2021-09-22T01:29:55Z",
          "resourceId": {
           "kind": "youtube#video",
           "videoId": "9t3xLtOCF4w"
          },
          "thumbnails": {
           "default": {
            "height": 90,
            "url": "https://i.ytimg.com/vi/9t3xLtOCF4w/default.jpg",
            "width": 120
           },
           "high": {
            "height": 360,
            "url": "https://i.ytimg.com/vi/9t3xLtOCF4w/hqdefault.jpg",
            "width": 480
           },
           "medium": {
            "height": 180,
            "url": "https://i.ytimg.com/vi/9t3xLtOCF4w/mqdefault.jpg",
            "width": 320
           },
           "standard": {
            "height": 480,
            "url": "https://i.ytimg.com/vi/9t3xLtOCF4w/sddefault.jpg",
            "width": 640
           }
          },
          "title": "Injury Reserve - By the Time I Get to Phoenix ALBUM REVIEW",
          "videoOwnerChannelId": "UCt7fwAhXDy3oNFTAzF2o8Pw",
          "videoOwnerChannelTitle": "theneedledrop"
         },
         "status": {
          "privacyStatus": "public"
         }
        },
        {
         "contentDetails": {
          "videoId": "XU8kVIzm_D0",
          "videoPublishedAt": "2021-09-21T03:43:31Z"
         },
         "etag": "t3qlqur8seUztM2ZEW5Ica7GA3U",
         "id": "VVV0N2Z3QWhYRHkzb05GVEF6RjJvOFB3LlhVOGtWSXptX0Qw",
         "kind": "youtube#playlistItem",
         "snippet": {
          "channelId": "UCt7fwAhXDy3oNFTAzF2o8Pw",
          "channelTitle": "theneedledrop",
          "description": "Listen: https://www.youtube.com/watch?v=6swmTBVI83k\n\nMontero's catchiness and candor is unmatched by a great deal of modern pop.\n\nMore rap reviews: https://www.youtube.com/playlist?list=PLP4CSgl7K7ormBIO138tYonB949PHnNcP\n\n===================================\nSubscribe: http://bit.ly/1pBqGCN\n\nPatreon: https://www.patreon.com/theneedledrop\n\nOfficial site: http://theneedledrop.com\n\nTwitter: http://twitter.com/theneedledrop\n\nInstagram: https://www.instagram.com/afantano\n\nTikTok: https://www.tiktok.com/@theneedletok\n\nTND Twitch: https://www.twitch.tv/theneedledrop\n===================================\n\nFAV TRACKS: MONTERO, INDUSTRY BABY, ONE OF ME, DOLLA SIGN SLIME, TALES OF DOMINICA, SUN GOES DOWN, LIFE AFTER SALEM, AM I DREAMING\n\nLEAST FAV TRACK: LOST IN THE CITADEL\n\nLIL NAS X - MONTERO / 2021 / COLUMBIA / W BUT STILL RATIO\n\n7/10\n\nY'all know this is just my opinion, right?",
          "playlistId": "UUt7fwAhXDy3oNFTAzF2o8Pw",
          "position": 40,
          "publishedAt": "2021-09-21T03:18:41Z",
          "resourceId": {
           "kind": "youtube#video",
           "videoId": "XU8kVIzm_D0"
          },
          "thumbnails": {
           "default": {
            "height": 90,
            "url": "https://i.ytimg.com/vi/XU8kVIzm_D0/default.jpg",
            "width": 120
           },
           "high": {
            "height": 360,
            "url": "https://i.ytimg.com/vi/XU8kVIzm_D0/hqdefault.jpg",
            "width": 480
           },
           "medium": {
            "height": 180,
            "url": "https://i.ytimg.com/vi/XU8kVIzm_D0/mqdefault.jpg",
            "width": 320
           },
           "standard": {
            "height": 480,
            "url": "https://i.ytimg.com/vi/XU8kVIzm_D0/sddefault.jpg",
            "width": 640
           }
          },
          "title": "Lil Nas X - Montero ALBUM REVIEW",
          "videoOwnerChannelId": "UCt7fwAhXDy3oNFTAzF2o8Pw",
          "videoOwnerChannelTitle": "theneedledrop"
         },
         "status": {
          "privacyStatus": "public"
         }
        },
        {
         "contentDetails": {
          "videoId": "5M1cobSRmFM",
          "videoPublishedAt": "2021-09-20T03:44:35Z"
         },
         "etag": "8KMqZHWMg1nokv9owHVCPjL-vow",
         "id": "VVV0N2Z3QWhYRHkzb05GVEF6RjJvOFB3LjVNMWNvYlNSbUZN",
         "kind": "youtube#playlistItem",
         "snippet": {
          "channelId": "UCt7fwAhXDy3oNFTAzF2o8Pw",
          "channelTitle": "theneedledrop",
          "description": "Our sponsor: http://ridgewallet.com/fantano\nUSE PROMO CODE \"MELON\" FOR 10% OFF\n\n2021 FAV TRACKS PLAYLIST: https://open.spotify.com/playlist/7hXc9PnNqJtnV4hMmsqgIR?si=BDDSbBnoQzS1KPhndqwfkg\n\nTND Patreon: https://www.patreon.com/theneedledrop\n\nTurntable Lab link: http://turntablelab.com/theneedledrop\n\n\n!!!BEST TRACKS THIS WEEK!!!\n\nLil Nas X - Dolla Sign Slime ft. Megan Thee Stallion\nhttps://www.youtube.com/watch?v=wuh6YqcQgmM\n\nSnail Mail - Valentine\nhttps://www.youtube.com/watch?v=ZxarOZ0JBcc\n\nHatchie - This Enchanted\nhttps://youtu.be/nBrcc0laZwM\n\nMagdalena Bay - You Lose!\nhttps://youtu.be/FQPXX_eZZAk\n\nMakthaverskan - This Time\nhttps://youtu.be/QV-VEuomA1E\n\nMarissa Nadler - If I Could Breathe Under Water ft. Mary Lattimore\nhttps://youtu.be/f4WYnSSw34w\n\nJames Blake - Famous Last Words\nhttps://youtu.be/O-W-tiQ3UwU\n\nXenia Rubinos - Don't Put Me in Red\nhttps://youtu.be/Flz14z2V4Pk\n\nOpen Mike Eagle - Burner Account ft. Armand Hammer\nhttps://open.spotify.com/track/6zuKHQGa4GE9NgnsYu3fRX?si=89588395e057472b\n\nWiki - Promised ft. MIKE \nhttps://youtu.be/rLodvrH2KME\n\nKehlani - Altar\nhttps://youtu.be/lsbJvA_ag3c\n\nAdia Victoria – You Was Born to Die (Feat. Jason Isbell, Margo Price, & Kyshona Armstrong)\nhttps://youtu.be/-pC_ILIzIyU\n\n\n...meh...\n\nTaylor Swift - Wildest Dreams (Taylor's Version)\nhttps://www.youtube.com/watch?v=CUr_UwUUXzU\n\nGrouper - Ode to the Blue\nhttps://youtu.be/o1HoarnBVbk\n\nNick Cave & The Bad Seeds - Earthlings\nhttps://www.youtube.com/watch?v=Z_xnkVhz270\n\nSharon Van Etten - Femme Fatale (Velvet Underground & Nico Cover)\nhttps://www.youtube.com/watch?v=YfDzadxEmhI\n\niann dior & Lil Uzi Vert - V12\nhttps://www.youtube.com/watch?v=2C6uxqoz9CI\n\nYoungBoy Never Broke Again - On My Side\nhttps://www.youtube.com/watch?v=NEu-cJSGvXk\n\nBring Me the Horizon - DiE4u\nhttps://www.youtube.com/watch?v=IPUUbVhvqrE\n\nSpiritbox - Hurt You\nhttps://www.youtube.com/watch?v=ots5los164Q\n\n\n!!!WORST TRACKS THIS WEEK!!!!\n\nMy Morning Jacket - Love Love Love\nhttps://www.youtube.com/watch?v=c-8hD7N2AOE\n\nThe War on Drugs - I Don't Live Here Anymore ft. Lucious\nhttps://youtu.be/MVh6XTwWhMY\n\n===================================\nSubscribe: http://bit.ly/1pBqGCN\n\nPatreon: https://www.patreon.com/theneedledrop\n\nOfficial site: http://theneedledrop.com\n\nTwitter: http://twitter.com/theneedledrop\n\nInstagram: https://www.instagram.com/afantano\n\nTikTok: https://www.tiktok.com/@theneedletok\n\nTND Twitch: https://www.twitch.tv/theneedledrop\n===================================\n\nY'all know this is just my opinion, right?",
          "playlistId": "UUt7fwAhXDy3oNFTAzF2o8Pw",
          "position": 41,
          "publishedAt": "2021-09-20T03:31:48Z",
          "resourceId": {
           "kind": "youtube#video",
           "videoId": "5M1cobSRmFM"
          },
          "thumbnails": {
           "default": {
            "height": 90,
            "url": "https://i.ytimg.com/vi/5M1cobSRmFM/default.jpg",
            "width": 120
           },
           "high": {
            "height": 360,
            "url": "https://i.ytimg.com/vi/5M1cobSRmFM/hqdefault.jpg",
            "width": 480
           },
           "medium": {
            "height": 180,
            "url": "https://i.ytimg.com/vi/5M1cobSRmFM/mqdefault.jpg",
            "width": 320
           },
           "standard": {
            "height": 480,
            "url": "https://i.ytimg.com/vi/5M1cobSRmFM/sddefault.jpg",
            "width": 640
           }
          },
          "title": "Lil Nas X, Taylor Swift, NBA YoungBoy, Kehlani | Weekly Track Roundup: 9/19/21",
          "videoOwnerChannelId": "UCt7fwAhXDy3oNFTAzF2o8Pw",
          "videoOwnerChannelTitle": "theneedledrop"
         },
         "status": {
          "privacyStatus": "public"
         }
        },
        {
         "contentDetails": {
          "videoId": "Btugs9ZTbvw",
          "videoPublishedAt": "2021-09-18T02:07:10Z"
         },
         "etag": "iFxWrdAKl4TWr3Gfu3t_va9Hd4w",
         "id": "VVV0N2Z3QWhYRHkzb05GVEF6RjJvOFB3LkJ0dWdzOVpUYnZ3",
         "kind": "youtube#playlistItem",
         "snippet": {
          "channelId": "UCt7fwAhXDy3oNFTAzF2o8Pw",
          "channelTitle": "theneedledrop",
          "description": "Listen: https://lowtheband.bandcamp.com/album/hey-what\n\nLow's not fucking around.\n\nOther reviews: https://www.youtube.com/playlist?list=PLP4CSgl7K7orSnEBkcBRqI5fDgKSs5c8o\n\n===================================\nSubscribe: http://bit.ly/1pBqGCN\n\nPatreon: https://www.patreon.com/theneedledrop\n\nOfficial site: http://theneedledrop.com\n\nTwitter: http://twitter.com/theneedledrop\n\nInstagram: https://www.instagram.com/afantano\n\nTikTok: https://www.tiktok.com/@theneedletok\n\nTND Twitch: https://www.twitch.tv/theneedledrop\n===================================\n\nFAV TRACKS: WHITE HORSES, ALL NIGHT, DISAPPEARING, HEY, DAYS LIKE THESE, DON'T WALK AWAY, MORE\n\nLEAST FAV TRACK: I CAN WAIT\n\nLOW - HEY WHAT / 2021 / SUB POP / NOISE, POST-INDUSTRIAL, DRONE, GOSPEL\n\n8/10 https://www.theneedledrop.com/loved-list/2021/1/loved-list-2021\n\nY'all know this is just my opinion, right?",
          "playlistId": "UUt7fwAhXDy3oNFTAzF2o8Pw",
          "position": 42,
          "publishedAt": "2021-09-18T01:51:21Z",
          "resourceId": {
           "kind": "youtube#video",
           "videoId": "Btugs9ZTbvw"
          },
          "thumbnails": {
           "default": {
            "height": 90,
            "url": "https://i.ytimg.com/vi/Btugs9ZTbvw/default.jpg",
            "width": 120
           },
           "high": {
            "height": 360,
            "url": "https://i.ytimg.com/vi/Btugs9ZTbvw/hqdefault.jpg",
            "width": 480
           },
           "medium": {
            "height": 180,
            "url": "https://i.ytimg.com/vi/Btugs9ZTbvw/mqdefault.jpg",
            "width": 320
           },
           "standard": {
            "height": 480,
            "url": "https://i.ytimg.com/vi/Btugs9ZTbvw/sddefault.jpg",
            "width": 640
           }
          },
          "title": "Low - HEY WHAT ALBUM REVIEW",
          "videoOwnerChannelId": "UCt7fwAhXDy3oNFTAzF2o8Pw",
          "videoOwnerChannelTitle": "theneedledrop"
         },
         "status": {
          "privacyStatus": "public"
         }
        },
        {
         "contentDetails": {
          "videoId": "zCiMy6Dhez0",
          "videoPublishedAt": "2021-09-17T04:51:36Z"
         },
         "etag": "3WSVmCu6Aq7rNJnSakZW0nJkkSo",
         "id": "VVV0N2Z3QWhYRHkzb05GVEF6RjJvOFB3LnpDaU15NkRoZXow",
         "kind": "youtube#playlistItem",
         "snippet": {
          "channelId": "UCt7fwAhXDy3oNFTAzF2o8Pw",
          "channelTitle": "theneedledrop",
          "description": "Listen: https://www.youtube.com/watch?v=fyyiJc0Wk2M\n\nScreen Violence is a bit of a creative bounce-back for the trio.\n\nMore pop reviews: https://www.youtube.com/playlist?list=PLP4CSgl7K7oqibt_5oDPppWxQ0iaxyyeq\n\n===================================\nSubscribe: http://bit.ly/1pBqGCN\n\nPatreon: https://www.patreon.com/theneedledrop\n\nOfficial site: http://theneedledrop.com\n\nTwitter: http://twitter.com/theneedledrop\n\nInstagram: https://www.instagram.com/afantano\n\nTikTok: https://www.tiktok.com/@theneedletok\n\nTND Twitch: https://www.twitch.tv/theneedledrop\n===================================\n\nFAV TRACKS: ASKING FOR A FRIEND, VIOLENT DELIGHTS, HOW NOT TO DROWN, FINAL GIRL\n\nLEAST FAV TRACK: BETTER IF YOU DON'T\n\nCHVRCHES - SCREEN VIOLENCE / 2021 / GLASSNOTE ENTERTAINMENT / SYNTHPOP\n\n6/10\n\nY'all know this is just my opinion, right?",
          "playlistId": "UUt7fwAhXDy3oNFTAzF2o8Pw",
          "position": 43,
          "publishedAt": "2021-09-17T04:42:26Z",
          "resourceId": {
           "kind": "youtube#video",
           "videoId": "zCiMy6Dhez0"
          },
          "thumbnails": {
           "default": {
            "height": 90,
            "url": "https://i.ytimg.com/vi/zCiMy6Dhez0/default.jpg",
            "width": 120
           },
           "high": {
            "height": 360,
            "url": "https://i.ytimg.com/vi/zCiMy6Dhez0/hqdefault.jpg",
            "width": 480
           },
           "medium": {
            "height": 180,
            "url": "https://i.ytimg.com/vi/zCiMy6Dhez0/mqdefault.jpg",
            "width": 320
           },
           "standard": {
            "height": 480,
            "url": "https://i.ytimg.com/vi/zCiMy6Dhez0/sddefault.jpg",
            "width": 640
           }
          },
          "title": "CHVRCHES - Screen Violence ALBUM REVIEW",
          "videoOwnerChannelId": "UCt7fwAhXDy3oNFTAzF2o8Pw",
          "videoOwnerChannelTitle": "theneedledrop"
         },
         "status": {
          "privacyStatus": "public"
         }
        },
        {
         "contentDetails": {
          "videoId": "bs_n9d0I7gE",
          "videoPublishedAt": "2021-09-16T01:28:38Z"
         },
         "etag": "yrRyCSmjr8vF77laBEk9NrzHNik",
         "id": "VVV0N2Z3QWhYRHkzb05GVEF6RjJvOFB3LmJzX245ZDBJN2dF",
         "kind": "youtube#playlistItem",
         "snippet": {
          "channelId": "UCt7fwAhXDy3oNFTAzF2o8Pw",
          "channelTitle": "theneedledrop",
          "description": "Reacting to comments from these reviews:\n\nDrake - Certified Lover Boy\nhttps://youtu.be/k6ppxsRfZMA\n\nKacey Musgraves - star-crossed\nhttps://youtu.be/HMu-Md27VDc\n\nBaby Keem - The Melodic Blue\nhttps://youtu.be/fDo6TzAIaAE\n\nLittle Simz - Sometimes I Might Be Introvert\nhttps://youtu.be/DF-MrUfIsY4\n\n===================================\nSubscribe: http://bit.ly/1pBqGCN\n\nPatreon: https://www.patreon.com/theneedledrop\n\nOfficial site: http://theneedledrop.com\n\nTwitter: http://twitter.com/theneedledrop\n\nInstagram: https://www.instagram.com/afantano\n\nTikTok: https://www.tiktok.com/@theneedletok\n\nTND Twitch: https://www.twitch.tv/theneedledrop\n===================================\n\nY'all know this is just my opinion, right?",
          "playlistId": "UUt7fwAhXDy3oNFTAzF2o8Pw",
          "position": 44,
          "publishedAt": "2021-09-16T01:01:20Z",
          "resourceId": {
           "kind": "youtube#video",
           "videoId": "bs_n9d0I7gE"
          },
          "thumbnails": {
           "default": {
            "height": 90,
            "url": "https://i.ytimg.com/vi/bs_n9d0I7gE/default.jpg",
            "width": 120
           },
           "high": {
            "height": 360,
            "url": "https://i.ytimg.com/vi/bs_n9d0I7gE/hqdefault.jpg",
            "width": 480
           },
           "medium": {
            "height": 180,
            "url": "https://i.ytimg.com/vi/bs_n9d0I7gE/mqdefault.jpg",
            "width": 320
           },
           "standard": {
            "height": 480,
            "url": "https://i.ytimg.com/vi/bs_n9d0I7gE/sddefault.jpg",
            "width": 640
           }
          },
          "title": "Reading Your Comments: Drake, Kacey Musgraves, Baby Keem, Little Simz",
          "videoOwnerChannelId": "UCt7fwAhXDy3oNFTAzF2o8Pw",
          "videoOwnerChannelTitle": "theneedledrop"
         },
         "status": {
          "privacyStatus": "public"
         }
        },
        {
         "contentDetails": {
          "videoId": "fDo6TzAIaAE",
          "videoPublishedAt": "2021-09-15T03:15:31Z"
         },
         "etag": "26KywpGhMVyPWIbYk62B0oZy0GY",
         "id": "VVV0N2Z3QWhYRHkzb05GVEF6RjJvOFB3LmZEbzZUekFJYUFF",
         "kind": "youtube#playlistItem",
         "snippet": {
          "channelId": "UCt7fwAhXDy3oNFTAzF2o8Pw",
          "channelTitle": "theneedledrop",
          "description": "Listen: https://www.youtube.com/watch?v=IkuBYRUwWdg\n\nBaby Keem clearly has it in him to produce great albums going forward, The Melodic Blue hopefully being a blueprint of sorts.\n\nMore rap reviews: https://www.youtube.com/playlist?list=PLP4CSgl7K7ormBIO138tYonB949PHnNcP\n\n===================================\nSubscribe: http://bit.ly/1pBqGCN\n\nPatreon: https://www.patreon.com/theneedledrop\n\nOfficial site: http://theneedledrop.com\n\nTwitter: http://twitter.com/theneedledrop\n\nInstagram: https://www.instagram.com/afantano\n\nTikTok: https://www.tiktok.com/@theneedletok\n\nTND Twitch: https://www.twitch.tv/theneedledrop\n===================================\n\nFAV TRACKS: TRADEMARK USA, SCAPEGOATS, RANGE BROTHERS, ISSUES, SCARS, BOOMAN, VENT\n\nLEAST FAV TRACK: LOST SOULS\n\nBABY KEEM - THE MELODIC BLUE / 2021 / PGLANG / ALTERNATIVE HIP HOP\n\n6/10\n\nY'all know this is just my opinion, right?",
          "playlistId": "UUt7fwAhXDy3oNFTAzF2o8Pw",
          "position": 45,
          "publishedAt": "2021-09-15T02:56:01Z",
          "resourceId": {
           "kind": "youtube#video",
           "videoId": "fDo6TzAIaAE"
          },
          "thumbnails": {
           "default": {
            "height": 90,
            "url": "https://i.ytimg.com/vi/fDo6TzAIaAE/default.jpg",
            "width": 120
           },
           "high": {
            "height": 360,
            "url": "https://i.ytimg.com/vi/fDo6TzAIaAE/hqdefault.jpg",
            "width": 480
           },
           "medium": {
            "height": 180,
            "url": "https://i.ytimg.com/vi/fDo6TzAIaAE/mqdefault.jpg",
            "width": 320
           },
           "standard": {
            "height": 480,
            "url": "https://i.ytimg.com/vi/fDo6TzAIaAE/sddefault.jpg",
            "width": 640
           }
          },
          "title": "Baby Keem - The Melodic Blue ALBUM REVIEW",
          "videoOwnerChannelId": "UCt7fwAhXDy3oNFTAzF2o8Pw",
          "videoOwnerChannelTitle": "theneedledrop"
         },
         "status": {
          "privacyStatus": "public"
         }
        },
        {
         "contentDetails": {
          "videoId": "HMu-Md27VDc",
          "videoPublishedAt": "2021-09-14T03:23:21Z"
         },
         "etag": "zcMIX70CQ4FPiiiwT-BYzAmoOos",
         "id": "VVV0N2Z3QWhYRHkzb05GVEF6RjJvOFB3LkhNdS1NZDI3VkRj",
         "kind": "youtube#playlistItem",
         "snippet": {
          "channelId": "UCt7fwAhXDy3oNFTAzF2o8Pw",
          "channelTitle": "theneedledrop",
          "description": "Listen: https://www.youtube.com/watch?v=aFDa0Qv9wXA\n\nStar-Crossed is a mess all the way up to its mastering.\n\nMore pop reviews: https://www.youtube.com/playlist?list=PLP4CSgl7K7oqibt_5oDPppWxQ0iaxyyeq\n\n===================================\nSubscribe: http://bit.ly/1pBqGCN\n\nPatreon: https://www.patreon.com/theneedledrop\n\nOfficial site: http://theneedledrop.com\n\nTwitter: http://twitter.com/theneedledrop\n\nInstagram: https://www.instagram.com/afantano\n\nTikTok: https://www.tiktok.com/@theneedletok\n\nTND Twitch: https://www.twitch.tv/theneedledrop\n===================================\n\nFAV TRACKS: HOOKUP SCENE\n\nLEAST FAV TRACK: GRACIAS A LA VIDA\n\nKACEY MUSGRAVES - STAR-CROSSED / 2021 / MCA NASHVILLE / POP, CROSSOVER COUNTRY\n\n2/10\n\nY'all know this is just my opinion, right?",
          "playlistId": "UUt7fwAhXDy3oNFTAzF2o8Pw",
          "position": 46,
          "publishedAt": "2021-09-14T03:08:36Z",
          "resourceId": {
           "kind": "youtube#video",
           "videoId": "HMu-Md27VDc"
          },
          "thumbnails": {
           "default": {
            "height": 90,
            "url": "https://i.ytimg.com/vi/HMu-Md27VDc/default.jpg",
            "width": 120
           },
           "high": {
            "height": 360,
            "url": "https://i.ytimg.com/vi/HMu-Md27VDc/hqdefault.jpg",
            "width": 480
           },
           "medium": {
            "height": 180,
            "url": "https://i.ytimg.com/vi/HMu-Md27VDc/mqdefault.jpg",
            "width": 320
           },
           "standard": {
            "height": 480,
            "url": "https://i.ytimg.com/vi/HMu-Md27VDc/sddefault.jpg",
            "width": 640
           }
          },
          "title": "Kacey Musgraves - star-crossed ALBUM REVIEW",
          "videoOwnerChannelId": "UCt7fwAhXDy3oNFTAzF2o8Pw",
          "videoOwnerChannelTitle": "theneedledrop"
         },
         "status": {
          "privacyStatus": "public"
         }
        },
        {
         "contentDetails": {
          "videoId": "KjGecsfvpaQ",
          "videoPublishedAt": "2021-09-13T03:04:27Z"
         },
         "etag": "4VlU9VqrbAZ9nBQcAJoJVHMuH_s",
         "id": "VVV0N2Z3QWhYRHkzb05GVEF6RjJvOFB3LktqR2Vjc2Z2cGFR",
         "kind": "youtube#playlistItem",
         "snippet": {
          "channelId": "UCt7fwAhXDy3oNFTAzF2o8Pw",
          "channelTitle": "theneedledrop",
          "description": "2021 FAV TRACKS PLAYLIST: https://open.spotify.com/playlist/7hXc9PnNqJtnV4hMmsqgIR?si=BDDSbBnoQzS1KPhndqwfkg\n\nTND Patreon: https://www.patreon.com/theneedledrop\n\nTurntable Lab link: http://turntablelab.com/theneedledrop\n\n\n!!!BEST TRACKS THIS WEEK!!!\n\nRachel Chinouriri - If Only\nhttps://open.spotify.com/track/3t1tuXZHj49DsFXb8vQP2k?si=346e085161d94db8\n\nFreddie Gibbs - Vice Lord Poetry\nhttps://youtu.be/Pwitgl8mg3c\n\nSufjan Stevens, Angelo De Augustine - Cimmerian Shade\nhttps://open.spotify.com/track/6kRuCHdOFPjqkIiG5XyOZW?si=946148582e6e4a46\n\nAri Lennox - Pressure\nhttps://open.spotify.com/track/6ElfCM1XppU0YWkkFYh4s2?si=5a0deecc32a44fa0\n\nFivio Foreign - Story Time\nhttps://open.spotify.com/track/10HF71PuUpSj45eENr2hxx?si=3366c91c83e64c05\n\nRemi Wolf - Guerilla\nhttps://open.spotify.com/track/6y57l1NHNuc1dNz7Cel3Oo?si=62a5f229d2e943c2\n\nChlöe - Have Mercy\nhttps://www.youtube.com/watch?v=FfesqRkdSEk\n\nMaxo Kream - Big Persona ft. Tyler, the Creator\nhttps://open.spotify.com/track/4uKjkPDGkkpOHxw152rM1g?si=c13e394e57ab48ee\n\nBADBADNOTGOOD - Beside April ft. Karriem Riggins & Arthur Verocai\nhttps://open.spotify.com/track/2ywhURek0dxeVJDixcZDnb?si=fdf20b8292144d5b\n\nBig Thief - Certainty\nhttps://open.spotify.com/track/10DoOnXIHg8Zn3Iucy8Tmu?si=bd999b0740fb4abc\n\nilluminati hotties - Threatening Each Other re: Capitalism\nhttps://open.spotify.com/track/4lUVbiWiti2F0oOU8SqV1u?si=5ef7e06876074462\n\nKayo Dot - Get Out of the Tower\nhttps://open.spotify.com/track/68tD3RhtUS63ETC5c6Wks0?si=8f1bfd4d612c42a2\n\nDos Monos - medieval\nhttps://www.youtube.com/watch?v=7uoxwZqE1Ck\n\nSloppy Jane - Party Anthem\nhttps://www.youtube.com/watch?v=US0jpbPSdw0\n\nSpiritual Cramp - Earth to Mike\nhttps://www.youtube.com/watch?v=2Pe-svszVms\n\n\n...meh...\n\nRadiohead - If You Say the Word\nhttps://www.youtube.com/watch?v=Jj2nX2BDTYY\n\nEmma Ruth Rundle - Return\nhttps://open.spotify.com/track/6R2FvdDAmrcgJMQOlFjiSy?si=c193735f98ef41ef\n\nSyd - Right Track ft. Smino\nhttps://open.spotify.com/track/439zbDDCpOPntEFlZFHKbY?si=0a5b52d920bc491d\n\nLana Del Rey - Arcadia\nhttps://www.youtube.com/watch?v=4mECX60FVJQ\nReview: https://www.youtube.com/watch?v=iwVvECTUQOw\n\nTroye Sivan - Angel Baby\nhttps://www.youtube.com/watch?v=tyYwOEKKcZc\n\n\n!!!WORST TRACKS THIS WEEK!!!\n\nMastodon - Pushing the Tides\nhttps://www.youtube.com/watch?v=haT5ars6RXc\n\nEd Sheeran - Shivers\nhttps://www.youtube.com/watch?v=Il0S8BoucSA\n\nMario Judah - Remember Your Name\nhttps://open.spotify.com/track/7iNRJ2Et4cQLJGHQNduBUn?si=58639b5720b64fe6\n\n===================================\nSubscribe: http://bit.ly/1pBqGCN\n\nPatreon: https://www.patreon.com/theneedledrop\n\nOfficial site: http://theneedledrop.com\n\nTwitter: http://twitter.com/theneedledrop\n\nInstagram: https://www.instagram.com/afantano\n\nTikTok: https://www.tiktok.com/@theneedletok\n\nTND Twitch: https://www.twitch.tv/theneedledrop\n===================================\n\nY'all know this is just my opinion, right?",
          "playlistId": "UUt7fwAhXDy3oNFTAzF2o8Pw",
          "position": 47,
          "publishedAt": "2021-09-13T02:35:35Z",
          "resourceId": {
           "kind": "youtube#video",
           "videoId": "KjGecsfvpaQ"
          },
          "thumbnails": {
           "default": {
            "height": 90,
            "url": "https://i.ytimg.com/vi/KjGecsfvpaQ/default.jpg",
            "width": 120
           },
           "high": {
            "height": 360,
            "url": "https://i.ytimg.com/vi/KjGecsfvpaQ/hqdefault.jpg",
            "width": 480
           },
           "medium": {
            "height": 180,
            "url": "https://i.ytimg.com/vi/KjGecsfvpaQ/mqdefault.jpg",
            "width": 320
           },
           "standard": {
            "height": 480,
            "url": "https://i.ytimg.com/vi/KjGecsfvpaQ/sddefault.jpg",
            "width": 640
           }
          },
          "title": "Radiohead, Lana Del Rey, Freddie Gibbs, Mario Judah | Weekly Track Roundup: 9/12/21",
          "videoOwnerChannelId": "UCt7fwAhXDy3oNFTAzF2o8Pw",
          "videoOwnerChannelTitle": "theneedledrop"
         },
         "status": {
          "privacyStatus": "public"
         }
        },
        {
         "contentDetails": {
          "videoId": "DIm0L7roSTk",
          "videoPublishedAt": "2021-09-11T23:43:56Z"
         },
         "etag": "tqfBaWK9KUkw0t6AbJsst1XZ1r4",
         "id": "VVV0N2Z3QWhYRHkzb05GVEF6RjJvOFB3LkRJbTBMN3JvU1Rr",
         "kind": "youtube#playlistItem",
         "snippet": {
          "channelId": "UCt7fwAhXDy3oNFTAzF2o8Pw",
          "channelTitle": "theneedledrop",
          "description": "The magical monthly segment where I briefly touch down on a gauntlet of albums I didn't get a chance to review this past month...or several. These are just my short, straightforward, passionate, biased opinions.\n\nLIARS - THE APPLE DROP\nMEN I TRUST - UNTOURABLE ALBUM\nWOLVES IN THE THRONE ROOM - PRIMORDIAL ARCANA\nTHE RETURN OF PACHYMAN\nTY SEGALL - HARMONIZER\nDURAND JONES & THE INDICATIONS - PRIVATE SPACE\nSTURGILL SIMPSON - THE BALLAD OF DOOD & JUANITA\nIRON MAIDEN - SENJUTSU\nGORILLAZ - MEANWHILE...\nDESCENDENTS - 9TH & WALNUT\nWILLOW - LATELY I FEEL EVERYTHING\nJUNGLE - LOVING IN STEREO\n\n===================================\nSubscribe: http://bit.ly/1pBqGCN\n\nPatreon: https://www.patreon.com/theneedledrop\n\nOfficial site: http://theneedledrop.com\n\nTwitter: http://twitter.com/theneedledrop\n\nInstagram: https://www.instagram.com/afantano\n\nTikTok: https://www.tiktok.com/@theneedletok\n\nTND Twitch: https://www.twitch.tv/theneedledrop\n===================================\n\nY'all know this is just my opinion, right?",
          "playlistId": "UUt7fwAhXDy3oNFTAzF2o8Pw",
          "position": 48,
          "publishedAt": "2021-09-11T23:17:29Z",
          "resourceId": {
           "kind": "youtube#video",
           "videoId": "DIm0L7roSTk"
          },
          "thumbnails": {
           "default": {
            "height": 90,
            "url": "https://i.ytimg.com/vi/DIm0L7roSTk/default.jpg",
            "width": 120
           },
           "high": {
            "height": 360,
            "url": "https://i.ytimg.com/vi/DIm0L7roSTk/hqdefault.jpg",
            "width": 480
           },
           "medium": {
            "height": 180,
            "url": "https://i.ytimg.com/vi/DIm0L7roSTk/mqdefault.jpg",
            "width": 320
           },
           "standard": {
            "height": 480,
            "url": "https://i.ytimg.com/vi/DIm0L7roSTk/sddefault.jpg",
            "width": 640
           }
          },
          "title": "YUNOREVIEW: September 2021 (Gorillaz, Sturgill Simpson, Iron Maiden)",
          "videoOwnerChannelId": "UCt7fwAhXDy3oNFTAzF2o8Pw",
          "videoOwnerChannelTitle": "theneedledrop"
         },
         "status": {
          "privacyStatus": "public"
         }
        },
        {
         "contentDetails": {
          "videoId": "mdGFiek1K70",
          "videoPublishedAt": "2021-09-10T03:08:56Z"
         },
         "etag": "bHgJvSsxq9Z3HgQ6Zl2e74uFXHA",
         "id": "VVV0N2Z3QWhYRHkzb05GVEF6RjJvOFB3Lm1kR0ZpZWsxSzcw",
         "kind": "youtube#playlistItem",
         "snippet": {
          "channelId": "UCt7fwAhXDy3oNFTAzF2o8Pw",
          "channelTitle": "theneedledrop",
          "description": "Listen: https://www.youtube.com/watch?v=LN4zwnowazE\n\nThough it doesn't see him at his most conceptual, A Martyr's Reward is an expectedly solid offering from Ka.\n\nMore rap reviews: https://www.youtube.com/playlist?list=PLP4CSgl7K7ormBIO138tYonB949PHnNcP\n\n===================================\nSubscribe: http://bit.ly/1pBqGCN\n\nPatreon: https://www.patreon.com/theneedledrop\n\nOfficial site: http://theneedledrop.com\n\nTwitter: http://twitter.com/theneedledrop\n\nInstagram: https://www.instagram.com/afantano\n\nTikTok: https://www.tiktok.com/@theneedletok\n\nTND Twitch: https://www.twitch.tv/theneedledrop\n===================================\n\nFAV TRACKS: I NEED ALL THAT, PEACE PEACE PEACE, P W H, I NOTICE, WITH ALL MY HEART, ENOUGH PRAISE / RECOVERING, HAVING NOTHIN'\n\nLEAST FAV TRACK: BE GRATEFUL\n\nKA - A MARTYR'S REWARD / 2021 / IRON WORKS / CONSCIOUS HIP HOP, MINIMALIST RAP\n\n7/10\n\nY'all know this is just my opinion, right?",
          "playlistId": "UUt7fwAhXDy3oNFTAzF2o8Pw",
          "position": 49,
          "publishedAt": "2021-09-10T02:52:28Z",
          "resourceId": {
           "kind": "youtube#video",
           "videoId": "mdGFiek1K70"
          },
          "thumbnails": {
           "default": {
            "height": 90,
            "url": "https://i.ytimg.com/vi/mdGFiek1K70/default.jpg",
            "width": 120
           },
           "high": {
            "height": 360,
            "url": "https://i.ytimg.com/vi/mdGFiek1K70/hqdefault.jpg",
            "width": 480
           },
           "medium": {
            "height": 180,
            "url": "https://i.ytimg.com/vi/mdGFiek1K70/mqdefault.jpg",
            "width": 320
           },
           "standard": {
            "height": 480,
            "url": "https://i.ytimg.com/vi/mdGFiek1K70/sddefault.jpg",
            "width": 640
           }
          },
          "title": "Ka - A Martyr's Reward ALBUM REVIEW",
          "videoOwnerChannelId": "UCt7fwAhXDy3oNFTAzF2o8Pw",
          "videoOwnerChannelTitle": "theneedledrop"
         },
         "status": {
          "privacyStatus": "public"
         }
        }
       ],
       "kind": "youtube#playlistItemListResponse",
       "nextPageToken": "EAAaBlBUOkNESQ",
       "pageInfo": {
        "resultsPerPage": 50,
        "totalResults": 3663
       }
      },
      "text/plain": [
       "<IPython.core.display.JSON object>"
      ]
     },
     "execution_count": 7,
     "metadata": {
      "application/json": {
       "expanded": false,
       "root": "root"
      }
     },
     "output_type": "execute_result"
    }
   ],
   "source": [
    "JSON(pl_items)"
   ]
  },
  {
   "cell_type": "code",
   "execution_count": 8,
   "id": "3ca977a6-6d4b-4857-ab52-b7d4f8c930e1",
   "metadata": {},
   "outputs": [],
   "source": [
    "pl_items_p2 = yt_client.list_playlist_items(playlist_id, pageToken=pl_items[\"nextPageToken\"])"
   ]
  },
  {
   "cell_type": "code",
   "execution_count": 9,
   "id": "60ad7143-4d63-406c-a1ae-f34d8f363594",
   "metadata": {},
   "outputs": [
    {
     "data": {
      "application/json": {
       "etag": "r77SmZRirLNQfbk_pDK3vwkkQj8",
       "items": [
        {
         "contentDetails": {
          "videoId": "Krf_8OWvLis",
          "videoPublishedAt": "2021-09-09T03:38:49Z"
         },
         "etag": "rkjGX9h8tkTMI_jPpKKUFDNMoyY",
         "id": "VVV0N2Z3QWhYRHkzb05GVEF6RjJvOFB3LktyZl84T1d2TGlz",
         "kind": "youtube#playlistItem",
         "snippet": {
          "channelId": "UCt7fwAhXDy3oNFTAzF2o8Pw",
          "channelTitle": "theneedledrop",
          "description": "Listen: https://www.youtube.com/watch?v=llCckgienuU\n\nGotta be among the weirdest and most admirable remix albums to hit the mainstream.\n\nMore pop reviews: https://www.youtube.com/playlist?list=PLP4CSgl7K7oqibt_5oDPppWxQ0iaxyyeq\n\n===================================\nSubscribe: http://bit.ly/1pBqGCN\n\nPatreon: https://www.patreon.com/theneedledrop\n\nOfficial site: http://theneedledrop.com\n\nTwitter: http://twitter.com/theneedledrop\n\nInstagram: https://www.instagram.com/afantano\n\nTikTok: https://www.tiktok.com/@theneedletok\n\nTND Twitch: https://www.twitch.tv/theneedledrop\n===================================\n\nFAV TRACKS: RAIN ON ME, FUN TONIGHT, 911, SOUR CANDY, REPLAY, SINE FROM ABOVE, BABYLON (BREE)\n\nLEAST FAV TRACK: ENIGMA\n\nLADY GAGA & FRIENDS - DAWN OF CHROMATICA / 2021 / INTERSCOPE / HYPERPOP, HOUSE, DECONSTRUCTED CLUB\n\n7/10\n\nY'all know this is just my opinion, right?",
          "playlistId": "UUt7fwAhXDy3oNFTAzF2o8Pw",
          "position": 50,
          "publishedAt": "2021-09-09T03:21:19Z",
          "resourceId": {
           "kind": "youtube#video",
           "videoId": "Krf_8OWvLis"
          },
          "thumbnails": {
           "default": {
            "height": 90,
            "url": "https://i.ytimg.com/vi/Krf_8OWvLis/default.jpg",
            "width": 120
           },
           "high": {
            "height": 360,
            "url": "https://i.ytimg.com/vi/Krf_8OWvLis/hqdefault.jpg",
            "width": 480
           },
           "medium": {
            "height": 180,
            "url": "https://i.ytimg.com/vi/Krf_8OWvLis/mqdefault.jpg",
            "width": 320
           },
           "standard": {
            "height": 480,
            "url": "https://i.ytimg.com/vi/Krf_8OWvLis/sddefault.jpg",
            "width": 640
           }
          },
          "title": "Lady Gaga - Dawn of Chromatica ALBUM REVIEW",
          "videoOwnerChannelId": "UCt7fwAhXDy3oNFTAzF2o8Pw",
          "videoOwnerChannelTitle": "theneedledrop"
         },
         "status": {
          "privacyStatus": "public"
         }
        },
        {
         "contentDetails": {
          "videoId": "DF-MrUfIsY4",
          "videoPublishedAt": "2021-09-08T02:34:35Z"
         },
         "etag": "xEDSw6gZt6rEj9yK4wbqPBdsbq8",
         "id": "VVV0N2Z3QWhYRHkzb05GVEF6RjJvOFB3LkRGLU1yVWZJc1k0",
         "kind": "youtube#playlistItem",
         "snippet": {
          "channelId": "UCt7fwAhXDy3oNFTAzF2o8Pw",
          "channelTitle": "theneedledrop",
          "description": "Listen: https://www.youtube.com/watch?v=hxfGQ2AJHGk\n\nSIMBI finds a leveled-up Simz returning to wonderland.\n\nMore rap reviews: https://www.youtube.com/playlist?list=PLP4CSgl7K7ormBIO138tYonB949PHnNcP\n\n===================================\nSubscribe: http://bit.ly/1pBqGCN\n\nPatreon: https://www.patreon.com/theneedledrop\n\nOfficial site: http://theneedledrop.com\n\nTwitter: http://twitter.com/theneedledrop\n\nInstagram: https://www.instagram.com/afantano\n\nTikTok: https://www.tiktok.com/@theneedletok\n\nTND Twitch: https://www.twitch.tv/theneedledrop\n===================================\n\nFAV TRACKS: INTROVERT, WOMAN, TWO WORLDS APART, LITTLE Q, STANDING OVATION, POINT AND KILL, FEAR NO MAN, HOW DID YOU GET HERE, MISS UNDERSTOOD\n\nLEAST FAV TRACK: THE RAPPER THAT CAME TO TEA\n\nLITTLE SIMZ - SOMETIMES I MIGHT BE INTROVERT / 2021 / AGE 101 / CONSCIOUS HIP HOP, ORCHESTRAL RAP, NEO-SOUL\n\n8/10 https://www.theneedledrop.com/loved-list/2021/1/loved-list-2021\n\nY'all know this is just my opinion, right?",
          "playlistId": "UUt7fwAhXDy3oNFTAzF2o8Pw",
          "position": 51,
          "publishedAt": "2021-09-08T01:59:37Z",
          "resourceId": {
           "kind": "youtube#video",
           "videoId": "DF-MrUfIsY4"
          },
          "thumbnails": {
           "default": {
            "height": 90,
            "url": "https://i.ytimg.com/vi/DF-MrUfIsY4/default.jpg",
            "width": 120
           },
           "high": {
            "height": 360,
            "url": "https://i.ytimg.com/vi/DF-MrUfIsY4/hqdefault.jpg",
            "width": 480
           },
           "medium": {
            "height": 180,
            "url": "https://i.ytimg.com/vi/DF-MrUfIsY4/mqdefault.jpg",
            "width": 320
           },
           "standard": {
            "height": 480,
            "url": "https://i.ytimg.com/vi/DF-MrUfIsY4/sddefault.jpg",
            "width": 640
           }
          },
          "title": "Little Simz - Sometimes I Might Be Introvert ALBUM REVIEW",
          "videoOwnerChannelId": "UCt7fwAhXDy3oNFTAzF2o8Pw",
          "videoOwnerChannelTitle": "theneedledrop"
         },
         "status": {
          "privacyStatus": "public"
         }
        },
        {
         "contentDetails": {
          "videoId": "k6ppxsRfZMA",
          "videoPublishedAt": "2021-09-07T03:12:36Z"
         },
         "etag": "YI2Q42BYbbQumDIy-GDYjW4IFLU",
         "id": "VVV0N2Z3QWhYRHkzb05GVEF6RjJvOFB3Lms2cHB4c1JmWk1B",
         "kind": "youtube#playlistItem",
         "snippet": {
          "channelId": "UCt7fwAhXDy3oNFTAzF2o8Pw",
          "channelTitle": "theneedledrop",
          "description": "Listen: https://www.youtube.com/watch?v=vX9msKu75qs\n\nCertified snoozer.\n\nMore rap reviews: https://www.youtube.com/playlist?list=PLP4CSgl7K7ormBIO138tYonB949PHnNcP\n\n===================================\nSubscribe: http://bit.ly/1pBqGCN\n\nPatreon: https://www.patreon.com/theneedledrop\n\nOfficial site: http://theneedledrop.com\n\nTwitter: http://twitter.com/theneedledrop\n\nInstagram: https://www.instagram.com/afantano\n\nTikTok: https://www.tiktok.com/@theneedletok\n\nTND Twitch: https://www.twitch.tv/theneedledrop\n===================================\n\nFAV TRACKS: FAIR TRADE, YEBBA'S HEARTBREAK, YOU ONLY LIVE TWICE\n\nLEAST FAV TRACK: WAY 2 SEXY\n\nDRAKE - CERTIFIED LOVER BOY / 2021 / OVO / POP RAP\n\n3/10\n\nY'all know this is just my opinion, right?",
          "playlistId": "UUt7fwAhXDy3oNFTAzF2o8Pw",
          "position": 52,
          "publishedAt": "2021-09-07T02:46:54Z",
          "resourceId": {
           "kind": "youtube#video",
           "videoId": "k6ppxsRfZMA"
          },
          "thumbnails": {
           "default": {
            "height": 90,
            "url": "https://i.ytimg.com/vi/k6ppxsRfZMA/default.jpg",
            "width": 120
           },
           "high": {
            "height": 360,
            "url": "https://i.ytimg.com/vi/k6ppxsRfZMA/hqdefault.jpg",
            "width": 480
           },
           "medium": {
            "height": 180,
            "url": "https://i.ytimg.com/vi/k6ppxsRfZMA/mqdefault.jpg",
            "width": 320
           },
           "standard": {
            "height": 480,
            "url": "https://i.ytimg.com/vi/k6ppxsRfZMA/sddefault.jpg",
            "width": 640
           }
          },
          "title": "Drake - Certified Lover Boy ALBUM REVIEW",
          "videoOwnerChannelId": "UCt7fwAhXDy3oNFTAzF2o8Pw",
          "videoOwnerChannelTitle": "theneedledrop"
         },
         "status": {
          "privacyStatus": "public"
         }
        },
        {
         "contentDetails": {
          "videoId": "rwH4GZssl0I",
          "videoPublishedAt": "2021-09-06T03:44:41Z"
         },
         "etag": "apIxbfQZFhhvMiJxoi8iBeVU3Ss",
         "id": "VVV0N2Z3QWhYRHkzb05GVEF6RjJvOFB3LnJ3SDRHWnNzbDBJ",
         "kind": "youtube#playlistItem",
         "snippet": {
          "channelId": "UCt7fwAhXDy3oNFTAzF2o8Pw",
          "channelTitle": "theneedledrop",
          "description": "Our sponsor: http://ridgewallet.com/fantano\nUSE PROMO CODE \"MELON\" FOR 10% OFF\n\n2021 FAV TRACKS PLAYLIST: https://open.spotify.com/playlist/7hXc9PnNqJtnV4hMmsqgIR?si=BDDSbBnoQzS1KPhndqwfkg\n\nTND Patreon: https://www.patreon.com/theneedledrop\n\nTurntable Lab link: http://turntablelab.com/theneedledrop\n\n\n!!!BEST TRACKS THIS WEEK!!!\n\nGeese - Low Era\nhttps://youtu.be/__bi2jKX_AU\n\nSleigh Bells - Justine Go Genesis\nhttps://open.spotify.com/track/6a8D95laIKgqzEtsu5bA4z?si=1ee87125cb9947a4\n\nGorillaz - Meanwhile ft. Jelani Blackman, Barrington Levy\nhttps://open.spotify.com/track/4AiFMZD1Etlg9KfejqZ2bB?si=4223f963c65043d7\n\nTokischa, Rosalía - Linda\nhttps://open.spotify.com/track/1ahCrpeTt94LL7y1aXw0Y8?si=6c1cc6a6949b4de9\n\nTimi Afilaka - Spaces\nhttps://youtu.be/9AjuVhIph2U\n\nWiki - Roof (prod. Navy Blue)\nhttps://youtu.be/VQBM_8gSNrM\n\nDev Lemons x Whose Rules - Guessing Games\nhttps://www.youtube.com/watch?v=OSdJ-KGdjuI\n\nAmber Mark - Foreign Things\nhttps://youtu.be/Uw6QHtUeqe8\n\nDuran Duran - Anniversary\nhttps://youtu.be/KW4CEh-KjEk\n\nThe World Is a Beautiful Place... - Queen Sophie for President\nhttps://youtu.be/s-V10ijYGc0\n\nJPEGMAFIA - TRUST!\nhttps://www.youtube.com/watch?v=bq0gn0uh5P8\n\nPond - Human Touch\nhttps://youtu.be/ZFmeRPlNJgw\n\nLady Gaga - Replay (Dorian Electra Remix)\nhttps://www.youtube.com/watch?v=2lhUB66qxB8\n\nBlind Equation - _BLUR\nhttps://blindequation.bandcamp.com/track/blur-2\n\nInjury Reserve - Superman That\nhttps://www.youtube.com/watch?v=YVX3Z7L8w4U\nInterview: https://www.youtube.com/watch?v=TFyquri_4G0\n\nABBA - Don't Shut Me Down\nhttps://www.youtube.com/watch?v=hWGWFa3jznI\n\nBlu - People Call Me Blu(e)\nhttps://www.youtube.com/watch?v=mH9CQJdlyLw\n\nLingua Ignota - The Heart of Man (Early Sinner Get Ready Version)\nhttps://linguaignota.bandcamp.com/track/the-heart-of-man\n\nFINNEAS - The 90s\nhttps://www.youtube.com/watch?v=iGJ0b4-PFqs\n\nKamasi Washington - My Friend of Misery (Metallica Cover)\nhttps://www.youtube.com/watch?v=ZVQjApBIl5M\n\nLittle Simz - Point and Kill ft. Obongjayar\nhttps://www.youtube.com/watch?v=tvY31eN3gtE\n\nDeerhoof - Plant Thief\nhttps://youtu.be/NyCjo4uGb5Q\n\nMarissa Nadler - Bessie, Did You Make It?\nhttps://youtu.be/XVQdKS3JaLI\n\nThe Bug - Vexed ft. Moor Mother\nhttps://youtu.be/yKK3SEoXS-o\n\n\n...meh...\n\nAnderson .Paak - Fire in the Sky\nhttps://www.youtube.com/watch?v=8eeB3S4e6xs\n\nPerturbator & HEALTH - Excess\nhttps://www.youtube.com/watch?v=OkPkx0raj_E\n\nMeek Mill - Blue Notes 2 ft. Lil Uzi Vert\nhttps://www.youtube.com/watch?v=TXdZzss3zhA\n\nBobby Shmurda - No Time for Sleep (Freestyle)\nhttps://www.youtube.com/watch?v=hQTfR3v3jJ8\n\nZeal & Ardor - Bow\nhttps://www.youtube.com/watch?v=P_S9Dp0rpGw\n\nCharli XCX - Good Ones\nhttps://www.youtube.com/watch?v=kjAuUXdSFaM\n\nJonatan Leandoer96 - Under Heaven (prod. Dean Blunt)\nhttps://youtu.be/wFgEbe2cpDo\n\nCaribou - You Can Do It\nhttps://youtu.be/VrPVSz3bBq4\n\n\n!!!WORST TRACKS THIS WEEK!!!\n\nThe Front Bottoms - Lover Boy\nhttps://www.youtube.com/watch?v=OpuGPO2aM9k\n\nOliver Tree & Little Big - Turn It Up ft. Tommy Cash\nhttps://www.youtube.com/watch?v=R1JXxxm3thE\n\nDrake - Way 2 Sexy ft. Future & Young Thug\nhttps://www.youtube.com/watch?v=vX9msKu75qs\n\n===================================\nSubscribe: http://bit.ly/1pBqGCN\n\nPatreon: https://www.patreon.com/theneedledrop\n\nOfficial site: http://theneedledrop.com\n\nTwitter: http://twitter.com/theneedledrop\n\nInstagram: https://www.instagram.com/afantano\n\nTikTok: https://www.tiktok.com/@theneedletok\n\nTND Twitch: https://www.twitch.tv/theneedledrop\n===================================\n\nY'all know this is just my opinion, right?",
          "playlistId": "UUt7fwAhXDy3oNFTAzF2o8Pw",
          "position": 53,
          "publishedAt": "2021-09-06T03:13:52Z",
          "resourceId": {
           "kind": "youtube#video",
           "videoId": "rwH4GZssl0I"
          },
          "thumbnails": {
           "default": {
            "height": 90,
            "url": "https://i.ytimg.com/vi/rwH4GZssl0I/default.jpg",
            "width": 120
           },
           "high": {
            "height": 360,
            "url": "https://i.ytimg.com/vi/rwH4GZssl0I/hqdefault.jpg",
            "width": 480
           },
           "medium": {
            "height": 180,
            "url": "https://i.ytimg.com/vi/rwH4GZssl0I/mqdefault.jpg",
            "width": 320
           },
           "standard": {
            "height": 480,
            "url": "https://i.ytimg.com/vi/rwH4GZssl0I/sddefault.jpg",
            "width": 640
           }
          },
          "title": "Drake, Bobby Shmurda, Charli XCX | Weekly Track Roundup: 9/5/21",
          "videoOwnerChannelId": "UCt7fwAhXDy3oNFTAzF2o8Pw",
          "videoOwnerChannelTitle": "theneedledrop"
         },
         "status": {
          "privacyStatus": "public"
         }
        },
        {
         "contentDetails": {
          "videoId": "reP2UNWvTEk",
          "videoPublishedAt": "2021-09-04T00:35:49Z"
         },
         "etag": "6AE9mmveIrfscqI3B8Q6dj2359w",
         "id": "VVV0N2Z3QWhYRHkzb05GVEF6RjJvOFB3LnJlUDJVTld2VEVr",
         "kind": "youtube#playlistItem",
         "snippet": {
          "channelId": "UCt7fwAhXDy3oNFTAzF2o8Pw",
          "channelTitle": "theneedledrop",
          "description": "Reacting to comments from these reviews:\n\nTrippie Redd - Trip at Knight\nhttps://youtu.be/IRtA97V0Gas\n\nThe Killers - Pressure Machine\nhttps://youtu.be/VzHT35kxLuQ\n\nKanye West - Donda\nhttps://youtu.be/93UpSHztaq0\n\n===================================\nSubscribe: http://bit.ly/1pBqGCN\n\nPatreon: https://www.patreon.com/theneedledrop\n\nOfficial site: http://theneedledrop.com\n\nTwitter: http://twitter.com/theneedledrop\n\nInstagram: https://www.instagram.com/afantano\n\nTikTok: https://www.tiktok.com/@theneedletok\n\nTND Twitch: https://www.twitch.tv/theneedledrop\n===================================\n\nY'all know this is just my opinion, right?",
          "playlistId": "UUt7fwAhXDy3oNFTAzF2o8Pw",
          "position": 54,
          "publishedAt": "2021-09-04T00:05:47Z",
          "resourceId": {
           "kind": "youtube#video",
           "videoId": "reP2UNWvTEk"
          },
          "thumbnails": {
           "default": {
            "height": 90,
            "url": "https://i.ytimg.com/vi/reP2UNWvTEk/default.jpg",
            "width": 120
           },
           "high": {
            "height": 360,
            "url": "https://i.ytimg.com/vi/reP2UNWvTEk/hqdefault.jpg",
            "width": 480
           },
           "medium": {
            "height": 180,
            "url": "https://i.ytimg.com/vi/reP2UNWvTEk/mqdefault.jpg",
            "width": 320
           },
           "standard": {
            "height": 480,
            "url": "https://i.ytimg.com/vi/reP2UNWvTEk/sddefault.jpg",
            "width": 640
           }
          },
          "title": "Reading Your Comments: Kanye West, Trippie Redd, The Killers",
          "videoOwnerChannelId": "UCt7fwAhXDy3oNFTAzF2o8Pw",
          "videoOwnerChannelTitle": "theneedledrop"
         },
         "status": {
          "privacyStatus": "public"
         }
        },
        {
         "contentDetails": {
          "videoId": "iUVOBq0MIi4",
          "videoPublishedAt": "2021-09-03T04:56:11Z"
         },
         "etag": "BhqrVFsVl3scXa03FQD6tIYwobI",
         "id": "VVV0N2Z3QWhYRHkzb05GVEF6RjJvOFB3LmlVVk9CcTBNSWk0",
         "kind": "youtube#playlistItem",
         "snippet": {
          "channelId": "UCt7fwAhXDy3oNFTAzF2o8Pw",
          "channelTitle": "theneedledrop",
          "description": "Listen: https://www.youtube.com/watch?v=7Azv0G85lh8\n\nHalsey and Reznor don't always mesh or produce fireworks together, but If I Can't Have Love is still Halsey's strongest album yet.\n\nMore pop reviews: https://www.youtube.com/playlist?list=PLP4CSgl7K7oqibt_5oDPppWxQ0iaxyyeq\n\n===================================\nSubscribe: http://bit.ly/1pBqGCN\n\nPatreon: https://www.patreon.com/theneedledrop\n\nOfficial site: http://theneedledrop.com\n\nTwitter: http://twitter.com/theneedledrop\n\nInstagram: https://www.instagram.com/afantano\n\nTikTok: https://www.tiktok.com/@theneedletok\n\nTND Twitch: https://www.twitch.tv/theneedledrop\n===================================\n\nFAV TRACKS: EASIER THAN LYING, LILITH, GIRL IS A GUN, HONEY, I AM NOT A WOMAN I'M A GOD\n\nLEAST FAV TRACK: THE LIGHTHOUSE\n\nHALSEY - IF I CAN'T HAVE LOVE I WANT POWER / 2021 / CAPITOL / ALTERNATIVE POP, INDUSTRIAL ROCK\n\n6/10\n\nY'all know this is just my opinion, right?",
          "playlistId": "UUt7fwAhXDy3oNFTAzF2o8Pw",
          "position": 55,
          "publishedAt": "2021-09-03T04:39:57Z",
          "resourceId": {
           "kind": "youtube#video",
           "videoId": "iUVOBq0MIi4"
          },
          "thumbnails": {
           "default": {
            "height": 90,
            "url": "https://i.ytimg.com/vi/iUVOBq0MIi4/default.jpg",
            "width": 120
           },
           "high": {
            "height": 360,
            "url": "https://i.ytimg.com/vi/iUVOBq0MIi4/hqdefault.jpg",
            "width": 480
           },
           "medium": {
            "height": 180,
            "url": "https://i.ytimg.com/vi/iUVOBq0MIi4/mqdefault.jpg",
            "width": 320
           },
           "standard": {
            "height": 480,
            "url": "https://i.ytimg.com/vi/iUVOBq0MIi4/sddefault.jpg",
            "width": 640
           }
          },
          "title": "Halsey - If I Can't Have Love, I Want Power ALBUM REVIEW",
          "videoOwnerChannelId": "UCt7fwAhXDy3oNFTAzF2o8Pw",
          "videoOwnerChannelTitle": "theneedledrop"
         },
         "status": {
          "privacyStatus": "public"
         }
        },
        {
         "contentDetails": {
          "videoId": "93UpSHztaq0",
          "videoPublishedAt": "2021-09-02T01:31:41Z"
         },
         "etag": "Sw7FkxckB9StclgXFm1Kbs0eFfE",
         "id": "VVV0N2Z3QWhYRHkzb05GVEF6RjJvOFB3LjkzVXBTSHp0YXEw",
         "kind": "youtube#playlistItem",
         "snippet": {
          "channelId": "UCt7fwAhXDy3oNFTAzF2o8Pw",
          "channelTitle": "theneedledrop",
          "description": "Listen: https://youtu.be/EbDMNjT-QpI\n\nAgainst all odds, Donda is one of the albums of all time.\n\nMore rap reviews: https://www.youtube.com/playlist?list=PLP4CSgl7K7ormBIO138tYonB949PHnNcP\n\n===================================\nSubscribe: http://bit.ly/1pBqGCN\n\nPatreon: https://www.patreon.com/theneedledrop\n\nOfficial site: http://theneedledrop.com\n\nTwitter: http://twitter.com/theneedledrop\n\nInstagram: https://www.instagram.com/afantano\n\nTikTok: https://www.tiktok.com/@theneedletok\n\nTND Twitch: https://www.twitch.tv/theneedledrop\n===================================\n\nFAV TRACKS: DONDA CHANT, JAIL, OFF THE GRID, HURRICANE, JONAH, BELIEVE WHAT I SAY, 24, MOON, HEAVEN AND HELL, KEEP MY SPIRIT ALIVE, JESUS LORD, LORD I NEED YOU, COME TO LIFE, NO CHILD LEFT BEHIND\n\nLEAST FAV TRACK: JUNYA\n\nKANYE WEST - DONDA / 2021 / G.O.O.D. MUSIC\n\n7/10\n\nY'all know this is just my opinion, right?",
          "playlistId": "UUt7fwAhXDy3oNFTAzF2o8Pw",
          "position": 56,
          "publishedAt": "2021-09-02T01:09:03Z",
          "resourceId": {
           "kind": "youtube#video",
           "videoId": "93UpSHztaq0"
          },
          "thumbnails": {
           "default": {
            "height": 90,
            "url": "https://i.ytimg.com/vi/93UpSHztaq0/default.jpg",
            "width": 120
           },
           "high": {
            "height": 360,
            "url": "https://i.ytimg.com/vi/93UpSHztaq0/hqdefault.jpg",
            "width": 480
           },
           "medium": {
            "height": 180,
            "url": "https://i.ytimg.com/vi/93UpSHztaq0/mqdefault.jpg",
            "width": 320
           },
           "standard": {
            "height": 480,
            "url": "https://i.ytimg.com/vi/93UpSHztaq0/sddefault.jpg",
            "width": 640
           }
          },
          "title": "Kanye West - Donda ALBUM REVIEW",
          "videoOwnerChannelId": "UCt7fwAhXDy3oNFTAzF2o8Pw",
          "videoOwnerChannelTitle": "theneedledrop"
         },
         "status": {
          "privacyStatus": "public"
         }
        },
        {
         "contentDetails": {
          "videoId": "kXicp53b6PA",
          "videoPublishedAt": "2021-09-01T03:55:27Z"
         },
         "etag": "jSUhATHIvYN88S5cyJiX0JFKVSk",
         "id": "VVV0N2Z3QWhYRHkzb05GVEF6RjJvOFB3LmtYaWNwNTNiNlBB",
         "kind": "youtube#playlistItem",
         "snippet": {
          "channelId": "UCt7fwAhXDy3oNFTAzF2o8Pw",
          "channelTitle": "theneedledrop",
          "description": "Listen: https://www.youtube.com/watch?v=445arWTPkxo\n\nColors II isn't quite the return to form suggested by its title and lead teaser.\n\nMore metal reviews: https://www.youtube.com/playlist?list=PLP4CSgl7K7orAG2zKtoJKnTt_bAnLwTXo\n\n===================================\nSubscribe: http://bit.ly/1pBqGCN\n\nPatreon: https://www.patreon.com/theneedledrop\n\nOfficial site: http://theneedledrop.com\n\nTwitter: http://twitter.com/theneedledrop\n\nInstagram: https://www.instagram.com/afantano\n\nTikTok: https://www.tiktok.com/@theneedletok\n\nTND Twitch: https://www.twitch.tv/theneedledrop\n===================================\n\nFAV TRACKS: FIX THE ERROR\n\nLEAST FAV TRACK: THE FUTURE IS BEHIND US\n\nBETWEEN THE BURIED AND ME - COLORS II / 2021 / SUMERIAN / PROG METAL, METALCORE, METALLIC ZANINESS\n\n4/10\n\nY'all know this is just my opinion, right?",
          "playlistId": "UUt7fwAhXDy3oNFTAzF2o8Pw",
          "position": 57,
          "publishedAt": "2021-09-01T03:42:48Z",
          "resourceId": {
           "kind": "youtube#video",
           "videoId": "kXicp53b6PA"
          },
          "thumbnails": {
           "default": {
            "height": 90,
            "url": "https://i.ytimg.com/vi/kXicp53b6PA/default.jpg",
            "width": 120
           },
           "high": {
            "height": 360,
            "url": "https://i.ytimg.com/vi/kXicp53b6PA/hqdefault.jpg",
            "width": 480
           },
           "medium": {
            "height": 180,
            "url": "https://i.ytimg.com/vi/kXicp53b6PA/mqdefault.jpg",
            "width": 320
           },
           "standard": {
            "height": 480,
            "url": "https://i.ytimg.com/vi/kXicp53b6PA/sddefault.jpg",
            "width": 640
           }
          },
          "title": "Between the Buried and Me - Colors II ALBUM REVIEW",
          "videoOwnerChannelId": "UCt7fwAhXDy3oNFTAzF2o8Pw",
          "videoOwnerChannelTitle": "theneedledrop"
         },
         "status": {
          "privacyStatus": "public"
         }
        },
        {
         "contentDetails": {
          "videoId": "l2QY6v-naAs",
          "videoPublishedAt": "2021-08-30T23:44:51Z"
         },
         "etag": "oVNUZ4yranQkMJax8eFY6Wnv7jQ",
         "id": "VVV0N2Z3QWhYRHkzb05GVEF6RjJvOFB3LmwyUVk2di1uYUFz",
         "kind": "youtube#playlistItem",
         "snippet": {
          "channelId": "UCt7fwAhXDy3oNFTAzF2o8Pw",
          "channelTitle": "theneedledrop",
          "description": "Listen: https://www.youtube.com/watch?v=WdJZlmhQXug\n\nTurnstile's hardcore sound undergoes some dreamy renovations on Glow On.\n\nMore hardcore reviews: https://www.youtube.com/playlist?list=PLP4CSgl7K7orAG2zKtoJKnTt_bAnLwTXo\n\n===================================\nSubscribe: http://bit.ly/1pBqGCN\n\nPatreon: https://www.patreon.com/theneedledrop\n\nOfficial site: http://theneedledrop.com\n\nTwitter: http://twitter.com/theneedledrop\n\nInstagram: https://www.instagram.com/afantano\n\nTikTok: https://www.tiktok.com/@theneedletok\n\nTND Twitch: https://www.twitch.tv/theneedledrop\n===================================\n\nFAV TRACKS: MYSTERY, BLACKOUT, DON'T PLAY, UNDERWATER BOI, HOLIDAY, FLY AGAIN, WILD WRLD, DANCE-OFF, NEW HEART DESIGN, T.L.C.\n\nLEAST FAV TRACK: LONELY DEZIRES\n\nTURNSTILE - GLOW ON / 2021 / ROADRUNNER / POST-HARDCORE, DREAM PUNK\n\n8/10 https://www.theneedledrop.com/loved-list/2021/1/loved-list-2021\n\nY'all know this is just my opinion, right?",
          "playlistId": "UUt7fwAhXDy3oNFTAzF2o8Pw",
          "position": 58,
          "publishedAt": "2021-08-30T23:26:30Z",
          "resourceId": {
           "kind": "youtube#video",
           "videoId": "l2QY6v-naAs"
          },
          "thumbnails": {
           "default": {
            "height": 90,
            "url": "https://i.ytimg.com/vi/l2QY6v-naAs/default.jpg",
            "width": 120
           },
           "high": {
            "height": 360,
            "url": "https://i.ytimg.com/vi/l2QY6v-naAs/hqdefault.jpg",
            "width": 480
           },
           "medium": {
            "height": 180,
            "url": "https://i.ytimg.com/vi/l2QY6v-naAs/mqdefault.jpg",
            "width": 320
           },
           "standard": {
            "height": 480,
            "url": "https://i.ytimg.com/vi/l2QY6v-naAs/sddefault.jpg",
            "width": 640
           }
          },
          "title": "Turnstile - Glow On ALBUM REVIEW",
          "videoOwnerChannelId": "UCt7fwAhXDy3oNFTAzF2o8Pw",
          "videoOwnerChannelTitle": "theneedledrop"
         },
         "status": {
          "privacyStatus": "public"
         }
        },
        {
         "contentDetails": {
          "videoId": "pDX3N-Dm9yA",
          "videoPublishedAt": "2021-08-29T04:58:28Z"
         },
         "etag": "KqVOSXQqtLF_TUjqAZaB2wvLPqM",
         "id": "VVV0N2Z3QWhYRHkzb05GVEF6RjJvOFB3LnBEWDNOLURtOXlB",
         "kind": "youtube#playlistItem",
         "snippet": {
          "channelId": "UCt7fwAhXDy3oNFTAzF2o8Pw",
          "channelTitle": "theneedledrop",
          "description": "Listen: https://www.youtube.com/watch?v=hiXyCSozPjI\n\nBoldy James and The Alchemist's second full-length collab in just over a year arguably outdoes Price of Tea.\n\nMore rap reviews: https://www.youtube.com/playlist?list=PLP4CSgl7K7ormBIO138tYonB949PHnNcP\n\n===================================\nSubscribe: http://bit.ly/1pBqGCN\n\nPatreon: https://www.patreon.com/theneedledrop\n\nOfficial site: http://theneedledrop.com\n\nTwitter: http://twitter.com/theneedledrop\n\nInstagram: https://www.instagram.com/afantano\n\nTikTok: https://www.tiktok.com/@theneedletok\n\nTND Twitch: https://www.twitch.tv/theneedledrop\n===================================\n\nFAV TRACKS: BRICKMILE TO MONTANA, STEEL WOOL, SPEED TRAP, DIAMOND DALLAS, ILLEGAL SEARCH & SEIZURE, FAKE FLOWERS, DRUG ZONE\n\nLEAST FAV TRACK: FIRST 48 FREESTYLE\n\nBOLDY JAMES & THE ALCHEMIST - BO JACKSON / 2021 / ALC / BOOM BAP, JAZZ RAP\n\n7/10\n\nY'all know this is just my opinion, right?",
          "playlistId": "UUt7fwAhXDy3oNFTAzF2o8Pw",
          "position": 59,
          "publishedAt": "2021-08-29T04:48:19Z",
          "resourceId": {
           "kind": "youtube#video",
           "videoId": "pDX3N-Dm9yA"
          },
          "thumbnails": {
           "default": {
            "height": 90,
            "url": "https://i.ytimg.com/vi/pDX3N-Dm9yA/default.jpg",
            "width": 120
           },
           "high": {
            "height": 360,
            "url": "https://i.ytimg.com/vi/pDX3N-Dm9yA/hqdefault.jpg",
            "width": 480
           },
           "medium": {
            "height": 180,
            "url": "https://i.ytimg.com/vi/pDX3N-Dm9yA/mqdefault.jpg",
            "width": 320
           },
           "standard": {
            "height": 480,
            "url": "https://i.ytimg.com/vi/pDX3N-Dm9yA/sddefault.jpg",
            "width": 640
           }
          },
          "title": "Boldy James & The Alchemist - Bo Jackson ALBUM REVIEW",
          "videoOwnerChannelId": "UCt7fwAhXDy3oNFTAzF2o8Pw",
          "videoOwnerChannelTitle": "theneedledrop"
         },
         "status": {
          "privacyStatus": "public"
         }
        },
        {
         "contentDetails": {
          "videoId": "VzHT35kxLuQ",
          "videoPublishedAt": "2021-08-27T03:39:11Z"
         },
         "etag": "Zeyb8QqQjHi2eeRcoxO-jM-G4ps",
         "id": "VVV0N2Z3QWhYRHkzb05GVEF6RjJvOFB3LlZ6SFQzNWt4THVR",
         "kind": "youtube#playlistItem",
         "snippet": {
          "channelId": "UCt7fwAhXDy3oNFTAzF2o8Pw",
          "channelTitle": "theneedledrop",
          "description": "Listen: https://www.youtube.com/watch?v=9UinEpwdGcA\n\nHaving flirted with heartland rock on their previous album, The Killers delve much deeper into the sound on the conceptual Pressure Machine.\n\nMore rock reviews: https://www.youtube.com/playlist?list=PLP4CSgl7K7ori6-Iz-AWcX561iWCfapt_\n\n===================================\nSubscribe: http://bit.ly/1pBqGCN\n\nPatreon: https://www.patreon.com/theneedledrop\n\nOfficial site: http://theneedledrop.com\n\nTwitter: http://twitter.com/theneedledrop\n\nInstagram: https://www.instagram.com/afantano\n\nTikTok: https://www.tiktok.com/@theneedletok\n\nTND Twitch: https://www.twitch.tv/theneedledrop\n===================================\n\nFAV TRACKS: WEST HILLS, QUIET TOWN, TERRIBLE THING, CODY, RUNAWAY HORSES, IN THE CAR OUTSIDE\n\nLEAST FAV TRACK: PRESSURE MACHINE\n\nTHE KILLERS - PRESSURE MACHINE / 2021 / ISLAND / HEARTLAND ROCK\n\n7/10\n\nY'all know this is just my opinion, right?",
          "playlistId": "UUt7fwAhXDy3oNFTAzF2o8Pw",
          "position": 60,
          "publishedAt": "2021-08-27T03:21:25Z",
          "resourceId": {
           "kind": "youtube#video",
           "videoId": "VzHT35kxLuQ"
          },
          "thumbnails": {
           "default": {
            "height": 90,
            "url": "https://i.ytimg.com/vi/VzHT35kxLuQ/default.jpg",
            "width": 120
           },
           "high": {
            "height": 360,
            "url": "https://i.ytimg.com/vi/VzHT35kxLuQ/hqdefault.jpg",
            "width": 480
           },
           "medium": {
            "height": 180,
            "url": "https://i.ytimg.com/vi/VzHT35kxLuQ/mqdefault.jpg",
            "width": 320
           }
          },
          "title": "The Killers - Pressure Machine ALBUM REVIEW",
          "videoOwnerChannelId": "UCt7fwAhXDy3oNFTAzF2o8Pw",
          "videoOwnerChannelTitle": "theneedledrop"
         },
         "status": {
          "privacyStatus": "public"
         }
        },
        {
         "contentDetails": {
          "videoId": "IRtA97V0Gas",
          "videoPublishedAt": "2021-08-26T04:20:43Z"
         },
         "etag": "2IsHWc4hp8rOak8bQN_CSn59afE",
         "id": "VVV0N2Z3QWhYRHkzb05GVEF6RjJvOFB3LklSdEE5N1YwR2Fz",
         "kind": "youtube#playlistItem",
         "snippet": {
          "channelId": "UCt7fwAhXDy3oNFTAzF2o8Pw",
          "channelTitle": "theneedledrop",
          "description": "Listen: https://www.youtube.com/watch?v=A7q3bgoEQEY\n\nThough its initially interesting aesthetic becomes samey and Trippie's performances are hit-and-miss, Trip at Knight is his best project since his studio debut.\n\nMore rap reviews: https://www.youtube.com/playlist?list=PLP4CSgl7K7ormBIO138tYonB949PHnNcP\n\n===================================\nSubscribe: http://bit.ly/1pBqGCN\n\nPatreon: https://www.patreon.com/theneedledrop\n\nOfficial site: http://theneedledrop.com\n\nTwitter: http://twitter.com/theneedledrop\n\nInstagram: https://www.instagram.com/afantano\n\nTikTok: https://www.tiktok.com/@theneedletok\n\nTND Twitch: https://www.twitch.tv/theneedledrop\n===================================\n\nFAV TRACKS: MOLLY HEARTS, MP5, SUPERNATURAL, MATT HARDY 999, RICH MF\n\nLEAST FAV TRACK: NEW MONEY\n\nTRIPPIE REDD - TRIP AT KNIGHT / 2021 / TENTHOUSAND PROJECTS / TRAP, SYNTH-RAP\n\n5/10\n\nY'all know this is just my opinion, right?",
          "playlistId": "UUt7fwAhXDy3oNFTAzF2o8Pw",
          "position": 61,
          "publishedAt": "2021-08-26T04:02:59Z",
          "resourceId": {
           "kind": "youtube#video",
           "videoId": "IRtA97V0Gas"
          },
          "thumbnails": {
           "default": {
            "height": 90,
            "url": "https://i.ytimg.com/vi/IRtA97V0Gas/default.jpg",
            "width": 120
           },
           "high": {
            "height": 360,
            "url": "https://i.ytimg.com/vi/IRtA97V0Gas/hqdefault.jpg",
            "width": 480
           },
           "medium": {
            "height": 180,
            "url": "https://i.ytimg.com/vi/IRtA97V0Gas/mqdefault.jpg",
            "width": 320
           },
           "standard": {
            "height": 480,
            "url": "https://i.ytimg.com/vi/IRtA97V0Gas/sddefault.jpg",
            "width": 640
           }
          },
          "title": "Trippie Redd - Trip at Knight ALBUM REVIEW",
          "videoOwnerChannelId": "UCt7fwAhXDy3oNFTAzF2o8Pw",
          "videoOwnerChannelTitle": "theneedledrop"
         },
         "status": {
          "privacyStatus": "public"
         }
        },
        {
         "contentDetails": {
          "videoId": "dNCx6M51FvI",
          "videoPublishedAt": "2021-08-25T02:58:44Z"
         },
         "etag": "5Rqz2VJR1Sg8gADB0QtfnTOe324",
         "id": "VVV0N2Z3QWhYRHkzb05GVEF6RjJvOFB3LmROQ3g2TTUxRnZJ",
         "kind": "youtube#playlistItem",
         "snippet": {
          "channelId": "UCt7fwAhXDy3oNFTAzF2o8Pw",
          "channelTitle": "theneedledrop",
          "description": "Reacting to comments from these reviews:\n\nLingua Ignota - SINNER GET READY\nhttps://youtu.be/g6S0XHGKzUU\n\nLorde - Solar Power\nhttps://youtu.be/knCe71tRofw\n\nDeafheaven - Infinite Granite\nhttps://youtu.be/k2Rhhj4QnIk\n\nNas - King's Disease II\nhttps://youtu.be/KQodSAGa9Y8\n\n===================================\nSubscribe: http://bit.ly/1pBqGCN\n\nPatreon: https://www.patreon.com/theneedledrop\n\nOfficial site: http://theneedledrop.com\n\nTwitter: http://twitter.com/theneedledrop\n\nInstagram: https://www.instagram.com/afantano\n\nTikTok: https://www.tiktok.com/@theneedletok\n\nTND Twitch: https://www.twitch.tv/theneedledrop\n===================================\n\nY'all know this is just my opinion, right?",
          "playlistId": "UUt7fwAhXDy3oNFTAzF2o8Pw",
          "position": 62,
          "publishedAt": "2021-08-25T02:52:26Z",
          "resourceId": {
           "kind": "youtube#video",
           "videoId": "dNCx6M51FvI"
          },
          "thumbnails": {
           "default": {
            "height": 90,
            "url": "https://i.ytimg.com/vi/dNCx6M51FvI/default.jpg",
            "width": 120
           },
           "high": {
            "height": 360,
            "url": "https://i.ytimg.com/vi/dNCx6M51FvI/hqdefault.jpg",
            "width": 480
           },
           "medium": {
            "height": 180,
            "url": "https://i.ytimg.com/vi/dNCx6M51FvI/mqdefault.jpg",
            "width": 320
           },
           "standard": {
            "height": 480,
            "url": "https://i.ytimg.com/vi/dNCx6M51FvI/sddefault.jpg",
            "width": 640
           }
          },
          "title": "Reading Your Comments: Lorde, Nas, Lingua Ignota, Deafheaven",
          "videoOwnerChannelId": "UCt7fwAhXDy3oNFTAzF2o8Pw",
          "videoOwnerChannelTitle": "theneedledrop"
         },
         "status": {
          "privacyStatus": "public"
         }
        },
        {
         "contentDetails": {
          "videoId": "knCe71tRofw",
          "videoPublishedAt": "2021-08-24T03:34:34Z"
         },
         "etag": "QTx22JyciYxvQJXSEKwyR92mW8c",
         "id": "VVV0N2Z3QWhYRHkzb05GVEF6RjJvOFB3LmtuQ2U3MXRSb2Z3",
         "kind": "youtube#playlistItem",
         "snippet": {
          "channelId": "UCt7fwAhXDy3oNFTAzF2o8Pw",
          "channelTitle": "theneedledrop",
          "description": "Listen: https://www.youtube.com/watch?v=P103bWMdvtA\n\nLorde lacks the writing chops or perspective to follow through on Solar Power's themes and satire.\n\nMore pop reviews: https://www.youtube.com/playlist?list=PLP4CSgl7K7oqibt_5oDPppWxQ0iaxyyeq\n\n===================================\nSubscribe: http://bit.ly/1pBqGCN\n\nPatreon: https://www.patreon.com/theneedledrop\n\nOfficial site: http://theneedledrop.com\n\nTwitter: http://twitter.com/theneedledrop\n\nInstagram: https://www.instagram.com/afantano\n\nTikTok: https://www.tiktok.com/@theneedletok\n\nTND Twitch: https://www.twitch.tv/theneedledrop\n===================================\n\nFAV TRACKS: SOLAR POWER, FALLEN FRUIT\n\nLEAST FAV TRACK: MOOD RING\n\nLORDE - SOLAR POWER / 2021 / UNIVERSAL / PSYCH POP, SOFT ROCK, INDIE FOLK\n\n4/10\n\nY'all know this is just my opinion, right?",
          "playlistId": "UUt7fwAhXDy3oNFTAzF2o8Pw",
          "position": 63,
          "publishedAt": "2021-08-24T03:14:56Z",
          "resourceId": {
           "kind": "youtube#video",
           "videoId": "knCe71tRofw"
          },
          "thumbnails": {
           "default": {
            "height": 90,
            "url": "https://i.ytimg.com/vi/knCe71tRofw/default.jpg",
            "width": 120
           },
           "high": {
            "height": 360,
            "url": "https://i.ytimg.com/vi/knCe71tRofw/hqdefault.jpg",
            "width": 480
           },
           "medium": {
            "height": 180,
            "url": "https://i.ytimg.com/vi/knCe71tRofw/mqdefault.jpg",
            "width": 320
           }
          },
          "title": "Lorde - Solar Power ALBUM REVIEW",
          "videoOwnerChannelId": "UCt7fwAhXDy3oNFTAzF2o8Pw",
          "videoOwnerChannelTitle": "theneedledrop"
         },
         "status": {
          "privacyStatus": "public"
         }
        },
        {
         "contentDetails": {
          "videoId": "fqoO_I01tLA",
          "videoPublishedAt": "2021-08-23T03:38:49Z"
         },
         "etag": "yBqWH6V__MWbbEJXRDWQSVe0wzM",
         "id": "VVV0N2Z3QWhYRHkzb05GVEF6RjJvOFB3LmZxb09fSTAxdExB",
         "kind": "youtube#playlistItem",
         "snippet": {
          "channelId": "UCt7fwAhXDy3oNFTAzF2o8Pw",
          "channelTitle": "theneedledrop",
          "description": "2021 FAV TRACKS PLAYLIST: https://open.spotify.com/playlist/7hXc9PnNqJtnV4hMmsqgIR?si=BDDSbBnoQzS1KPhndqwfkg\n\nTND Patreon: https://www.patreon.com/theneedledrop\n\nTurntable Lab link: http://turntablelab.com/theneedledrop\n\n\n!!!BEST TRACKS THIS WEEK!!!\n\nMeridian Brothers, Conjunto Media Luna - La Secta\nhttps://www.youtube.com/watch?v=k27bMS-M6sU\n\nDenzel Curry - The Game\nhttps://www.youtube.com/watch?v=v5k8CI04Ip4\n\nYoung Thug - Tick Tock \nhttps://www.youtube.com/watch?v=sxfr4RooJkI\n\nParquet Courts - Walking at a Downtown Pace\nhttps://www.youtube.com/watch?v=0R7wpcw1Z4A\nInterview: https://www.youtube.com/watch?v=b4mMBC3Yqws\n\nJames Blake - Life Is Not the Same\nhttps://www.youtube.com/watch?v=a3qRD0mYtPs\n\nFuture Islands - Peach\nhttps://www.youtube.com/watch?v=mynHFOzco_8\n\nRemi Wolf - Quiet on the Set\nhttps://www.youtube.com/watch?v=8Gn_LA3t_n0\n\nDisclosure - Never Enough\nhttps://www.youtube.com/watch?v=G_r6hRV054U\n\nBADBADNOTGOOD - Sending Signals\nhttps://youtu.be/UGUTyUnB13s\n\nLone - Mouth of God\nhttps://youtu.be/R2XFG7egOF4\n\nXiu Xiu - A Real Indication\nhttps://www.youtube.com/watch?v=gF2zL_Di7TU\n\nAbra - Unlock It ft. Playboi Carti\nhttps://www.youtube.com/watch?v=o45ZIqombBo\n\n\n...meh...\n\nKevin Abstract - Sierra Nights ft. Ryan Beatty\nhttps://www.youtube.com/watch?v=fOXHhLmx9p0\n\nAlice Longyu Gao - Kanpai\nhttps://www.youtube.com/watch?v=ws1187RB68o\n\nNick Cave and the Bad Seeds - Vortex\nhttps://open.spotify.com/album/2yTgZSjCAn1w9n7hnyb78L\n\nEd Sheeran - Visiting Hours\nhttps://www.youtube.com/watch?v=gL3co17TUzk\n\nLow - More\nhttps://youtu.be/DfQQvHvIPHI\n\n\n!!!WORST TRACKS THIS WEEK!!!\n\nJaden Smith - Summer\nhttps://www.youtube.com/watch?v=EmCaYJ_SFNs\n\nIron Maiden - Stratego\nhttps://www.youtube.com/watch?v=mpuwr9fF7kw\n\nLorde - Mood Ring\nhttps://www.youtube.com/watch?v=P103bWMdvtA\n\nSkrillex, Justin Bieber, Don Toliver - Don't Go\nhttps://www.youtube.com/watch?v=cds_rfHsJ3Y\n\n===================================\nSubscribe: http://bit.ly/1pBqGCN\n\nPatreon: https://www.patreon.com/theneedledrop\n\nOfficial site: http://theneedledrop.com\n\nTwitter: http://twitter.com/theneedledrop\n\nInstagram: https://www.instagram.com/afantano\n\nTikTok: https://www.tiktok.com/@theneedletok\n\nTND Twitch: https://www.twitch.tv/theneedledrop\n===================================\n\nY'all know this is just my opinion, right?",
          "playlistId": "UUt7fwAhXDy3oNFTAzF2o8Pw",
          "position": 64,
          "publishedAt": "2021-08-23T03:14:55Z",
          "resourceId": {
           "kind": "youtube#video",
           "videoId": "fqoO_I01tLA"
          },
          "thumbnails": {
           "default": {
            "height": 90,
            "url": "https://i.ytimg.com/vi/fqoO_I01tLA/default.jpg",
            "width": 120
           },
           "high": {
            "height": 360,
            "url": "https://i.ytimg.com/vi/fqoO_I01tLA/hqdefault.jpg",
            "width": 480
           },
           "medium": {
            "height": 180,
            "url": "https://i.ytimg.com/vi/fqoO_I01tLA/mqdefault.jpg",
            "width": 320
           }
          },
          "title": "Denzel Curry, Jaden, Ed Sheeran, Iron Maiden | Weekly Track Roundup: 8/22/21",
          "videoOwnerChannelId": "UCt7fwAhXDy3oNFTAzF2o8Pw",
          "videoOwnerChannelTitle": "theneedledrop"
         },
         "status": {
          "privacyStatus": "public"
         }
        },
        {
         "contentDetails": {
          "videoId": "k2Rhhj4QnIk",
          "videoPublishedAt": "2021-08-21T06:50:07Z"
         },
         "etag": "-DW8uit3QshPUv0_vJMgi4iCQXo",
         "id": "VVV0N2Z3QWhYRHkzb05GVEF6RjJvOFB3LmsyUmhoajRRbklr",
         "kind": "youtube#playlistItem",
         "snippet": {
          "channelId": "UCt7fwAhXDy3oNFTAzF2o8Pw",
          "channelTitle": "theneedledrop",
          "description": "Listen: https://deafheavens.bandcamp.com/album/infinite-granite\n\nInfinite Granite finds Deafheaven eschewing the blackened aspect of their sound in favor of boilerplate shoegaze and post-rock.\n\nMore rock reviews: https://www.youtube.com/playlist?list=PLP4CSgl7K7ori6-Iz-AWcX561iWCfapt_\n\n===================================\nSubscribe: http://bit.ly/1pBqGCN\n\nPatreon: https://www.patreon.com/theneedledrop\n\nOfficial site: http://theneedledrop.com\n\nTwitter: http://twitter.com/theneedledrop\n\nInstagram: https://www.instagram.com/afantano\n\nTikTok: https://www.tiktok.com/@theneedletok\n\nTND Twitch: https://www.twitch.tv/theneedledrop\n===================================\n\nFAV TRACKS: N/A\n\nLEAST FAV TRACK: N/A\n\nDEAFHEAVEN - INFINITE GRANITE / 2021 / SARGENT HOUSE / SHOEGAZE, POST-ROCK\n\n3/10\n\nY'all know this is just my opinion, right?",
          "playlistId": "UUt7fwAhXDy3oNFTAzF2o8Pw",
          "position": 65,
          "publishedAt": "2021-08-21T06:36:47Z",
          "resourceId": {
           "kind": "youtube#video",
           "videoId": "k2Rhhj4QnIk"
          },
          "thumbnails": {
           "default": {
            "height": 90,
            "url": "https://i.ytimg.com/vi/k2Rhhj4QnIk/default.jpg",
            "width": 120
           },
           "high": {
            "height": 360,
            "url": "https://i.ytimg.com/vi/k2Rhhj4QnIk/hqdefault.jpg",
            "width": 480
           },
           "medium": {
            "height": 180,
            "url": "https://i.ytimg.com/vi/k2Rhhj4QnIk/mqdefault.jpg",
            "width": 320
           },
           "standard": {
            "height": 480,
            "url": "https://i.ytimg.com/vi/k2Rhhj4QnIk/sddefault.jpg",
            "width": 640
           }
          },
          "title": "Deafheaven - Infinite Granite ALBUM REVIEW",
          "videoOwnerChannelId": "UCt7fwAhXDy3oNFTAzF2o8Pw",
          "videoOwnerChannelTitle": "theneedledrop"
         },
         "status": {
          "privacyStatus": "public"
         }
        },
        {
         "contentDetails": {
          "videoId": "CajnKHFPAdk",
          "videoPublishedAt": "2021-08-20T03:55:01Z"
         },
         "etag": "YhMabEuEo2BS5P2QQYZ7_XHMBrc",
         "id": "VVV0N2Z3QWhYRHkzb05GVEF6RjJvOFB3LkNham5LSEZQQWRr",
         "kind": "youtube#playlistItem",
         "snippet": {
          "channelId": "UCt7fwAhXDy3oNFTAzF2o8Pw",
          "channelTitle": "theneedledrop",
          "description": "Listen: https://www.youtube.com/watch?v=acEHv_fNn8E\n\nAs of now, Still Woozy's take on alternative/bedroom pop is neither terrible nor particularly memorable.\n\nMore pop reviews: https://www.youtube.com/playlist?list=PLP4CSgl7K7oqibt_5oDPppWxQ0iaxyyeq\n\n===================================\nSubscribe: http://bit.ly/1pBqGCN\n\nPatreon: https://www.patreon.com/theneedledrop\n\nOfficial site: http://theneedledrop.com\n\nTwitter: http://twitter.com/theneedledrop\n\nInstagram: https://www.instagram.com/afantano\n\nTikTok: https://www.tiktok.com/@theneedletok\n\nTND Twitch: https://www.twitch.tv/theneedledrop\n===================================\n\nFAV TRACKS: WINDOW, KENNY, ALL ALONG\n\nLEAST FAV TRACK: ROCKY\n\nSTILL WOOZY - IF THIS ISN'T NICE, I DON'T KNOW WHAT IS / 2021 / INTERSCOPE / BEDROOM POP\n\n5/10\n\nY'all know this is just my opinion, right?",
          "playlistId": "UUt7fwAhXDy3oNFTAzF2o8Pw",
          "position": 66,
          "publishedAt": "2021-08-20T03:41:36Z",
          "resourceId": {
           "kind": "youtube#video",
           "videoId": "CajnKHFPAdk"
          },
          "thumbnails": {
           "default": {
            "height": 90,
            "url": "https://i.ytimg.com/vi/CajnKHFPAdk/default.jpg",
            "width": 120
           },
           "high": {
            "height": 360,
            "url": "https://i.ytimg.com/vi/CajnKHFPAdk/hqdefault.jpg",
            "width": 480
           },
           "medium": {
            "height": 180,
            "url": "https://i.ytimg.com/vi/CajnKHFPAdk/mqdefault.jpg",
            "width": 320
           },
           "standard": {
            "height": 480,
            "url": "https://i.ytimg.com/vi/CajnKHFPAdk/sddefault.jpg",
            "width": 640
           }
          },
          "title": "Still Woozy - If This Isn’t Nice, I Don’t Know What Is ALBUM REVIEW",
          "videoOwnerChannelId": "UCt7fwAhXDy3oNFTAzF2o8Pw",
          "videoOwnerChannelTitle": "theneedledrop"
         },
         "status": {
          "privacyStatus": "public"
         }
        },
        {
         "contentDetails": {
          "videoId": "h0bWqgIelDk",
          "videoPublishedAt": "2021-08-19T04:59:47Z"
         },
         "etag": "irvGWyQpsVJ8zEzSawlXJfPMqAU",
         "id": "VVV0N2Z3QWhYRHkzb05GVEF6RjJvOFB3LmgwYldxZ0llbERr",
         "kind": "youtube#playlistItem",
         "snippet": {
          "channelId": "UCt7fwAhXDy3oNFTAzF2o8Pw",
          "channelTitle": "theneedledrop",
          "description": "Listen: https://ronee.bandcamp.com/album/gumbo\n\nAs its title suggests, GUMBO'! is a viscous and dreamy homage to various strains of southern hip hop whose charm is undeniable.\n\nMore rap reviews: https://www.youtube.com/playlist?list=PLP4CSgl7K7ormBIO138tYonB949PHnNcP\n\n===================================\nSubscribe: http://bit.ly/1pBqGCN\n\nPatreon: https://www.patreon.com/theneedledrop\n\nOfficial site: http://theneedledrop.com\n\nTwitter: http://twitter.com/theneedledrop\n\nInstagram: https://www.instagram.com/afantano\n\nTikTok: https://www.tiktok.com/@theneedletok\n\nTND Twitch: https://www.twitch.tv/theneedledrop\n===================================\n\nFAV TRACKS: GUMBO, WAYANS BROS, ROSCOE, BUSSIN', BACK, SCURRRD, SMILE, CALL THA BRO, BIG OLE, LNG HAIR DNT CARE\n\nLEAST FAV TRACK: BRAVO\n\nPINK SIIFU - GUMBO'! / 2021 / DYNAMITE HILL / SOUTHERN HIP HOP, CLOUD RAP\n\n8/10 https://www.theneedledrop.com/loved-list/2021/1/loved-list-2021\n\nY'all know this is just my opinion, right?",
          "playlistId": "UUt7fwAhXDy3oNFTAzF2o8Pw",
          "position": 67,
          "publishedAt": "2021-08-19T04:42:11Z",
          "resourceId": {
           "kind": "youtube#video",
           "videoId": "h0bWqgIelDk"
          },
          "thumbnails": {
           "default": {
            "height": 90,
            "url": "https://i.ytimg.com/vi/h0bWqgIelDk/default.jpg",
            "width": 120
           },
           "high": {
            "height": 360,
            "url": "https://i.ytimg.com/vi/h0bWqgIelDk/hqdefault.jpg",
            "width": 480
           },
           "medium": {
            "height": 180,
            "url": "https://i.ytimg.com/vi/h0bWqgIelDk/mqdefault.jpg",
            "width": 320
           },
           "standard": {
            "height": 480,
            "url": "https://i.ytimg.com/vi/h0bWqgIelDk/sddefault.jpg",
            "width": 640
           }
          },
          "title": "Pink Siifu - GUMBO'! ALBUM REVIEW",
          "videoOwnerChannelId": "UCt7fwAhXDy3oNFTAzF2o8Pw",
          "videoOwnerChannelTitle": "theneedledrop"
         },
         "status": {
          "privacyStatus": "public"
         }
        },
        {
         "contentDetails": {
          "videoId": "9Dn926lHlKE",
          "videoPublishedAt": "2021-08-18T02:15:42Z"
         },
         "etag": "RGaoZjo1AcMfWv0V0OBFHGtsFs4",
         "id": "VVV0N2Z3QWhYRHkzb05GVEF6RjJvOFB3LjlEbjkyNmxIbEtF",
         "kind": "youtube#playlistItem",
         "snippet": {
          "channelId": "UCt7fwAhXDy3oNFTAzF2o8Pw",
          "channelTitle": "theneedledrop",
          "description": "Listen: https://zelooperz.bandcamp.com/album/van-goghs-left-ear\n\nVan Gogh's Left Ear gets off to a very strong start before ZelooperZ's risk-taking leads to some awkward spots.\n\nMore rap reviews: https://www.youtube.com/playlist?list=PLP4CSgl7K7ormBIO138tYonB949PHnNcP\n\n===================================\nSubscribe: http://bit.ly/1pBqGCN\n\nPatreon: https://www.patreon.com/theneedledrop\n\nOfficial site: http://theneedledrop.com\n\nTwitter: http://twitter.com/theneedledrop\n\nInstagram: https://www.instagram.com/afantano\n\nTikTok: https://www.tiktok.com/@theneedletok\n\nTND Twitch: https://www.twitch.tv/theneedledrop\n===================================\n\nFAV TRACKS: VAN GOGH'S LEFT EAR, PARANORMAL SNAPTIVITY, TICKING TIME BOMB, EACH AND EVERY MOMENT, MECHANIC, BASH BANDICOON, DEDICATED MY LIFE, BLUEZ\n\nLEAST FAV TRACK: HOSTILE\n\nZELOOPERZ - VAN GOGH'S LEFT EAR / 2021 / BRUISER BRIGADE / TRAP RAP, ABSTRACT HIP HOP\n\n6/10\n\nY'all know this is just my opinion, right?",
          "playlistId": "UUt7fwAhXDy3oNFTAzF2o8Pw",
          "position": 68,
          "publishedAt": "2021-08-18T01:52:03Z",
          "resourceId": {
           "kind": "youtube#video",
           "videoId": "9Dn926lHlKE"
          },
          "thumbnails": {
           "default": {
            "height": 90,
            "url": "https://i.ytimg.com/vi/9Dn926lHlKE/default.jpg",
            "width": 120
           },
           "high": {
            "height": 360,
            "url": "https://i.ytimg.com/vi/9Dn926lHlKE/hqdefault.jpg",
            "width": 480
           },
           "medium": {
            "height": 180,
            "url": "https://i.ytimg.com/vi/9Dn926lHlKE/mqdefault.jpg",
            "width": 320
           },
           "standard": {
            "height": 480,
            "url": "https://i.ytimg.com/vi/9Dn926lHlKE/sddefault.jpg",
            "width": 640
           }
          },
          "title": "ZelooperZ - Van Gogh's Left Ear ALBUM REVIEW",
          "videoOwnerChannelId": "UCt7fwAhXDy3oNFTAzF2o8Pw",
          "videoOwnerChannelTitle": "theneedledrop"
         },
         "status": {
          "privacyStatus": "public"
         }
        },
        {
         "contentDetails": {
          "videoId": "F-QbDEI8ggI",
          "videoPublishedAt": "2021-08-17T02:45:54Z"
         },
         "etag": "LrBPjU3tG1765eF0siN5iCx-Zt4",
         "id": "VVV0N2Z3QWhYRHkzb05GVEF6RjJvOFB3LkYtUWJERUk4Z2dJ",
         "kind": "youtube#playlistItem",
         "snippet": {
          "channelId": "UCt7fwAhXDy3oNFTAzF2o8Pw",
          "channelTitle": "theneedledrop",
          "description": "Listen: https://soundcloud.com/g59/sets/long-term-effects-of-suffering\n\nFor better or worse, $uicideboy$ stick to their guns on Long Term Effects.\n\nMore rap reviews: https://www.youtube.com/playlist?list=PLP4CSgl7K7ormBIO138tYonB949PHnNcP\n\n===================================\nSubscribe: http://bit.ly/1pBqGCN\n\nPatreon: https://www.patreon.com/theneedledrop\n\nOfficial site: http://theneedledrop.com\n\nTwitter: http://twitter.com/theneedledrop\n\nInstagram: https://www.instagram.com/afantano\n\nTikTok: https://www.tiktok.com/@theneedletok\n\nTND Twitch: https://www.twitch.tv/theneedledrop\n===================================\n\nFAV TRACKS: IF SELF-DESTRUCTION WAS AN OLYMPIC EVENT I'D BE TONYA HARDING, THE NUMBER YOU HAVE DIALED IS NOT IN SERVICE\n\nLEAST FAV TRACK: FORGET IT\n\n$UICIDEBOY$- LONG TERM EFFECTS OF SUFFERING / 2021 / G59 / TRAP RAP, HORRORCORE\n\n4/10\n\nY'all know this is just my opinion, right?",
          "playlistId": "UUt7fwAhXDy3oNFTAzF2o8Pw",
          "position": 69,
          "publishedAt": "2021-08-17T02:25:43Z",
          "resourceId": {
           "kind": "youtube#video",
           "videoId": "F-QbDEI8ggI"
          },
          "thumbnails": {
           "default": {
            "height": 90,
            "url": "https://i.ytimg.com/vi/F-QbDEI8ggI/default.jpg",
            "width": 120
           },
           "high": {
            "height": 360,
            "url": "https://i.ytimg.com/vi/F-QbDEI8ggI/hqdefault.jpg",
            "width": 480
           },
           "medium": {
            "height": 180,
            "url": "https://i.ytimg.com/vi/F-QbDEI8ggI/mqdefault.jpg",
            "width": 320
           },
           "standard": {
            "height": 480,
            "url": "https://i.ytimg.com/vi/F-QbDEI8ggI/sddefault.jpg",
            "width": 640
           }
          },
          "title": "$uicideboy$ - Long Term Effects of Suffering ALBUM REVIEW",
          "videoOwnerChannelId": "UCt7fwAhXDy3oNFTAzF2o8Pw",
          "videoOwnerChannelTitle": "theneedledrop"
         },
         "status": {
          "privacyStatus": "public"
         }
        },
        {
         "contentDetails": {
          "videoId": "ymZIPCNk01M",
          "videoPublishedAt": "2021-08-16T03:55:39Z"
         },
         "etag": "t5pA-xDa3Ou3yGlBzxMu5H-7l7Q",
         "id": "VVV0N2Z3QWhYRHkzb05GVEF6RjJvOFB3LnltWklQQ05rMDFN",
         "kind": "youtube#playlistItem",
         "snippet": {
          "channelId": "UCt7fwAhXDy3oNFTAzF2o8Pw",
          "channelTitle": "theneedledrop",
          "description": "Our sponsor: http://ridgewallet.com/fantano\nUSE PROMO CODE \"MELON\" FOR 10% OFF\n\n2021 FAV TRACKS PLAYLIST: https://open.spotify.com/playlist/7hXc9PnNqJtnV4hMmsqgIR?si=BDDSbBnoQzS1KPhndqwfkg\n\nTND Patreon: https://www.patreon.com/theneedledrop\n\nTurntable Lab link: http://turntablelab.com/theneedledrop\n\n\n!!!BEST TRACKS THIS WEEK!!!\n\nLizzo - Rumors ft. Cardi B\nhttps://www.youtube.com/watch?v=4P9XUrniiK4\n\nPinkPantheress - Just for Me\nhttps://www.youtube.com/watch?v=7xVUg9GmDfg\n\nMagdalena Bay - Secrets (Your Fire)\nhttps://youtu.be/TlhIk7iPU9o\n\nBig Thief - Little Things\nhttps://youtu.be/qF0dXT-v-vY\n\nCourtney Barnett - Before You Gotta Go\nhttps://youtu.be/5cD1LP80JvQ\n\nSufjan Stevens & Angelo De Augustine - Back to Oz\nhttps://youtu.be/00f2kSnIxfw\n\nIndigo De Souza - Real Pain\nhttps://youtu.be/VUe4zYAZsMg\n\nInjury Reserve - Knees\nhttps://youtu.be/AvYU1mIMiuY\n\nOnyx Collective - Tango\nhttps://www.youtube.com/watch?v=kHTsRZ46Skg\n\n\n...meh...\n\nDanny Elfman & Trent Reznor - True\nhttps://youtu.be/V1adLb9c6U4\n\nBella Poarch & Sub Urban - Inferno\nhttps://bellapoarch.lnk.to/inferno\n\nPhoebe Bridgers - Nothing Else Matters (Metallica Cover)\nhttps://www.youtube.com/watch?v=0TR1Uk5oV5c\n\nChris Stapleton - Nothing Else Matters (Metallica Cover)\nhttps://www.youtube.com/watch?v=jzN9rdvXmS4\n\nKodak Black - Before I Go ft. Rod Wave\nhttps://www.youtube.com/watch?v=0YztXlnFBrY\n\nCoi Leray - Okay Yeah!\nhttps://www.youtube.com/watch?v=eTOAcJ-K2-Q\n\n\n!!!WORST TRACKS THIS WEEK!!!\n\nMachine Gun Kelly - papercuts\nhttps://www.youtube.com/watch?v=28PwRWXQ6Pw\n\n\n===================================\nSubscribe: http://bit.ly/1pBqGCN\n\nPatreon: https://www.patreon.com/theneedledrop\n\nOfficial site: http://theneedledrop.com\n\nTwitter: http://twitter.com/theneedledrop\n\nInstagram: https://www.instagram.com/afantano\n\nTikTok: https://www.tiktok.com/@theneedletok\n\nTND Twitch: https://www.twitch.tv/theneedledrop\n===================================\n\nY'all know this is just my opinion, right?",
          "playlistId": "UUt7fwAhXDy3oNFTAzF2o8Pw",
          "position": 70,
          "publishedAt": "2021-08-16T03:34:35Z",
          "resourceId": {
           "kind": "youtube#video",
           "videoId": "ymZIPCNk01M"
          },
          "thumbnails": {
           "default": {
            "height": 90,
            "url": "https://i.ytimg.com/vi/ymZIPCNk01M/default.jpg",
            "width": 120
           },
           "high": {
            "height": 360,
            "url": "https://i.ytimg.com/vi/ymZIPCNk01M/hqdefault.jpg",
            "width": 480
           },
           "medium": {
            "height": 180,
            "url": "https://i.ytimg.com/vi/ymZIPCNk01M/mqdefault.jpg",
            "width": 320
           }
          },
          "title": "Lizzo, Injury Reserve, PinkPantheress, MGK | Weekly Track Roundup: 8/15/21",
          "videoOwnerChannelId": "UCt7fwAhXDy3oNFTAzF2o8Pw",
          "videoOwnerChannelTitle": "theneedledrop"
         },
         "status": {
          "privacyStatus": "public"
         }
        },
        {
         "contentDetails": {
          "videoId": "L6lVCBNEzEA",
          "videoPublishedAt": "2021-08-14T02:27:17Z"
         },
         "etag": "3JYwitbfv8tgxIZYDmo8YtbTV6I",
         "id": "VVV0N2Z3QWhYRHkzb05GVEF6RjJvOFB3Lkw2bFZDQk5FekVB",
         "kind": "youtube#playlistItem",
         "snippet": {
          "channelId": "UCt7fwAhXDy3oNFTAzF2o8Pw",
          "channelTitle": "theneedledrop",
          "description": "Listen: https://iamyola.bandcamp.com/album/stand-for-myself\n\nYola's stunning writing and performances easily make up for Stand for Myself's general lack of novelty.\n\nMore pop reviews: https://www.youtube.com/playlist?list=PLP4CSgl7K7oqibt_5oDPppWxQ0iaxyyeq\n\n===================================\nSubscribe: http://bit.ly/1pBqGCN\n\nPatreon: https://www.patreon.com/theneedledrop\n\nOfficial site: http://theneedledrop.com\n\nTwitter: http://twitter.com/theneedledrop\n\nInstagram: https://www.instagram.com/afantano\n\nTikTok: https://www.tiktok.com/@theneedletok\n\nTND Twitch: https://www.twitch.tv/theneedledrop\n===================================\n\nFAV TRACKS: BARELY ALIVE, DIAMOND STUDDED SHOES, BE MY FRIEND, GREAT DIVIDE, STARLIGHT, IF I HAD TO DO IT ALL AGAIN, NOW YOU'RE HERE, WHATEVER YOU WANT, BREAK THE BOUGH, STAND FOR MYSELF\n\nLEAST FAV TRACK: LIKE A PHOTOGRAPH\n\nYOLA - STAND FOR MYSELF / 2021 / EASY EYE SOUND / COUNTRY SOUL\n\n8/10 https://www.theneedledrop.com/loved-list/2021/1/loved-list-2021\n\nY'all know this is just my opinion, right?",
          "playlistId": "UUt7fwAhXDy3oNFTAzF2o8Pw",
          "position": 71,
          "publishedAt": "2021-08-14T02:08:54Z",
          "resourceId": {
           "kind": "youtube#video",
           "videoId": "L6lVCBNEzEA"
          },
          "thumbnails": {
           "default": {
            "height": 90,
            "url": "https://i.ytimg.com/vi/L6lVCBNEzEA/default.jpg",
            "width": 120
           },
           "high": {
            "height": 360,
            "url": "https://i.ytimg.com/vi/L6lVCBNEzEA/hqdefault.jpg",
            "width": 480
           },
           "medium": {
            "height": 180,
            "url": "https://i.ytimg.com/vi/L6lVCBNEzEA/mqdefault.jpg",
            "width": 320
           },
           "standard": {
            "height": 480,
            "url": "https://i.ytimg.com/vi/L6lVCBNEzEA/sddefault.jpg",
            "width": 640
           }
          },
          "title": "Yola - Stand for Myself ALBUM REVIEW",
          "videoOwnerChannelId": "UCt7fwAhXDy3oNFTAzF2o8Pw",
          "videoOwnerChannelTitle": "theneedledrop"
         },
         "status": {
          "privacyStatus": "public"
         }
        },
        {
         "contentDetails": {
          "videoId": "g6S0XHGKzUU",
          "videoPublishedAt": "2021-08-13T04:09:52Z"
         },
         "etag": "uZmYBe5-3kJaTdea3Wnrdx6mkRc",
         "id": "VVV0N2Z3QWhYRHkzb05GVEF6RjJvOFB3Lmc2UzBYSEdLelVV",
         "kind": "youtube#playlistItem",
         "snippet": {
          "channelId": "UCt7fwAhXDy3oNFTAzF2o8Pw",
          "channelTitle": "theneedledrop",
          "description": "Listen: https://linguaignota.bandcamp.com/album/sinner-get-ready\n\nHallelujah.\n\nOther reviews: https://www.youtube.com/playlist?list=PLP4CSgl7K7orSnEBkcBRqI5fDgKSs5c8o\n\n===================================\nSubscribe: http://bit.ly/1pBqGCN\n\nPatreon: https://www.patreon.com/theneedledrop\n\nOfficial site: http://theneedledrop.com\n\nTwitter: http://twitter.com/theneedledrop\n\nInstagram: https://www.instagram.com/afantano\n\nTikTok: https://www.tiktok.com/@theneedletok\n\nTND Twitch: https://www.twitch.tv/theneedledrop\n===================================\n\nFAV TRACKS: ALL\n\nLEAST FAV TRACK: N/A\n\nLINGUA IGNOTA - SINNER GET READY / 2021 / SARGENT HOUSE / NEOCLASSICAL DARKWAVE, NEOFOLK, DRONE, LITURGICAL MUSIC\n\n10/10 https://www.theneedledrop.com/loved-list/2021/1/loved-list-2021\n\nY'all know this is just my opinion, right?",
          "playlistId": "UUt7fwAhXDy3oNFTAzF2o8Pw",
          "position": 72,
          "publishedAt": "2021-08-13T03:53:38Z",
          "resourceId": {
           "kind": "youtube#video",
           "videoId": "g6S0XHGKzUU"
          },
          "thumbnails": {
           "default": {
            "height": 90,
            "url": "https://i.ytimg.com/vi/g6S0XHGKzUU/default.jpg",
            "width": 120
           },
           "high": {
            "height": 360,
            "url": "https://i.ytimg.com/vi/g6S0XHGKzUU/hqdefault.jpg",
            "width": 480
           },
           "medium": {
            "height": 180,
            "url": "https://i.ytimg.com/vi/g6S0XHGKzUU/mqdefault.jpg",
            "width": 320
           },
           "standard": {
            "height": 480,
            "url": "https://i.ytimg.com/vi/g6S0XHGKzUU/sddefault.jpg",
            "width": 640
           }
          },
          "title": "Lingua Ignota - Sinner Get Ready ALBUM REVIEW",
          "videoOwnerChannelId": "UCt7fwAhXDy3oNFTAzF2o8Pw",
          "videoOwnerChannelTitle": "theneedledrop"
         },
         "status": {
          "privacyStatus": "public"
         }
        },
        {
         "contentDetails": {
          "videoId": "KQodSAGa9Y8",
          "videoPublishedAt": "2021-08-11T02:39:54Z"
         },
         "etag": "FjKSX_kYCV46bvpcz9TSnzFDr1A",
         "id": "VVV0N2Z3QWhYRHkzb05GVEF6RjJvOFB3LktRb2RTQUdhOVk4",
         "kind": "youtube#playlistItem",
         "snippet": {
          "channelId": "UCt7fwAhXDy3oNFTAzF2o8Pw",
          "channelTitle": "theneedledrop",
          "description": "Listen: https://www.youtube.com/watch?v=yDSCNs77l28\n\nKing's Disease II capitalizes on all the potential of its predecessor.\n\nMore rap reviews: https://www.youtube.com/playlist?list=PLP4CSgl7K7ormBIO138tYonB949PHnNcP\n\n===================================\nSubscribe: http://bit.ly/1pBqGCN\n\nPatreon: https://www.patreon.com/theneedledrop\n\nOfficial site: http://theneedledrop.com\n\nTwitter: http://twitter.com/theneedledrop\n\nInstagram: https://www.instagram.com/afantano\n\nTikTok: https://www.tiktok.com/@theneedletok\n\nTND Twitch: https://www.twitch.tv/theneedledrop\n===================================\n\nFAV TRACKS: DEATH ROW EAST, 40 SIDE, EPMD 2, RARE, YKTV, STORE RUN, MOMENTS, NOBODY, NO PHONY LOVE, MY BIBLE\n\nLEAST FAV TRACK: BRUNCH ON SUNDAYS\n\nNAS - KING'S DISEASE II / 2021 / MASS APPEAL / EAST COAST HIP HOP\n\n8/10 https://www.theneedledrop.com/loved-list/2021/1/loved-list-2021\n\nY'all know this is just my opinion, right?",
          "playlistId": "UUt7fwAhXDy3oNFTAzF2o8Pw",
          "position": 73,
          "publishedAt": "2021-08-11T02:20:11Z",
          "resourceId": {
           "kind": "youtube#video",
           "videoId": "KQodSAGa9Y8"
          },
          "thumbnails": {
           "default": {
            "height": 90,
            "url": "https://i.ytimg.com/vi/KQodSAGa9Y8/default.jpg",
            "width": 120
           },
           "high": {
            "height": 360,
            "url": "https://i.ytimg.com/vi/KQodSAGa9Y8/hqdefault.jpg",
            "width": 480
           },
           "medium": {
            "height": 180,
            "url": "https://i.ytimg.com/vi/KQodSAGa9Y8/mqdefault.jpg",
            "width": 320
           },
           "standard": {
            "height": 480,
            "url": "https://i.ytimg.com/vi/KQodSAGa9Y8/sddefault.jpg",
            "width": 640
           }
          },
          "title": "Nas - King's Disease II ALBUM REVIEW",
          "videoOwnerChannelId": "UCt7fwAhXDy3oNFTAzF2o8Pw",
          "videoOwnerChannelTitle": "theneedledrop"
         },
         "status": {
          "privacyStatus": "public"
         }
        },
        {
         "contentDetails": {
          "videoId": "cvq7DPhsBi4",
          "videoPublishedAt": "2021-08-10T02:42:52Z"
         },
         "etag": "Y6Yli1l6Je4i-BALmhiJ0uNYPZ8",
         "id": "VVV0N2Z3QWhYRHkzb05GVEF6RjJvOFB3LmN2cTdEUGhzQmk0",
         "kind": "youtube#playlistItem",
         "snippet": {
          "channelId": "UCt7fwAhXDy3oNFTAzF2o8Pw",
          "channelTitle": "theneedledrop",
          "description": "Listen: https://lump.bandcamp.com/album/animal\n\nAnother enjoyable creative detour from Laura Marling and Mike Lindsay.\n\nMore pop reviews: https://www.youtube.com/playlist?list=PLP4CSgl7K7oqibt_5oDPppWxQ0iaxyyeq\n\n===================================\nSubscribe: http://bit.ly/1pBqGCN\n\nPatreon: https://www.patreon.com/theneedledrop\n\nOfficial site: http://theneedledrop.com\n\nTwitter: http://twitter.com/theneedledrop\n\nInstagram: https://www.instagram.com/afantano\n\nTikTok: https://www.tiktok.com/@theneedletok\n\nTND Twitch: https://www.twitch.tv/theneedledrop\n===================================\n\nFAV TRACKS: BLOOM AT NIGHT, CLIMB EVERY WALL, ANIMAL, RED SNAKES, WE CANNOT RESIST\n\nLEAST FAV TRACK: HAIR ON THE PILLOW\n\nLUMP - ANIMAL / 2021 / PARTISAN / INDIE POP, INDIETRONIC\n\n7/10\n\nY'all know this is just my opinion, right?",
          "playlistId": "UUt7fwAhXDy3oNFTAzF2o8Pw",
          "position": 74,
          "publishedAt": "2021-08-10T02:31:18Z",
          "resourceId": {
           "kind": "youtube#video",
           "videoId": "cvq7DPhsBi4"
          },
          "thumbnails": {
           "default": {
            "height": 90,
            "url": "https://i.ytimg.com/vi/cvq7DPhsBi4/default.jpg",
            "width": 120
           },
           "high": {
            "height": 360,
            "url": "https://i.ytimg.com/vi/cvq7DPhsBi4/hqdefault.jpg",
            "width": 480
           },
           "medium": {
            "height": 180,
            "url": "https://i.ytimg.com/vi/cvq7DPhsBi4/mqdefault.jpg",
            "width": 320
           },
           "standard": {
            "height": 480,
            "url": "https://i.ytimg.com/vi/cvq7DPhsBi4/sddefault.jpg",
            "width": 640
           }
          },
          "title": "LUMP - Animal ALBUM REVIEW",
          "videoOwnerChannelId": "UCt7fwAhXDy3oNFTAzF2o8Pw",
          "videoOwnerChannelTitle": "theneedledrop"
         },
         "status": {
          "privacyStatus": "public"
         }
        },
        {
         "contentDetails": {
          "videoId": "HTtzg5nMHwo",
          "videoPublishedAt": "2021-08-09T03:41:03Z"
         },
         "etag": "KyU4ZksB2571tES1iOHlob6H63I",
         "id": "VVV0N2Z3QWhYRHkzb05GVEF6RjJvOFB3LkhUdHpnNW5NSHdv",
         "kind": "youtube#playlistItem",
         "snippet": {
          "channelId": "UCt7fwAhXDy3oNFTAzF2o8Pw",
          "channelTitle": "theneedledrop",
          "description": "2021 FAV TRACKS PLAYLIST: https://open.spotify.com/playlist/7hXc9PnNqJtnV4hMmsqgIR?si=BDDSbBnoQzS1KPhndqwfkg\n\nTND Patreon: https://www.patreon.com/theneedledrop\n\nTurntable Lab link: http://turntablelab.com/theneedledrop\n\n\n!!!BEST TRACKS THIS WEEK!!!\n\nBig Red Machine - Mimi ft. Ilsey\nhttps://youtu.be/FfhIamjLPMU\n\nAdia Victoria - Magnolia\nhttps://youtu.be/sVlQPpQ3xlY\n\nThe Weeknd - Take My Breath\nhttps://www.youtube.com/watch?v=rhTl_OyehF8\nReview: https://www.youtube.com/watch?v=Of5e87V4qWs\n\nJack Harlow, Pooh Shiesty - SUVs (Black on Black)\nhttps://www.youtube.com/watch?v=98JGfgnXE1E\n\nDuran Duran - MORE JOY ft. CHAI\nhttps://youtu.be/dBR0it4FrSY\n\nWolves in the Throne Room - Primal Chasm (Gift of Fire)\nhttps://youtu.be/m-sf8tGXWss\n\nJoey Purp - Outside\nhttps://youtu.be/VKLJb0B2354\n\nZeal & Ardor - Erase\nhttps://open.spotify.com/track/04QGaBNvg3zmP4Nklyob6e?si=deaa7f780c99480d\n\n\n...meh...\n\nFull of Hell - Industrial Messiah Complex\nhttps://youtu.be/L5PSnhdcz8g\n\nUnknown Mortal Orchestra - That Life\nhttps://youtu.be/UJXccBGs_IY\n\nFINNEAS - A Concert Six Months from Now\nhttps://www.youtube.com/watch?v=TB6lk0igf_k\n\nVictoria Monét - Coastin'\nhttps://www.youtube.com/watch?v=p1KW-HNJeq8\n\nRico Nasty - Buss\nhttps://www.youtube.com/watch?v=Zusa2E6p71c\n\nblack midi - Cruising\nhttps://youtu.be/YJleqBqXlpA\n\nVince Staples - Got 'Em\nhttps://youtu.be/jkr73pqs-iM\n\nThe World Is a Beautiful Place... - Invading the World of the Guilty as a Spirit of Vengeance\nhttps://youtu.be/P_BmtqMoqOQ\n\n\n!!!WORST TRACKS THIS WEEK!!!\n\nTierra Whack - Walk the Beat\nhttps://youtu.be/9NvHtAmKd9g\n\nWeezer - Enter Sandman (Metallica Cover)\nhttps://www.youtube.com/watch?v=riLJwQ9PqKM\n\ntouche amore - Hard to Explain (The Strokes Cover)\nhttps://toucheamore.bandcamp.com/track/hard-to-explain\n\nGuns n' Roses - ABSURD\nhttps://www.youtube.com/watch?v=Qx3RfdAdCpQ\n\nTom Morello - Highway to Hell ft. Bruce Springsteen & Eddie Vedder\nhttps://youtu.be/ZuNlA6BB28E\n\nDeafheaven - In Blur\nhttps://youtu.be/fXTBQQU191Y\n\n===================================\nSubscribe: http://bit.ly/1pBqGCN\n\nPatreon: https://www.patreon.com/theneedledrop\n\nOfficial site: http://theneedledrop.com\n\nTwitter: http://twitter.com/theneedledrop\n\nInstagram: https://www.instagram.com/afantano\n\nTikTok: https://www.tiktok.com/@theneedletok\n\nTND Twitch: https://www.twitch.tv/theneedledrop\n===================================\n\nY'all know this is just my opinion, right?",
          "playlistId": "UUt7fwAhXDy3oNFTAzF2o8Pw",
          "position": 75,
          "publishedAt": "2021-08-09T03:19:18Z",
          "resourceId": {
           "kind": "youtube#video",
           "videoId": "HTtzg5nMHwo"
          },
          "thumbnails": {
           "default": {
            "height": 90,
            "url": "https://i.ytimg.com/vi/HTtzg5nMHwo/default.jpg",
            "width": 120
           },
           "high": {
            "height": 360,
            "url": "https://i.ytimg.com/vi/HTtzg5nMHwo/hqdefault.jpg",
            "width": 480
           },
           "medium": {
            "height": 180,
            "url": "https://i.ytimg.com/vi/HTtzg5nMHwo/mqdefault.jpg",
            "width": 320
           },
           "standard": {
            "height": 480,
            "url": "https://i.ytimg.com/vi/HTtzg5nMHwo/sddefault.jpg",
            "width": 640
           }
          },
          "title": "The Weeknd, FINNEAS, Jack Harlow & Pooh Shiesty | Weekly Track Roundup: 8/8/21",
          "videoOwnerChannelId": "UCt7fwAhXDy3oNFTAzF2o8Pw",
          "videoOwnerChannelTitle": "theneedledrop"
         },
         "status": {
          "privacyStatus": "public"
         }
        },
        {
         "contentDetails": {
          "videoId": "qZjFJLlqFk4",
          "videoPublishedAt": "2021-08-08T19:35:28Z"
         },
         "etag": "wHcfJdVVKo7zns5n7KUCzMLNXTA",
         "id": "VVV0N2Z3QWhYRHkzb05GVEF6RjJvOFB3LnFaakZKTGxxRms0",
         "kind": "youtube#playlistItem",
         "snippet": {
          "channelId": "UCt7fwAhXDy3oNFTAzF2o8Pw",
          "channelTitle": "theneedledrop",
          "description": "Reacting to comments from these reviews:\n\nLogic - Bobby Tarantino III\nhttps://youtu.be/_KpreG204MI\n\nBillie Eilish - Happier Than Ever\nhttps://youtu.be/8wSYxjEIAr8\n\nIsaiah Rashad - The House Is Burning\nhttps://youtu.be/54kz9zv_080 \n\n===================================\nSubscribe: http://bit.ly/1pBqGCN\n\nPatreon: https://www.patreon.com/theneedledrop\n\nOfficial site: http://theneedledrop.com\n\nTwitter: http://twitter.com/theneedledrop\n\nInstagram: https://www.instagram.com/afantano\n\nTikTok: https://www.tiktok.com/@theneedletok\n\nTND Twitch: https://www.twitch.tv/theneedledrop\n===================================\n\nY'all know this is just my opinion, right?",
          "playlistId": "UUt7fwAhXDy3oNFTAzF2o8Pw",
          "position": 76,
          "publishedAt": "2021-08-08T19:08:36Z",
          "resourceId": {
           "kind": "youtube#video",
           "videoId": "qZjFJLlqFk4"
          },
          "thumbnails": {
           "default": {
            "height": 90,
            "url": "https://i.ytimg.com/vi/qZjFJLlqFk4/default.jpg",
            "width": 120
           },
           "high": {
            "height": 360,
            "url": "https://i.ytimg.com/vi/qZjFJLlqFk4/hqdefault.jpg",
            "width": 480
           },
           "medium": {
            "height": 180,
            "url": "https://i.ytimg.com/vi/qZjFJLlqFk4/mqdefault.jpg",
            "width": 320
           },
           "standard": {
            "height": 480,
            "url": "https://i.ytimg.com/vi/qZjFJLlqFk4/sddefault.jpg",
            "width": 640
           }
          },
          "title": "Reading Your Comments: Logic, Billie Eilish, Isaiah Rashad",
          "videoOwnerChannelId": "UCt7fwAhXDy3oNFTAzF2o8Pw",
          "videoOwnerChannelTitle": "theneedledrop"
         },
         "status": {
          "privacyStatus": "public"
         }
        },
        {
         "contentDetails": {
          "videoId": "8wSYxjEIAr8",
          "videoPublishedAt": "2021-08-06T03:26:10Z"
         },
         "etag": "rPA-Hmd2ihWC4GgRzLpSTR14jfI",
         "id": "VVV0N2Z3QWhYRHkzb05GVEF6RjJvOFB3Ljh3U1l4akVJQXI4",
         "kind": "youtube#playlistItem",
         "snippet": {
          "channelId": "UCt7fwAhXDy3oNFTAzF2o8Pw",
          "channelTitle": "theneedledrop",
          "description": "Listen: https://www.youtube.com/watch?v=S2dRcipMCpw\n\nWhile many of Billie and Finneas' strengths remain intact, Happier Than Ever is a much less cohesive listen than When We All Fall Asleep.\n\nMore pop reviews: https://www.youtube.com/playlist?list=PLP4CSgl7K7oqibt_5oDPppWxQ0iaxyyeq\n\n===================================\nSubscribe: http://bit.ly/1pBqGCN\n\nPatreon: https://www.patreon.com/theneedledrop\n\nOfficial site: http://theneedledrop.com\n\nTwitter: http://twitter.com/theneedledrop\n\nInstagram: https://www.instagram.com/afantano\n\nTikTok: https://www.tiktok.com/@theneedletok\n\nTND Twitch: https://www.twitch.tv/theneedledrop\n===================================\n\nFAV TRACKS: GETTING OLDER, OXYTOCIN, LOST CAUSE, HALLEY'S COMET, EVERYBODY DIES, THEREFORE I AM, HAPPIER THAN EVER\n\nLEAST FAV TRACK: NDA\n\nBILLIE EILISH - HAPPIER THAN EVER / 2021 / DARKROOM / POP, R&B\n\n7/10\n\nY'all know this is just my opinion, right?",
          "playlistId": "UUt7fwAhXDy3oNFTAzF2o8Pw",
          "position": 77,
          "publishedAt": "2021-08-06T03:05:08Z",
          "resourceId": {
           "kind": "youtube#video",
           "videoId": "8wSYxjEIAr8"
          },
          "thumbnails": {
           "default": {
            "height": 90,
            "url": "https://i.ytimg.com/vi/8wSYxjEIAr8/default.jpg",
            "width": 120
           },
           "high": {
            "height": 360,
            "url": "https://i.ytimg.com/vi/8wSYxjEIAr8/hqdefault.jpg",
            "width": 480
           },
           "medium": {
            "height": 180,
            "url": "https://i.ytimg.com/vi/8wSYxjEIAr8/mqdefault.jpg",
            "width": 320
           }
          },
          "title": "Billie Eilish - Happier Than Ever ALBUM REVIEW",
          "videoOwnerChannelId": "UCt7fwAhXDy3oNFTAzF2o8Pw",
          "videoOwnerChannelTitle": "theneedledrop"
         },
         "status": {
          "privacyStatus": "public"
         }
        },
        {
         "contentDetails": {
          "videoId": "Vcf46f6BC-c",
          "videoPublishedAt": "2021-08-05T17:19:45Z"
         },
         "etag": "LOKG24fKZTOyAsfKCcM6Rbr-ru8",
         "id": "VVV0N2Z3QWhYRHkzb05GVEF6RjJvOFB3LlZjZjQ2ZjZCQy1j",
         "kind": "youtube#playlistItem",
         "snippet": {
          "channelId": "UCt7fwAhXDy3oNFTAzF2o8Pw",
          "channelTitle": "theneedledrop",
          "description": "Listen: https://www.youtube.com/watch?v=E4uA85iWsIg\n\nSaturday Night doesn't sound quite as methodical as Jack's work for other artists.\n\nMore rock reviews: https://www.youtube.com/playlist?list=PLP4CSgl7K7ori6-Iz-AWcX561iWCfapt_\n\n===================================\nSubscribe: http://bit.ly/1pBqGCN\n\nPatreon: https://www.patreon.com/theneedledrop\n\nOfficial site: http://theneedledrop.com\n\nTwitter: http://twitter.com/theneedledrop\n\nInstagram: https://www.instagram.com/afantano\n\nTikTok: https://www.tiktok.com/@theneedletok\n\nTND Twitch: https://www.twitch.tv/theneedledrop\n===================================\n\nFAV TRACKS: HOW DARE YOU WANT MORE, SECRET LIFE, STOP MAKING THIS HURT, DON'T GO DARK\n\nLEAST FAV TRACK: BIG LIFE\n\nBLEACHERS - TAKE THE SADNESS OUT OF SATURDAY NIGHT / 2021 / RCA / POP ROCK\n\n6/10\n\nY'all know this is just my opinion, right?",
          "playlistId": "UUt7fwAhXDy3oNFTAzF2o8Pw",
          "position": 78,
          "publishedAt": "2021-08-05T17:06:37Z",
          "resourceId": {
           "kind": "youtube#video",
           "videoId": "Vcf46f6BC-c"
          },
          "thumbnails": {
           "default": {
            "height": 90,
            "url": "https://i.ytimg.com/vi/Vcf46f6BC-c/default.jpg",
            "width": 120
           },
           "high": {
            "height": 360,
            "url": "https://i.ytimg.com/vi/Vcf46f6BC-c/hqdefault.jpg",
            "width": 480
           },
           "medium": {
            "height": 180,
            "url": "https://i.ytimg.com/vi/Vcf46f6BC-c/mqdefault.jpg",
            "width": 320
           }
          },
          "title": "Bleachers - Take the Sadness Out of Saturday Night ALBUM REVIEW",
          "videoOwnerChannelId": "UCt7fwAhXDy3oNFTAzF2o8Pw",
          "videoOwnerChannelTitle": "theneedledrop"
         },
         "status": {
          "privacyStatus": "public"
         }
        },
        {
         "contentDetails": {
          "videoId": "54kz9zv_080",
          "videoPublishedAt": "2021-08-04T18:44:19Z"
         },
         "etag": "UTCiQUXbFJpGuy_TyR_1a1cnNjE",
         "id": "VVV0N2Z3QWhYRHkzb05GVEF6RjJvOFB3LjU0a3o5enZfMDgw",
         "kind": "youtube#playlistItem",
         "snippet": {
          "channelId": "UCt7fwAhXDy3oNFTAzF2o8Pw",
          "channelTitle": "theneedledrop",
          "description": "Listen: https://www.youtube.com/watch?v=cRQRmFhL_vo\n\nThe House Is Burning, for the most part, is about as engaging as a lackadaisical buzz.\n\nMore rap reviews: https://www.youtube.com/playlist?list=PLP4CSgl7K7ormBIO138tYonB949PHnNcP\n\n===================================\nSubscribe: http://bit.ly/1pBqGCN\n\nPatreon: https://www.patreon.com/theneedledrop\n\nOfficial site: http://theneedledrop.com\n\nTwitter: http://twitter.com/theneedledrop\n\nInstagram: https://www.instagram.com/afantano\n\nTikTok: https://www.tiktok.com/@theneedletok\n\nTND Twitch: https://www.twitch.tv/theneedledrop\n===================================\n\nFAV TRACKS: DARKSEID, FROM THE GARDEN, SCORE\n\nLEAST FAV TRACK: ALL HERB\n\nISAIAH RASHAD - THE HOUSE IS BURNING / 2021 / TDE / SOUTHERN HIP HOP\n\n5/10\n\nY'all know this is just my opinion, right?",
          "playlistId": "UUt7fwAhXDy3oNFTAzF2o8Pw",
          "position": 79,
          "publishedAt": "2021-08-04T18:30:55Z",
          "resourceId": {
           "kind": "youtube#video",
           "videoId": "54kz9zv_080"
          },
          "thumbnails": {
           "default": {
            "height": 90,
            "url": "https://i.ytimg.com/vi/54kz9zv_080/default.jpg",
            "width": 120
           },
           "high": {
            "height": 360,
            "url": "https://i.ytimg.com/vi/54kz9zv_080/hqdefault.jpg",
            "width": 480
           },
           "medium": {
            "height": 180,
            "url": "https://i.ytimg.com/vi/54kz9zv_080/mqdefault.jpg",
            "width": 320
           },
           "standard": {
            "height": 480,
            "url": "https://i.ytimg.com/vi/54kz9zv_080/sddefault.jpg",
            "width": 640
           }
          },
          "title": "Isaiah Rashad - The House Is Burning ALBUM REVIEW",
          "videoOwnerChannelId": "UCt7fwAhXDy3oNFTAzF2o8Pw",
          "videoOwnerChannelTitle": "theneedledrop"
         },
         "status": {
          "privacyStatus": "public"
         }
        },
        {
         "contentDetails": {
          "videoId": "_KpreG204MI",
          "videoPublishedAt": "2021-08-03T16:55:49Z"
         },
         "etag": "b87d0eSeIfRgupQkOHuIeVeOG08",
         "id": "VVV0N2Z3QWhYRHkzb05GVEF6RjJvOFB3Ll9LcHJlRzIwNE1J",
         "kind": "youtube#playlistItem",
         "snippet": {
          "channelId": "UCt7fwAhXDy3oNFTAzF2o8Pw",
          "channelTitle": "theneedledrop",
          "description": "Listen: https://www.youtube.com/watch?v=p4sYE7Uxe2E&pp=sAQA\n\nAs a comeback project of sorts, Bobby Tarantino III isn't particularly auspicious.\n\nMore rap reviews: https://www.youtube.com/playlist?list=PLP4CSgl7K7ormBIO138tYonB949PHnNcP\n\n===================================\nSubscribe: http://bit.ly/1pBqGCN\n\nPatreon: https://www.patreon.com/theneedledrop\n\nOfficial site: http://theneedledrop.com\n\nTwitter: http://twitter.com/theneedledrop\n\nInstagram: https://www.instagram.com/afantano\n\nTikTok: https://www.tiktok.com/@theneedletok\n\nTND Twitch: https://www.twitch.tv/theneedledrop\n===================================\n\nFAV TRACKS: VACCINE, SEE YOU SPACE COWBOY...\n\nLEAST FAV TRACK: MY WAY\n\nLOGIC - BOBBY TARANTINO III / 2021 / DEF JAM / TRAP RAP, BOOM BAP\n\n3/10\n\nY'all know this is just my opinion, right?",
          "playlistId": "UUt7fwAhXDy3oNFTAzF2o8Pw",
          "position": 80,
          "publishedAt": "2021-08-03T03:55:16Z",
          "resourceId": {
           "kind": "youtube#video",
           "videoId": "_KpreG204MI"
          },
          "thumbnails": {
           "default": {
            "height": 90,
            "url": "https://i.ytimg.com/vi/_KpreG204MI/default.jpg",
            "width": 120
           },
           "high": {
            "height": 360,
            "url": "https://i.ytimg.com/vi/_KpreG204MI/hqdefault.jpg",
            "width": 480
           },
           "medium": {
            "height": 180,
            "url": "https://i.ytimg.com/vi/_KpreG204MI/mqdefault.jpg",
            "width": 320
           },
           "standard": {
            "height": 480,
            "url": "https://i.ytimg.com/vi/_KpreG204MI/sddefault.jpg",
            "width": 640
           }
          },
          "title": "Logic - Bobby Tarantino III MIXTAPE REVIEW",
          "videoOwnerChannelId": "UCt7fwAhXDy3oNFTAzF2o8Pw",
          "videoOwnerChannelTitle": "theneedledrop"
         },
         "status": {
          "privacyStatus": "public"
         }
        },
        {
         "contentDetails": {
          "videoId": "yCn3a-q9h-s",
          "videoPublishedAt": "2021-08-02T19:45:47Z"
         },
         "etag": "zQRi97Y30hjFHoPA5NlOWd3Qwj4",
         "id": "VVV0N2Z3QWhYRHkzb05GVEF6RjJvOFB3LnlDbjNhLXE5aC1z",
         "kind": "youtube#playlistItem",
         "snippet": {
          "channelId": "UCt7fwAhXDy3oNFTAzF2o8Pw",
          "channelTitle": "theneedledrop",
          "description": "Poppy - EAT\nhttps://www.youtube.com/playlist?list=PLqt12vbt3qkfD4RH01AraDqcH_YFJEcac\n\n Blu & Sirplus - For Sale\nhttps://thenewcolorblu.bandcamp.com/album/for-sale\n\nYves Tumor - The Asymptotical World\nhttps://yves-tumor.bandcamp.com/album/the-asymptotical-world-ep\n\n===================================\nSubscribe: http://bit.ly/1pBqGCN\n\nPatreon: https://www.patreon.com/theneedledrop\n\nOfficial site: http://theneedledrop.com\n\nTwitter: http://twitter.com/theneedledrop\n\nInstagram: https://www.instagram.com/afantano\n\nTikTok: https://www.tiktok.com/@theneedletok\n\nTND Twitch: https://www.twitch.tv/theneedledrop\n===================================\n\nY'all know this is just my opinion, right?",
          "playlistId": "UUt7fwAhXDy3oNFTAzF2o8Pw",
          "position": 81,
          "publishedAt": "2021-08-02T19:26:26Z",
          "resourceId": {
           "kind": "youtube#video",
           "videoId": "yCn3a-q9h-s"
          },
          "thumbnails": {
           "default": {
            "height": 90,
            "url": "https://i.ytimg.com/vi/yCn3a-q9h-s/default.jpg",
            "width": 120
           },
           "high": {
            "height": 360,
            "url": "https://i.ytimg.com/vi/yCn3a-q9h-s/hqdefault.jpg",
            "width": 480
           },
           "medium": {
            "height": 180,
            "url": "https://i.ytimg.com/vi/yCn3a-q9h-s/mqdefault.jpg",
            "width": 320
           },
           "standard": {
            "height": 480,
            "url": "https://i.ytimg.com/vi/yCn3a-q9h-s/sddefault.jpg",
            "width": 640
           }
          },
          "title": "EP ❤️: Poppy, Blu & Sirplus, Yves Tumor",
          "videoOwnerChannelId": "UCt7fwAhXDy3oNFTAzF2o8Pw",
          "videoOwnerChannelTitle": "theneedledrop"
         },
         "status": {
          "privacyStatus": "public"
         }
        },
        {
         "contentDetails": {
          "videoId": "JZ3Ijb3Ns6M",
          "videoPublishedAt": "2021-08-02T03:47:34Z"
         },
         "etag": "kvK82X2rpv4ixVnZHvp0o4uTpNs",
         "id": "VVV0N2Z3QWhYRHkzb05GVEF6RjJvOFB3LkpaM0lqYjNOczZN",
         "kind": "youtube#playlistItem",
         "snippet": {
          "channelId": "UCt7fwAhXDy3oNFTAzF2o8Pw",
          "channelTitle": "theneedledrop",
          "description": "Our sponsor: http://ridgewallet.com/fantano\nUSE PROMO CODE \"MELON\" FOR 10% OFF\n\n2021 FAV TRACKS PLAYLIST: https://open.spotify.com/playlist/7hXc9PnNqJtnV4hMmsqgIR?si=BDDSbBnoQzS1KPhndqwfkg\n\nTND Patreon: https://www.patreon.com/theneedledrop\n\nTurntable Lab link: http://turntablelab.com/theneedledrop\n\n\n!!!BEST TRACKS THIS WEEK!!!\n\nMadi Diaz - Resentment\nhttps://www.youtube.com/watch?v=X-tabdbKzNw\n\nPetey - We Go on Walks\nhttps://open.spotify.com/track/1UbvRUO9JbBJLgGf7TDk73?si=5a9cd34f26264ad8\n\nHomeboy Sandman, Aesop Rock - Lice Team, Baby\nhttps://open.spotify.com/track/09xgwNyoy4st0AcUtiMhjL?si=29b92a412c924a74\n\nZella Day - Golden\nhttps://open.spotify.com/track/37EENqOKD6uxLwthqxhKLt?si=797fa943a2f747da\n\nRemi Wolf - Liquor Store\nhttps://open.spotify.com/track/17NlAopmbL9vdVKR8nSfbz?si=08489c859c9140f3\n\nAmyl and the Sniffers - Security\nhttps://www.youtube.com/watch?v=j5DZA2NLYis\n\nSilk Sonic - Skate\nhttps://open.spotify.com/track/2sXf2JdbB2GlNju00kw9WE?si=eb057407f5a74542\n\neuphorian - mentality\nhttps://open.spotify.com/track/4Nj7Wv0zmJRJvlvQIHMMYf?si=62aabb0daa4440cc\n\nIDLES - Model Village ft. slowthai\nhttps://open.spotify.com/track/0uETaKcRTISDXbaGBBxSNL?si=85467a3da61f42ec\n\nYebba - Louie Bag ft. Smino\nhttps://open.spotify.com/track/01foHKHazVkkbW9hcAY2X4?si=55c482d605074d2b\n\nbbno$ - edamame ft. Rich Brian\nhttps://open.spotify.com/track/1uMHCAyGmHqyygoNRuo7MV?si=ab65d64dc94a49ee\n\nDorian Electra - happy ft. 645AR\nhttps://open.spotify.com/track/6S0UKMUoU3HElMsUMv3Ygd?si=ce784a2e36324b7e\n\nTurnstile - Blackout\nhttps://www.youtube.com/watch?v=YtGRLKVzzdg\n\nSASAMI - Sorry Entertainer (Daniel Johnston Cover)\nhttps://www.youtube.com/watch?v=EIFKSynPwFE\n\n\n...meh...\n\nLiars - From What the Never Was\nhttps://www.youtube.com/watch?v=2WSDrBMc_n4\n\nAngel Olsen - Safety Dance\nhttps://www.youtube.com/watch?v=Y65olvSNTEw\n\nThe Alchemist & Boldy James - Drug Zone\nhttps://youtu.be/v05Rnh3YXIc\n\nPoppy - Flux\nhttps://open.spotify.com/album/1q959WGOu0ZDfrJnnWRNgD?si=995fc44ab39e4777\n\nSleigh Bells - Locust Laced\nhttps://www.youtube.com/watch?v=wzLOcmRRUfg\n\nAlice Longyu Gao - Underrated Popstar\nhttps://open.spotify.com/album/2zfYuMo33ayzbl9HfT9laT?si=aca4fc8292ea4a46\n\n\n!!!WORST TRACKS THIS WEEK!!!\n\nMatt Berninger - I'm Waiting for the Man\nhttps://www.youtube.com/watch?v=n3XJHxfV3Kc\n\n===================================\nSubscribe: http://bit.ly/1pBqGCN\n\nPatreon: https://www.patreon.com/theneedledrop\n\nOfficial site: http://theneedledrop.com\n\nTwitter: http://twitter.com/theneedledrop\n\nInstagram: https://www.instagram.com/afantano\n\nTikTok: https://www.tiktok.com/@theneedletok\n\nTND Twitch: https://www.twitch.tv/theneedledrop\n===================================\n\nY'all know this is just my opinion, right?",
          "playlistId": "UUt7fwAhXDy3oNFTAzF2o8Pw",
          "position": 82,
          "publishedAt": "2021-08-02T03:26:19Z",
          "resourceId": {
           "kind": "youtube#video",
           "videoId": "JZ3Ijb3Ns6M"
          },
          "thumbnails": {
           "default": {
            "height": 90,
            "url": "https://i.ytimg.com/vi/JZ3Ijb3Ns6M/default.jpg",
            "width": 120
           },
           "high": {
            "height": 360,
            "url": "https://i.ytimg.com/vi/JZ3Ijb3Ns6M/hqdefault.jpg",
            "width": 480
           },
           "medium": {
            "height": 180,
            "url": "https://i.ytimg.com/vi/JZ3Ijb3Ns6M/mqdefault.jpg",
            "width": 320
           },
           "standard": {
            "height": 480,
            "url": "https://i.ytimg.com/vi/JZ3Ijb3Ns6M/sddefault.jpg",
            "width": 640
           }
          },
          "title": "Silk Sonic, Poppy, Remi Wolf, Turnstile | Weekly Track Roundup: 8/1/21",
          "videoOwnerChannelId": "UCt7fwAhXDy3oNFTAzF2o8Pw",
          "videoOwnerChannelTitle": "theneedledrop"
         },
         "status": {
          "privacyStatus": "public"
         }
        },
        {
         "contentDetails": {
          "videoId": "ZPP5MlOs2g4",
          "videoPublishedAt": "2021-07-30T18:53:25Z"
         },
         "etag": "ehfTjh-4IRr1k9_dt4SQMdE1hpo",
         "id": "VVV0N2Z3QWhYRHkzb05GVEF6RjJvOFB3LlpQUDVNbE9zMmc0",
         "kind": "youtube#playlistItem",
         "snippet": {
          "channelId": "UCt7fwAhXDy3oNFTAzF2o8Pw",
          "channelTitle": "theneedledrop",
          "description": "Listen: https://alexismarshall.bandcamp.com/album/house-of-lull-house-of-when\n\nOn his solo debut, Alexis Marshall takes the unremitting darkness of his work with Daughters in a dronier direction.\n\nOther reviews: https://www.youtube.com/playlist?list=PLP4CSgl7K7orSnEBkcBRqI5fDgKSs5c8o\n\n===================================\nSubscribe: http://bit.ly/1pBqGCN\n\nPatreon: https://www.patreon.com/theneedledrop\n\nOfficial site: http://theneedledrop.com\n\nTwitter: http://twitter.com/theneedledrop\n\nInstagram: https://www.instagram.com/afantano\n\nTikTok: https://www.tiktok.com/@theneedletok\n\nTND Twitch: https://www.twitch.tv/theneedledrop\n===================================\n\nFAV TRACKS: DRINK FROM THE OCEANS . NOTHING CAN HARM YOU, IT JUST DOESN'T FEEL GOOD ANYMORE, RELIGION AS LEADER, THEY CAN LIE THERE FOREVER, NIGHT MOVING\n\nLEAST FAV TRACK: NO TRUTH IN THE BODY\n\nALEXIS MARSHALL - HOUSE OF LULL . HOUSE OF WHEN / 2021 / SARGENT HOUSE / POST-INDUSTRIAL, SPOKEN WORD, NOISE ROCK\n\n7/10\n\nY'all know this is just my opinion, right?",
          "playlistId": "UUt7fwAhXDy3oNFTAzF2o8Pw",
          "position": 83,
          "publishedAt": "2021-07-30T18:35:09Z",
          "resourceId": {
           "kind": "youtube#video",
           "videoId": "ZPP5MlOs2g4"
          },
          "thumbnails": {
           "default": {
            "height": 90,
            "url": "https://i.ytimg.com/vi/ZPP5MlOs2g4/default.jpg",
            "width": 120
           },
           "high": {
            "height": 360,
            "url": "https://i.ytimg.com/vi/ZPP5MlOs2g4/hqdefault.jpg",
            "width": 480
           },
           "medium": {
            "height": 180,
            "url": "https://i.ytimg.com/vi/ZPP5MlOs2g4/mqdefault.jpg",
            "width": 320
           },
           "standard": {
            "height": 480,
            "url": "https://i.ytimg.com/vi/ZPP5MlOs2g4/sddefault.jpg",
            "width": 640
           }
          },
          "title": "Alexis Marshall - House of Lull . House of When ALBUM REVIEW",
          "videoOwnerChannelId": "UCt7fwAhXDy3oNFTAzF2o8Pw",
          "videoOwnerChannelTitle": "theneedledrop"
         },
         "status": {
          "privacyStatus": "public"
         }
        },
        {
         "contentDetails": {
          "videoId": "KUe83JU7qRI",
          "videoPublishedAt": "2021-07-29T03:48:32Z"
         },
         "etag": "xOAmOF20RmanPMLrWsUjBqcxemI",
         "id": "VVV0N2Z3QWhYRHkzb05GVEF6RjJvOFB3LktVZTgzSlU3cVJJ",
         "kind": "youtube#playlistItem",
         "snippet": {
          "channelId": "UCt7fwAhXDy3oNFTAzF2o8Pw",
          "channelTitle": "theneedledrop",
          "description": "Listen: https://darkside.bandcamp.com/album/spiral\n\nNicolas Jaar and Dave Harrington break their hiatus with a sound that's a bit more rockin'.\n\nMore rock reviews: https://www.youtube.com/playlist?list=PLP4CSgl7K7ori6-Iz-AWcX561iWCfapt_\n\n===================================\nSubscribe: http://bit.ly/1pBqGCN\n\nPatreon: https://www.patreon.com/theneedledrop\n\nOfficial site: http://theneedledrop.com\n\nTwitter: http://twitter.com/theneedledrop\n\nInstagram: https://www.instagram.com/afantano\n\nTikTok: https://www.tiktok.com/@theneedletok\n\nTND Twitch: https://www.twitch.tv/theneedledrop\n===================================\n\nFAV TRACKS: THE LIMIT, LAWMAKER, SPIRAL, LIBERTY BELL, INSIDE IS OUT THERE\n\nLEAST FAV TRACK: ONLY YOUNG\n\nDARKSIDE - SPIRAL / 2021 / MATADOR / KRAUTROCK, NEO-PSYCHEDELIA, ELECTRONIC\n\n7/10\n\nY'all know this is just my opinion, right?",
          "playlistId": "UUt7fwAhXDy3oNFTAzF2o8Pw",
          "position": 84,
          "publishedAt": "2021-07-29T03:26:16Z",
          "resourceId": {
           "kind": "youtube#video",
           "videoId": "KUe83JU7qRI"
          },
          "thumbnails": {
           "default": {
            "height": 90,
            "url": "https://i.ytimg.com/vi/KUe83JU7qRI/default.jpg",
            "width": 120
           },
           "high": {
            "height": 360,
            "url": "https://i.ytimg.com/vi/KUe83JU7qRI/hqdefault.jpg",
            "width": 480
           },
           "medium": {
            "height": 180,
            "url": "https://i.ytimg.com/vi/KUe83JU7qRI/mqdefault.jpg",
            "width": 320
           },
           "standard": {
            "height": 480,
            "url": "https://i.ytimg.com/vi/KUe83JU7qRI/sddefault.jpg",
            "width": 640
           }
          },
          "title": "Darkside - Spiral ALBUM REVIEW",
          "videoOwnerChannelId": "UCt7fwAhXDy3oNFTAzF2o8Pw",
          "videoOwnerChannelTitle": "theneedledrop"
         },
         "status": {
          "privacyStatus": "public"
         }
        },
        {
         "contentDetails": {
          "videoId": "FCkXh5P-5lc",
          "videoPublishedAt": "2021-07-28T02:48:10Z"
         },
         "etag": "FEdrHS0RnPcIKPcYqPzhzmeo1jY",
         "id": "VVV0N2Z3QWhYRHkzb05GVEF6RjJvOFB3LkZDa1hoNVAtNWxj",
         "kind": "youtube#playlistItem",
         "snippet": {
          "channelId": "UCt7fwAhXDy3oNFTAzF2o8Pw",
          "channelTitle": "theneedledrop",
          "description": "Listen: https://www.youtube.com/watch?v=rxuy5VQc39A\n\nYou have to trudge through a lot of middling pop rap to reach USEE4YOURSELF's pockets of emotional potency.\n\nMore rap reviews: https://www.youtube.com/playlist?list=PLP4CSgl7K7ormBIO138tYonB949PHnNcP\n\n===================================\nSubscribe: http://bit.ly/1pBqGCN\n\nPatreon: https://www.patreon.com/theneedledrop\n\nOfficial site: http://theneedledrop.com\n\nTwitter: http://twitter.com/theneedledrop\n\nInstagram: https://www.instagram.com/afantano\n\nTikTok: https://www.tiktok.com/@theneedletok\n\nTND Twitch: https://www.twitch.tv/theneedledrop\n===================================\n\nFAV TRACKS: SANTA MONICA BLVD, 1995, HEY AUNTIE, CRY IN CHURCH, CLOSURE\n\nLEAST FAV TRACK: KETO\n\nIDK - USEE4YOURSELF / 2021 / CLUE NO CLUE / POP RAP\n\n5/10\n\nY'all know this is just my opinion, right?",
          "playlistId": "UUt7fwAhXDy3oNFTAzF2o8Pw",
          "position": 85,
          "publishedAt": "2021-07-28T02:12:08Z",
          "resourceId": {
           "kind": "youtube#video",
           "videoId": "FCkXh5P-5lc"
          },
          "thumbnails": {
           "default": {
            "height": 90,
            "url": "https://i.ytimg.com/vi/FCkXh5P-5lc/default.jpg",
            "width": 120
           },
           "high": {
            "height": 360,
            "url": "https://i.ytimg.com/vi/FCkXh5P-5lc/hqdefault.jpg",
            "width": 480
           },
           "medium": {
            "height": 180,
            "url": "https://i.ytimg.com/vi/FCkXh5P-5lc/mqdefault.jpg",
            "width": 320
           },
           "standard": {
            "height": 480,
            "url": "https://i.ytimg.com/vi/FCkXh5P-5lc/sddefault.jpg",
            "width": 640
           }
          },
          "title": "IDK - USEE4YOURSELF ALBUM REVIEW",
          "videoOwnerChannelId": "UCt7fwAhXDy3oNFTAzF2o8Pw",
          "videoOwnerChannelTitle": "theneedledrop"
         },
         "status": {
          "privacyStatus": "public"
         }
        },
        {
         "contentDetails": {
          "videoId": "_-DrFVGXHyA",
          "videoPublishedAt": "2021-07-27T03:28:29Z"
         },
         "etag": "8rnrYvfPrV7pn0g9eTl2zYxS0-A",
         "id": "VVV0N2Z3QWhYRHkzb05GVEF6RjJvOFB3Ll8tRHJGVkdYSHlB",
         "kind": "youtube#playlistItem",
         "snippet": {
          "channelId": "UCt7fwAhXDy3oNFTAzF2o8Pw",
          "channelTitle": "theneedledrop",
          "description": "Listen: https://www.youtube.com/watch?v=oFqVvjq6BGM\n\nDave's sophomore album is hit-and-miss in both style and substance.\n\nMore rap reviews: https://www.youtube.com/playlist?list=PLP4CSgl7K7ormBIO138tYonB949PHnNcP\n\n===================================\nSubscribe: http://bit.ly/1pBqGCN\n\nPatreon: https://www.patreon.com/theneedledrop\n\nOfficial site: http://theneedledrop.com\n\nTwitter: http://twitter.com/theneedledrop\n\nInstagram: https://www.instagram.com/afantano\n\nTikTok: https://www.tiktok.com/@theneedletok\n\nTND Twitch: https://www.twitch.tv/theneedledrop\n===================================\n\nFAV TRACKS: WE'RE ALL ALONE, THREE RIVERS, BOTH SIDES OF A SMILE, HEART ATTACK, SURVIVOR'S GUILT\n\nLEAST FAV TRACK: LAW OF ATTRACTION\n\nDAVE - WE'RE ALL ALONE IN THIS TOGETHER / 2021 / NEIGHBOURHOOD / CONSCIOUS HIP HOP\n\n6/10\n\nY'all know this is just my opinion, right?",
          "playlistId": "UUt7fwAhXDy3oNFTAzF2o8Pw",
          "position": 86,
          "publishedAt": "2021-07-27T03:08:21Z",
          "resourceId": {
           "kind": "youtube#video",
           "videoId": "_-DrFVGXHyA"
          },
          "thumbnails": {
           "default": {
            "height": 90,
            "url": "https://i.ytimg.com/vi/_-DrFVGXHyA/default.jpg",
            "width": 120
           },
           "high": {
            "height": 360,
            "url": "https://i.ytimg.com/vi/_-DrFVGXHyA/hqdefault.jpg",
            "width": 480
           },
           "medium": {
            "height": 180,
            "url": "https://i.ytimg.com/vi/_-DrFVGXHyA/mqdefault.jpg",
            "width": 320
           },
           "standard": {
            "height": 480,
            "url": "https://i.ytimg.com/vi/_-DrFVGXHyA/sddefault.jpg",
            "width": 640
           }
          },
          "title": "Dave - We're All Alone in This Together ALBUM REVIEW",
          "videoOwnerChannelId": "UCt7fwAhXDy3oNFTAzF2o8Pw",
          "videoOwnerChannelTitle": "theneedledrop"
         },
         "status": {
          "privacyStatus": "public"
         }
        },
        {
         "contentDetails": {
          "videoId": "30tYoH9pPpc",
          "videoPublishedAt": "2021-07-26T04:07:02Z"
         },
         "etag": "GCovQg9vV3pQmnvbGnDw2Uq79Tg",
         "id": "VVV0N2Z3QWhYRHkzb05GVEF6RjJvOFB3LjMwdFlvSDlwUHBj",
         "kind": "youtube#playlistItem",
         "snippet": {
          "channelId": "UCt7fwAhXDy3oNFTAzF2o8Pw",
          "channelTitle": "theneedledrop",
          "description": "Our sponsor: http://ridgewallet.com/fantano\nUSE PROMO CODE \"MELON\" FOR 10% OFF\n\n2021 FAV TRACKS PLAYLIST: https://open.spotify.com/playlist/7hXc9PnNqJtnV4hMmsqgIR?si=BDDSbBnoQzS1KPhndqwfkg\n\nTND Patreon: https://www.patreon.com/theneedledrop\n\nTurntable Lab link: http://turntablelab.com/theneedledrop\n\n\n!!!BEST TRACKS THIS WEEK!!!\n\nLil Nas X - Industry Baby\nhttps://www.youtube.com/watch?v=UTHLKHL_whs\nReview: https://www.youtube.com/watch?v=ocbZkHRm3_s\n\nDarkside - Inside Is Out There\nhttps://www.youtube.com/watch?v=Z6oC2g59LJk\n\nStuck - City of Police\nhttps://explodinginsoundrecords.bandcamp.com/track/city-of-police\n\nLime Garden - Pulp\nhttps://soundcloud.com/limegarden/sets/pulp-178833432\n\nJames Blake - Say What You Will\nhttps://www.youtube.com/watch?v=JRUjtalz_1k\n\nIndigo De Souza - Hold U\nhttps://www.youtube.com/watch?v=ZstVTHCCcGs\n\n\n...meh...\n\nBig Red Machine - Phoenix ft. Fleet Foxes & Anaïs Mitchell\nhttps://www.youtube.com/watch?v=OhT7Tophch4\n\nLow - Disappearing\nhttps://www.youtube.com/watch?v=w9JyjipKBJk\n\nilluminati hotties - u v v p ft. Buck Meek\nhttps://www.youtube.com/watch?v=w-MP061xoSQ\n\nLogic - Call Me\nhttps://www.youtube.com/watch?v=iKpq1umGoJ0\n\nPrince - Hot Summer\nhttps://www.youtube.com/watch?v=tiAhTus8RRs\n\nColdplay - Coloratura\nhttps://www.youtube.com/watch?v=kWUV5-frRU4\n\nSmiley - Over the Top ft. Drake\nhttps://www.youtube.com/watch?v=qaqvwkhelS8\n\nBelly, The Weeknd, Young Thug - Better Believe\nhttps://www.youtube.com/watch?v=yJUUw3piMl8\n\nTaylor Swift - the lakes (original version)\nhttps://www.youtube.com/watch?v=y8tF0yRl8-w\n\nLorde - Stoned at the Nail Salon\nhttps://www.youtube.com/watch?v=V_A20lBsBMM\nReview: https://www.youtube.com/watch?v=HGiBg8mVZJg\n\nDeerhoof - Department of Corrections\nhttps://deerhoof.bandcamp.com/track/department-of-corrections\n\nSwedish House Mafia - Lifetime ft. Ty Dolla $ign & 070 Shake\nhttps://www.youtube.com/watch?v=t0RwGmzFCdA\n\nThe War on Drugs - Living Proof\nhttps://www.youtube.com/watch?v=B3OEofsCur8\n\n\n!!!WORST TRACKS THIS WEEK!!!\n\nDee Gees - You Should Be Dancing\nhttps://www.youtube.com/watch?v=p4DeaXf1FzE\n\nKhalid - New Normal\nhttps://www.youtube.com/watch?v=KnULIl5GvkQ\n\nIsaiah Rashad - Wat U Sed ft. iamdoechii & Kal Banx\nhttps://www.youtube.com/watch?v=EU5rnwTXoaE\n\n===================================\nSubscribe: http://bit.ly/1pBqGCN\n\nPatreon: https://www.patreon.com/theneedledrop\n\nOfficial site: http://theneedledrop.com\n\nTwitter: http://twitter.com/theneedledrop\n\nInstagram: https://www.instagram.com/afantano\n\nTikTok: https://www.tiktok.com/@theneedletok\n\nTND Twitch: https://www.twitch.tv/theneedledrop\n===================================\n\nY'all know this is just my opinion, right?",
          "playlistId": "UUt7fwAhXDy3oNFTAzF2o8Pw",
          "position": 87,
          "publishedAt": "2021-07-26T03:55:59Z",
          "resourceId": {
           "kind": "youtube#video",
           "videoId": "30tYoH9pPpc"
          },
          "thumbnails": {
           "default": {
            "height": 90,
            "url": "https://i.ytimg.com/vi/30tYoH9pPpc/default.jpg",
            "width": 120
           },
           "high": {
            "height": 360,
            "url": "https://i.ytimg.com/vi/30tYoH9pPpc/hqdefault.jpg",
            "width": 480
           },
           "medium": {
            "height": 180,
            "url": "https://i.ytimg.com/vi/30tYoH9pPpc/mqdefault.jpg",
            "width": 320
           },
           "standard": {
            "height": 480,
            "url": "https://i.ytimg.com/vi/30tYoH9pPpc/sddefault.jpg",
            "width": 640
           }
          },
          "title": "Lil Nas X, Lorde, Coldplay, James Blake | Weekly Track Roundup: 7/25/21",
          "videoOwnerChannelId": "UCt7fwAhXDy3oNFTAzF2o8Pw",
          "videoOwnerChannelTitle": "theneedledrop"
         },
         "status": {
          "privacyStatus": "public"
         }
        },
        {
         "contentDetails": {
          "videoId": "t4XUbRb2QTU",
          "videoPublishedAt": "2021-07-24T01:24:45Z"
         },
         "etag": "hWKh0ogVRwiT7oUsJe7VCqlZ_jQ",
         "id": "VVV0N2Z3QWhYRHkzb05GVEF6RjJvOFB3LnQ0WFViUmIyUVRV",
         "kind": "youtube#playlistItem",
         "snippet": {
          "channelId": "UCt7fwAhXDy3oNFTAzF2o8Pw",
          "channelTitle": "theneedledrop",
          "description": "Reacting to comments from these reviews:\n\nVince Staples - Self-Titled\nhttps://www.youtube.com/watch?v=E4Qm0wH8p8M\n\nTones and I - Welcome to the Madhouse\nhttps://www.youtube.com/watch?v=RZp07vLSak8\n\nPop Smoke - Faith\nhttps://www.youtube.com/watch?v=UJxveXgSgcI\n\nClairo - Sling\nhttps://www.youtube.com/watch?v=VJylCsmlXUk\n\nKSI - All Over the Place\nhttps://www.youtube.com/watch?v=ohYgsVYQwFc\n\n===================================\nSubscribe: http://bit.ly/1pBqGCN\n\nPatreon: https://www.patreon.com/theneedledrop\n\nOfficial site: http://theneedledrop.com\n\nTwitter: http://twitter.com/theneedledrop\n\nInstagram: https://www.instagram.com/afantano\n\nTikTok: https://www.tiktok.com/@theneedletok\n\nTND Twitch: https://www.twitch.tv/theneedledrop\n===================================\n\nY'all know this is just my opinion, right?",
          "playlistId": "UUt7fwAhXDy3oNFTAzF2o8Pw",
          "position": 88,
          "publishedAt": "2021-07-24T01:11:22Z",
          "resourceId": {
           "kind": "youtube#video",
           "videoId": "t4XUbRb2QTU"
          },
          "thumbnails": {
           "default": {
            "height": 90,
            "url": "https://i.ytimg.com/vi/t4XUbRb2QTU/default.jpg",
            "width": 120
           },
           "high": {
            "height": 360,
            "url": "https://i.ytimg.com/vi/t4XUbRb2QTU/hqdefault.jpg",
            "width": 480
           },
           "medium": {
            "height": 180,
            "url": "https://i.ytimg.com/vi/t4XUbRb2QTU/mqdefault.jpg",
            "width": 320
           }
          },
          "title": "Reading Your Comments: KSI, Tones and I, Vince Staples, Pop Smoke, Clairo",
          "videoOwnerChannelId": "UCt7fwAhXDy3oNFTAzF2o8Pw",
          "videoOwnerChannelTitle": "theneedledrop"
         },
         "status": {
          "privacyStatus": "public"
         }
        },
        {
         "contentDetails": {
          "videoId": "ohYgsVYQwFc",
          "videoPublishedAt": "2021-07-23T03:03:06Z"
         },
         "etag": "_2B4vUzOcBDgOkJusbJTJpOZP5M",
         "id": "VVV0N2Z3QWhYRHkzb05GVEF6RjJvOFB3Lm9oWWdzVllRd0Zj",
         "kind": "youtube#playlistItem",
         "snippet": {
          "channelId": "UCt7fwAhXDy3oNFTAzF2o8Pw",
          "channelTitle": "theneedledrop",
          "description": "Listen: https://www.youtube.com/watch?v=e1lFNMo5qcQ\n\nFor better or worse, All Over the Place lives up to its title.\n\nMore rap reviews: https://www.youtube.com/playlist?list=PLP4CSgl7K7ormBIO138tYonB949PHnNcP\n\n===================================\nSubscribe: http://bit.ly/1pBqGCN\n\nPatreon: https://www.patreon.com/theneedledrop\n\nOfficial site: http://theneedledrop.com\n\nTwitter: http://twitter.com/theneedledrop\n\nInstagram: https://www.instagram.com/afantano\n\nTikTok: https://www.tiktok.com/@theneedletok\n\nTND Twitch: https://www.twitch.tv/theneedledrop\n===================================\n\nFAV TRACKS: PATIENCE, RENT FREE, MADNESS, NO TIME\n\nLEAST FAV TRACK: YOU\n\nKSI - ALL OVER THE PLACE / 2021 / BEERUS / POP RAP, UK HIP HOP\n\n5/10\n\nY'all know this is just my opinion, right?",
          "playlistId": "UUt7fwAhXDy3oNFTAzF2o8Pw",
          "position": 89,
          "publishedAt": "2021-07-23T02:17:01Z",
          "resourceId": {
           "kind": "youtube#video",
           "videoId": "ohYgsVYQwFc"
          },
          "thumbnails": {
           "default": {
            "height": 90,
            "url": "https://i.ytimg.com/vi/ohYgsVYQwFc/default.jpg",
            "width": 120
           },
           "high": {
            "height": 360,
            "url": "https://i.ytimg.com/vi/ohYgsVYQwFc/hqdefault.jpg",
            "width": 480
           },
           "medium": {
            "height": 180,
            "url": "https://i.ytimg.com/vi/ohYgsVYQwFc/mqdefault.jpg",
            "width": 320
           },
           "standard": {
            "height": 480,
            "url": "https://i.ytimg.com/vi/ohYgsVYQwFc/sddefault.jpg",
            "width": 640
           }
          },
          "title": "KSI - All Over the Place ALBUM REVIEW",
          "videoOwnerChannelId": "UCt7fwAhXDy3oNFTAzF2o8Pw",
          "videoOwnerChannelTitle": "theneedledrop"
         },
         "status": {
          "privacyStatus": "public"
         }
        },
        {
         "contentDetails": {
          "videoId": "VJylCsmlXUk",
          "videoPublishedAt": "2021-07-22T02:22:41Z"
         },
         "etag": "gQsb5DsbgbpAzqtmitn_WnSleWo",
         "id": "VVV0N2Z3QWhYRHkzb05GVEF6RjJvOFB3LlZKeWxDc21sWFVr",
         "kind": "youtube#playlistItem",
         "snippet": {
          "channelId": "UCt7fwAhXDy3oNFTAzF2o8Pw",
          "channelTitle": "theneedledrop",
          "description": "Listen: https://www.youtube.com/watch?v=BmtZzo05pqQ\n\nClairo displays considerable growth as a songwriter since Immunity on Sling.\n\nOther reviews: https://www.youtube.com/playlist?list=PLP4CSgl7K7orSnEBkcBRqI5fDgKSs5c8o\n\n===================================\nSubscribe: http://bit.ly/1pBqGCN\n\nPatreon: https://www.patreon.com/theneedledrop\n\nOfficial site: http://theneedledrop.com\n\nTwitter: http://twitter.com/theneedledrop\n\nInstagram: https://www.instagram.com/afantano\n\nTikTok: https://www.tiktok.com/@theneedletok\n\nTND Twitch: https://www.twitch.tv/theneedledrop\n===================================\n\nFAV TRACKS: BAMBI, AMOEBA, PARTRIDGE, HARBOR, JOANIE, REAPER\n\nLEAST FAV TRACK: ZINNIAS\n\nCLAIRO - SLING / 2021 / FADER, REPUBLIC / SINGER-SONGWRITER, CHAMBER FOLK, SOFT ROCK\n\n7/10\n\nY'all know this is just my opinion, right?",
          "playlistId": "UUt7fwAhXDy3oNFTAzF2o8Pw",
          "position": 90,
          "publishedAt": "2021-07-22T02:05:48Z",
          "resourceId": {
           "kind": "youtube#video",
           "videoId": "VJylCsmlXUk"
          },
          "thumbnails": {
           "default": {
            "height": 90,
            "url": "https://i.ytimg.com/vi/VJylCsmlXUk/default.jpg",
            "width": 120
           },
           "high": {
            "height": 360,
            "url": "https://i.ytimg.com/vi/VJylCsmlXUk/hqdefault.jpg",
            "width": 480
           },
           "medium": {
            "height": 180,
            "url": "https://i.ytimg.com/vi/VJylCsmlXUk/mqdefault.jpg",
            "width": 320
           },
           "standard": {
            "height": 480,
            "url": "https://i.ytimg.com/vi/VJylCsmlXUk/sddefault.jpg",
            "width": 640
           }
          },
          "title": "Clairo - Sling ALBUM REVIEW",
          "videoOwnerChannelId": "UCt7fwAhXDy3oNFTAzF2o8Pw",
          "videoOwnerChannelTitle": "theneedledrop"
         },
         "status": {
          "privacyStatus": "public"
         }
        },
        {
         "contentDetails": {
          "videoId": "UJxveXgSgcI",
          "videoPublishedAt": "2021-07-21T02:54:04Z"
         },
         "etag": "6zwJsfY8_UkK3mGTplFHBrWPUmg",
         "id": "VVV0N2Z3QWhYRHkzb05GVEF6RjJvOFB3LlVKeHZlWGdTZ2NJ",
         "kind": "youtube#playlistItem",
         "snippet": {
          "channelId": "UCt7fwAhXDy3oNFTAzF2o8Pw",
          "channelTitle": "theneedledrop",
          "description": "Listen: https://www.youtube.com/watch?v=xeBfKr-guOA\n\nAs far as posthumous projects go, Faith isn't a total insult to Pop Smoke's memory, but it is quite a step down from Shoot for the Stars.\n\nMore rap reviews: https://www.youtube.com/playlist?list=PLP4CSgl7K7ormBIO138tYonB949PHnNcP\n\n===================================\nSubscribe: http://bit.ly/1pBqGCN\n\nPatreon: https://www.patreon.com/theneedledrop\n\nOfficial site: http://theneedledrop.com\n\nTwitter: http://twitter.com/theneedledrop\n\nInstagram: https://www.instagram.com/afantano\n\nTikTok: https://www.tiktok.com/@theneedletok\n\nTND Twitch: https://www.twitch.tv/theneedledrop\n===================================\n\nFAV TRACKS: MANSLAUGHTER, BOUT A MILLION, BRUSH EM\n\nLEAST FAV TRACK: DEMEANOR\n\nPOP SMOKE - FAITH / 2021 / VICTOR VICTOR / POP RAP, TRAP, NY DRILL\n\n4/10\n\nY'all know this is just my opinion, right?",
          "playlistId": "UUt7fwAhXDy3oNFTAzF2o8Pw",
          "position": 91,
          "publishedAt": "2021-07-21T02:32:25Z",
          "resourceId": {
           "kind": "youtube#video",
           "videoId": "UJxveXgSgcI"
          },
          "thumbnails": {
           "default": {
            "height": 90,
            "url": "https://i.ytimg.com/vi/UJxveXgSgcI/default.jpg",
            "width": 120
           },
           "high": {
            "height": 360,
            "url": "https://i.ytimg.com/vi/UJxveXgSgcI/hqdefault.jpg",
            "width": 480
           },
           "medium": {
            "height": 180,
            "url": "https://i.ytimg.com/vi/UJxveXgSgcI/mqdefault.jpg",
            "width": 320
           }
          },
          "title": "Pop Smoke - Faith ALBUM REVIEW",
          "videoOwnerChannelId": "UCt7fwAhXDy3oNFTAzF2o8Pw",
          "videoOwnerChannelTitle": "theneedledrop"
         },
         "status": {
          "privacyStatus": "public"
         }
        },
        {
         "contentDetails": {
          "videoId": "RZp07vLSak8",
          "videoPublishedAt": "2021-07-20T03:31:11Z"
         },
         "etag": "RNmVW0FaaiOkCVKJK-OOHKDH5tA",
         "id": "VVV0N2Z3QWhYRHkzb05GVEF6RjJvOFB3LlJacDA3dkxTYWs4",
         "kind": "youtube#playlistItem",
         "snippet": {
          "channelId": "UCt7fwAhXDy3oNFTAzF2o8Pw",
          "channelTitle": "theneedledrop",
          "description": "Listen: https://www.youtube.com/watch?v=8NDGrkz9jck\n\nWhere's the exit?\n\nMore pop reviews: https://www.youtube.com/playlist?list=PLP4CSgl7K7oqibt_5oDPppWxQ0iaxyyeq\n\n===================================\nSubscribe: http://bit.ly/1pBqGCN\n\nPatreon: https://www.patreon.com/theneedledrop\n\nOfficial site: http://theneedledrop.com\n\nTwitter: http://twitter.com/theneedledrop\n\nInstagram: https://www.instagram.com/afantano\n\nTikTok: https://www.tiktok.com/@theneedletok\n\nTND Twitch: https://www.twitch.tv/theneedledrop\n===================================\n\nFAV TRACKS: N/A\n\nLEAST FAV TRACK: WELCOME TO THE MADHOUSE\n\nTONES AND I - WELCOME TO THE MADHOUSE / 2021 / ELEKTRA / DANCE POP\n\n0/10\n\nY'all know this is just my opinion, right?",
          "playlistId": "UUt7fwAhXDy3oNFTAzF2o8Pw",
          "position": 92,
          "publishedAt": "2021-07-20T03:18:35Z",
          "resourceId": {
           "kind": "youtube#video",
           "videoId": "RZp07vLSak8"
          },
          "thumbnails": {
           "default": {
            "height": 90,
            "url": "https://i.ytimg.com/vi/RZp07vLSak8/default.jpg",
            "width": 120
           },
           "high": {
            "height": 360,
            "url": "https://i.ytimg.com/vi/RZp07vLSak8/hqdefault.jpg",
            "width": 480
           },
           "medium": {
            "height": 180,
            "url": "https://i.ytimg.com/vi/RZp07vLSak8/mqdefault.jpg",
            "width": 320
           }
          },
          "title": "Tones and I - Welcome to the Madhouse ALBUM REVIEW",
          "videoOwnerChannelId": "UCt7fwAhXDy3oNFTAzF2o8Pw",
          "videoOwnerChannelTitle": "theneedledrop"
         },
         "status": {
          "privacyStatus": "public"
         }
        },
        {
         "contentDetails": {
          "videoId": "_Wu6cpQPXAw",
          "videoPublishedAt": "2021-07-19T03:16:31Z"
         },
         "etag": "q4rZ0yPZW_aNxqzk-PFmbU71jJA",
         "id": "VVV0N2Z3QWhYRHkzb05GVEF6RjJvOFB3Ll9XdTZjcFFQWEF3",
         "kind": "youtube#playlistItem",
         "snippet": {
          "channelId": "UCt7fwAhXDy3oNFTAzF2o8Pw",
          "channelTitle": "theneedledrop",
          "description": "Our sponsor: http://ridgewallet.com/fantano\nUSE PROMO CODE \"MELON\" FOR 10% OFF\n\n2021 FAV TRACKS PLAYLIST: https://open.spotify.com/playlist/7hXc9PnNqJtnV4hMmsqgIR?si=BDDSbBnoQzS1KPhndqwfkg\n\nTND Patreon: https://www.patreon.com/theneedledrop\n\nTurntable Lab link: http://turntablelab.com/theneedledrop\n\n\n!!!BEST TRACKS THIS WEEK!!!\n\nYves Tumor - Crushed Velvet\nhttps://yves-tumor.bandcamp.com/album/the-asymptotical-world-ep\n\nBenny the Butcher - Pyrex Picasso ft. Rick Hyde & Conway\nhttps://open.spotify.com/track/0etC9crApBFAT4UIO6rVRq?si=6afa8e7154814f97\n\nLingua Ignota - Perpetual Flame of Centralia\nhttps://open.spotify.com/track/0SKeXtG5TIVMg0MmQpFotY?si=a08c27ac887b44d6\n\nBADBADNOTGOOD - Signal from the Noise\nhttps://open.spotify.com/track/3dKZlQClidfoxn2Xsj5usR?si=2c4ec044ecfc43ab\n\nKevin Abstract - Slugger ft. $NOT, slowthai\nhttps://open.spotify.com/track/4hFQTvD4ZioWwAG3CWfS9D?si=bfd2df411c6841d3\n\nLil Texas, Audiofreq - Hardcore Maniac\nhttps://open.spotify.com/track/3sgSMxddQuaPgKX63x6hM1?si=01d09bf86a604b6e\n\nSeconds Flat - New Music Friday\nhttps://open.spotify.com/track/5Lbti7lsC6I6P1TdnKDPDn?si=62a8ccaf6c514db4\n\nSoccer Mommy - rom com 2004\nhttps://open.spotify.com/track/3q49241UYPoz4kfG2czJno?si=4fe122c57cbd481f\n\nChief Keef - The Talk\nhttps://open.spotify.com/track/3bJ1ZEdCDIVWqQgxQzAugJ?si=5b8562ea2a0c496d\n\n\n...meh...\n\nCHVRCHES - Good Girls\nhttps://youtu.be/du4kNAyjVCg\n\nTORRES - Thirstier\nhttps://youtu.be/OC8IXfi0SF8\n\nTeezo Touchdown - Mid\nhttps://open.spotify.com/album/5ISyF3OOMGTDXuyEWUiSuc?si=95e870e55c9a425e\n\nNormani - Wild Side ft. Cardi B\nhttps://open.spotify.com/album/5RB5wkvts1gXIiDwRa8WQL?si=69d395f87b06488e\n\nCaroline Polachek - Bunny Is a Rider\nhttps://www.youtube.com/watch?v=yQ5y2GMVVNQ\n\n\n!!!WORST TRACKS THIS WEEK!!!\n\nTrippie Redd - Holy Smokes ft. Lil Uzi Vert\nhttps://www.youtube.com/watch?v=aWGIl1pPBo8\n\nAndrew W.K. - Everybody Sins\nhttps://www.youtube.com/watch?v=Yk8wi4XcQgk\n\nLogic - My Way\nhttps://www.youtube.com/watch?v=xHVxO9QCp-Q\n\nIron Maiden - The Writing on the Wall\nhttps://open.spotify.com/album/1YnwDXwv54rOtLwzzGVZ9N?si=214d69cb41f34057\n\nHAIM - Cherry Flavored Stomach Ache\nhttps://youtu.be/sfLjAt5WxiA\n\n===================================\nSubscribe: http://bit.ly/1pBqGCN\n\nPatreon: https://www.patreon.com/theneedledrop\n\nOfficial site: http://theneedledrop.com\n\nTwitter: http://twitter.com/theneedledrop\n\nInstagram: https://www.instagram.com/afantano\n\nTikTok: https://www.tiktok.com/@theneedletok\n\nTND Twitch: https://www.twitch.tv/theneedledrop\n===================================\n\nY'all know this is just my opinion, right?",
          "playlistId": "UUt7fwAhXDy3oNFTAzF2o8Pw",
          "position": 93,
          "publishedAt": "2021-07-19T02:57:03Z",
          "resourceId": {
           "kind": "youtube#video",
           "videoId": "_Wu6cpQPXAw"
          },
          "thumbnails": {
           "default": {
            "height": 90,
            "url": "https://i.ytimg.com/vi/_Wu6cpQPXAw/default.jpg",
            "width": 120
           },
           "high": {
            "height": 360,
            "url": "https://i.ytimg.com/vi/_Wu6cpQPXAw/hqdefault.jpg",
            "width": 480
           },
           "medium": {
            "height": 180,
            "url": "https://i.ytimg.com/vi/_Wu6cpQPXAw/mqdefault.jpg",
            "width": 320
           }
          },
          "title": "Kevin Abstract, Logic, Lingua Ignota, Iron Maiden | Weekly Track Roundup: 7/18/21",
          "videoOwnerChannelId": "UCt7fwAhXDy3oNFTAzF2o8Pw",
          "videoOwnerChannelTitle": "theneedledrop"
         },
         "status": {
          "privacyStatus": "public"
         }
        },
        {
         "contentDetails": {
          "videoId": "jcI24XwVUiE",
          "videoPublishedAt": "2021-07-17T21:00:50Z"
         },
         "etag": "fBM_uf0uxLw2lbkiS3KlMb-IRhM",
         "id": "VVV0N2Z3QWhYRHkzb05GVEF6RjJvOFB3LmpjSTI0WHdWVWlF",
         "kind": "youtube#playlistItem",
         "snippet": {
          "channelId": "UCt7fwAhXDy3oNFTAzF2o8Pw",
          "channelTitle": "theneedledrop",
          "description": "Our Turntable Lab link: http://turntablelab.com/theneedledrop\n\nSpellling - The Turning Wheel\nTyler, the Creator - IGOR\nTkay Maidza - Last Year Was Weird Vol. 2\nSOPHIE - Oil of Every Pearl's Un-Insides\nGorillaz - Song Machine\nBad Brains - Self-Titled\nFloating Points, Pharoah Sanders & The LSO - Promises\nJessie Ware - What's Your Pleasure?\nGenesis Owusu - Smiling with No Teeth\nSquarepusher - Feed Me Weird Things\n\n===================================\nSubscribe: http://bit.ly/1pBqGCN\n\nPatreon: https://www.patreon.com/theneedledrop\n\nOfficial site: http://theneedledrop.com\n\nTwitter: http://twitter.com/theneedledrop\n\nInstagram: https://www.instagram.com/afantano\n\nTikTok: https://www.tiktok.com/@theneedletok\n\nTND Twitch: https://www.twitch.tv/theneedledrop\n===================================\n\nY'all know this is just my opinion, right?",
          "playlistId": "UUt7fwAhXDy3oNFTAzF2o8Pw",
          "position": 94,
          "publishedAt": "2021-07-17T20:37:27Z",
          "resourceId": {
           "kind": "youtube#video",
           "videoId": "jcI24XwVUiE"
          },
          "thumbnails": {
           "default": {
            "height": 90,
            "url": "https://i.ytimg.com/vi/jcI24XwVUiE/default.jpg",
            "width": 120
           },
           "high": {
            "height": 360,
            "url": "https://i.ytimg.com/vi/jcI24XwVUiE/hqdefault.jpg",
            "width": 480
           },
           "medium": {
            "height": 180,
            "url": "https://i.ytimg.com/vi/jcI24XwVUiE/mqdefault.jpg",
            "width": 320
           }
          },
          "title": "Vinyl Update: MASSIVE Gorillaz Box",
          "videoOwnerChannelId": "UCt7fwAhXDy3oNFTAzF2o8Pw",
          "videoOwnerChannelTitle": "theneedledrop"
         },
         "status": {
          "privacyStatus": "public"
         }
        },
        {
         "contentDetails": {
          "videoId": "GqV5df08bTs",
          "videoPublishedAt": "2021-07-16T04:53:27Z"
         },
         "etag": "ymTnsrci4SEXW0FtQPvKuj6DJ4E",
         "id": "VVV0N2Z3QWhYRHkzb05GVEF6RjJvOFB3LkdxVjVkZjA4YlRz",
         "kind": "youtube#playlistItem",
         "snippet": {
          "channelId": "UCt7fwAhXDy3oNFTAzF2o8Pw",
          "channelTitle": "theneedledrop",
          "description": "Listen: https://twinshadow.bandcamp.com/album/twin-shadow\n\nTwin Shadow's self-titled album is an exciting page-turn.\n\nMore pop reviews: https://www.youtube.com/playlist?list=PLP4CSgl7K7oqibt_5oDPppWxQ0iaxyyeq\n\n===================================\nSubscribe: http://bit.ly/1pBqGCN\n\nPatreon: https://www.patreon.com/theneedledrop\n\nOfficial site: http://theneedledrop.com\n\nTwitter: http://twitter.com/theneedledrop\n\nInstagram: https://www.instagram.com/afantano\n\nTikTok: https://www.tiktok.com/@theneedletok\n\nTND Twitch: https://www.twitch.tv/theneedledrop\n===================================\n\nFAV TRACKS: ALEMANIA, JOHNNY & JONNIE, GET CLOSER, IS THERE ANY LOVE, LONESTAR, I WANNA BE HERE\n\nLEAST FAV TRACK: MODERN MAN\n\nTWIN SHADOW - TWIN SHADOW / 2021 / CHEREE CHEREE / PSYCH POP, SYNTHPOP\n\n8/10 https://www.theneedledrop.com/loved-list/2021/1/loved-list-2021\n\nY'all know this is just my opinion, right?",
          "playlistId": "UUt7fwAhXDy3oNFTAzF2o8Pw",
          "position": 95,
          "publishedAt": "2021-07-16T04:27:06Z",
          "resourceId": {
           "kind": "youtube#video",
           "videoId": "GqV5df08bTs"
          },
          "thumbnails": {
           "default": {
            "height": 90,
            "url": "https://i.ytimg.com/vi/GqV5df08bTs/default.jpg",
            "width": 120
           },
           "high": {
            "height": 360,
            "url": "https://i.ytimg.com/vi/GqV5df08bTs/hqdefault.jpg",
            "width": 480
           },
           "medium": {
            "height": 180,
            "url": "https://i.ytimg.com/vi/GqV5df08bTs/mqdefault.jpg",
            "width": 320
           }
          },
          "title": "Twin Shadow - Twin Shadow ALBUM REVIEW",
          "videoOwnerChannelId": "UCt7fwAhXDy3oNFTAzF2o8Pw",
          "videoOwnerChannelTitle": "theneedledrop"
         },
         "status": {
          "privacyStatus": "public"
         }
        },
        {
         "contentDetails": {
          "videoId": "E4Qm0wH8p8M",
          "videoPublishedAt": "2021-07-15T03:00:52Z"
         },
         "etag": "J2ks4EM1qCmFhZbBXk5uHnZECcM",
         "id": "VVV0N2Z3QWhYRHkzb05GVEF6RjJvOFB3LkU0UW0wd0g4cDhN",
         "kind": "youtube#playlistItem",
         "snippet": {
          "channelId": "UCt7fwAhXDy3oNFTAzF2o8Pw",
          "channelTitle": "theneedledrop",
          "description": "Listen: https://www.youtube.com/watch?v=v0E0eQ_hH7k\n\nVince Staples' self-titled project, not unlike FM, is a short but sweet collab with Kenny Beats.\n\nMore rap reviews: https://www.youtube.com/playlist?list=PLP4CSgl7K7ormBIO138tYonB949PHnNcP\n\n===================================\nSubscribe: http://bit.ly/1pBqGCN\n\nPatreon: https://www.patreon.com/theneedledrop\n\nOfficial site: http://theneedledrop.com\n\nTwitter: http://twitter.com/theneedledrop\n\nInstagram: https://www.instagram.com/afantano\n\nTikTok: https://www.tiktok.com/@theneedletok\n\nTND Twitch: https://www.twitch.tv/theneedledrop\n===================================\n\nFAV TRACKS: ARE YOU WITH THAT?, LAW OF AVERAGES, SUNDOWN TOWN, THE APPLE & THE TREE, TAKE ME HOME\n\nLEAST FAV TRACK: LIL FADE\n\nVINCE STAPLES - VINCE STAPLES / 2021 / BLACKSMITH / TRAP RAP, WEST COAST HIP HOP\n\n7/10\n\nY'all know this is just my opinion, right?",
          "playlistId": "UUt7fwAhXDy3oNFTAzF2o8Pw",
          "position": 96,
          "publishedAt": "2021-07-15T02:45:11Z",
          "resourceId": {
           "kind": "youtube#video",
           "videoId": "E4Qm0wH8p8M"
          },
          "thumbnails": {
           "default": {
            "height": 90,
            "url": "https://i.ytimg.com/vi/E4Qm0wH8p8M/default.jpg",
            "width": 120
           },
           "high": {
            "height": 360,
            "url": "https://i.ytimg.com/vi/E4Qm0wH8p8M/hqdefault.jpg",
            "width": 480
           },
           "medium": {
            "height": 180,
            "url": "https://i.ytimg.com/vi/E4Qm0wH8p8M/mqdefault.jpg",
            "width": 320
           }
          },
          "title": "Vince Staples - Vince Staples ALBUM REVIEW",
          "videoOwnerChannelId": "UCt7fwAhXDy3oNFTAzF2o8Pw",
          "videoOwnerChannelTitle": "theneedledrop"
         },
         "status": {
          "privacyStatus": "public"
         }
        },
        {
         "contentDetails": {
          "videoId": "oHamL-uvA-0",
          "videoPublishedAt": "2021-07-13T20:43:30Z"
         },
         "etag": "KEApkLhLQ2LFLWQGpz0Z9WM0psE",
         "id": "VVV0N2Z3QWhYRHkzb05GVEF6RjJvOFB3Lm9IYW1MLXV2QS0w",
         "kind": "youtube#playlistItem",
         "snippet": {
          "channelId": "UCt7fwAhXDy3oNFTAzF2o8Pw",
          "channelTitle": "theneedledrop",
          "description": "Listen: https://www.youtube.com/watch?v=QSOdz-J0EMw\n\nThe downside of LYWW3 being an EP is its more sensitive spots not having much room to breathe.\n\nMore rap reviews: https://www.youtube.com/playlist?list=PLP4CSgl7K7ormBIO138tYonB949PHnNcP\n\n===================================\nSubscribe: http://bit.ly/1pBqGCN\n\nPatreon: https://www.patreon.com/theneedledrop\n\nOfficial site: http://theneedledrop.com\n\nTwitter: http://twitter.com/theneedledrop\n\nInstagram: https://www.instagram.com/afantano\n\nTikTok: https://www.tiktok.com/@theneedletok\n\nTND Twitch: https://www.twitch.tv/theneedledrop\n===================================\n\nFAV TRACKS: ONTO ME, KIM, HIGH BEAMS, CASHMERE\n\nLEAST FAV TRACK: SYRUP\n\nTKAY MAIDZA - LAST YEAR WAS WEIRD VOL. 3 / 2021 / 4AD / POP RAP, NEO-SOUL, R&B\n\n7/10\n\nY'all know this is just my opinion, right?",
          "playlistId": "UUt7fwAhXDy3oNFTAzF2o8Pw",
          "position": 97,
          "publishedAt": "2021-07-13T20:17:48Z",
          "resourceId": {
           "kind": "youtube#video",
           "videoId": "oHamL-uvA-0"
          },
          "thumbnails": {
           "default": {
            "height": 90,
            "url": "https://i.ytimg.com/vi/oHamL-uvA-0/default.jpg",
            "width": 120
           },
           "high": {
            "height": 360,
            "url": "https://i.ytimg.com/vi/oHamL-uvA-0/hqdefault.jpg",
            "width": 480
           },
           "medium": {
            "height": 180,
            "url": "https://i.ytimg.com/vi/oHamL-uvA-0/mqdefault.jpg",
            "width": 320
           },
           "standard": {
            "height": 480,
            "url": "https://i.ytimg.com/vi/oHamL-uvA-0/sddefault.jpg",
            "width": 640
           }
          },
          "title": "Tkay Maidza - Last Year Was Weird, Vol. 3 EP REVIEW",
          "videoOwnerChannelId": "UCt7fwAhXDy3oNFTAzF2o8Pw",
          "videoOwnerChannelTitle": "theneedledrop"
         },
         "status": {
          "privacyStatus": "public"
         }
        },
        {
         "contentDetails": {
          "videoId": "nKMNZ9nXjvM",
          "videoPublishedAt": "2021-07-13T02:48:45Z"
         },
         "etag": "wNqxk9ukAVlghdqigsZETer3xG0",
         "id": "VVV0N2Z3QWhYRHkzb05GVEF6RjJvOFB3Lm5LTU5aOW5YanZN",
         "kind": "youtube#playlistItem",
         "snippet": {
          "channelId": "UCt7fwAhXDy3oNFTAzF2o8Pw",
          "channelTitle": "theneedledrop",
          "description": "Reacting to comments from these reviews:\n\nThe Revenge of Hobo Johnson\nhttps://www.youtube.com/watch?v=Qx5QFLmR-WE\n\nModest Mouse - The Golden Casket\nhttps://www.youtube.com/watch?v=Ppn7Km1v7pA\n\nHiatus Kaiyote - Mood Valiant\nhttps://www.youtube.com/watch?v=UXJxwRuOGsY\n\nSpellling - The Turning Wheel\nhttps://www.youtube.com/watch?v=rTaUAz5xrD4 \n\n===================================\nSubscribe: http://bit.ly/1pBqGCN\n\nPatreon: https://www.patreon.com/theneedledrop\n\nOfficial site: http://theneedledrop.com\n\nTwitter: http://twitter.com/theneedledrop\n\nInstagram: https://www.instagram.com/afantano\n\nTikTok: https://www.tiktok.com/@theneedletok\n\nTND Twitch: https://www.twitch.tv/theneedledrop\n===================================\n\nY'all know this is just my opinion, right?",
          "playlistId": "UUt7fwAhXDy3oNFTAzF2o8Pw",
          "position": 98,
          "publishedAt": "2021-07-13T02:27:35Z",
          "resourceId": {
           "kind": "youtube#video",
           "videoId": "nKMNZ9nXjvM"
          },
          "thumbnails": {
           "default": {
            "height": 90,
            "url": "https://i.ytimg.com/vi/nKMNZ9nXjvM/default.jpg",
            "width": 120
           },
           "high": {
            "height": 360,
            "url": "https://i.ytimg.com/vi/nKMNZ9nXjvM/hqdefault.jpg",
            "width": 480
           },
           "medium": {
            "height": 180,
            "url": "https://i.ytimg.com/vi/nKMNZ9nXjvM/mqdefault.jpg",
            "width": 320
           },
           "standard": {
            "height": 480,
            "url": "https://i.ytimg.com/vi/nKMNZ9nXjvM/sddefault.jpg",
            "width": 640
           }
          },
          "title": "Reading Your Comments: Spellling, Hobo Johnson, Modest Mouse, Hiatus Kaiyote",
          "videoOwnerChannelId": "UCt7fwAhXDy3oNFTAzF2o8Pw",
          "videoOwnerChannelTitle": "theneedledrop"
         },
         "status": {
          "privacyStatus": "public"
         }
        },
        {
         "contentDetails": {
          "videoId": "Q16f0S9u06A",
          "videoPublishedAt": "2021-07-12T03:07:18Z"
         },
         "etag": "c8c5FkeQv5zMiY1ySbFCbQCM8EM",
         "id": "VVV0N2Z3QWhYRHkzb05GVEF6RjJvOFB3LlExNmYwUzl1MDZB",
         "kind": "youtube#playlistItem",
         "snippet": {
          "channelId": "UCt7fwAhXDy3oNFTAzF2o8Pw",
          "channelTitle": "theneedledrop",
          "description": "Our sponsor: http://ridgewallet.com/fantano\nUSE PROMO CODE \"MELON\" FOR 10% OFF\n\n2021 FAV TRACKS PLAYLIST: https://open.spotify.com/playlist/7hXc9PnNqJtnV4hMmsqgIR?si=BDDSbBnoQzS1KPhndqwfkg\n\nTND Patreon: https://www.patreon.com/theneedledrop\n\nTurntable Lab link: http://turntablelab.com/theneedledrop\n\n\n!!!BEST TRACKS THIS WEEK!!!\n\nBetween the Buried and Me - Fix the Error\nhttps://open.spotify.com/track/0knMO9WlRqLMiZUJDNy21L?si=45dfed29e48f499d\n\nShygirl - BDE ft. slowthai\nhttps://open.spotify.com/track/3ed5gMzocnaLWCvljQdCwe?si=61e80031e7e3472c\n\nLittle Simz - I Love You, I Hate You\nhttps://open.spotify.com/track/7boAnwNPhMVap1oJiIsKCe?si=6d351db30b004632\n\nWolves in the Throne Room - Spirit of Lightning\nhttps://open.spotify.com/track/7lh7CqE8NESGDVkOl2Kv6H?si=49fb6f41697a40a9\n\nSufjan Stevens & Angelo De Augustine - Reach Out\nhttps://open.spotify.com/track/5hVKXeJg1R9qGbrGW5eHNl?si=8facf0d4da31464e\n\nNas - Life Is Like a Dice Game ft. Cordae & Freddie Gibbs\nhttps://open.spotify.com/track/5iBEUyRJL5fV0Hl5L5AqoR?si=e0b7f938799f46ab\n\n\n...meh...\n\nDamon Albarn - Polaris\nhttps://youtu.be/kdZllkXuLBo\n\nCourtney Barnett - Rae Street\nhttps://youtu.be/NUXvlpS0TvE\n\nBillie Eilish - NDA\nhttps://www.youtube.com/watch?v=OORBa32WFcM\n\nAlex Cameron - Islands in the Stream ft. Roan Yellowthorn\nhttps://open.spotify.com/track/2Aqfu9318U1qERZ53ER4HB?si=7f0c00da9a624733\n\nDeafheaven - The Gnashing\nhttps://open.spotify.com/album/0ZPmDbPuDW5dzoIu3VM97R?si=1afefcc56c5c4e38\n\nShamir - Songs Remain (Esther Rose Cover)\nhttps://open.spotify.com/track/0DxIYHKmKEeIRKtjyyRMrZ?si=f0d6e3d4ded44c1f\n\nAngel Olsen - Gloria\nhttps://open.spotify.com/track/1pW5qCqDVDtCtDVYDPev1c?si=4bd0a683441a46ae\n\n\n!!!WORST TRACKS THIS WEEK!!!\n\nBas - The Jackie ft. J. Cole & Lil Tjay\nhttps://www.youtube.com/watch?v=betIekbYy40\n\nPost Malone - Motley Crew\nhttps://www.youtube.com/watch?v=311ZcJozOhI\n\nThe Kid LAROI - Stay ft. Justin Bieber\nhttps://open.spotify.com/track/5HCyWlXZPP0y6Gqq8TgA20?si=3e5ee1536ec64b4f\n\nDave - Clash ft. Stormzy\nhttps://www.youtube.com/watch?v=oFqVvjq6BGM\n\nLogic - Get Up\nhttps://www.youtube.com/watch?v=c-L2X3nxVTE\n\n===================================\nSubscribe: http://bit.ly/1pBqGCN\n\nPatreon: https://www.patreon.com/theneedledrop\n\nOfficial site: http://theneedledrop.com\n\nTwitter: http://twitter.com/theneedledrop\n\nInstagram: https://www.instagram.com/afantano\n\nTikTok: https://www.tiktok.com/@theneedletok\n\nTND Twitch: https://www.twitch.tv/theneedledrop\n===================================\n\nY'all know this is just my opinion, right?",
          "playlistId": "UUt7fwAhXDy3oNFTAzF2o8Pw",
          "position": 99,
          "publishedAt": "2021-07-12T02:54:54Z",
          "resourceId": {
           "kind": "youtube#video",
           "videoId": "Q16f0S9u06A"
          },
          "thumbnails": {
           "default": {
            "height": 90,
            "url": "https://i.ytimg.com/vi/Q16f0S9u06A/default.jpg",
            "width": 120
           },
           "high": {
            "height": 360,
            "url": "https://i.ytimg.com/vi/Q16f0S9u06A/hqdefault.jpg",
            "width": 480
           },
           "medium": {
            "height": 180,
            "url": "https://i.ytimg.com/vi/Q16f0S9u06A/mqdefault.jpg",
            "width": 320
           },
           "standard": {
            "height": 480,
            "url": "https://i.ytimg.com/vi/Q16f0S9u06A/sddefault.jpg",
            "width": 640
           }
          },
          "title": "Billie Eilish, Logic, Post Malone, The Kid LAROI | Weekly Track Roundup: 7/11/21",
          "videoOwnerChannelId": "UCt7fwAhXDy3oNFTAzF2o8Pw",
          "videoOwnerChannelTitle": "theneedledrop"
         },
         "status": {
          "privacyStatus": "public"
         }
        }
       ],
       "kind": "youtube#playlistItemListResponse",
       "nextPageToken": "EAAaBlBUOkNHUQ",
       "pageInfo": {
        "resultsPerPage": 50,
        "totalResults": 3663
       },
       "prevPageToken": "EAEaBlBUOkNESQ"
      },
      "text/plain": [
       "<IPython.core.display.JSON object>"
      ]
     },
     "execution_count": 9,
     "metadata": {
      "application/json": {
       "expanded": false,
       "root": "root"
      }
     },
     "output_type": "execute_result"
    }
   ],
   "source": [
    "JSON(pl_items_p2)"
   ]
  },
  {
   "cell_type": "code",
   "execution_count": 9,
   "id": "bdef2db3-a230-48b3-937e-f49d106f498a",
   "metadata": {},
   "outputs": [],
   "source": [
    "video_id = pl_items['items'][11]['snippet']['resourceId']['videoId']"
   ]
  },
  {
   "cell_type": "code",
   "execution_count": 10,
   "id": "aa917d37-6489-44b6-ba92-b41b0dfdba90",
   "metadata": {},
   "outputs": [
    {
     "data": {
      "text/plain": [
       "'GIu0s6APNEo'"
      ]
     },
     "execution_count": 10,
     "metadata": {},
     "output_type": "execute_result"
    }
   ],
   "source": [
    "video_id"
   ]
  },
  {
   "cell_type": "code",
   "execution_count": 11,
   "id": "67367acf-b7de-4eb5-86fc-8ad1c95e8343",
   "metadata": {},
   "outputs": [
    {
     "data": {
      "application/json": [
       {
        "duration": 4.32,
        "start": 0.24,
        "text": "okay all right hey everyone anthony"
       },
       {
        "duration": 4.161,
        "start": 2.399,
        "text": "fantano here internet's busiest music"
       },
       {
        "duration": 3.92,
        "start": 4.56,
        "text": "nerd i hope you're doing well it's time"
       },
       {
        "duration": 4.079,
        "start": 6.56,
        "text": "for our weekly track roundup where i"
       },
       {
        "duration": 3.92,
        "start": 8.48,
        "text": "give my thoughts on a bunch of brand new"
       },
       {
        "duration": 3.601,
        "start": 10.639,
        "text": "songs and singles that have"
       },
       {
        "duration": 2.96,
        "start": 12.4,
        "text": "dropped over the past week whether i"
       },
       {
        "duration": 3.039,
        "start": 14.24,
        "text": "love them or hate them they're all"
       },
       {
        "duration": 4.96,
        "start": 15.36,
        "text": "linked down below so check them out for"
       },
       {
        "duration": 5.281,
        "start": 17.279,
        "text": "yourself and yeah i think that's it down"
       },
       {
        "duration": 5.76,
        "start": 20.32,
        "text": "below also as well of course is our"
       },
       {
        "duration": 4.799,
        "start": 22.56,
        "text": "turntable lab link our patreon page if"
       },
       {
        "duration": 3.599,
        "start": 26.08,
        "text": "you want to get access to some cool"
       },
       {
        "duration": 3.041,
        "start": 27.359,
        "text": "bonus monthly content our discord as"
       },
       {
        "duration": 3.601,
        "start": 29.679,
        "text": "well"
       },
       {
        "duration": 5.76,
        "start": 30.4,
        "text": "and support us in the process and a link"
       },
       {
        "duration": 5.04,
        "start": 33.28,
        "text": "to our sponsor good people over it the"
       },
       {
        "duration": 5.68,
        "start": 36.16,
        "text": "ridge still making these cool nifty"
       },
       {
        "duration": 6.079,
        "start": 38.32,
        "text": "awesome rugged metal plated"
       },
       {
        "duration": 4.559,
        "start": 41.84,
        "text": "minimalist wallets again check them out"
       },
       {
        "duration": 4,
        "start": 44.399,
        "text": "promo code melon that's all you got to"
       },
       {
        "duration": 3.84,
        "start": 46.399,
        "text": "know using the link down below"
       },
       {
        "duration": 4.16,
        "start": 48.399,
        "text": "ten percent off the order all right"
       },
       {
        "duration": 3.761,
        "start": 50.239,
        "text": "worst tracks"
       },
       {
        "duration": 3.121,
        "start": 52.559,
        "text": "of the week we have a handful we have a"
       },
       {
        "duration": 4.64,
        "start": 54,
        "text": "few starting with"
       },
       {
        "duration": 5.84,
        "start": 55.68,
        "text": "a new one from mastodon god this uh"
       },
       {
        "duration": 5.12,
        "start": 58.64,
        "text": "track mix-wise is just as"
       },
       {
        "duration": 3.999,
        "start": 61.52,
        "text": "overblown as the last track the vocal"
       },
       {
        "duration": 3.92,
        "start": 63.76,
        "text": "performance is terrible and it feels"
       },
       {
        "duration": 4.881,
        "start": 65.519,
        "text": "less like they're"
       },
       {
        "duration": 5.6,
        "start": 67.68,
        "text": "making metal and sludge but uh"
       },
       {
        "duration": 4.8,
        "start": 70.4,
        "text": "more just like really um awful prague uh"
       },
       {
        "duration": 5.68,
        "start": 73.28,
        "text": "i don't really see the appeal behind"
       },
       {
        "duration": 3.76,
        "start": 75.2,
        "text": "this one honestly this is this uh"
       },
       {
        "duration": 4.241,
        "start": 79.119,
        "text": "not not excited for this record uh given"
       },
       {
        "duration": 3.52,
        "start": 81.84,
        "text": "what i'm hearing so far but i guess i"
       },
       {
        "duration": 4.56,
        "start": 83.36,
        "text": "guess we'll see"
       },
       {
        "duration": 4.88,
        "start": 85.36,
        "text": "a new one from uh majid jordan we have a"
       },
       {
        "duration": 5.36,
        "start": 87.92,
        "text": "drake on the track as well production"
       },
       {
        "duration": 5.6,
        "start": 90.24,
        "text": "boring vocals right off the bat are uh"
       },
       {
        "duration": 4.879,
        "start": 93.28,
        "text": "very off very weak and the drake feature"
       },
       {
        "duration": 4.72,
        "start": 95.84,
        "text": "is absolutely nothing special whatsoever"
       },
       {
        "duration": 4.721,
        "start": 98.159,
        "text": "this one's a dud in my opinion"
       },
       {
        "duration": 4.64,
        "start": 100.56,
        "text": "uh we have a new one from jack white"
       },
       {
        "duration": 4.16,
        "start": 102.88,
        "text": "uh surprisingly this track also has kind"
       },
       {
        "duration": 4.239,
        "start": 105.2,
        "text": "of a call of"
       },
       {
        "duration": 5.68,
        "start": 107.04,
        "text": "duty yeah the video game franchise a"
       },
       {
        "duration": 5.841,
        "start": 109.439,
        "text": "call of duty tie-in taking me back is"
       },
       {
        "duration": 4.719,
        "start": 112.72,
        "text": "the title of it there are some things"
       },
       {
        "duration": 3.68,
        "start": 115.28,
        "text": "about the guitar and drum combo on this"
       },
       {
        "duration": 4,
        "start": 117.439,
        "text": "track that"
       },
       {
        "duration": 4.32,
        "start": 118.96,
        "text": "work but to the degree that it works is"
       },
       {
        "duration": 5.04,
        "start": 121.439,
        "text": "to the degree that it just kind of"
       },
       {
        "duration": 5.679,
        "start": 123.28,
        "text": "copies over stuff that's worked in the"
       },
       {
        "duration": 4.641,
        "start": 126.479,
        "text": "past for jack and just now presents it"
       },
       {
        "duration": 3.36,
        "start": 128.959,
        "text": "with an even more compressed mix the"
       },
       {
        "duration": 3.28,
        "start": 131.12,
        "text": "only thing that was really cool about"
       },
       {
        "duration": 3.601,
        "start": 132.319,
        "text": "the song in my opinion was that"
       },
       {
        "duration": 5.44,
        "start": 134.4,
        "text": "some of the guitar passages toward the"
       },
       {
        "duration": 6.24,
        "start": 135.92,
        "text": "end kind of sounded like dubstep wubs"
       },
       {
        "duration": 4.96,
        "start": 139.84,
        "text": "outside of that again mix awful and"
       },
       {
        "duration": 4.799,
        "start": 142.16,
        "text": "blown out riffs generic uh"
       },
       {
        "duration": 5.2,
        "start": 144.8,
        "text": "the lyrics"
       },
       {
        "duration": 6.56,
        "start": 146.959,
        "text": "left a lot to be desired and uh there"
       },
       {
        "duration": 6.4,
        "start": 150,
        "text": "was just really like no nuance at all to"
       },
       {
        "duration": 5.761,
        "start": 153.519,
        "text": "the way this uh track sounded at all it"
       },
       {
        "duration": 4.88,
        "start": 156.4,
        "text": "was like raging without much of a"
       },
       {
        "duration": 4.56,
        "start": 159.28,
        "text": "cause and it was loud but it didn't"
       },
       {
        "duration": 5.52,
        "start": 161.28,
        "text": "really feel all that raw or visceral you"
       },
       {
        "duration": 5.039,
        "start": 163.84,
        "text": "know it's just kind of off in my opinion"
       },
       {
        "duration": 4.24,
        "start": 166.8,
        "text": "we have a new one from elton john"
       },
       {
        "duration": 4.561,
        "start": 168.879,
        "text": "this one has young thug and nicki minaj"
       },
       {
        "duration": 4.4,
        "start": 171.04,
        "text": "on it always love you it just kind of i"
       },
       {
        "duration": 4.079,
        "start": 173.44,
        "text": "know i know it's an original track but"
       },
       {
        "duration": 5.04,
        "start": 175.44,
        "text": "like the way it kind of transitions from"
       },
       {
        "duration": 4.321,
        "start": 177.519,
        "text": "john to thugger and then you know"
       },
       {
        "duration": 3.679,
        "start": 180.48,
        "text": "subsequently to nikki it just sounds"
       },
       {
        "duration": 3.119,
        "start": 181.84,
        "text": "like a bad elton john remix i just don't"
       },
       {
        "duration": 2.321,
        "start": 184.159,
        "text": "really"
       },
       {
        "duration": 3.521,
        "start": 184.959,
        "text": "get the appeal of these lockdown"
       },
       {
        "duration": 4.32,
        "start": 186.48,
        "text": "sessions i i think so far they're kind"
       },
       {
        "duration": 4.399,
        "start": 188.48,
        "text": "of proving themselves to be pretty weak"
       },
       {
        "duration": 3.519,
        "start": 190.8,
        "text": "uh then we have a new one from animal"
       },
       {
        "duration": 5.36,
        "start": 192.879,
        "text": "collective"
       },
       {
        "duration": 5.441,
        "start": 194.319,
        "text": "uh prester john is the title of this one"
       },
       {
        "duration": 3.92,
        "start": 198.239,
        "text": "um"
       },
       {
        "duration": 5.68,
        "start": 199.76,
        "text": "yeah this has got to be one of the"
       },
       {
        "duration": 5.281,
        "start": 202.159,
        "text": "band's weakest songs instrumentally ever"
       },
       {
        "duration": 3.84,
        "start": 205.44,
        "text": "there's like no"
       },
       {
        "duration": 4.719,
        "start": 207.44,
        "text": "interesting"
       },
       {
        "duration": 4.4,
        "start": 209.28,
        "text": "i guess you know wondrous uh character"
       },
       {
        "duration": 3.201,
        "start": 212.159,
        "text": "to the way it was"
       },
       {
        "duration": 3.44,
        "start": 213.68,
        "text": "put together it just kind of sounds like"
       },
       {
        "duration": 3.92,
        "start": 215.36,
        "text": "very plain and"
       },
       {
        "duration": 4.479,
        "start": 217.12,
        "text": "straightforward um"
       },
       {
        "duration": 5.56,
        "start": 219.28,
        "text": "and the song itself is kind of flat and"
       },
       {
        "duration": 6.72,
        "start": 221.599,
        "text": "unmemorable i i just don't really uh"
       },
       {
        "duration": 5.64,
        "start": 224.84,
        "text": "uh and but look animal collective had a"
       },
       {
        "duration": 3.601,
        "start": 228.319,
        "text": "great run man and uh they've come out"
       },
       {
        "duration": 4,
        "start": 230.48,
        "text": "with some of the best records in"
       },
       {
        "duration": 4.399,
        "start": 231.92,
        "text": "psychedelic music ever but uh i i feel"
       },
       {
        "duration": 5.039,
        "start": 234.48,
        "text": "like this is just not even"
       },
       {
        "duration": 5.041,
        "start": 236.319,
        "text": "scratching the surface of just merely"
       },
       {
        "duration": 2.961,
        "start": 239.519,
        "text": "checking the boxes of what typically"
       },
       {
        "duration": 2.799,
        "start": 241.36,
        "text": "makes their"
       },
       {
        "duration": 4.88,
        "start": 242.48,
        "text": "songs great and interesting it just kind"
       },
       {
        "duration": 4.961,
        "start": 244.159,
        "text": "of sounds like um"
       },
       {
        "duration": 4.079,
        "start": 247.36,
        "text": "i i guess i'll say the beach boys in the"
       },
       {
        "duration": 4.64,
        "start": 249.12,
        "text": "middle of a really bad acid session you"
       },
       {
        "duration": 3.841,
        "start": 251.439,
        "text": "know and and not really kind of hitting"
       },
       {
        "duration": 2.8,
        "start": 253.76,
        "text": "upon anything all that interesting in"
       },
       {
        "duration": 3.519,
        "start": 255.28,
        "text": "the process"
       },
       {
        "duration": 4.399,
        "start": 256.56,
        "text": "uh and then uh meh let's move on to the"
       },
       {
        "duration": 4.641,
        "start": 258.799,
        "text": "tracks that i uh you know wasn't crazy"
       },
       {
        "duration": 3.921,
        "start": 260.959,
        "text": "about but uh i thought were okay and"
       },
       {
        "duration": 2.88,
        "start": 263.44,
        "text": "certainly worth a"
       },
       {
        "duration": 2.319,
        "start": 264.88,
        "text": "shout out you might enjoy them more than"
       },
       {
        "duration": 3.2,
        "start": 266.32,
        "text": "me"
       },
       {
        "duration": 5.28,
        "start": 267.199,
        "text": "uh the weeknd teaming up with swedish"
       },
       {
        "duration": 5.28,
        "start": 269.52,
        "text": "house mafia moth to a flame uh it's not"
       },
       {
        "duration": 4.16,
        "start": 272.479,
        "text": "too bad narratively a bit of a surprise"
       },
       {
        "duration": 3.52,
        "start": 274.8,
        "text": "for abel given"
       },
       {
        "duration": 4,
        "start": 276.639,
        "text": "you know sort of that uh i guess i'll"
       },
       {
        "duration": 4.879,
        "start": 278.32,
        "text": "say more of a house of balloons era you"
       },
       {
        "duration": 5.28,
        "start": 280.639,
        "text": "know type of vocal delivery i guess um"
       },
       {
        "duration": 5.44,
        "start": 283.199,
        "text": "you know singing about uh uh the this"
       },
       {
        "duration": 4.081,
        "start": 285.919,
        "text": "girl with another guy and uh"
       },
       {
        "duration": 3.441,
        "start": 288.639,
        "text": "meant to be together and so on and so"
       },
       {
        "duration": 3.84,
        "start": 290,
        "text": "forth it's it's you know he didn't come"
       },
       {
        "duration": 3.679,
        "start": 292.08,
        "text": "off as quite as dark and bitter on this"
       },
       {
        "duration": 4.24,
        "start": 293.84,
        "text": "one i guess vocally and lyrically it's"
       },
       {
        "duration": 4.16,
        "start": 295.759,
        "text": "fine it's fine you know the for the"
       },
       {
        "duration": 2.959,
        "start": 298.08,
        "text": "weekend over like you know more of a"
       },
       {
        "duration": 2.881,
        "start": 299.919,
        "text": "dance cut"
       },
       {
        "duration": 3.761,
        "start": 301.039,
        "text": "it's so it's okay"
       },
       {
        "duration": 3.52,
        "start": 302.8,
        "text": "all right health and poppy you know with"
       },
       {
        "duration": 3.119,
        "start": 304.8,
        "text": "health i've been enjoying a lot of their"
       },
       {
        "duration": 3.28,
        "start": 306.32,
        "text": "collaborations as of late but you never"
       },
       {
        "duration": 4,
        "start": 307.919,
        "text": "really know when"
       },
       {
        "duration": 4.4,
        "start": 309.6,
        "text": "you're gonna get a track that hits hard"
       },
       {
        "duration": 3.441,
        "start": 311.919,
        "text": "which i kind of anticipated given it is"
       },
       {
        "duration": 3.36,
        "start": 314,
        "text": "poppy and she's been putting out a lot"
       },
       {
        "duration": 3.76,
        "start": 315.36,
        "text": "of metal stuff as of late uh they're"
       },
       {
        "duration": 4.16,
        "start": 317.36,
        "text": "gonna drop a track that hits hard or a"
       },
       {
        "duration": 4.079,
        "start": 319.12,
        "text": "track that's like super syrupy and"
       },
       {
        "duration": 3.44,
        "start": 321.52,
        "text": "everyone's vocals kind of melt into the"
       },
       {
        "duration": 4.401,
        "start": 323.199,
        "text": "atmosphere and it doesn't really you"
       },
       {
        "duration": 5.44,
        "start": 324.96,
        "text": "know hit all that uh"
       },
       {
        "duration": 5.2,
        "start": 327.6,
        "text": "uh boldly and um"
       },
       {
        "duration": 4.88,
        "start": 330.4,
        "text": "this this instance is kind of the latter"
       },
       {
        "duration": 3.839,
        "start": 332.8,
        "text": "unfortunately uh dead flowers is the"
       },
       {
        "duration": 4.08,
        "start": 335.28,
        "text": "title but hey if you're a big fan of"
       },
       {
        "duration": 4.721,
        "start": 336.639,
        "text": "either artist here you might dig it"
       },
       {
        "duration": 4.96,
        "start": 339.36,
        "text": "we have a new one from lana del rey blue"
       },
       {
        "duration": 5.52,
        "start": 341.36,
        "text": "banisters the record is out now the song"
       },
       {
        "duration": 3.84,
        "start": 344.32,
        "text": "over here if you lie down with me"
       },
       {
        "duration": 2.879,
        "start": 346.88,
        "text": "i'm not going to say too much about it"
       },
       {
        "duration": 3.68,
        "start": 348.16,
        "text": "because i am going to give my thoughts"
       },
       {
        "duration": 4.561,
        "start": 349.759,
        "text": "uh on the full lp"
       },
       {
        "duration": 4.32,
        "start": 351.84,
        "text": "very soon but um i i think this one's"
       },
       {
        "duration": 4.64,
        "start": 354.32,
        "text": "okay it's all right"
       },
       {
        "duration": 6.64,
        "start": 356.16,
        "text": "uh we have uh charlie io a track from"
       },
       {
        "duration": 6.16,
        "start": 358.96,
        "text": "ellie vader l elevator ellie it's like"
       },
       {
        "duration": 4,
        "start": 362.8,
        "text": "the name ellie but then vader afterwards"
       },
       {
        "duration": 3.28,
        "start": 365.12,
        "text": "it's a sparkling piece of art pop that"
       },
       {
        "duration": 2.8,
        "start": 366.8,
        "text": "you might enjoy it's pretty good check"
       },
       {
        "duration": 3.359,
        "start": 368.4,
        "text": "it out it's got some cinematic"
       },
       {
        "duration": 3.68,
        "start": 369.6,
        "text": "instrumentation behind it too give it"
       },
       {
        "duration": 3.921,
        "start": 371.759,
        "text": "give it a try"
       },
       {
        "duration": 4.72,
        "start": 373.28,
        "text": "all right beirut kind of a quaint new"
       },
       {
        "duration": 3.2,
        "start": 375.68,
        "text": "single over here um"
       },
       {
        "duration": 4.08,
        "start": 378,
        "text": "from"
       },
       {
        "duration": 6.08,
        "start": 378.88,
        "text": "zach condon it is i believe uh fisher"
       },
       {
        "duration": 4,
        "start": 382.08,
        "text": "island sound uh it's okay give it a try"
       },
       {
        "duration": 1.92,
        "start": 384.96,
        "text": "if you're looking for something really"
       },
       {
        "duration": 1.92,
        "start": 386.08,
        "text": "uh"
       },
       {
        "duration": 4.08,
        "start": 386.88,
        "text": "you know"
       },
       {
        "duration": 5.44,
        "start": 388,
        "text": "sounds like you could uh have have a day"
       },
       {
        "duration": 3.76,
        "start": 390.96,
        "text": "at the beach in new england"
       },
       {
        "duration": 3.199,
        "start": 393.44,
        "text": "you could ride down to the cape and"
       },
       {
        "duration": 3.759,
        "start": 394.72,
        "text": "listen to it give it a try"
       },
       {
        "duration": 4.161,
        "start": 396.639,
        "text": "all right we have um"
       },
       {
        "duration": 4.961,
        "start": 398.479,
        "text": "a new one also as well from swedish pop"
       },
       {
        "duration": 5.2,
        "start": 400.8,
        "text": "legends abba just a notion they've been"
       },
       {
        "duration": 4.479,
        "start": 403.44,
        "text": "teasing toward a brand new lp"
       },
       {
        "duration": 3.84,
        "start": 406,
        "text": "and this one kind of sounds like a bit"
       },
       {
        "duration": 3.521,
        "start": 407.919,
        "text": "of a throwback this sounds like uh how"
       },
       {
        "duration": 3.04,
        "start": 409.84,
        "text": "their older stuff used to sound i mean"
       },
       {
        "duration": 3.599,
        "start": 411.44,
        "text": "yeah maybe a little"
       },
       {
        "duration": 4.319,
        "start": 412.88,
        "text": "flabbier uh production wise a little"
       },
       {
        "duration": 4.641,
        "start": 415.039,
        "text": "more atmospheric but this this kind of"
       },
       {
        "duration": 4.481,
        "start": 417.199,
        "text": "seems like a little bit more on track i"
       },
       {
        "duration": 3.44,
        "start": 419.68,
        "text": "suppose you know as far as like abba"
       },
       {
        "duration": 3.2,
        "start": 421.68,
        "text": "songs go"
       },
       {
        "duration": 3.519,
        "start": 423.12,
        "text": "all right let's move on to the best"
       },
       {
        "duration": 4.96,
        "start": 424.88,
        "text": "tracks of the week the ones that really"
       },
       {
        "duration": 5.441,
        "start": 426.639,
        "text": "stuck with me they are as follows"
       },
       {
        "duration": 5.6,
        "start": 429.84,
        "text": "uh richard dawson and circle continue to"
       },
       {
        "duration": 5.44,
        "start": 432.08,
        "text": "kill it with this new one methuselah and"
       },
       {
        "duration": 4.8,
        "start": 435.44,
        "text": "uh yeah they're really like coming"
       },
       {
        "duration": 5.519,
        "start": 437.52,
        "text": "together with some amazing and artful"
       },
       {
        "duration": 4.079,
        "start": 440.24,
        "text": "combinations of folk and rock and prague"
       },
       {
        "duration": 3.521,
        "start": 443.039,
        "text": "and it's just so outlandish and"
       },
       {
        "duration": 5.28,
        "start": 444.319,
        "text": "ridiculous and i love it it's so"
       },
       {
        "duration": 5.6,
        "start": 446.56,
        "text": "creative and bold and multi-phased and"
       },
       {
        "duration": 5.361,
        "start": 449.599,
        "text": "the song over here if i didn't"
       },
       {
        "duration": 4.56,
        "start": 452.16,
        "text": "already say it is um a title yeah again"
       },
       {
        "duration": 3.6,
        "start": 454.96,
        "text": "it's it's methuselah it's great it's"
       },
       {
        "duration": 2.96,
        "start": 456.72,
        "text": "fantastic give it a listen"
       },
       {
        "duration": 2.4,
        "start": 458.56,
        "text": "all right uh we have a new one from"
       },
       {
        "duration": 2.88,
        "start": 459.68,
        "text": "parque courts"
       },
       {
        "duration": 3.919,
        "start": 460.96,
        "text": "uh another track from their new album"
       },
       {
        "duration": 5.039,
        "start": 462.56,
        "text": "that is out now uh this one over here"
       },
       {
        "duration": 5.201,
        "start": 464.879,
        "text": "homo sapien is great it's fantastic it's"
       },
       {
        "duration": 3.6,
        "start": 467.599,
        "text": "a wonderful rocker great riffs great"
       },
       {
        "duration": 2.64,
        "start": 470.08,
        "text": "energy"
       },
       {
        "duration": 2.881,
        "start": 471.199,
        "text": "loving the band sounding tight as hell"
       },
       {
        "duration": 3.44,
        "start": 472.72,
        "text": "on this one"
       },
       {
        "duration": 4.239,
        "start": 474.08,
        "text": "thoughts on the record thoughts on the"
       },
       {
        "duration": 4.4,
        "start": 476.16,
        "text": "lp very soon all right next we have uh"
       },
       {
        "duration": 3.841,
        "start": 478.319,
        "text": "obong jr message and a hammer is the"
       },
       {
        "duration": 4.24,
        "start": 480.56,
        "text": "title of this track new single it's"
       },
       {
        "duration": 4.719,
        "start": 482.16,
        "text": "fantastic loving the grooves"
       },
       {
        "duration": 3.92,
        "start": 484.8,
        "text": "loving the you know sort of experimental"
       },
       {
        "duration": 4,
        "start": 486.879,
        "text": "timbres and electronic bits and the"
       },
       {
        "duration": 3.84,
        "start": 488.72,
        "text": "instrumental two uh of course this guy"
       },
       {
        "duration": 4.081,
        "start": 490.879,
        "text": "has like a one-of-a-kind voice that you"
       },
       {
        "duration": 4.479,
        "start": 492.56,
        "text": "might remember from the latest little"
       },
       {
        "duration": 4.239,
        "start": 494.96,
        "text": "sims record because he appeared on that"
       },
       {
        "duration": 4.481,
        "start": 497.039,
        "text": "uh yeah track just kicks ass all around"
       },
       {
        "duration": 3.601,
        "start": 499.199,
        "text": "give it a listen give it a try"
       },
       {
        "duration": 3.92,
        "start": 501.52,
        "text": "we have uh"
       },
       {
        "duration": 4,
        "start": 502.8,
        "text": "next a new one from dijon an artist that"
       },
       {
        "duration": 3.28,
        "start": 505.44,
        "text": "uh quite a few people have been"
       },
       {
        "duration": 4.88,
        "start": 506.8,
        "text": "recommending to me lately including uh"
       },
       {
        "duration": 4.6,
        "start": 508.72,
        "text": "gene dawson this guy does some cool"
       },
       {
        "duration": 3.919,
        "start": 511.68,
        "text": "uh"
       },
       {
        "duration": 3.639,
        "start": 513.32,
        "text": "experimental r b but it's kind of like a"
       },
       {
        "duration": 3.041,
        "start": 515.599,
        "text": "fusion of a bunch of different things"
       },
       {
        "duration": 3.44,
        "start": 516.959,
        "text": "and he's got a lot of videos on youtube"
       },
       {
        "duration": 3.519,
        "start": 518.64,
        "text": "of like you know studio and live"
       },
       {
        "duration": 4.081,
        "start": 520.399,
        "text": "performances that he's kind of doing on"
       },
       {
        "duration": 4.161,
        "start": 522.159,
        "text": "the fly with other musicians and and"
       },
       {
        "duration": 4.32,
        "start": 524.48,
        "text": "it's all like you know very"
       },
       {
        "duration": 4.959,
        "start": 526.32,
        "text": "intriguing and compelling and and he's"
       },
       {
        "duration": 3.92,
        "start": 528.8,
        "text": "got to really create a vocal style as"
       },
       {
        "duration": 3.441,
        "start": 531.279,
        "text": "well"
       },
       {
        "duration": 4,
        "start": 532.72,
        "text": "this song over here rodeo clown i'd love"
       },
       {
        "duration": 4.239,
        "start": 534.72,
        "text": "to point you guys to give it a shot give"
       },
       {
        "duration": 3.76,
        "start": 536.72,
        "text": "it a listen give it a try"
       },
       {
        "duration": 4.88,
        "start": 538.959,
        "text": "all right we have a new one from bonobo"
       },
       {
        "duration": 5.12,
        "start": 540.48,
        "text": "as well uh jamila woods on the track"
       },
       {
        "duration": 4.321,
        "start": 543.839,
        "text": "tides it is"
       },
       {
        "duration": 4.32,
        "start": 545.6,
        "text": "low-key semi-ambient beautiful kind of a"
       },
       {
        "duration": 4.4,
        "start": 548.16,
        "text": "trip hop quality to it as well it's"
       },
       {
        "duration": 5.44,
        "start": 549.92,
        "text": "great it's fantastic give it a shot"
       },
       {
        "duration": 4.719,
        "start": 552.56,
        "text": "and uh big sean teams up with a hit boy"
       },
       {
        "duration": 4.08,
        "start": 555.36,
        "text": "on what a life it's a banger it's a"
       },
       {
        "duration": 3.201,
        "start": 557.279,
        "text": "banger what more can i say a hit boy"
       },
       {
        "duration": 3.92,
        "start": 559.44,
        "text": "came through with a bop on the"
       },
       {
        "duration": 4.4,
        "start": 560.48,
        "text": "instrumental big sean sounds good on top"
       },
       {
        "duration": 3.36,
        "start": 563.36,
        "text": "nothing too crazy you know in terms of"
       },
       {
        "duration": 3.36,
        "start": 564.88,
        "text": "like writing or hooks or anything like"
       },
       {
        "duration": 3.76,
        "start": 566.72,
        "text": "that but it's just got a you know kind"
       },
       {
        "duration": 4.8,
        "start": 568.24,
        "text": "of creative production good flow good"
       },
       {
        "duration": 3.76,
        "start": 570.48,
        "text": "vibe from big sean liking it good track"
       },
       {
        "duration": 3.359,
        "start": 573.04,
        "text": "all around"
       },
       {
        "duration": 3.68,
        "start": 574.24,
        "text": "and that's it weekly track roundup thank"
       },
       {
        "duration": 3.361,
        "start": 576.399,
        "text": "you thank you thank you you're the best"
       },
       {
        "duration": 3.44,
        "start": 577.92,
        "text": "you're the best you're the best anthony"
       },
       {
        "duration": 3.28,
        "start": 579.76,
        "text": "fantano hopefully you got some good"
       },
       {
        "duration": 4.08,
        "start": 581.36,
        "text": "recommendations out of this video weekly"
       },
       {
        "duration": 5.4,
        "start": 583.04,
        "text": "track roundup forever blah blah blah"
       },
       {
        "duration": 3,
        "start": 585.44,
        "text": "blah"
       }
      ],
      "text/plain": [
       "<IPython.core.display.JSON object>"
      ]
     },
     "execution_count": 11,
     "metadata": {
      "application/json": {
       "expanded": false,
       "root": "root"
      }
     },
     "output_type": "execute_result"
    }
   ],
   "source": [
    "t = yt_client.get_video_transcript(video_id)\n",
    "JSON(t)"
   ]
  },
  {
   "cell_type": "code",
   "execution_count": null,
   "id": "8f2dcb0f-a060-4a54-96ae-65548adac7d7",
   "metadata": {},
   "outputs": [],
   "source": []
  }
 ],
 "metadata": {
  "kernelspec": {
   "display_name": "Python 3 (ipykernel)",
   "language": "python",
   "name": "python3"
  },
  "language_info": {
   "codemirror_mode": {
    "name": "ipython",
    "version": 3
   },
   "file_extension": ".py",
   "mimetype": "text/x-python",
   "name": "python",
   "nbconvert_exporter": "python",
   "pygments_lexer": "ipython3",
   "version": "3.7.6"
  }
 },
 "nbformat": 4,
 "nbformat_minor": 5
}
