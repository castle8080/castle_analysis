{
 "cells": [
  {
   "cell_type": "markdown",
   "id": "d527595d-5a48-4502-9436-7a2f01c34b5c",
   "metadata": {},
   "source": [
    "# ReadExtractDataIMDBReviews\n",
    "\n",
    "Download the IMDB dataset and perform basic preparation."
   ]
  },
  {
   "cell_type": "code",
   "execution_count": 1,
   "id": "673ca931-79fb-4754-995c-bdc43204a53d",
   "metadata": {},
   "outputs": [],
   "source": [
    "import os\n",
    "import re\n",
    "import urllib\n",
    "import tarfile\n",
    "import sqlite3\n",
    "\n",
    "import pandas as pd"
   ]
  },
  {
   "cell_type": "markdown",
   "id": "040bd6ed-5137-40e8-b2c7-33b52fd86def",
   "metadata": {},
   "source": [
    "## Download The Dataset"
   ]
  },
  {
   "cell_type": "code",
   "execution_count": 2,
   "id": "864c289b-89d7-4ccb-b546-707aec0a36d9",
   "metadata": {},
   "outputs": [],
   "source": [
    "os.makedirs(\"var\", exist_ok=True)"
   ]
  },
  {
   "cell_type": "code",
   "execution_count": 3,
   "id": "2eea3ae0-ec48-4dd9-908a-debd0e1c7c95",
   "metadata": {},
   "outputs": [],
   "source": [
    "data_url = \"https://ai.stanford.edu/~amaas/data/sentiment/aclImdb_v1.tar.gz\"\n",
    "local_file = \"var/aclImdb_v1.tar.gz\""
   ]
  },
  {
   "cell_type": "code",
   "execution_count": 4,
   "id": "b67857a7-a595-489f-b1a3-79ee809738f1",
   "metadata": {},
   "outputs": [],
   "source": [
    "if not(os.path.isfile(local_file)):\n",
    "    urllib.request.urlretrieve(data_url, local_file)"
   ]
  },
  {
   "cell_type": "markdown",
   "id": "c6f9ed73-7fad-4e52-96a8-b8b780122676",
   "metadata": {},
   "source": [
    "## Dataset Reading Functions"
   ]
  },
  {
   "cell_type": "code",
   "execution_count": 5,
   "id": "92291689-b286-4328-9af7-82d687d923d8",
   "metadata": {},
   "outputs": [],
   "source": [
    "def read_text(tf, name):\n",
    "    with tf.extractfile(name) as f:\n",
    "        return f.read().decode('utf-8')\n",
    "\n",
    "def read_readme(tf):\n",
    "    return read_text(tf, \"aclImdb/README\")\n",
    "\n",
    "def read_comment_links(tf, name):\n",
    "    comments = []\n",
    "    with tf.extractfile(name) as f:\n",
    "        for line in f:\n",
    "            comments.append(line.decode('utf-8').strip())\n",
    "    return comments\n",
    "\n",
    "def read_all_comment_links(tf):\n",
    "    dfs = []\n",
    "    names = tf.getnames()\n",
    "    for ds_type in ['train', 'test']:\n",
    "        for _class in ['pos', 'neg', 'unsup']:\n",
    "            fname = f\"aclImdb/{ds_type}/urls_{_class}.txt\"\n",
    "            if fname in names:\n",
    "                links = read_comment_links(tf, fname)\n",
    "                links_df = pd.DataFrame({'commentLink': links})\n",
    "                links_df['dataset'] = ds_type\n",
    "                links_df['class'] = _class\n",
    "                links_df['datasetclassId'] = range(0, len(links_df))\n",
    "                dfs.append(links_df)\n",
    "            \n",
    "    return pd.concat(dfs)\n",
    "\n",
    "def get_review_names(tf):\n",
    "    name_re = re.compile(r'^aclImdb/(test|train)/(pos|neg|unsup)/(\\d+)_(\\d+).txt$')\n",
    "\n",
    "    entries = []\n",
    "    for name in tf.getnames():\n",
    "        m = name_re.match(name)\n",
    "        if m:\n",
    "            ds_type = m.group(1)\n",
    "            _class = m.group(2)\n",
    "            _id = int(m.group(3))\n",
    "            rating = int(m.group(4))\n",
    "            entries.append({'dataset': ds_type, 'class': _class, 'datasetclassId': _id, 'rating': rating, 'name': name})\n",
    "\n",
    "    return pd.DataFrame(entries)\n",
    "\n",
    "def read_reviews(tf):\n",
    "    reviews = get_review_names(tf)\n",
    "    reviews['review'] = reviews['name'].apply(lambda name: read_text(tf, name))\n",
    "    return reviews"
   ]
  },
  {
   "cell_type": "markdown",
   "id": "202f7690-414a-40b8-87dc-41699f0ae772",
   "metadata": {},
   "source": [
    "## Open Handle to Tarfile"
   ]
  },
  {
   "cell_type": "code",
   "execution_count": 6,
   "id": "eb3a4169-397b-4bef-b7cb-7003a53a94dd",
   "metadata": {},
   "outputs": [],
   "source": [
    "tf = tarfile.open(local_file)"
   ]
  },
  {
   "cell_type": "markdown",
   "id": "5bfd6b42-8a07-46ff-bba7-fd2935ba2b85",
   "metadata": {},
   "source": [
    "### Readme"
   ]
  },
  {
   "cell_type": "code",
   "execution_count": 7,
   "id": "0ae1b836-c3f4-453b-a67a-5f1970fce19c",
   "metadata": {},
   "outputs": [
    {
     "name": "stdout",
     "output_type": "stream",
     "text": [
      "Large Movie Review Dataset v1.0\n",
      "\n",
      "Overview\n",
      "\n",
      "This dataset contains movie reviews along with their associated binary\n",
      "sentiment polarity labels. It is intended to serve as a benchmark for\n",
      "sentiment classification. This document outlines how the dataset was\n",
      "gathered, and how to use the files provided. \n",
      "\n",
      "Dataset \n",
      "\n",
      "The core dataset contains 50,000 reviews split evenly into 25k train\n",
      "and 25k test sets. The overall distribution of labels is balanced (25k\n",
      "pos and 25k neg). We also include an additional 50,000 unlabeled\n",
      "documents for unsupervised learning. \n",
      "\n",
      "In the entire collection, no more than 30 reviews are allowed for any\n",
      "given movie because reviews for the same movie tend to have correlated\n",
      "ratings. Further, the train and test sets contain a disjoint set of\n",
      "movies, so no significant performance is obtained by memorizing\n",
      "movie-unique terms and their associated with observed labels.  In the\n",
      "labeled train/test sets, a negative review has a score <= 4 out of 10,\n",
      "and a positive review has a score >= 7 out of 10. Thus reviews with\n",
      "more neutral ratings are not included in the train/test sets. In the\n",
      "unsupervised set, reviews of any rating are included and there are an\n",
      "even number of reviews > 5 and <= 5.\n",
      "\n",
      "Files\n",
      "\n",
      "There are two top-level directories [train/, test/] corresponding to\n",
      "the training and test sets. Each contains [pos/, neg/] directories for\n",
      "the reviews with binary labels positive and negative. Within these\n",
      "directories, reviews are stored in text files named following the\n",
      "convention [[id]_[rating].txt] where [id] is a unique id and [rating] is\n",
      "the star rating for that review on a 1-10 scale. For example, the file\n",
      "[test/pos/200_8.txt] is the text for a positive-labeled test set\n",
      "example with unique id 200 and star rating 8/10 from IMDb. The\n",
      "[train/unsup/] directory has 0 for all ratings because the ratings are\n",
      "omitted for this portion of the dataset.\n",
      "\n",
      "We also include the IMDb URLs for each review in a separate\n",
      "[urls_[pos, neg, unsup].txt] file. A review with unique id 200 will\n",
      "have its URL on line 200 of this file. Due the ever-changing IMDb, we\n",
      "are unable to link directly to the review, but only to the movie's\n",
      "review page.\n",
      "\n",
      "In addition to the review text files, we include already-tokenized bag\n",
      "of words (BoW) features that were used in our experiments. These \n",
      "are stored in .feat files in the train/test directories. Each .feat\n",
      "file is in LIBSVM format, an ascii sparse-vector format for labeled\n",
      "data.  The feature indices in these files start from 0, and the text\n",
      "tokens corresponding to a feature index is found in [imdb.vocab]. So a\n",
      "line with 0:7 in a .feat file means the first word in [imdb.vocab]\n",
      "(the) appears 7 times in that review.\n",
      "\n",
      "LIBSVM page for details on .feat file format:\n",
      "http://www.csie.ntu.edu.tw/~cjlin/libsvm/\n",
      "\n",
      "We also include [imdbEr.txt] which contains the expected rating for\n",
      "each token in [imdb.vocab] as computed by (Potts, 2011). The expected\n",
      "rating is a good way to get a sense for the average polarity of a word\n",
      "in the dataset.\n",
      "\n",
      "Citing the dataset\n",
      "\n",
      "When using this dataset please cite our ACL 2011 paper which\n",
      "introduces it. This paper also contains classification results which\n",
      "you may want to compare against.\n",
      "\n",
      "\n",
      "@InProceedings{maas-EtAl:2011:ACL-HLT2011,\n",
      "  author    = {Maas, Andrew L.  and  Daly, Raymond E.  and  Pham, Peter T.  and  Huang, Dan  and  Ng, Andrew Y.  and  Potts, Christopher},\n",
      "  title     = {Learning Word Vectors for Sentiment Analysis},\n",
      "  booktitle = {Proceedings of the 49th Annual Meeting of the Association for Computational Linguistics: Human Language Technologies},\n",
      "  month     = {June},\n",
      "  year      = {2011},\n",
      "  address   = {Portland, Oregon, USA},\n",
      "  publisher = {Association for Computational Linguistics},\n",
      "  pages     = {142--150},\n",
      "  url       = {http://www.aclweb.org/anthology/P11-1015}\n",
      "}\n",
      "\n",
      "References\n",
      "\n",
      "Potts, Christopher. 2011. On the negativity of negation. In Nan Li and\n",
      "David Lutz, eds., Proceedings of Semantics and Linguistic Theory 20,\n",
      "636-659.\n",
      "\n",
      "Contact\n",
      "\n",
      "For questions/comments/corrections please contact Andrew Maas\n",
      "amaas@cs.stanford.edu\n",
      "\n"
     ]
    }
   ],
   "source": [
    "print(read_readme(tf))"
   ]
  },
  {
   "cell_type": "markdown",
   "id": "cd27668e-c4a3-4463-9eb6-c8b5dfaf8781",
   "metadata": {},
   "source": [
    "### Load Comment Links"
   ]
  },
  {
   "cell_type": "code",
   "execution_count": 8,
   "id": "17e23799-98a3-4284-bc83-196e5057829b",
   "metadata": {},
   "outputs": [],
   "source": [
    "comment_links = read_all_comment_links(tf)"
   ]
  },
  {
   "cell_type": "code",
   "execution_count": 9,
   "id": "f78a1a2a-a48b-41d3-8247-3715408e630c",
   "metadata": {},
   "outputs": [
    {
     "data": {
      "text/html": [
       "<div>\n",
       "<style scoped>\n",
       "    .dataframe tbody tr th:only-of-type {\n",
       "        vertical-align: middle;\n",
       "    }\n",
       "\n",
       "    .dataframe tbody tr th {\n",
       "        vertical-align: top;\n",
       "    }\n",
       "\n",
       "    .dataframe thead th {\n",
       "        text-align: right;\n",
       "    }\n",
       "</style>\n",
       "<table border=\"1\" class=\"dataframe\">\n",
       "  <thead>\n",
       "    <tr style=\"text-align: right;\">\n",
       "      <th></th>\n",
       "      <th>class</th>\n",
       "    </tr>\n",
       "  </thead>\n",
       "  <tbody>\n",
       "    <tr>\n",
       "      <th>unsup</th>\n",
       "      <td>50000</td>\n",
       "    </tr>\n",
       "    <tr>\n",
       "      <th>pos</th>\n",
       "      <td>25000</td>\n",
       "    </tr>\n",
       "    <tr>\n",
       "      <th>neg</th>\n",
       "      <td>25000</td>\n",
       "    </tr>\n",
       "  </tbody>\n",
       "</table>\n",
       "</div>"
      ],
      "text/plain": [
       "       class\n",
       "unsup  50000\n",
       "pos    25000\n",
       "neg    25000"
      ]
     },
     "execution_count": 9,
     "metadata": {},
     "output_type": "execute_result"
    }
   ],
   "source": [
    "comment_links['class'].value_counts().to_frame()"
   ]
  },
  {
   "cell_type": "code",
   "execution_count": 10,
   "id": "9a003f8d-5f1f-4396-bc59-16581325fbec",
   "metadata": {},
   "outputs": [
    {
     "data": {
      "text/html": [
       "<div>\n",
       "<style scoped>\n",
       "    .dataframe tbody tr th:only-of-type {\n",
       "        vertical-align: middle;\n",
       "    }\n",
       "\n",
       "    .dataframe tbody tr th {\n",
       "        vertical-align: top;\n",
       "    }\n",
       "\n",
       "    .dataframe thead th {\n",
       "        text-align: right;\n",
       "    }\n",
       "</style>\n",
       "<table border=\"1\" class=\"dataframe\">\n",
       "  <thead>\n",
       "    <tr style=\"text-align: right;\">\n",
       "      <th></th>\n",
       "      <th>commentLink</th>\n",
       "      <th>dataset</th>\n",
       "      <th>class</th>\n",
       "      <th>datasetclassId</th>\n",
       "    </tr>\n",
       "  </thead>\n",
       "  <tbody>\n",
       "    <tr>\n",
       "      <th>45128</th>\n",
       "      <td>http://www.imdb.com/title/tt0091214/usercomments</td>\n",
       "      <td>train</td>\n",
       "      <td>unsup</td>\n",
       "      <td>45128</td>\n",
       "    </tr>\n",
       "    <tr>\n",
       "      <th>2637</th>\n",
       "      <td>http://www.imdb.com/title/tt0167284/usercomments</td>\n",
       "      <td>test</td>\n",
       "      <td>neg</td>\n",
       "      <td>2637</td>\n",
       "    </tr>\n",
       "    <tr>\n",
       "      <th>23741</th>\n",
       "      <td>http://www.imdb.com/title/tt0969706/usercomments</td>\n",
       "      <td>train</td>\n",
       "      <td>unsup</td>\n",
       "      <td>23741</td>\n",
       "    </tr>\n",
       "    <tr>\n",
       "      <th>5790</th>\n",
       "      <td>http://www.imdb.com/title/tt0734686/usercomments</td>\n",
       "      <td>train</td>\n",
       "      <td>pos</td>\n",
       "      <td>5790</td>\n",
       "    </tr>\n",
       "    <tr>\n",
       "      <th>18768</th>\n",
       "      <td>http://www.imdb.com/title/tt0074483/usercomments</td>\n",
       "      <td>train</td>\n",
       "      <td>unsup</td>\n",
       "      <td>18768</td>\n",
       "    </tr>\n",
       "  </tbody>\n",
       "</table>\n",
       "</div>"
      ],
      "text/plain": [
       "                                            commentLink dataset  class  \\\n",
       "45128  http://www.imdb.com/title/tt0091214/usercomments   train  unsup   \n",
       "2637   http://www.imdb.com/title/tt0167284/usercomments    test    neg   \n",
       "23741  http://www.imdb.com/title/tt0969706/usercomments   train  unsup   \n",
       "5790   http://www.imdb.com/title/tt0734686/usercomments   train    pos   \n",
       "18768  http://www.imdb.com/title/tt0074483/usercomments   train  unsup   \n",
       "\n",
       "       datasetclassId  \n",
       "45128           45128  \n",
       "2637             2637  \n",
       "23741           23741  \n",
       "5790             5790  \n",
       "18768           18768  "
      ]
     },
     "execution_count": 10,
     "metadata": {},
     "output_type": "execute_result"
    }
   ],
   "source": [
    "comment_links.sample(5)"
   ]
  },
  {
   "cell_type": "markdown",
   "id": "4164a0e6-f918-4649-b873-e6aca89ca271",
   "metadata": {},
   "source": [
    "### Load Reviews"
   ]
  },
  {
   "cell_type": "code",
   "execution_count": 11,
   "id": "7ada5d94-409d-4f08-91fa-1fd01610e992",
   "metadata": {},
   "outputs": [],
   "source": [
    "reviews = read_reviews(tf)"
   ]
  },
  {
   "cell_type": "code",
   "execution_count": 12,
   "id": "7770ac69-b295-49f3-8f66-ef85ab7fb585",
   "metadata": {},
   "outputs": [
    {
     "data": {
      "text/html": [
       "<div>\n",
       "<style scoped>\n",
       "    .dataframe tbody tr th:only-of-type {\n",
       "        vertical-align: middle;\n",
       "    }\n",
       "\n",
       "    .dataframe tbody tr th {\n",
       "        vertical-align: top;\n",
       "    }\n",
       "\n",
       "    .dataframe thead th {\n",
       "        text-align: right;\n",
       "    }\n",
       "</style>\n",
       "<table border=\"1\" class=\"dataframe\">\n",
       "  <thead>\n",
       "    <tr style=\"text-align: right;\">\n",
       "      <th></th>\n",
       "      <th>dataset</th>\n",
       "      <th>class</th>\n",
       "      <th>0</th>\n",
       "    </tr>\n",
       "  </thead>\n",
       "  <tbody>\n",
       "    <tr>\n",
       "      <th>0</th>\n",
       "      <td>test</td>\n",
       "      <td>neg</td>\n",
       "      <td>12500</td>\n",
       "    </tr>\n",
       "    <tr>\n",
       "      <th>1</th>\n",
       "      <td>test</td>\n",
       "      <td>pos</td>\n",
       "      <td>12500</td>\n",
       "    </tr>\n",
       "    <tr>\n",
       "      <th>2</th>\n",
       "      <td>train</td>\n",
       "      <td>neg</td>\n",
       "      <td>12500</td>\n",
       "    </tr>\n",
       "    <tr>\n",
       "      <th>3</th>\n",
       "      <td>train</td>\n",
       "      <td>pos</td>\n",
       "      <td>12500</td>\n",
       "    </tr>\n",
       "    <tr>\n",
       "      <th>4</th>\n",
       "      <td>train</td>\n",
       "      <td>unsup</td>\n",
       "      <td>50000</td>\n",
       "    </tr>\n",
       "  </tbody>\n",
       "</table>\n",
       "</div>"
      ],
      "text/plain": [
       "  dataset  class      0\n",
       "0    test    neg  12500\n",
       "1    test    pos  12500\n",
       "2   train    neg  12500\n",
       "3   train    pos  12500\n",
       "4   train  unsup  50000"
      ]
     },
     "execution_count": 12,
     "metadata": {},
     "output_type": "execute_result"
    }
   ],
   "source": [
    "reviews.groupby(['dataset', 'class']).size().reset_index()"
   ]
  },
  {
   "cell_type": "code",
   "execution_count": 13,
   "id": "7fa21cf1-b95b-44c4-a43f-8aeed876c978",
   "metadata": {},
   "outputs": [
    {
     "data": {
      "text/html": [
       "<div>\n",
       "<style scoped>\n",
       "    .dataframe tbody tr th:only-of-type {\n",
       "        vertical-align: middle;\n",
       "    }\n",
       "\n",
       "    .dataframe tbody tr th {\n",
       "        vertical-align: top;\n",
       "    }\n",
       "\n",
       "    .dataframe thead th {\n",
       "        text-align: right;\n",
       "    }\n",
       "</style>\n",
       "<table border=\"1\" class=\"dataframe\">\n",
       "  <thead>\n",
       "    <tr style=\"text-align: right;\">\n",
       "      <th></th>\n",
       "      <th>dataset</th>\n",
       "      <th>class</th>\n",
       "      <th>datasetclassId</th>\n",
       "      <th>rating</th>\n",
       "      <th>name</th>\n",
       "      <th>review</th>\n",
       "    </tr>\n",
       "  </thead>\n",
       "  <tbody>\n",
       "    <tr>\n",
       "      <th>8999</th>\n",
       "      <td>test</td>\n",
       "      <td>neg</td>\n",
       "      <td>9048</td>\n",
       "      <td>4</td>\n",
       "      <td>aclImdb/test/neg/9048_4.txt</td>\n",
       "      <td>\"Eaten Alive\" goes down much easier than Rugge...</td>\n",
       "    </tr>\n",
       "    <tr>\n",
       "      <th>86666</th>\n",
       "      <td>train</td>\n",
       "      <td>unsup</td>\n",
       "      <td>36677</td>\n",
       "      <td>0</td>\n",
       "      <td>aclImdb/train/unsup/36677_0.txt</td>\n",
       "      <td>This movie has everything wrong with it: overd...</td>\n",
       "    </tr>\n",
       "    <tr>\n",
       "      <th>34483</th>\n",
       "      <td>train</td>\n",
       "      <td>neg</td>\n",
       "      <td>9588</td>\n",
       "      <td>4</td>\n",
       "      <td>aclImdb/train/neg/9588_4.txt</td>\n",
       "      <td>\"Absolute Beginners\" was a film for the younge...</td>\n",
       "    </tr>\n",
       "    <tr>\n",
       "      <th>76</th>\n",
       "      <td>test</td>\n",
       "      <td>neg</td>\n",
       "      <td>51</td>\n",
       "      <td>4</td>\n",
       "      <td>aclImdb/test/neg/51_4.txt</td>\n",
       "      <td>One of the last surviving horror screen greats...</td>\n",
       "    </tr>\n",
       "    <tr>\n",
       "      <th>30997</th>\n",
       "      <td>train</td>\n",
       "      <td>neg</td>\n",
       "      <td>5906</td>\n",
       "      <td>1</td>\n",
       "      <td>aclImdb/train/neg/5906_1.txt</td>\n",
       "      <td>This movie was terrible. The plot sucked, the ...</td>\n",
       "    </tr>\n",
       "  </tbody>\n",
       "</table>\n",
       "</div>"
      ],
      "text/plain": [
       "      dataset  class  datasetclassId  rating                             name  \\\n",
       "8999     test    neg            9048       4      aclImdb/test/neg/9048_4.txt   \n",
       "86666   train  unsup           36677       0  aclImdb/train/unsup/36677_0.txt   \n",
       "34483   train    neg            9588       4     aclImdb/train/neg/9588_4.txt   \n",
       "76       test    neg              51       4        aclImdb/test/neg/51_4.txt   \n",
       "30997   train    neg            5906       1     aclImdb/train/neg/5906_1.txt   \n",
       "\n",
       "                                                  review  \n",
       "8999   \"Eaten Alive\" goes down much easier than Rugge...  \n",
       "86666  This movie has everything wrong with it: overd...  \n",
       "34483  \"Absolute Beginners\" was a film for the younge...  \n",
       "76     One of the last surviving horror screen greats...  \n",
       "30997  This movie was terrible. The plot sucked, the ...  "
      ]
     },
     "execution_count": 13,
     "metadata": {},
     "output_type": "execute_result"
    }
   ],
   "source": [
    "reviews.sample(5)"
   ]
  },
  {
   "cell_type": "markdown",
   "id": "eeb4f28e-6ce9-4ae0-aff0-e35c44f9a38e",
   "metadata": {},
   "source": [
    "### Final Prep and Join Comments Links with Reviews"
   ]
  },
  {
   "cell_type": "code",
   "execution_count": 15,
   "id": "16ed8c20-f22c-43b5-b4aa-abd283dae261",
   "metadata": {},
   "outputs": [],
   "source": [
    "ttid_re = re.compile(r'title/([^/]+)')\n",
    "                     \n",
    "def get_ttid_re(comment_link):\n",
    "    m = ttid_re.search(comment_link)\n",
    "    if m:\n",
    "        return m.group(1)\n",
    "\n",
    "reviews_with_comments = pd.merge(\n",
    "    reviews,\n",
    "    comment_links\n",
    ")\n",
    "\n",
    "# Assign a pk\n",
    "reviews_with_comments['id'] = range(1, len(reviews_with_comments) + 1)\n",
    "\n",
    "# Extract the title id\n",
    "reviews_with_comments['titleId'] = reviews_with_comments.commentLink.apply(get_ttid_re)\n",
    "\n",
    "# Drop some columns and reorde columns\n",
    "reviews_with_comments = (reviews_with_comments\n",
    "    [['id', 'titleId', 'dataset', 'class', 'datasetclassId', 'rating', 'review']]\n",
    ")"
   ]
  },
  {
   "cell_type": "code",
   "execution_count": 16,
   "id": "abea0068-2810-43cf-ab9c-27a5dc0c7ed0",
   "metadata": {},
   "outputs": [
    {
     "data": {
      "text/html": [
       "<div>\n",
       "<style scoped>\n",
       "    .dataframe tbody tr th:only-of-type {\n",
       "        vertical-align: middle;\n",
       "    }\n",
       "\n",
       "    .dataframe tbody tr th {\n",
       "        vertical-align: top;\n",
       "    }\n",
       "\n",
       "    .dataframe thead th {\n",
       "        text-align: right;\n",
       "    }\n",
       "</style>\n",
       "<table border=\"1\" class=\"dataframe\">\n",
       "  <thead>\n",
       "    <tr style=\"text-align: right;\">\n",
       "      <th></th>\n",
       "      <th>id</th>\n",
       "      <th>titleId</th>\n",
       "      <th>dataset</th>\n",
       "      <th>class</th>\n",
       "      <th>datasetclassId</th>\n",
       "      <th>rating</th>\n",
       "      <th>review</th>\n",
       "    </tr>\n",
       "  </thead>\n",
       "  <tbody>\n",
       "    <tr>\n",
       "      <th>43728</th>\n",
       "      <td>43729</td>\n",
       "      <td>tt0025529</td>\n",
       "      <td>train</td>\n",
       "      <td>pos</td>\n",
       "      <td>6187</td>\n",
       "      <td>9</td>\n",
       "      <td>There are moments in the film that are so drea...</td>\n",
       "    </tr>\n",
       "    <tr>\n",
       "      <th>22691</th>\n",
       "      <td>22692</td>\n",
       "      <td>tt0049470</td>\n",
       "      <td>test</td>\n",
       "      <td>pos</td>\n",
       "      <td>10160</td>\n",
       "      <td>7</td>\n",
       "      <td>Ostensibly a story about the young child of Ji...</td>\n",
       "    </tr>\n",
       "    <tr>\n",
       "      <th>41661</th>\n",
       "      <td>41662</td>\n",
       "      <td>tt0080772</td>\n",
       "      <td>train</td>\n",
       "      <td>pos</td>\n",
       "      <td>4158</td>\n",
       "      <td>10</td>\n",
       "      <td>What can I say ? An action and allegorical tal...</td>\n",
       "    </tr>\n",
       "    <tr>\n",
       "      <th>4898</th>\n",
       "      <td>4899</td>\n",
       "      <td>tt0816539</td>\n",
       "      <td>test</td>\n",
       "      <td>neg</td>\n",
       "      <td>4957</td>\n",
       "      <td>2</td>\n",
       "      <td>Jack Brooks (Trevor Matthews) is a college stu...</td>\n",
       "    </tr>\n",
       "    <tr>\n",
       "      <th>53765</th>\n",
       "      <td>53766</td>\n",
       "      <td>tt0096163</td>\n",
       "      <td>train</td>\n",
       "      <td>unsup</td>\n",
       "      <td>3786</td>\n",
       "      <td>0</td>\n",
       "      <td>\"The Vanishing\", or \"Spoorloos\" (its original ...</td>\n",
       "    </tr>\n",
       "  </tbody>\n",
       "</table>\n",
       "</div>"
      ],
      "text/plain": [
       "          id    titleId dataset  class  datasetclassId  rating  \\\n",
       "43728  43729  tt0025529   train    pos            6187       9   \n",
       "22691  22692  tt0049470    test    pos           10160       7   \n",
       "41661  41662  tt0080772   train    pos            4158      10   \n",
       "4898    4899  tt0816539    test    neg            4957       2   \n",
       "53765  53766  tt0096163   train  unsup            3786       0   \n",
       "\n",
       "                                                  review  \n",
       "43728  There are moments in the film that are so drea...  \n",
       "22691  Ostensibly a story about the young child of Ji...  \n",
       "41661  What can I say ? An action and allegorical tal...  \n",
       "4898   Jack Brooks (Trevor Matthews) is a college stu...  \n",
       "53765  \"The Vanishing\", or \"Spoorloos\" (its original ...  "
      ]
     },
     "execution_count": 16,
     "metadata": {},
     "output_type": "execute_result"
    }
   ],
   "source": [
    "reviews_with_comments.sample(5)"
   ]
  },
  {
   "cell_type": "markdown",
   "id": "31eedd52-cfb7-4b6e-a011-c5ee59ee3a0a",
   "metadata": {},
   "source": [
    "## Write Data Out to Sqlite"
   ]
  },
  {
   "cell_type": "code",
   "execution_count": 17,
   "id": "9367a365-2eac-40a0-a8d8-e4abcf6441a8",
   "metadata": {},
   "outputs": [],
   "source": [
    "db = sqlite3.connect(\"var/reviews.db\")"
   ]
  },
  {
   "cell_type": "code",
   "execution_count": 18,
   "id": "639bcb15-ea01-49bf-93bc-eed302eeaeb1",
   "metadata": {},
   "outputs": [],
   "source": [
    "(reviews_with_comments\n",
    "    .to_sql('reviews', if_exists='replace', index=False, chunksize=5000, con=db)\n",
    ")"
   ]
  },
  {
   "cell_type": "code",
   "execution_count": 19,
   "id": "8834d4f2-d57b-4123-9288-4e0e41421891",
   "metadata": {},
   "outputs": [],
   "source": [
    "db.commit()"
   ]
  },
  {
   "cell_type": "code",
   "execution_count": 20,
   "id": "63d5811a-b257-484e-b822-a96d397be72d",
   "metadata": {},
   "outputs": [
    {
     "data": {
      "text/plain": [
       "<sqlite3.Cursor at 0x2807b09e8f0>"
      ]
     },
     "execution_count": 20,
     "metadata": {},
     "output_type": "execute_result"
    }
   ],
   "source": [
    "db.execute(\"create unique index i_reviews_pk on reviews (id)\")"
   ]
  },
  {
   "cell_type": "code",
   "execution_count": 21,
   "id": "9fbdd7e5-616d-418f-b194-312e621d1b06",
   "metadata": {},
   "outputs": [
    {
     "data": {
      "text/plain": [
       "<sqlite3.Cursor at 0x2807b09ec00>"
      ]
     },
     "execution_count": 21,
     "metadata": {},
     "output_type": "execute_result"
    }
   ],
   "source": [
    "db.execute(\"create index i_reviews_title_id on reviews (titleId)\")"
   ]
  },
  {
   "cell_type": "code",
   "execution_count": 22,
   "id": "183cb557-0db2-4a72-9613-80e868b1f52e",
   "metadata": {},
   "outputs": [],
   "source": [
    "db.commit()"
   ]
  },
  {
   "cell_type": "code",
   "execution_count": 23,
   "id": "2377f5cd-85a4-467e-8ab9-c695f360e123",
   "metadata": {},
   "outputs": [],
   "source": [
    "db.close()"
   ]
  },
  {
   "cell_type": "code",
   "execution_count": null,
   "id": "ba92a598-9be5-4903-86fd-258b57a04408",
   "metadata": {},
   "outputs": [],
   "source": []
  }
 ],
 "metadata": {
  "kernelspec": {
   "display_name": "Python 3 (ipykernel)",
   "language": "python",
   "name": "python3"
  },
  "language_info": {
   "codemirror_mode": {
    "name": "ipython",
    "version": 3
   },
   "file_extension": ".py",
   "mimetype": "text/x-python",
   "name": "python",
   "nbconvert_exporter": "python",
   "pygments_lexer": "ipython3",
   "version": "3.7.6"
  }
 },
 "nbformat": 4,
 "nbformat_minor": 5
}
