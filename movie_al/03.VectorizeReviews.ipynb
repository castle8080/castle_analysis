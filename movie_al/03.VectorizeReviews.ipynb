{
 "cells": [
  {
   "cell_type": "markdown",
   "id": "2ea3e0cd-6b29-48f3-aee8-ac13baaf917a",
   "metadata": {},
   "source": [
    "# Create Vector Representations for Review Text"
   ]
  },
  {
   "cell_type": "code",
   "execution_count": 99,
   "id": "ee64fe7b-4800-47cf-a2ad-da2d3315f976",
   "metadata": {},
   "outputs": [],
   "source": [
    "import os\n",
    "import re\n",
    "import urllib\n",
    "import tarfile\n",
    "import sqlite3\n",
    "import spacy\n",
    "import logging\n",
    "import sys\n",
    "import json\n",
    "\n",
    "import pandas as pd\n",
    "\n",
    "import gensim\n",
    "from gensim.models.doc2vec import TaggedDocument, Doc2Vec\n",
    "\n",
    "import spacy"
   ]
  },
  {
   "cell_type": "markdown",
   "id": "c661caad-d0d8-44f5-a826-5e43e5daa46c",
   "metadata": {},
   "source": [
    "## Setup Logging"
   ]
  },
  {
   "cell_type": "code",
   "execution_count": 90,
   "id": "f3592f2c-6e06-4f7c-ac02-aa2515e42f97",
   "metadata": {},
   "outputs": [],
   "source": [
    "# Add logging at the info level\n",
    "if \"_LOG_SETUP\" not in globals():\n",
    "    root_logger = logging.getLogger()\n",
    "    root_logger.setLevel(logging.INFO)\n",
    "\n",
    "    log_handler = logging.StreamHandler(sys.stdout)\n",
    "    log_handler.setLevel(logging.INFO)\n",
    "    log_formatter = logging.Formatter('%(asctime)s - %(name)s - %(levelname)s - %(message)s')\n",
    "    log_handler.setFormatter(log_formatter)\n",
    "    root_logger.addHandler(log_handler)\n",
    "    _LOG_SETUP = True"
   ]
  },
  {
   "cell_type": "markdown",
   "id": "0bf2631a-bb1f-4669-9cd4-5d8034537545",
   "metadata": {},
   "source": [
    "## Load Data"
   ]
  },
  {
   "cell_type": "code",
   "execution_count": 2,
   "id": "8c582f64-413f-4d92-99b2-98146dd5b8b1",
   "metadata": {},
   "outputs": [],
   "source": [
    "db = sqlite3.connect(\"var/reviews.db\")"
   ]
  },
  {
   "cell_type": "code",
   "execution_count": 4,
   "id": "3500c67b-0103-4d23-bdc2-db7955e027ae",
   "metadata": {},
   "outputs": [],
   "source": [
    "reviews = pd.read_sql(\"select * from reviews\", db)"
   ]
  },
  {
   "cell_type": "code",
   "execution_count": 5,
   "id": "8e854a5e-30fb-44dc-943b-72475450eaa0",
   "metadata": {},
   "outputs": [
    {
     "data": {
      "text/html": [
       "<div>\n",
       "<style scoped>\n",
       "    .dataframe tbody tr th:only-of-type {\n",
       "        vertical-align: middle;\n",
       "    }\n",
       "\n",
       "    .dataframe tbody tr th {\n",
       "        vertical-align: top;\n",
       "    }\n",
       "\n",
       "    .dataframe thead th {\n",
       "        text-align: right;\n",
       "    }\n",
       "</style>\n",
       "<table border=\"1\" class=\"dataframe\">\n",
       "  <thead>\n",
       "    <tr style=\"text-align: right;\">\n",
       "      <th></th>\n",
       "      <th>id</th>\n",
       "      <th>titleId</th>\n",
       "      <th>dataset</th>\n",
       "      <th>class</th>\n",
       "      <th>datasetclassId</th>\n",
       "      <th>rating</th>\n",
       "      <th>review</th>\n",
       "    </tr>\n",
       "  </thead>\n",
       "  <tbody>\n",
       "    <tr>\n",
       "      <th>96746</th>\n",
       "      <td>96747</td>\n",
       "      <td>tt0110273</td>\n",
       "      <td>train</td>\n",
       "      <td>unsup</td>\n",
       "      <td>46821</td>\n",
       "      <td>0</td>\n",
       "      <td>It's time out from your life you will not get ...</td>\n",
       "    </tr>\n",
       "    <tr>\n",
       "      <th>97811</th>\n",
       "      <td>97812</td>\n",
       "      <td>tt0188527</td>\n",
       "      <td>train</td>\n",
       "      <td>unsup</td>\n",
       "      <td>47804</td>\n",
       "      <td>0</td>\n",
       "      <td>I believe that this was supposed to be shockin...</td>\n",
       "    </tr>\n",
       "    <tr>\n",
       "      <th>6880</th>\n",
       "      <td>6881</td>\n",
       "      <td>tt0062804</td>\n",
       "      <td>test</td>\n",
       "      <td>neg</td>\n",
       "      <td>6815</td>\n",
       "      <td>1</td>\n",
       "      <td>Like another reviewer, I really wanted to like...</td>\n",
       "    </tr>\n",
       "    <tr>\n",
       "      <th>96267</th>\n",
       "      <td>96268</td>\n",
       "      <td>tt0290459</td>\n",
       "      <td>train</td>\n",
       "      <td>unsup</td>\n",
       "      <td>46276</td>\n",
       "      <td>0</td>\n",
       "      <td>Over the top drama. A very boring movie, where...</td>\n",
       "    </tr>\n",
       "    <tr>\n",
       "      <th>27817</th>\n",
       "      <td>27818</td>\n",
       "      <td>tt0114658</td>\n",
       "      <td>train</td>\n",
       "      <td>neg</td>\n",
       "      <td>2942</td>\n",
       "      <td>1</td>\n",
       "      <td>This is hands down the worst movie of all time...</td>\n",
       "    </tr>\n",
       "  </tbody>\n",
       "</table>\n",
       "</div>"
      ],
      "text/plain": [
       "          id    titleId dataset  class  datasetclassId  rating  \\\n",
       "96746  96747  tt0110273   train  unsup           46821       0   \n",
       "97811  97812  tt0188527   train  unsup           47804       0   \n",
       "6880    6881  tt0062804    test    neg            6815       1   \n",
       "96267  96268  tt0290459   train  unsup           46276       0   \n",
       "27817  27818  tt0114658   train    neg            2942       1   \n",
       "\n",
       "                                                  review  \n",
       "96746  It's time out from your life you will not get ...  \n",
       "97811  I believe that this was supposed to be shockin...  \n",
       "6880   Like another reviewer, I really wanted to like...  \n",
       "96267  Over the top drama. A very boring movie, where...  \n",
       "27817  This is hands down the worst movie of all time...  "
      ]
     },
     "execution_count": 5,
     "metadata": {},
     "output_type": "execute_result"
    }
   ],
   "source": [
    "reviews.sample(5)"
   ]
  },
  {
   "cell_type": "markdown",
   "id": "04fc94e4-a64c-4705-93a9-e335c5000534",
   "metadata": {},
   "source": [
    "## Get Words"
   ]
  },
  {
   "cell_type": "code",
   "execution_count": null,
   "id": "b7b5f706-ec15-4831-972a-1b8e9a9fdb64",
   "metadata": {},
   "outputs": [],
   "source": [
    "emb_tag_re = re.compile(r'<(br)\\s*/?\\s*>')\n",
    "\n",
    "def replace_tags(text):\n",
    "    return emb_tag_re.sub('\\n', text)"
   ]
  },
  {
   "cell_type": "code",
   "execution_count": 81,
   "id": "7a98be47-4984-4416-b36d-820a0a0d76c6",
   "metadata": {},
   "outputs": [],
   "source": [
    "word_split_re = re.compile(r'[,\\.\\s\\?\\!\":;\\(\\)\\[\\]]')\n",
    "\n",
    "def get_words_simple(text):\n",
    "    words = []\n",
    "    for w in word_split_re.split(replace_tags(text)):\n",
    "        w = w.lower().strip()\n",
    "        if len(w) > 0:\n",
    "            words.append(w)\n",
    "    return words"
   ]
  },
  {
   "cell_type": "code",
   "execution_count": 82,
   "id": "28fcc248-50a7-4037-b98a-0b74e6c5e75f",
   "metadata": {},
   "outputs": [],
   "source": [
    "reviews['words'] = reviews.review.apply(get_words_simple)"
   ]
  },
  {
   "cell_type": "code",
   "execution_count": 84,
   "id": "765de52b-daca-4349-89c9-e468403557c0",
   "metadata": {},
   "outputs": [
    {
     "data": {
      "text/html": [
       "<div>\n",
       "<style scoped>\n",
       "    .dataframe tbody tr th:only-of-type {\n",
       "        vertical-align: middle;\n",
       "    }\n",
       "\n",
       "    .dataframe tbody tr th {\n",
       "        vertical-align: top;\n",
       "    }\n",
       "\n",
       "    .dataframe thead th {\n",
       "        text-align: right;\n",
       "    }\n",
       "</style>\n",
       "<table border=\"1\" class=\"dataframe\">\n",
       "  <thead>\n",
       "    <tr style=\"text-align: right;\">\n",
       "      <th></th>\n",
       "      <th>id</th>\n",
       "      <th>titleId</th>\n",
       "      <th>dataset</th>\n",
       "      <th>class</th>\n",
       "      <th>datasetclassId</th>\n",
       "      <th>rating</th>\n",
       "      <th>review</th>\n",
       "      <th>words</th>\n",
       "    </tr>\n",
       "  </thead>\n",
       "  <tbody>\n",
       "    <tr>\n",
       "      <th>79613</th>\n",
       "      <td>79614</td>\n",
       "      <td>tt0372237</td>\n",
       "      <td>train</td>\n",
       "      <td>unsup</td>\n",
       "      <td>29650</td>\n",
       "      <td>0</td>\n",
       "      <td>I cried when I thought about all the money tha...</td>\n",
       "      <td>[i, cried, when, i, thought, about, all, the, ...</td>\n",
       "    </tr>\n",
       "    <tr>\n",
       "      <th>38940</th>\n",
       "      <td>38941</td>\n",
       "      <td>tt0065854</td>\n",
       "      <td>train</td>\n",
       "      <td>pos</td>\n",
       "      <td>1503</td>\n",
       "      <td>9</td>\n",
       "      <td>(SPOILERS included) This film surely is the be...</td>\n",
       "      <td>[spoilers, included, this, film, surely, is, t...</td>\n",
       "    </tr>\n",
       "    <tr>\n",
       "      <th>74580</th>\n",
       "      <td>74581</td>\n",
       "      <td>tt0201338</td>\n",
       "      <td>train</td>\n",
       "      <td>unsup</td>\n",
       "      <td>24699</td>\n",
       "      <td>0</td>\n",
       "      <td>This movie has only just come out on DVD in Br...</td>\n",
       "      <td>[this, movie, has, only, just, come, out, on, ...</td>\n",
       "    </tr>\n",
       "    <tr>\n",
       "      <th>38732</th>\n",
       "      <td>38733</td>\n",
       "      <td>tt0049432</td>\n",
       "      <td>train</td>\n",
       "      <td>pos</td>\n",
       "      <td>1199</td>\n",
       "      <td>10</td>\n",
       "      <td>This is the most compelling and excellent perf...</td>\n",
       "      <td>[this, is, the, most, compelling, and, excelle...</td>\n",
       "    </tr>\n",
       "    <tr>\n",
       "      <th>236</th>\n",
       "      <td>237</td>\n",
       "      <td>tt0018294</td>\n",
       "      <td>test</td>\n",
       "      <td>neg</td>\n",
       "      <td>147</td>\n",
       "      <td>4</td>\n",
       "      <td>I usually enjoy watching Laurel and Hardy, but...</td>\n",
       "      <td>[i, usually, enjoy, watching, laurel, and, har...</td>\n",
       "    </tr>\n",
       "  </tbody>\n",
       "</table>\n",
       "</div>"
      ],
      "text/plain": [
       "          id    titleId dataset  class  datasetclassId  rating  \\\n",
       "79613  79614  tt0372237   train  unsup           29650       0   \n",
       "38940  38941  tt0065854   train    pos            1503       9   \n",
       "74580  74581  tt0201338   train  unsup           24699       0   \n",
       "38732  38733  tt0049432   train    pos            1199      10   \n",
       "236      237  tt0018294    test    neg             147       4   \n",
       "\n",
       "                                                  review  \\\n",
       "79613  I cried when I thought about all the money tha...   \n",
       "38940  (SPOILERS included) This film surely is the be...   \n",
       "74580  This movie has only just come out on DVD in Br...   \n",
       "38732  This is the most compelling and excellent perf...   \n",
       "236    I usually enjoy watching Laurel and Hardy, but...   \n",
       "\n",
       "                                                   words  \n",
       "79613  [i, cried, when, i, thought, about, all, the, ...  \n",
       "38940  [spoilers, included, this, film, surely, is, t...  \n",
       "74580  [this, movie, has, only, just, come, out, on, ...  \n",
       "38732  [this, is, the, most, compelling, and, excelle...  \n",
       "236    [i, usually, enjoy, watching, laurel, and, har...  "
      ]
     },
     "execution_count": 84,
     "metadata": {},
     "output_type": "execute_result"
    }
   ],
   "source": [
    "reviews.sample(5)"
   ]
  },
  {
   "cell_type": "markdown",
   "id": "d8cef2b8-e4fc-4cfd-8fae-f63088df24c0",
   "metadata": {},
   "source": [
    "## Train doc2vec"
   ]
  },
  {
   "cell_type": "code",
   "execution_count": 85,
   "id": "07fb6b21-87a4-4b06-b2ea-2c6648215c55",
   "metadata": {},
   "outputs": [],
   "source": [
    "docs = []\n",
    "for _, row in reviews.iterrows():\n",
    "    docs.append(TaggedDocument(row.words, [f\"{row.id}\"]))"
   ]
  },
  {
   "cell_type": "markdown",
   "id": "387ba2a6-7b52-484c-ae4f-ecf8e8de0179",
   "metadata": {},
   "source": [
    "%%time\n",
    "doc_model = Doc2Vec(docs, vector_size=50, epochs=10)"
   ]
  },
  {
   "cell_type": "code",
   "execution_count": 92,
   "id": "a1ae3ab7-6d09-46a5-a32c-5c74d62b49df",
   "metadata": {},
   "outputs": [
    {
     "name": "stdout",
     "output_type": "stream",
     "text": [
      "2022-03-27 12:45:09,498 - gensim.utils - INFO - Doc2Vec lifecycle event {'fname_or_handle': 'var/models/review_model.d2v', 'separately': 'None', 'sep_limit': 10485760, 'ignore': frozenset(), 'datetime': '2022-03-27T12:45:09.498104', 'gensim': '4.1.2', 'python': '3.7.6 (tags/v3.7.6:43364a7ae0, Dec 19 2019, 00:42:30) [MSC v.1916 64 bit (AMD64)]', 'platform': 'Windows-10-10.0.22000-SP0', 'event': 'saving'}\n",
      "2022-03-27 12:45:09,499 - gensim.utils - INFO - not storing attribute cum_table\n",
      "2022-03-27 12:45:09,640 - gensim.utils - INFO - saved var/models/review_model.d2v\n"
     ]
    }
   ],
   "source": [
    "os.makedirs(\"var/models\", exist_ok=True)\n",
    "doc_model.save(\"var/models/review_model.d2v\")"
   ]
  },
  {
   "cell_type": "markdown",
   "id": "bdbb3057-0b89-4a96-90b1-1ad3a7758ca8",
   "metadata": {},
   "source": [
    "## Get Embeddings"
   ]
  },
  {
   "cell_type": "code",
   "execution_count": 94,
   "id": "393c4f08-012d-48c7-9195-035bfb6c94c5",
   "metadata": {},
   "outputs": [],
   "source": [
    "reviews['review_embedding'] = reviews.words.apply(lambda words: doc_model.infer_vector(words))"
   ]
  },
  {
   "cell_type": "markdown",
   "id": "66cdeef7-663a-42ab-8342-401d5200a4d8",
   "metadata": {},
   "source": [
    "## Save embeddings by id to SQL"
   ]
  },
  {
   "cell_type": "code",
   "execution_count": 107,
   "id": "cc37574f-895b-4e67-8755-b3c21e005d85",
   "metadata": {},
   "outputs": [],
   "source": [
    "review_saves = reviews[['id', 'review_embedding']].copy()"
   ]
  },
  {
   "cell_type": "code",
   "execution_count": 100,
   "id": "f40b26b1-3e1a-4e69-bb9d-463b330d78ec",
   "metadata": {},
   "outputs": [],
   "source": [
    "#review_saves['words'] = review_saves.words.apply(json.dumps)"
   ]
  },
  {
   "cell_type": "code",
   "execution_count": 108,
   "id": "59c76982-8769-4a0f-bc69-6c5ce7e8221a",
   "metadata": {},
   "outputs": [],
   "source": [
    "review_saves['review_embedding'] = review_saves.review_embedding.apply(lambda emb: json.dumps([float(e) for e in emb]))"
   ]
  },
  {
   "cell_type": "code",
   "execution_count": 109,
   "id": "0bcda823-77ae-48fe-92b7-e2fa4edb40fb",
   "metadata": {},
   "outputs": [
    {
     "data": {
      "text/html": [
       "<div>\n",
       "<style scoped>\n",
       "    .dataframe tbody tr th:only-of-type {\n",
       "        vertical-align: middle;\n",
       "    }\n",
       "\n",
       "    .dataframe tbody tr th {\n",
       "        vertical-align: top;\n",
       "    }\n",
       "\n",
       "    .dataframe thead th {\n",
       "        text-align: right;\n",
       "    }\n",
       "</style>\n",
       "<table border=\"1\" class=\"dataframe\">\n",
       "  <thead>\n",
       "    <tr style=\"text-align: right;\">\n",
       "      <th></th>\n",
       "      <th>id</th>\n",
       "      <th>review_embedding</th>\n",
       "    </tr>\n",
       "  </thead>\n",
       "  <tbody>\n",
       "    <tr>\n",
       "      <th>86272</th>\n",
       "      <td>86273</td>\n",
       "      <td>[-0.7933663725852966, 0.7390387654304504, -0.1...</td>\n",
       "    </tr>\n",
       "    <tr>\n",
       "      <th>56820</th>\n",
       "      <td>56821</td>\n",
       "      <td>[-0.5106093287467957, 0.3753964900970459, 0.06...</td>\n",
       "    </tr>\n",
       "    <tr>\n",
       "      <th>43783</th>\n",
       "      <td>43784</td>\n",
       "      <td>[-1.0685176849365234, 0.1314537078142166, 0.05...</td>\n",
       "    </tr>\n",
       "    <tr>\n",
       "      <th>74359</th>\n",
       "      <td>74360</td>\n",
       "      <td>[-1.2760909795761108, 1.0327000617980957, -1.4...</td>\n",
       "    </tr>\n",
       "    <tr>\n",
       "      <th>73144</th>\n",
       "      <td>73145</td>\n",
       "      <td>[-0.26133278012275696, 0.05307111516594887, -0...</td>\n",
       "    </tr>\n",
       "  </tbody>\n",
       "</table>\n",
       "</div>"
      ],
      "text/plain": [
       "          id                                   review_embedding\n",
       "86272  86273  [-0.7933663725852966, 0.7390387654304504, -0.1...\n",
       "56820  56821  [-0.5106093287467957, 0.3753964900970459, 0.06...\n",
       "43783  43784  [-1.0685176849365234, 0.1314537078142166, 0.05...\n",
       "74359  74360  [-1.2760909795761108, 1.0327000617980957, -1.4...\n",
       "73144  73145  [-0.26133278012275696, 0.05307111516594887, -0..."
      ]
     },
     "execution_count": 109,
     "metadata": {},
     "output_type": "execute_result"
    }
   ],
   "source": [
    "review_saves.sample(5)"
   ]
  },
  {
   "cell_type": "code",
   "execution_count": 110,
   "id": "9c76e71e-09ea-48e8-90c6-20e23e0b953e",
   "metadata": {},
   "outputs": [],
   "source": [
    "db = sqlite3.connect(\"var/reviews.db\")"
   ]
  },
  {
   "cell_type": "code",
   "execution_count": 111,
   "id": "979a84e5-91ea-45ad-b6fe-d3b9c3144fc8",
   "metadata": {},
   "outputs": [],
   "source": [
    "review_saves.to_sql('review_embeddings', if_exists='replace', index=False, chunksize=5000, con=db)"
   ]
  },
  {
   "cell_type": "code",
   "execution_count": 112,
   "id": "f53c8623-c5a1-488d-b8b3-a04f15950a1e",
   "metadata": {},
   "outputs": [],
   "source": [
    "db.commit()"
   ]
  },
  {
   "cell_type": "code",
   "execution_count": 113,
   "id": "fb2084ce-6631-4c45-95c7-62608a89c59a",
   "metadata": {},
   "outputs": [],
   "source": [
    "db.execute(\"create unique index i_review_embeddings_pk on review_embeddings (id)\")\n",
    "db.commit()"
   ]
  },
  {
   "cell_type": "code",
   "execution_count": 114,
   "id": "ccaf1e65-9fa8-4377-9397-26e592d4dbb7",
   "metadata": {},
   "outputs": [],
   "source": [
    "db.close()"
   ]
  },
  {
   "cell_type": "code",
   "execution_count": null,
   "id": "f66e70ce-c76a-472d-b44c-0c6cfcfff97b",
   "metadata": {},
   "outputs": [],
   "source": []
  }
 ],
 "metadata": {
  "kernelspec": {
   "display_name": "Python 3 (ipykernel)",
   "language": "python",
   "name": "python3"
  },
  "language_info": {
   "codemirror_mode": {
    "name": "ipython",
    "version": 3
   },
   "file_extension": ".py",
   "mimetype": "text/x-python",
   "name": "python",
   "nbconvert_exporter": "python",
   "pygments_lexer": "ipython3",
   "version": "3.7.6"
  }
 },
 "nbformat": 4,
 "nbformat_minor": 5
}
